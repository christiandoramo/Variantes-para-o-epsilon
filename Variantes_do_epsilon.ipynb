{
  "cells": [
    {
      "cell_type": "markdown",
      "metadata": {
        "id": "view-in-github",
        "colab_type": "text"
      },
      "source": [
        "<a href=\"https://colab.research.google.com/github/christiandoramo/Variantes-para-o-epsilon/blob/main/Variantes_do_epsilon.ipynb\" target=\"_parent\"><img src=\"https://colab.research.google.com/assets/colab-badge.svg\" alt=\"Open In Colab\"/></a>"
      ]
    },
    {
      "cell_type": "markdown",
      "metadata": {
        "id": "gkkFF3MkxEyP"
      },
      "source": [
        "Tema 2: Variantes para o epsilon <br>\n",
        "Equipe: <br>\n",
        "Christian Oliveira <br>\n",
        "Raphael Barbosa <br>"
      ]
    },
    {
      "cell_type": "markdown",
      "metadata": {
        "id": "PGgyS0h4xoSX"
      },
      "source": [
        "Info: [tema 2](https://docs.google.com/document/d/1bpqsUML8XkUVBMjiKMLNwbG3npgaF_35xQYrh-Dp4Ts/edit?tab=t.0#heading=h.rs93iuj1gddv )"
      ]
    },
    {
      "cell_type": "markdown",
      "metadata": {
        "id": "OqdkF_zjzzdA"
      },
      "source": [
        "# Implementação das Variantes do ε"
      ]
    },
    {
      "cell_type": "markdown",
      "metadata": {
        "id": "MtrRXXsV0JvL"
      },
      "source": [
        "##  Decaimento do ε (Linear e Exponencial)"
      ]
    },
    {
      "cell_type": "markdown",
      "metadata": {
        "id": "vuh5ELm80k9i"
      },
      "source": [
        "### Decaimento linear"
      ]
    },
    {
      "cell_type": "markdown",
      "metadata": {
        "id": "3aWsTV7Ixw6h"
      },
      "source": [
        "#### Função"
      ]
    },
    {
      "cell_type": "code",
      "execution_count": null,
      "metadata": {
        "id": "BVIFsX_7xE0E"
      },
      "outputs": [],
      "source": [
        "# testando um tipo de decaimento linear do Epsilon\n",
        "def linear_decay(initial_E=1.0, min_E=0.005, X=1000):\n",
        "    # X é o numero do passos (limite) para achar o min_E\n",
        "    k = (initial_E - min_E)/X\n",
        "    # k é a taxa de decaimento linear: Epsilon inicial - Epsilon minimo/x\n",
        "    def new_E(t): # t é o passo atual no treinamento\n",
        "        return max(min_E, initial_E - k * t)\n",
        "        # primeira vez -> (0.005, 1 - ((1-0.005)/1000) * 1) (0.005 ou 0,999005)\n",
        "        # segunda vez -> (0.005, 1 - ((1-0.005)/1000) * 2)...\n",
        "    return new_E"
      ]
    },
    {
      "cell_type": "markdown",
      "metadata": {
        "id": "yLQHD9gfxz37"
      },
      "source": [
        "#### Aplicado ao Q-learning"
      ]
    },
    {
      "cell_type": "code",
      "execution_count": null,
      "metadata": {
        "id": "qvSo9g68xs5s"
      },
      "outputs": [],
      "source": [
        "# (Q-learning é off-policy) - usando a mesma func E-greedy e apenas alterando o Q-learning do tópico recapitulações\n",
        "# ajuste dos parametros -> retira epsilon e coloca e_inicial e min, e X\n",
        "\n",
        "# Algoritmo Q-learning\n",
        "# Atenção: os espaços de estados e de ações precisam ser discretos, dados por valores inteiros\n",
        "def run_qlearning_linear_decay(env, episodes, lr=0.1, gamma=0.95, initial_E=1, min_E=0.005, X=1000):\n",
        "    assert isinstance(env.observation_space, gym.spaces.Discrete)\n",
        "    assert isinstance(env.action_space, gym.spaces.Discrete)\n",
        "\n",
        "    num_actions = env.action_space.n\n",
        "\n",
        "    # inicializa a tabela Q toda com zeros\n",
        "    # usar o estado como índice das linhas e a ação como índice das colunas\n",
        "    Q = np.zeros(shape = (env.observation_space.n, num_actions))\n",
        "\n",
        "    # para cada episódio, guarda sua soma de recompensas (retorno não-descontado)\n",
        "    all_episode_rewards = []\n",
        "\n",
        "    # definindo os variaveis dentro de linear_decay de acordo com o q-learning\n",
        "    epsilon_linear_decay = linear_decay(initial_E,min_E,X)\n",
        "    t_steps = 0 # contando passos\n",
        "\n",
        "    # loop principal\n",
        "    for i in range(episodes):\n",
        "        done = False\n",
        "        sum_rewards, reward = 0, 0\n",
        "\n",
        "        state, _ = env.reset()\n",
        "\n",
        "        # executa 1 episódio completo, fazendo atualizações na Q-table\n",
        "        while not done:\n",
        "            epsilon = epsilon_linear_decay(t_steps) # retorna o novo epsilon com base no linear decay e passo atual\n",
        "\n",
        "            # escolhe a próxima ação -- usa epsilon-greedy\n",
        "            action = epsilon_greedy(Q, state, epsilon)\n",
        "\n",
        "            # realiza a ação, ou seja, dá um passo no ambiente\n",
        "            next_state, reward, terminated, trunc, _ = env.step(action)\n",
        "            done = terminated or trunc\n",
        "\n",
        "            if terminated:\n",
        "                # para estados terminais\n",
        "                V_next_state = 0\n",
        "            else:\n",
        "                # para estados não-terminais -- valor máximo (melhor ação)\n",
        "                V_next_state = np.max(Q[next_state])\n",
        "\n",
        "            # atualiza a Q-table\n",
        "            # delta = (estimativa usando a nova recompensa) - estimativa antiga\n",
        "            delta = (reward + gamma * V_next_state) - Q[state,action]\n",
        "            Q[state,action] = Q[state,action] + lr * delta\n",
        "\n",
        "            sum_rewards += reward\n",
        "            state = next_state\n",
        "\n",
        "            t_steps += 1 # próximo passo\n",
        "\n",
        "        all_episode_rewards.append(sum_rewards)\n",
        "\n",
        "        # a cada 100 episódios, imprime informação sobre o progresso\n",
        "        if VERBOSE and ((i+1) % 100 == 0):\n",
        "            avg_reward = np.mean(all_episode_rewards[-100:])\n",
        "            print(f\"Episode {i+1} Average Reward (last 100): {avg_reward:.3f}\")\n",
        "\n",
        "    return all_episode_rewards, Q"
      ]
    },
    {
      "cell_type": "markdown",
      "metadata": {
        "id": "Us3IQDeMx57c"
      },
      "source": [
        "#### Aplicado ao SARSA"
      ]
    },
    {
      "cell_type": "code",
      "execution_count": null,
      "metadata": {
        "id": "e7-cvKREx-CF"
      },
      "outputs": [],
      "source": [
        "def run_sarsa_linear_decay(env, episodes, lr=0.1, gamma=0.95, initial_E=1, min_E=0.005, X=1000):\n",
        "    assert isinstance(env.observation_space, gym.spaces.Discrete)\n",
        "    assert isinstance(env.action_space, gym.spaces.Discrete)\n",
        "\n",
        "    num_actions = env.action_space.n\n",
        "\n",
        "    # Inicializa a tabela Q toda com zeros\n",
        "    Q = np.zeros(shape=(env.observation_space.n, num_actions))\n",
        "\n",
        "    # Para cada episódio, guarda sua soma de recompensas (retorno não-descontado)\n",
        "    all_episode_rewards = []\n",
        "\n",
        "    # Definindo as variáveis dentro de linear_decay de acordo com o SARSA\n",
        "    epsilon_linear_decay = linear_decay(initial_E, min_E, X)\n",
        "    t_steps = 0  # Contando passos\n",
        "\n",
        "    # Loop principal\n",
        "    for i in range(episodes):\n",
        "        done = False\n",
        "        sum_rewards, reward = 0, 0\n",
        "\n",
        "        state, _ = env.reset()\n",
        "\n",
        "        # Escolhe a primeira ação usando epsilon-greedy\n",
        "        epsilon = epsilon_linear_decay(t_steps)\n",
        "        action = epsilon_greedy(Q, state, epsilon)\n",
        "\n",
        "        # Executa 1 episódio completo, fazendo atualizações na Q-table\n",
        "        while not done:\n",
        "            # Realiza a ação, ou seja, dá um passo no ambiente\n",
        "            next_state, reward, terminated, trunc, _ = env.step(action)\n",
        "            done = terminated or trunc\n",
        "\n",
        "            # Escolhe a próxima ação usando epsilon-greedy\n",
        "            next_epsilon = epsilon_linear_decay(t_steps + 1)\n",
        "            next_action = epsilon_greedy(Q, next_state, next_epsilon)\n",
        "\n",
        "            if terminated:\n",
        "                # Para estados terminais\n",
        "                V_next_state = 0\n",
        "            else:\n",
        "                # Para estados não-terminais -- valor da próxima ação (SARSA é on-policy)\n",
        "                V_next_state = Q[next_state, next_action]\n",
        "\n",
        "            # Atualiza a Q-table\n",
        "            # delta = (estimativa usando a nova recompensa) - estimativa antiga\n",
        "            delta = (reward + gamma * V_next_state) - Q[state, action]\n",
        "            Q[state, action] = Q[state, action] + lr * delta\n",
        "\n",
        "            sum_rewards += reward\n",
        "            state = next_state\n",
        "            action = next_action  # SARSA usa a próxima ação para a atualização\n",
        "\n",
        "            t_steps += 1  # Próximo passo\n",
        "\n",
        "        all_episode_rewards.append(sum_rewards)\n",
        "\n",
        "        # A cada 100 episódios, imprime informação sobre o progresso\n",
        "        if VERBOSE and ((i + 1) % 100 == 0):\n",
        "            avg_reward = np.mean(all_episode_rewards[-100:])\n",
        "            print(f\"Episode {i + 1} Average Reward (last 100): {avg_reward:.3f}\")\n",
        "\n",
        "    return all_episode_rewards, Q"
      ]
    },
    {
      "cell_type": "markdown",
      "metadata": {
        "id": "7YBYR3-f9jP3"
      },
      "source": [
        "#### Aplicado ao Expected-SARSA"
      ]
    },
    {
      "cell_type": "code",
      "execution_count": null,
      "metadata": {
        "id": "I8gxgnos9jP4"
      },
      "outputs": [],
      "source": [
        "def run_expected_sarsa_linear_decay(env, episodes, lr=0.1, gamma=0.95, initial_E=1, min_E=0.005, X=1000):\n",
        "    assert isinstance(env.observation_space, gym.spaces.Discrete)\n",
        "    assert isinstance(env.action_space, gym.spaces.Discrete)\n",
        "\n",
        "    num_actions = env.action_space.n\n",
        "\n",
        "    # Inicializa a tabela Q toda com zeros\n",
        "    Q = np.zeros(shape=(env.observation_space.n, num_actions))\n",
        "\n",
        "    # Para cada episódio, guarda sua soma de recompensas (retorno não-descontado)\n",
        "    all_episode_rewards = []\n",
        "\n",
        "    # Definindo as variáveis dentro de linear_decay de acordo com o Expected-SARSA\n",
        "    epsilon_linear_decay = linear_decay(initial_E, min_E, X)\n",
        "    t_steps = 0  # Contando passos\n",
        "\n",
        "    # Loop principal\n",
        "    for i in range(episodes):\n",
        "        done = False\n",
        "        sum_rewards, reward = 0, 0\n",
        "\n",
        "        state, _ = env.reset()\n",
        "\n",
        "        # Escolhe a primeira ação usando epsilon-greedy\n",
        "        epsilon = epsilon_linear_decay(t_steps)\n",
        "        action = epsilon_greedy(Q, state, epsilon)\n",
        "\n",
        "        # Executa 1 episódio completo, fazendo atualizações na Q-table\n",
        "        while not done:\n",
        "            # Realiza a ação, ou seja, dá um passo no ambiente\n",
        "            next_state, reward, terminated, trunc, _ = env.step(action)\n",
        "            done = terminated or trunc\n",
        "\n",
        "            # Calcula o valor esperado para o próximo estado\n",
        "            next_epsilon = epsilon_linear_decay(t_steps + 1)\n",
        "            expected_value = 0  # Inicializa o valor esperado\n",
        "\n",
        "            # Calcula a probabilidade de cada ação no próximo estado\n",
        "            for a in range(num_actions):\n",
        "                if a == np.argmax(Q[next_state, :]):\n",
        "                    # Probabilidade de escolher a ação gulosa (1 - epsilon + epsilon/num_actions)\n",
        "                    prob = (1 - next_epsilon) + (next_epsilon / num_actions)\n",
        "                else:\n",
        "                    # Probabilidade de escolher uma ação aleatória (epsilon/num_actions)\n",
        "                    prob = next_epsilon / num_actions\n",
        "                expected_value += prob * Q[next_state, a]\n",
        "\n",
        "            if terminated:\n",
        "                # Para estados terminais\n",
        "                V_next_state = 0\n",
        "            else:\n",
        "                # Para estados não-terminais -- usa o valor esperado\n",
        "                V_next_state = expected_value\n",
        "\n",
        "            # Atualiza a Q-table\n",
        "            # delta = (estimativa usando a nova recompensa) - estimativa antiga\n",
        "            delta = (reward + gamma * V_next_state) - Q[state, action]\n",
        "            Q[state, action] = Q[state, action] + lr * delta\n",
        "\n",
        "            sum_rewards += reward\n",
        "            state = next_state\n",
        "            action = epsilon_greedy(Q, state, next_epsilon)  # Escolhe a próxima ação\n",
        "\n",
        "            t_steps += 1  # Próximo passo\n",
        "\n",
        "        all_episode_rewards.append(sum_rewards)\n",
        "\n",
        "        # A cada 100 episódios, imprime informação sobre o progresso\n",
        "        if VERBOSE and ((i + 1) % 100 == 0):\n",
        "            avg_reward = np.mean(all_episode_rewards[-100:])\n",
        "            print(f\"Episode {i + 1} Average Reward (last 100): {avg_reward:.3f}\")\n",
        "\n",
        "    return all_episode_rewards, Q"
      ]
    },
    {
      "cell_type": "markdown",
      "metadata": {
        "id": "Ev5B98j6-jxz"
      },
      "source": [
        "#### Aplicado ao SARSA de n Passos"
      ]
    },
    {
      "cell_type": "code",
      "execution_count": null,
      "metadata": {
        "id": "hixH5yK2-zxw"
      },
      "outputs": [],
      "source": [
        "def run_nstep_sarsa_linear_decay(env, episodes, n=3, lr=0.1, gamma=0.95, initial_E=1, min_E=0.005, X=1000):\n",
        "    assert isinstance(env.observation_space, gym.spaces.Discrete)\n",
        "    assert isinstance(env.action_space, gym.spaces.Discrete)\n",
        "\n",
        "    num_actions = env.action_space.n\n",
        "\n",
        "    # Inicializa a tabela Q toda com zeros\n",
        "    Q = np.zeros(shape=(env.observation_space.n, num_actions))\n",
        "\n",
        "    # Para cada episódio, guarda sua soma de recompensas (retorno não-descontado)\n",
        "    all_episode_rewards = []\n",
        "\n",
        "    # Definindo as variáveis dentro de linear_decay de acordo com o SARSA de n-passos\n",
        "    epsilon_linear_decay = linear_decay(initial_E, min_E, X)\n",
        "    t_steps = 0  # Contando passos\n",
        "\n",
        "    # Loop principal\n",
        "    for i in range(episodes):\n",
        "        done = False\n",
        "        sum_rewards, reward = 0, 0\n",
        "\n",
        "        state, _ = env.reset()\n",
        "\n",
        "        # Escolhe a primeira ação usando epsilon-greedy\n",
        "        epsilon = epsilon_linear_decay(t_steps)\n",
        "        action = epsilon_greedy(Q, state, epsilon)\n",
        "\n",
        "        # Listas para armazenar os últimos n estados, ações e recompensas\n",
        "        states = [state]\n",
        "        actions = [action]\n",
        "        rewards = [0]  # A primeira recompensa é 0, pois ainda não houve ação\n",
        "\n",
        "        # Executa 1 episódio completo, fazendo atualizações na Q-table\n",
        "        while not done:\n",
        "            # Realiza a ação, ou seja, dá um passo no ambiente\n",
        "            next_state, reward, terminated, trunc, _ = env.step(action)\n",
        "            done = terminated or trunc\n",
        "\n",
        "            # Escolhe a próxima ação usando epsilon-greedy\n",
        "            next_epsilon = epsilon_linear_decay(t_steps + 1)\n",
        "            next_action = epsilon_greedy(Q, next_state, next_epsilon)\n",
        "\n",
        "            # Armazena o próximo estado, ação e recompensa\n",
        "            states.append(next_state)\n",
        "            actions.append(next_action)\n",
        "            rewards.append(reward)\n",
        "\n",
        "            # Se já tivermos n passos, atualizamos a Q-table\n",
        "            if len(states) > n:\n",
        "                # Calcula o retorno de n-passos\n",
        "                G = 0\n",
        "                for j in range(t_steps - n + 1, t_steps + 1):\n",
        "                    G += (gamma ** (j - (t_steps - n))) * rewards[j]\n",
        "\n",
        "                # Adiciona o valor do estado final (se não for terminal)\n",
        "                if not done:\n",
        "                    G += (gamma ** n) * Q[next_state, next_action]\n",
        "\n",
        "                # Atualiza a Q-table para o estado e ação de n passos atrás\n",
        "                update_state = states[t_steps - n]\n",
        "                update_action = actions[t_steps - n]\n",
        "                Q[update_state, update_action] += lr * (G - Q[update_state, update_action])\n",
        "\n",
        "            sum_rewards += reward\n",
        "            state = next_state\n",
        "            action = next_action\n",
        "            t_steps += 1  # Próximo passo\n",
        "\n",
        "        # Atualiza os últimos n-1 passos que não foram atualizados\n",
        "        for k in range(max(0, len(states) - n), len(states) - 1):\n",
        "            G = 0\n",
        "            for j in range(k, len(states) - 1):\n",
        "                G += (gamma ** (j - k)) * rewards[j + 1]\n",
        "            if not done:\n",
        "                G += (gamma ** (len(states) - 1 - k)) * Q[states[-1], actions[-1]]\n",
        "            Q[states[k], actions[k]] += lr * (G - Q[states[k], actions[k]])\n",
        "\n",
        "        all_episode_rewards.append(sum_rewards)\n",
        "\n",
        "        # A cada 100 episódios, imprime informação sobre o progresso\n",
        "        if VERBOSE and ((i + 1) % 100 == 0):\n",
        "            avg_reward = np.mean(all_episode_rewards[-100:])\n",
        "            print(f\"Episode {i + 1} Average Reward (last 100): {avg_reward:.3f}\")\n",
        "\n",
        "    return all_episode_rewards, Q"
      ]
    },
    {
      "cell_type": "markdown",
      "metadata": {
        "id": "Q7-ULM5r0oMa"
      },
      "source": [
        "### Decaimento exponencial"
      ]
    },
    {
      "cell_type": "markdown",
      "metadata": {
        "id": "Ieb6QSMxC3dG"
      },
      "source": [
        "#### Função"
      ]
    },
    {
      "cell_type": "code",
      "execution_count": null,
      "metadata": {
        "id": "neSxhaZuDCL7"
      },
      "outputs": [],
      "source": [
        "import math\n",
        "\n",
        "def exponential_decay(initial_E=1.0, min_E=0.005, decay_rate=0.001):\n",
        "    \"\"\"\n",
        "    Função de decaimento exponencial para epsilon.\n",
        "\n",
        "    Parâmetros:\n",
        "        initial_E (float): Valor inicial de epsilon (epsilon máximo).\n",
        "        min_E (float): Valor mínimo de epsilon.\n",
        "        decay_rate (float): Taxa de decaimento (controla a velocidade do decaimento).\n",
        "\n",
        "    Retorna:\n",
        "        Uma função que calcula o epsilon para um dado passo t.\n",
        "    \"\"\"\n",
        "    def new_E(t):\n",
        "        # Decaimento exponencial suave em direção a min_E\n",
        "        return min_E + (initial_E - min_E) * math.exp(-decay_rate * t)\n",
        "\n",
        "    return new_E"
      ]
    },
    {
      "cell_type": "markdown",
      "metadata": {
        "id": "Ke4_rJ2LDYtF"
      },
      "source": [
        "#### Aplicado ao Q-Learning"
      ]
    },
    {
      "cell_type": "code",
      "execution_count": null,
      "metadata": {
        "id": "Wf4Zyc47DcNb"
      },
      "outputs": [],
      "source": [
        "import numpy as np\n",
        "import math\n",
        "import gym  # Certifique-se de instalar o Gym com: pip install gym\n",
        "\n",
        "def exponential_decay(initial_E=1.0, min_E=0.005, decay_rate=0.001):\n",
        "    def new_E(t):\n",
        "        return min_E + (initial_E - min_E) * math.exp(-decay_rate * t)\n",
        "    return new_E\n",
        "\n",
        "def epsilon_greedy(Q, state, epsilon):\n",
        "    if np.random.rand() < epsilon:\n",
        "        return np.random.choice(len(Q[state]))  # Exploração\n",
        "    else:\n",
        "        best_actions = np.where(Q[state] == np.max(Q[state]))[0]\n",
        "        return np.random.choice(best_actions)  # Escolhe entre as melhores ações\n",
        "\n",
        "def run_qlearning_exponential_decay(env, episodes, lr=0.1, gamma=0.95,\n",
        "                                    initial_E=1.0, min_E=0.005, decay_rate=0.001,\n",
        "                                    verbose=True):\n",
        "    # Garantindo que o ambiente é discreto\n",
        "    assert isinstance(env.observation_space, gym.spaces.Discrete), \"Apenas espaços discretos são suportados!\"\n",
        "    assert isinstance(env.action_space, gym.spaces.Discrete), \"Apenas ações discretas são suportadas!\"\n",
        "\n",
        "    num_actions = env.action_space.n\n",
        "    Q = np.zeros((env.observation_space.n, num_actions))\n",
        "    all_episode_rewards = []\n",
        "    avg_rewards = []\n",
        "    epsilon_values = []\n",
        "\n",
        "    epsilon_decay = exponential_decay(initial_E, min_E, decay_rate)\n",
        "\n",
        "    for i in range(episodes):\n",
        "        state, _ = env.reset()  # Ajuste para Gym v0.26+\n",
        "        done = False\n",
        "        sum_rewards = 0\n",
        "        t_steps = 0  # Reseta a cada episódio\n",
        "\n",
        "        while not done:\n",
        "            epsilon = epsilon_decay(t_steps)\n",
        "            action = epsilon_greedy(Q, state, epsilon)\n",
        "\n",
        "            next_state, reward, terminated, truncated, _ = env.step(action)\n",
        "            done = terminated or truncated\n",
        "\n",
        "            # Atualização Q-Learning\n",
        "            V_next_state = 0 if done else np.max(Q[next_state])\n",
        "            Q[state, action] += lr * (reward + gamma * V_next_state - Q[state, action])\n",
        "\n",
        "            sum_rewards += reward\n",
        "            state = next_state\n",
        "            t_steps += 1\n",
        "\n",
        "        all_episode_rewards.append(sum_rewards)\n",
        "        avg_rewards.append(np.mean(all_episode_rewards[-100:]))\n",
        "        epsilon_values.append(epsilon_decay(t_steps))\n",
        "\n",
        "        if verbose and (i + 1) % 100 == 0:\n",
        "            print(f\"Episode {i + 1}: Avg Reward (last 100): {avg_rewards[-1]:.3f}, Epsilon: {epsilon:.4f}\")\n",
        "\n",
        "    return all_episode_rewards, Q, avg_rewards, epsilon_values"
      ]
    },
    {
      "cell_type": "markdown",
      "metadata": {
        "id": "1sBroZK5IkYj"
      },
      "source": [
        "#### Aplicado ao SARSA"
      ]
    },
    {
      "cell_type": "code",
      "execution_count": null,
      "metadata": {
        "id": "PT2y8cs9IlxW"
      },
      "outputs": [],
      "source": [
        "import numpy as np\n",
        "import math\n",
        "import gym  # Certifique-se de instalar o Gym com: pip install gym\n",
        "\n",
        "def exponential_decay(initial_E=1.0, min_E=0.005, decay_rate=0.001):\n",
        "    def new_E(t):\n",
        "        return min_E + (initial_E - min_E) * math.exp(-decay_rate * t)\n",
        "    return new_E\n",
        "\n",
        "def epsilon_greedy(Q, state, epsilon):\n",
        "    if np.random.rand() < epsilon:\n",
        "        return np.random.choice(len(Q[state]))  # Exploração\n",
        "    else:\n",
        "        best_actions = np.where(Q[state] == np.max(Q[state]))[0]\n",
        "        return np.random.choice(best_actions)  # Escolha aleatória entre as melhores ações\n",
        "\n",
        "def run_sarsa_exponential_decay(env, episodes, lr=0.1, gamma=0.95, initial_E=1.0, min_E=0.005, decay_rate=0.001, verbose=True):\n",
        "    # Garantindo que o ambiente é discreto\n",
        "    assert isinstance(env.observation_space, gym.spaces.Discrete), \"Apenas espaços discretos são suportados!\"\n",
        "    assert isinstance(env.action_space, gym.spaces.Discrete), \"Apenas ações discretas são suportadas!\"\n",
        "\n",
        "    num_actions = env.action_space.n\n",
        "    Q = np.zeros((env.observation_space.n, num_actions))\n",
        "    all_episode_rewards = []\n",
        "    avg_rewards = []\n",
        "    epsilon_values = []\n",
        "\n",
        "    epsilon_decay = exponential_decay(initial_E, min_E, decay_rate)\n",
        "\n",
        "    for i in range(episodes):\n",
        "        state, _ = env.reset()  # Ajuste para Gym v0.26+\n",
        "        done = False\n",
        "        sum_rewards = 0\n",
        "        epsilon = epsilon_decay(i)  # Decaimento baseado no episódio\n",
        "        epsilon_values.append(epsilon)  # Registrar o valor do epsilon\n",
        "\n",
        "        # Escolhe a primeira ação usando epsilon-greedy\n",
        "        action = epsilon_greedy(Q, state, epsilon)\n",
        "\n",
        "        while not done:\n",
        "            # Executa a ação no ambiente\n",
        "            next_state, reward, terminated, truncated, _ = env.step(action)\n",
        "            done = terminated or truncated\n",
        "\n",
        "            # Escolhe a próxima ação usando epsilon-greedy\n",
        "            next_action = epsilon_greedy(Q, next_state, epsilon)\n",
        "\n",
        "            # Atualiza a Q-table (SARSA usa a próxima ação)\n",
        "            V_next_state = 0 if done else Q[next_state, next_action]\n",
        "            Q[state, action] += lr * (reward + gamma * V_next_state - Q[state, action])\n",
        "\n",
        "            sum_rewards += reward\n",
        "            state = next_state\n",
        "            action = next_action  # Atualiza a ação para o próximo passo\n",
        "\n",
        "        all_episode_rewards.append(sum_rewards)\n",
        "        avg_rewards.append(np.mean(all_episode_rewards[-100:]))  # Média móvel\n",
        "\n",
        "        if verbose and ((i + 1) % 100 == 0):\n",
        "            print(f\"Episode {i + 1}: Avg Reward (last 100): {avg_rewards[-1]:.3f}, Epsilon: {epsilon:.4f}\")\n",
        "\n",
        "    return all_episode_rewards, Q, avg_rewards, epsilon_values"
      ]
    },
    {
      "cell_type": "markdown",
      "metadata": {
        "id": "q40W1P-1L3E7"
      },
      "source": [
        "#### Aplicado ao Expected-SARSA"
      ]
    },
    {
      "cell_type": "code",
      "execution_count": null,
      "metadata": {
        "id": "U92dDL7_L7OZ"
      },
      "outputs": [],
      "source": [
        "import numpy as np\n",
        "import math\n",
        "import gym  # Certifique-se de instalar com: pip install gym\n",
        "\n",
        "def exponential_decay(initial_E=1.0, min_E=0.005, decay_rate=0.001):\n",
        "    def new_E(t):\n",
        "        return min_E + (initial_E - min_E) * math.exp(-decay_rate * t)\n",
        "    return new_E\n",
        "\n",
        "def epsilon_greedy(Q, state, epsilon):\n",
        "    if np.random.rand() < epsilon:\n",
        "        return np.random.choice(len(Q[state]))  # Exploração\n",
        "    else:\n",
        "        best_actions = np.where(Q[state] == np.max(Q[state]))[0]\n",
        "        return np.random.choice(best_actions)  # Escolha aleatória entre as melhores ações\n",
        "\n",
        "def run_expected_sarsa_exponential_decay(env, episodes, lr=0.1, gamma=0.95, initial_E=1.0, min_E=0.005, decay_rate=0.001, verbose=True):\n",
        "    assert isinstance(env.observation_space, gym.spaces.Discrete), \"O ambiente deve ter um espaço de estados discreto.\"\n",
        "    assert isinstance(env.action_space, gym.spaces.Discrete), \"O ambiente deve ter um espaço de ações discreto.\"\n",
        "\n",
        "    num_actions = env.action_space.n\n",
        "    Q = np.zeros((env.observation_space.n, num_actions))\n",
        "    all_episode_rewards = []\n",
        "    avg_rewards = []\n",
        "    epsilon_values = []\n",
        "\n",
        "    epsilon_decay = exponential_decay(initial_E, min_E, decay_rate)\n",
        "\n",
        "    for i in range(episodes):\n",
        "        state, _ = env.reset()  # Ajuste para Gym v0.26+\n",
        "        done = False\n",
        "        sum_rewards = 0\n",
        "        epsilon = epsilon_decay(i)  # Decaimento baseado no episódio\n",
        "        epsilon_values.append(epsilon)  # Registrar o valor do epsilon\n",
        "\n",
        "        while not done:\n",
        "            action = epsilon_greedy(Q, state, epsilon)\n",
        "            next_state, reward, terminated, truncated, _ = env.step(action)\n",
        "            done = terminated or truncated\n",
        "\n",
        "            next_epsilon = epsilon_decay(i + 1)  # Usando episódio como referência\n",
        "\n",
        "            # Cálculo do valor esperado para o próximo estado\n",
        "            expected_value = 0\n",
        "            best_actions = np.where(Q[next_state] == np.max(Q[next_state]))[0]\n",
        "            prob_best_action = (1 - next_epsilon) + (next_epsilon / num_actions)\n",
        "            prob_other_actions = next_epsilon / num_actions\n",
        "\n",
        "            for a in range(num_actions):\n",
        "                prob = prob_best_action if a in best_actions else prob_other_actions\n",
        "                expected_value += prob * Q[next_state, a]\n",
        "\n",
        "            # Atualização da Q-table (Expected SARSA)\n",
        "            Q[state, action] += lr * (reward + gamma * expected_value - Q[state, action])\n",
        "\n",
        "            sum_rewards += reward\n",
        "            state = next_state\n",
        "\n",
        "        all_episode_rewards.append(sum_rewards)\n",
        "        avg_rewards.append(np.mean(all_episode_rewards[-100:]))  # Média móvel\n",
        "\n",
        "        if verbose and ((i + 1) % 100 == 0):\n",
        "            print(f\"Episode {i + 1}: Avg Reward (last 100): {avg_rewards[-1]:.3f}, Epsilon: {epsilon:.4f}\")\n",
        "\n",
        "    return all_episode_rewards, Q, avg_rewards, epsilon_values"
      ]
    },
    {
      "cell_type": "markdown",
      "metadata": {
        "id": "dFfo3CcmPcTr"
      },
      "source": [
        "#### Aplicado ao SARSA de N-passos"
      ]
    },
    {
      "cell_type": "code",
      "execution_count": null,
      "metadata": {
        "id": "4Ay5efJePgza"
      },
      "outputs": [],
      "source": [
        "import numpy as np\n",
        "import math\n",
        "import gym  # Certifique-se de instalar com: pip install gym\n",
        "\n",
        "def exponential_decay(initial_E=1.0, min_E=0.005, decay_rate=0.001):\n",
        "    \"\"\"Função para calcular epsilon com decaimento exponencial.\"\"\"\n",
        "    def new_E(t):\n",
        "        return min_E + (initial_E - min_E) * math.exp(-decay_rate * t)\n",
        "    return new_E\n",
        "\n",
        "def epsilon_greedy(Q, state, epsilon):\n",
        "    \"\"\"Política epsilon-greedy para escolher ações.\"\"\"\n",
        "    if np.random.rand() < epsilon:\n",
        "        return np.random.choice(len(Q[state]))  # Exploração\n",
        "    else:\n",
        "        best_actions = np.where(Q[state] == np.max(Q[state]))[0]\n",
        "        return np.random.choice(best_actions)  # Escolhe entre as ações ótimas\n",
        "\n",
        "def run_nstep_sarsa_exponential_decay(env, episodes, n=3, lr=0.1, gamma=0.95, initial_E=1.0, min_E=0.005, decay_rate=0.001, verbose=True):\n",
        "    \"\"\"Executa n-step SARSA com decaimento exponencial de epsilon.\"\"\"\n",
        "\n",
        "    # Verificações do ambiente\n",
        "    assert isinstance(env.observation_space, gym.spaces.Discrete), \"O ambiente deve ter um espaço de estados discreto.\"\n",
        "    assert isinstance(env.action_space, gym.spaces.Discrete), \"O ambiente deve ter um espaço de ações discreto.\"\n",
        "\n",
        "    num_actions = env.action_space.n\n",
        "    Q = np.zeros((env.observation_space.n, num_actions))  # Inicializa a Q-table\n",
        "    all_episode_rewards = []\n",
        "\n",
        "    epsilon_decay = exponential_decay(initial_E, min_E, decay_rate)  # Função de decaimento de epsilon\n",
        "\n",
        "    for i in range(episodes):\n",
        "        state, _ = env.reset()  # Ajuste para Gym v0.26+\n",
        "        done = False\n",
        "        sum_rewards = 0\n",
        "        epsilon = epsilon_decay(i)  # Epsilon atualizado por episódio\n",
        "\n",
        "        # Armazena as últimas transições para atualização n-step\n",
        "        states = [state]\n",
        "        actions = [epsilon_greedy(Q, state, epsilon)]\n",
        "        rewards = [0]  # Inicialmente zero\n",
        "\n",
        "        step_count = 0\n",
        "        while not done:\n",
        "            # Executa ação no ambiente\n",
        "            next_state, reward, terminated, truncated, _ = env.step(actions[-1])\n",
        "            done = terminated or truncated\n",
        "\n",
        "            sum_rewards += reward\n",
        "            states.append(next_state)\n",
        "            rewards.append(reward)\n",
        "\n",
        "            # Se não for terminal, escolhe a próxima ação\n",
        "            if not done:\n",
        "                next_epsilon = epsilon_decay(i)  # Atualiza epsilon com base no episódio\n",
        "                actions.append(epsilon_greedy(Q, next_state, next_epsilon))\n",
        "            else:\n",
        "                actions.append(None)  # No terminal, não há ação\n",
        "\n",
        "            # Atualiza a Q-table usando o retorno de n-passos\n",
        "            if step_count >= n - 1:\n",
        "                G = sum(gamma ** j * rewards[j] for j in range(1, n + 1))  # Soma das recompensas futuras\n",
        "\n",
        "                if not done and actions[-1] is not None:  # Se não for terminal, adiciona valor esperado\n",
        "                    G += (gamma ** n) * Q[states[-1], actions[-1]]\n",
        "\n",
        "                Q[states[0], actions[0]] += lr * (G - Q[states[0], actions[0]])\n",
        "\n",
        "                # Mantém o buffer de tamanho `n`\n",
        "                del states[0]\n",
        "                del actions[0]\n",
        "                del rewards[0]\n",
        "\n",
        "            step_count += 1\n",
        "\n",
        "        all_episode_rewards.append(sum_rewards)\n",
        "\n",
        "        # Atualiza os últimos passos ao final do episódio\n",
        "        while len(states) > 1:  # Atualiza todas as transições restantes\n",
        "            G = sum(gamma ** j * rewards[j] for j in range(1, len(states)))\n",
        "            if actions[-1] is not None:\n",
        "                G += (gamma ** (len(states) - 1)) * Q[states[-1], actions[-1]]\n",
        "\n",
        "            Q[states[0], actions[0]] += lr * (G - Q[states[0], actions[0]])\n",
        "\n",
        "            del states[0]\n",
        "            del actions[0]\n",
        "            del rewards[0]\n",
        "\n",
        "        # Exibe progresso a cada 100 episódios\n",
        "        if verbose and ((i + 1) % 100 == 0):\n",
        "            avg_reward = np.mean(all_episode_rewards[-100:])\n",
        "            print(f\"Episode {i + 1}: Avg Reward (last 100): {avg_reward:.3f}, Epsilon: {epsilon:.4f}\")\n",
        "\n",
        "    return all_episode_rewards, Q"
      ]
    },
    {
      "cell_type": "markdown",
      "metadata": {
        "id": "UfieBxUT0Qpq"
      },
      "source": [
        "## Decaimento Adaptativo do ε"
      ]
    },
    {
      "cell_type": "markdown",
      "metadata": {
        "id": "2t7pTkbs07GJ"
      },
      "source": [
        "### Decaimento baseado no desempenho recente"
      ]
    },
    {
      "cell_type": "markdown",
      "metadata": {
        "id": "CibLZCqMbeCZ"
      },
      "source": [
        "#### Função"
      ]
    },
    {
      "cell_type": "markdown",
      "metadata": {
        "id": "DENjikAxb0CZ"
      },
      "source": [
        "- Se o desempenho médio dos últimos X episódios não piorar, reduzir ε.\n",
        "- Se o desempenho cair, manter ε estável ou aumentar levemente."
      ]
    },
    {
      "cell_type": "code",
      "execution_count": null,
      "metadata": {
        "id": "5uaVUOMtbwVR"
      },
      "outputs": [],
      "source": [
        "def adaptive_decay_E(E, recent_rewards, threshold=0.005, decay_factor=0.995, increase_factor=1.005, min_E=0.005, max_E=0.995, X=200):\n",
        "    if len(recent_rewards) < 2:\n",
        "        return E  # Não há dados suficientes para avaliar\n",
        "\n",
        "    N = min(50, len(recent_rewards)//2)  # Número de episódios considerados\n",
        "    recent_mean = np.mean(recent_rewards[-N:])\n",
        "\n",
        "    if len(recent_rewards) >= 2*N:\n",
        "        previous_mean = np.mean(recent_rewards[-2*N:-N])\n",
        "    else:\n",
        "        previous_mean = recent_mean  # Evita erro de variável não inicializada\n",
        "\n",
        "    if recent_mean >= (previous_mean - threshold):  # Melhorou ou manteve\n",
        "        E = max(E * decay_factor, min_E)\n",
        "    else:  # Desempenho piorou\n",
        "        if E < max_E * 0.9:  # Permite aumento apenas se estiver significativamente abaixo do máximo\n",
        "            E = min(E * increase_factor, max_E)\n",
        "\n",
        "    return E\n"
      ]
    },
    {
      "cell_type": "markdown",
      "metadata": {
        "id": "i8CBhgLkbrv0"
      },
      "source": [
        "#### Aplicado ao Q-learning"
      ]
    },
    {
      "cell_type": "code",
      "execution_count": null,
      "metadata": {
        "id": "6Z8KRT2_bsil"
      },
      "outputs": [],
      "source": [
        "def run_qlearning_adaptive(env, episodes, lr=0.1, gamma=0.95, initial_E=.995, min_E=0.005, threshold=0.005, decay_factor=0.995, increase_factor=1.005, X = 200): # X = numero X de episodios para atualizar\n",
        "    assert isinstance(env.observation_space, gym.spaces.Discrete)\n",
        "    assert isinstance(env.action_space, gym.spaces.Discrete)\n",
        "\n",
        "    num_actions = env.action_space.n\n",
        "    Q = np.zeros((env.observation_space.n, num_actions))  # Inicializa a tabela Q\n",
        "\n",
        "    all_episode_rewards = []\n",
        "    recent_rewards = []\n",
        "    epsilon = initial_E\n",
        "\n",
        "    for i in range(episodes):\n",
        "        done = False\n",
        "        sum_rewards = 0\n",
        "        state, _ = env.reset()\n",
        "\n",
        "        while not done:\n",
        "            action = epsilon_greedy(Q, state, epsilon)\n",
        "            next_state, reward, terminated, trunc, _ = env.step(action)\n",
        "            done = terminated or trunc\n",
        "\n",
        "            # Atualiza Q-table (Q-Learning)\n",
        "            V_next_state = 0 if terminated else np.max(Q[next_state])\n",
        "            Q[state, action] += lr * ((reward + gamma * V_next_state) - Q[state, action])\n",
        "\n",
        "            sum_rewards += reward\n",
        "            state = next_state\n",
        "\n",
        "        all_episode_rewards.append(sum_rewards)\n",
        "        recent_rewards.append(sum_rewards)\n",
        "\n",
        "        if len(recent_rewards) > X:\n",
        "            recent_rewards.pop(0)\n",
        "\n",
        "        epsilon = adaptive_decay_E(epsilon, recent_rewards, threshold, decay_factor, increase_factor, min_E,X)\n",
        "\n",
        "        if (i + 1) % X == 0:\n",
        "            avg_reward = np.mean(all_episode_rewards[-X:])\n",
        "            print(f\"Episode {i+1} | Avg Reward: {avg_reward:.3f} | Epsilon: {epsilon:.4f}\")\n",
        "\n",
        "    return all_episode_rewards, Q"
      ]
    },
    {
      "cell_type": "markdown",
      "metadata": {
        "id": "5hD42QfGbWaZ"
      },
      "source": [
        "#### Aplicado ao SARSA"
      ]
    },
    {
      "cell_type": "code",
      "execution_count": null,
      "metadata": {
        "id": "INH5_iDNiJYN"
      },
      "outputs": [],
      "source": []
    },
    {
      "cell_type": "markdown",
      "metadata": {
        "id": "zqyfviioh1t-"
      },
      "source": [
        "#### Aplicado ao Expected-SARSA"
      ]
    },
    {
      "cell_type": "code",
      "execution_count": null,
      "metadata": {
        "id": "a6JG68cKiH30"
      },
      "outputs": [],
      "source": []
    },
    {
      "cell_type": "markdown",
      "metadata": {
        "id": "Cux5zoTKiMAu"
      },
      "source": [
        "#### Aplicado ao SARSA de n-passos"
      ]
    },
    {
      "cell_type": "code",
      "execution_count": null,
      "metadata": {
        "id": "4KfiA5sPiKaS"
      },
      "outputs": [],
      "source": []
    },
    {
      "cell_type": "markdown",
      "metadata": {
        "id": "syGwwpiv0-4p"
      },
      "source": [
        "### Decaimento proporcional ao desempenho greedy"
      ]
    },
    {
      "cell_type": "markdown",
      "metadata": {
        "id": "uVY8J55F2ZZ4"
      },
      "source": [
        "- Definir um desempenho alvo baseado na melhor política conhecida.\n",
        "- Ajustar ε proporcionalmente à distância entre o desempenho atual e o desempenho alvo.\n",
        "\n",
        "Edtratégia:\n",
        "- Se a recompensa atual estiver abaixo do alvo -> aumenta epsilon (explorar mais)\n",
        "-Se estiver próximo/acima do alvo -> reduz epsilon (explorar menos)"
      ]
    },
    {
      "cell_type": "markdown",
      "metadata": {
        "id": "z_5KyVOTieHm"
      },
      "source": [
        "#### Função"
      ]
    },
    {
      "cell_type": "code",
      "execution_count": null,
      "metadata": {
        "id": "Mxbhu0hsidWI"
      },
      "outputs": [],
      "source": [
        "def adaptive_decay_E_target(E, current_reward,best_avg_reward, decay_factor =0.99, increase_factor=1.01, min_E=.01, max_E-1.00):\n",
        "\n",
        "  if best_avg_reward is None:\n",
        "    return E\n",
        "  performance_ratio = current_reward / best_avg_reward # proporção de proximidade\n",
        "\n",
        "  if performance_ratio < 1.0:\n",
        "    E *= increase_factor\n",
        "  else:\n",
        "    E *= decay_factor\n",
        "\n",
        "  return max(min_E, min(E,max_E)) # E nunca passa de máximo ou mínimo"
      ]
    },
    {
      "cell_type": "markdown",
      "metadata": {
        "id": "ZbMjABaVkivl"
      },
      "source": [
        "#### Aplicado ao Q-learning"
      ]
    },
    {
      "cell_type": "code",
      "execution_count": null,
      "metadata": {
        "id": "Set7hqECkmAj"
      },
      "outputs": [],
      "source": [
        "# Algoritmo Q-learning com decaimento proporcional ao desempenho alvo\n",
        "def run_qlearning_target(env, episodes, lr=0.1, gamma=0.95, initial_E=1.0, min_E=0.01, max_E=1.0, decay_factor=0.99, increase_factor=1.01):\n",
        "    assert isinstance(env.observation_space, gym.spaces.Discrete)\n",
        "    assert isinstance(env.action_space, gym.spaces.Discrete)\n",
        "\n",
        "    num_actions = env.action_space.n\n",
        "    Q = np.zeros(shape=(env.observation_space.n, num_actions))  # Inicializa a tabela Q\n",
        "\n",
        "    all_episode_rewards = []\n",
        "    epsilon = initial_E\n",
        "    best_avg_reward = None  # melhor desempenho médio - alvo escolhido na estratégia\n",
        "\n",
        "    for i in range(episodes):\n",
        "        done = False\n",
        "        sum_rewards = 0\n",
        "        state, _ = env.reset()\n",
        "\n",
        "        while not done:\n",
        "            action = epsilon_greedy(Q, state, epsilon) # E-greedy\n",
        "\n",
        "            next_state, reward, terminated, trunc, _ = env.step(action)\n",
        "            done = terminated or trunc\n",
        "\n",
        "            V_next_state = 0 if terminated else np.max(Q[next_state])\n",
        "            delta = (reward + gamma * V_next_state) - Q[state, action]\n",
        "            Q[state, action] += lr * delta\n",
        "\n",
        "            sum_rewards += reward\n",
        "            state = next_state\n",
        "\n",
        "        all_episode_rewards.append(sum_rewards)\n",
        "\n",
        "        # pegando a melhor media a cada 100 episódios - melhorar para X episódios\n",
        "        if (i + 1) % 100 == 0:\n",
        "            best_avg_reward = np.mean(all_episode_rewards[-100:])\n",
        "\n",
        "        # trocando E para um baseado no desempenho alvo\n",
        "        epsilon = adaptive_decay_target(epsilon, sum_rewards, best_avg_reward, decay_factor, increase_factor, min_E, max_E)\n",
        "\n",
        "        if VERBOSE and ((i + 1) % 100 == 0):\n",
        "            print(f\"Episode {i+1} | Avg Reward (last 100): {best_avg_reward:.3f} | Epsilon: {epsilon:.4f}\")\n",
        "\n",
        "    return all_episode_rewards, Q"
      ]
    },
    {
      "cell_type": "markdown",
      "metadata": {
        "id": "wvausVvN3q9F"
      },
      "source": [
        "## Atualizações - ajuste dinâmico"
      ]
    },
    {
      "cell_type": "markdown",
      "metadata": {
        "id": "kIqdo2tI4LLe"
      },
      "source": [
        "- Manter um histórico das últimas recompensas médias.\n",
        "- Ajustar ε dependendo da estabilidade do desempenho."
      ]
    },
    {
      "cell_type": "markdown",
      "metadata": {
        "id": "KRpQH1yC1VOL"
      },
      "source": [
        "# Testes"
      ]
    },
    {
      "cell_type": "markdown",
      "metadata": {
        "id": "5Fd9q0S-4h-H"
      },
      "source": [
        "Definir melhores ambientes para os decaimentos e parametrização. Criar comparações para o artigo\n",
        "\n",
        "\n"
      ]
    },
    {
      "cell_type": "markdown",
      "metadata": {
        "id": "aCDsb9CqfmIU"
      },
      "source": [
        "## Linear Decay"
      ]
    },
    {
      "cell_type": "markdown",
      "metadata": {
        "id": "13bt0Fm9fmIW"
      },
      "source": [
        "Q-Learning (Epsilon-greedy)"
      ]
    },
    {
      "cell_type": "code",
      "execution_count": null,
      "metadata": {
        "id": "tnv15eqTfmIX"
      },
      "outputs": [],
      "source": [
        "#ENV_NAME, r_max = \"Taxi-v3\", 10\n",
        "ENV_NAME, r_max = \"CliffWalking-v0\", 0\n",
        "\n",
        "EPISODES = 8_000\n",
        "LR = 0.01\n",
        "GAMMA = 0.95\n",
        "EPSILON = 0.05\n",
        "\n",
        "env = gym.make(ENV_NAME, max_episode_steps=500)\n",
        "\n",
        "# Roda o algoritmo Q-Learning\n",
        "rewards1, qtable1 = run_qlearning_linear_decay(env, EPISODES, LR, GAMMA)\n",
        "clear_output()\n",
        "\n",
        "print(\"Últimos resultados: media =\", np.mean(rewards1[-20:]), \", desvio padrao =\", np.std(rewards1[-20:]))"
      ]
    },
    {
      "cell_type": "code",
      "execution_count": null,
      "metadata": {
        "id": "OTmjvwVKfmIY"
      },
      "outputs": [],
      "source": [
        "# Mostra um gráfico de episódios x retornos não descontados\n",
        "plot_result(rewards1, r_max)"
      ]
    },
    {
      "cell_type": "markdown",
      "metadata": {
        "id": "2z1ntbHw8qTg"
      },
      "source": [
        "## Adaptive Decay 1"
      ]
    },
    {
      "cell_type": "markdown",
      "metadata": {
        "id": "ymKgRJw28uQb"
      },
      "source": [
        "Q-Learning (Epsilon-greedy)"
      ]
    },
    {
      "cell_type": "code",
      "execution_count": null,
      "metadata": {
        "id": "0zrZZBnr8yZe"
      },
      "outputs": [],
      "source": [
        "#ENV_NAME, r_max = \"Taxi-v3\", 10\n",
        "ENV_NAME, r_max = \"CliffWalking-v0\", 0\n",
        "\n",
        "EPISODES = 8_000\n",
        "LR = 0.01\n",
        "GAMMA = 0.95\n",
        "EPSILON = 0.05\n",
        "\n",
        "env = gym.make(ENV_NAME, max_episode_steps=500)\n",
        "\n",
        "rewards1, qtable1 = run_qlearning_adaptive(env, EPISODES, LR, GAMMA)\n",
        "# clear_output()\n",
        "\n",
        "print(\"Últimos resultados: media =\", np.mean(rewards1[-20:]), \", desvio padrao =\", np.std(rewards1[-20:]))"
      ]
    },
    {
      "cell_type": "code",
      "execution_count": null,
      "metadata": {
        "id": "q_iDj56p9B7f"
      },
      "outputs": [],
      "source": [
        "plot_result(rewards1, r_max)"
      ]
    },
    {
      "cell_type": "markdown",
      "metadata": {
        "id": "ATSewAohTzJS"
      },
      "source": [
        "# Experimentos (Frozen, Taxi, Cliff, Racetrack)"
      ]
    },
    {
      "cell_type": "markdown",
      "metadata": {
        "id": "FwJjwpPbZZbP"
      },
      "source": [
        "## Setup inicial"
      ]
    },
    {
      "cell_type": "code",
      "execution_count": null,
      "metadata": {
        "id": "1NXGIsRrY4Nr"
      },
      "outputs": [],
      "source": [
        "from IPython.display import clear_output\n",
        "import sys\n",
        "\n",
        "IN_COLAB = 'google.colab' in sys.modules\n",
        "\n",
        "if IN_COLAB:\n",
        "    # for saving videos\n",
        "    !apt-get install ffmpeg\n",
        "\n",
        "    !pip install gymnasium moviepy\n",
        "    !pip install optuna\n",
        "\n",
        "    # clone repository\n",
        "    !git clone https://github.com/pablo-sampaio/rl_facil\n",
        "    sys.path.append(\"/content/rl_facil\")\n",
        "\n",
        "    clear_output()\n",
        "else:\n",
        "    from os import path\n",
        "    sys.path.append( path.dirname( path.dirname( path.abspath(\"__main__\") ) ) )"
      ]
    },
    {
      "cell_type": "code",
      "execution_count": null,
      "metadata": {
        "id": "1H5DyqxUZCQO"
      },
      "outputs": [],
      "source": [
        "import optuna\n",
        "from functools import partial\n",
        "import gymnasium as gym\n",
        "import numpy as np\n",
        "import math\n",
        "from util.experiments import repeated_exec\n",
        "from util.plot import plot_result, plot_multiple_results\n",
        "import matplotlib.pyplot as plt\n",
        "from util.notebook import display_videos_from_path\n",
        "from util.qtable_helper import evaluate_qtable_policy, record_video_qtable\n",
        "# define se os algoritmos vão imprimir dados do treinamento\n",
        "VERBOSE = True"
      ]
    },
    {
      "cell_type": "code",
      "execution_count": null,
      "metadata": {
        "id": "WDCgtMW5ZVKn"
      },
      "outputs": [],
      "source": [
        "def epsilon_greedy(Q, state, epsilon):\n",
        "    num_actions = len(Q[state])\n",
        "    if np.random.random() < epsilon:\n",
        "        return np.random.randint(0, num_actions)\n",
        "    else:\n",
        "        return np.argmax(Q[state])   # em caso de empates, retorna sempre o menor índice --> mais eficiente, porém...\n",
        "        #return np.random.choice(np.where(Q[state] == Q[state].max())[0]) # aleatoriza em caso de empates"
      ]
    },
    {
      "cell_type": "markdown",
      "metadata": {
        "id": "_BW7tZMXX0nj"
      },
      "source": [
        "## Decaimento parametrizado\n",
        "\n"
      ]
    },
    {
      "cell_type": "code",
      "execution_count": null,
      "metadata": {
        "id": "re_lAZ_uXzuy"
      },
      "outputs": [],
      "source": [
        "def epsilon_decay(decay_type='none', initial_E=1.0, min_E=0.005,X=1000, Y=None, total_steps=1000,episodes=8000,decay_rate=0.001, threshold=.005,max_E=0.995,increase_rate=0.001, eps_limit_adaptive_to_consider=50):\n",
        "    \"\"\"\n",
        "        decay_type (str): Tipo de decaimento ('linear' ou 'exponential', ou 'none').\n",
        "        initial_E (float): Valor inicial de epsilon (epsilon máximo).\n",
        "        min_E (float): Valor mínimo de epsilon.\n",
        "        X (int): Número de passos para atingir o epsilon mínimo (opcional).\n",
        "        Y (float): Percentual do tempo total de treinamento para decaimento (opcional).\n",
        "        total_steps (int): Número total de passos de treinamento.\n",
        "        decay_rate (float): Taxa de decaimento (apenas para decaimento exponencial).\n",
        "        threshold (float): limite de mudança de recompensa para o Epsilon mudar\n",
        "        recent_rewards (lista): lista com recompensas recentes\n",
        "    \"\"\"\n",
        "    if X is None and Y is None:\n",
        "        raise ValueError(\"Deve inserir X (número de passos) ou Y (percentual do tempo total).\")\n",
        "\n",
        "    if Y is not None:\n",
        "        if total_steps is None:\n",
        "          estimated_steps_per_episode = 500 # sendo usado no env\n",
        "          total_steps = episodes * estimated_steps_per_episode\n",
        "        X = int(Y * total_steps)\n",
        "\n",
        "    if decay_type == 'none':\n",
        "        def new_E(t):\n",
        "            return initial_E\n",
        "    elif decay_type == 'linear':\n",
        "        k = (initial_E - min_E) / X\n",
        "        def new_E(t):\n",
        "            return max(min_E, initial_E - k * t)\n",
        "    elif decay_type == 'exponential':\n",
        "        def new_E(t):\n",
        "            return min_E + (initial_E - min_E) * math.exp(-decay_rate * t)\n",
        "    elif decay_type == 'adaptive':\n",
        "        def new_E(E, recent_rewards):\n",
        "          if len(recent_rewards) < 2:\n",
        "            return E\n",
        "          N = min(eps_limit_adaptive_to_consider, len(recent_rewards)//2)  # Número de episódios considerados\n",
        "          recent_mean = np.mean(recent_rewards[-N:])\n",
        "          if len(recent_rewards) >= 2*N: # atualizando se andou os episodios suficientes\n",
        "            previous_mean = np.mean(recent_rewards[-2*N:-N])\n",
        "          else:\n",
        "            previous_mean = recent_mean  # Evita erro de variável não inicializada\n",
        "\n",
        "          if recent_mean >= (previous_mean - threshold):  # Melhorou ou manteve\n",
        "            E = max(E * decay_rate, min_E)\n",
        "          elif E < max_E * 0.9:  # Desempenho piorou\n",
        "              # Permite aumento apenas se estiver significativamente abaixo do máximo\n",
        "                E = min(E * increase_rate, max_E)\n",
        "          return E\n",
        "    else:\n",
        "        raise ValueError(\"Tipo de decaimento inválido. Escolha 'linear' ou 'exponential'.\")\n",
        "\n",
        "    return new_E"
      ]
    },
    {
      "cell_type": "markdown",
      "metadata": {
        "id": "izPcSmF6a7yD"
      },
      "source": [
        "## Algoritmos TD-learning adaptados"
      ]
    },
    {
      "cell_type": "markdown",
      "metadata": {
        "id": "l5RK_IiSgOqE"
      },
      "source": [
        "#### Q-learning"
      ]
    },
    {
      "cell_type": "code",
      "execution_count": null,
      "metadata": {
        "id": "4mahLLVabBP5"
      },
      "outputs": [],
      "source": [
        "def run_qlearning_decay(env, episodes, lr=0.1, gamma=0.95, decay_type='linear', initial_E=1.0, min_E=0.005, X=1000, Y=None, total_steps=None, decay_rate=0.001, verbose=True, n_eps_per_rewards=500):\n",
        "    \"\"\"\n",
        "    Parâmetros:\n",
        "        env: Ambiente Gym.\n",
        "        episodes (int): Número de episódios de treinamento.\n",
        "        lr (float): Taxa de aprendizado (learning rate).\n",
        "        gamma (float): Fator de desconto.\n",
        "        decay_type (str): Tipo de decaimento ('linear' ou 'exponential').\n",
        "        initial_E (float): Valor inicial de epsilon.\n",
        "        min_E (float): Valor mínimo de epsilon.\n",
        "        X (int): Número de passos para atingir o epsilon mínimo (opcional).\n",
        "        Y (float): Percentual do tempo total de treinamento para decaimento (opcional).\n",
        "        total_steps (int): Número total de passos de treinamento (necessário se Y for fornecido).\n",
        "        decay_rate (float): Taxa de decaimento (apenas para decaimento exponencial).\n",
        "        verbose (bool): Se True, imprime o progresso durante o treinamento.\n",
        "\n",
        "    Retorna:\n",
        "        all_episode_rewards (list): Recompensas de todos os episódios.\n",
        "        Q (np.array): Tabela Q aprendida.\n",
        "        avg_rewards (list): Média das recompensas dos últimos 100 episódios.\n",
        "        epsilon_values (list): Valores de epsilon ao longo do treinamento.\n",
        "    \"\"\"\n",
        "    assert isinstance(env.observation_space, gym.spaces.Discrete), \"Apenas espaços discretos são suportados!\"\n",
        "    assert isinstance(env.action_space, gym.spaces.Discrete), \"Apenas ações discretas são suportadas!\"\n",
        "\n",
        "    num_actions = env.action_space.n\n",
        "    Q = np.zeros((env.observation_space.n, num_actions))\n",
        "    all_episode_rewards = []\n",
        "    avg_rewards = []\n",
        "    epsilon_values = []\n",
        "\n",
        "    epsilon_decay_fn = epsilon_decay(decay_type=decay_type, initial_E=initial_E, min_E=min_E, Y=Y,X=X, total_steps=total_steps, decay_rate=decay_rate,episodes=episodes)\n",
        "\n",
        "    eps = 0\n",
        "    for i in range(episodes):\n",
        "        eps += 1\n",
        "        state, _ = env.reset()\n",
        "        done = False\n",
        "        sum_rewards = 0\n",
        "\n",
        "\n",
        "        while not done:\n",
        "            epsilon = epsilon_decay_fn(eps)\n",
        "            action = epsilon_greedy(Q, state, epsilon)\n",
        "\n",
        "            next_state, reward, terminated, truncated, _ = env.step(action)\n",
        "            done = terminated or truncated\n",
        "\n",
        "            # Atualização Q-Learning\n",
        "            V_next_state = 0 if done else np.max(Q[next_state])\n",
        "            Q[state, action] += lr * (reward + gamma * V_next_state - Q[state, action])\n",
        "\n",
        "            sum_rewards += reward\n",
        "            state = next_state\n",
        "\n",
        "\n",
        "        all_episode_rewards.append(sum_rewards)\n",
        "        avg_rewards.append(np.mean(all_episode_rewards[-n_eps_per_rewards:]))\n",
        "        epsilon_values.append(epsilon)\n",
        "        if verbose and (i + 1) % n_eps_per_rewards == 0:\n",
        "            print(f\"Episode {i + 1}: Avg Reward (last {n_eps_per_rewards}): {avg_rewards[-1]:.3f}, Epsilon: {epsilon:.4f}\")\n",
        "    return all_episode_rewards, Q, avg_rewards, epsilon_values"
      ]
    },
    {
      "cell_type": "markdown",
      "source": [
        "##### Com Adaptive"
      ],
      "metadata": {
        "id": "RHs3XmwfQ222"
      }
    },
    {
      "cell_type": "code",
      "source": [
        "def run_qlearning_decay_com_adaptive(env, episodes, lr=0.1, gamma=0.95, decay_type='none', initial_E=1.0, min_E=0.005, X=None, Y=None, total_steps=None, decay_rate=0.001, verbose=True, n_eps_per_rewards=500, threshold=.005, recent_rewards=None,max_E=0.995,increase_rate=0.001, eps_limit_adaptive_to_consider=50):\n",
        "    \"\"\"\n",
        "    Parâmetros:\n",
        "        env: Ambiente Gym.\n",
        "        episodes (int): Número de episódios de treinamento.\n",
        "        lr (float): Taxa de aprendizado (learning rate).\n",
        "        gamma (float): Fator de desconto.\n",
        "        decay_type (str): Tipo de decaimento ('linear' ou 'exponential').\n",
        "        initial_E (float): Valor inicial de epsilon.\n",
        "        min_E (float): Valor mínimo de epsilon.\n",
        "        X (int): Número de passos para atingir o epsilon mínimo (opcional).\n",
        "        Y (float): Percentual do tempo total de treinamento para decaimento (opcional).\n",
        "        total_steps (int): Número total de passos de treinamento (necessário se Y for fornecido).\n",
        "        decay_rate (float): Taxa de decaimento (apenas para decaimento exponencial).\n",
        "        verbose (bool): Se True, imprime o progresso durante o treinamento.\n",
        "\n",
        "    Retorna:\n",
        "        all_episode_rewards (list): Recompensas de todos os episódios.\n",
        "        Q (np.array): Tabela Q aprendida.\n",
        "        avg_rewards (list): Média das recompensas dos últimos 100 episódios.\n",
        "        epsilon_values (list): Valores de epsilon ao longo do treinamento.\n",
        "    \"\"\"\n",
        "    assert isinstance(env.observation_space, gym.spaces.Discrete), \"Apenas espaços discretos são suportados!\"\n",
        "    assert isinstance(env.action_space, gym.spaces.Discrete), \"Apenas ações discretas são suportadas!\"\n",
        "\n",
        "    num_actions = env.action_space.n\n",
        "    Q = np.zeros((env.observation_space.n, num_actions))\n",
        "    all_episode_rewards = []\n",
        "    avg_rewards = []\n",
        "    epsilon_values = []\n",
        "\n",
        "    recent_rewards = [] # adaptive epsilon\n",
        "\n",
        "    if decay_type==\"adaptive\":\n",
        "      epsilon = initial_E\n",
        "\n",
        "\n",
        "    epsilon_decay_fn = epsilon_decay(decay_type=decay_type, initial_E=initial_E, min_E=min_E, Y=Y,X=X, total_steps=total_steps, decay_rate=decay_rate,episodes=episodes, threshold=threshold, increase_rate=increase_rate)\n",
        "\n",
        "\n",
        "    eps = 0\n",
        "    for i in range(episodes):\n",
        "        eps += 1\n",
        "        state, _ = env.reset()\n",
        "        done = False\n",
        "        sum_rewards = 0\n",
        "\n",
        "\n",
        "        while not done:\n",
        "            if(decay_type==\"none\" or decay_type==\"linear\" or decay_type==\"exponential\"):\n",
        "              epsilon = epsilon_decay_fn(eps)\n",
        "            action = epsilon_greedy(Q, state, epsilon)\n",
        "\n",
        "            next_state, reward, terminated, truncated, _ = env.step(action)\n",
        "            done = terminated or truncated\n",
        "\n",
        "            # Atualização Q-Learning\n",
        "            V_next_state = 0 if done else np.max(Q[next_state])\n",
        "            Q[state, action] += lr * (reward + gamma * V_next_state - Q[state, action])\n",
        "\n",
        "            sum_rewards += reward\n",
        "            state = next_state\n",
        "\n",
        "\n",
        "        all_episode_rewards.append(sum_rewards)\n",
        "        avg_rewards.append(np.mean(all_episode_rewards[-n_eps_per_rewards:]))\n",
        "        epsilon_values.append(epsilon)\n",
        "\n",
        "        recent_rewards.append(sum_rewards) # adaptive\n",
        "        if len(recent_rewards) > n_eps_per_rewards:\n",
        "            recent_rewards.pop(0)\n",
        "        if decay_type==\"adaptive\":\n",
        "          epsilon = epsilon_decay_fn(epsilon,recent_rewards)\n",
        "\n",
        "        if verbose and (i + 1) % n_eps_per_rewards == 0:\n",
        "            print(f\"Episode {i + 1}: Avg Reward (last {n_eps_per_rewards}): {avg_rewards[-1]:.3f}, Epsilon: {epsilon:.4f}\")\n",
        "    return all_episode_rewards, Q, avg_rewards, epsilon_values"
      ],
      "metadata": {
        "id": "rbNSo1M-QjBn"
      },
      "execution_count": null,
      "outputs": []
    },
    {
      "cell_type": "markdown",
      "metadata": {
        "id": "YeAUDiBSgMAU"
      },
      "source": [
        "#### SARSA"
      ]
    },
    {
      "cell_type": "code",
      "execution_count": null,
      "metadata": {
        "id": "_l2it4CUe13n"
      },
      "outputs": [],
      "source": [
        "def run_sarsa_decay(env, episodes, lr=0.1, gamma=0.95, decay_type='linear', initial_E=1.0, min_E=0.005, X=None, Y=None, total_steps=1000, decay_rate=0.001, verbose=True):\n",
        "    # Garantindo que o ambiente é discreto\n",
        "    assert isinstance(env.observation_space, gym.spaces.Discrete), \"Apenas espaços discretos são suportados!\"\n",
        "    assert isinstance(env.action_space, gym.spaces.Discrete), \"Apenas ações discretas são suportadas!\"\n",
        "\n",
        "    num_actions = env.action_space.n\n",
        "    Q = np.zeros((env.observation_space.n, num_actions))\n",
        "    all_episode_rewards = []\n",
        "    avg_rewards = []\n",
        "    epsilon_values = []\n",
        "\n",
        "    # Criar a função de decaimento do epsilon\n",
        "    epsilon_decay_fn = epsilon_decay(decay_type=decay_type, initial_E=initial_E, min_E=min_E, Y=Y, total_steps=total_steps, decay_rate=decay_rate)\n",
        "\n",
        "\n",
        "    for i in range(episodes):\n",
        "        state, _ = env.reset()\n",
        "        done = False\n",
        "        sum_rewards = 0\n",
        "        epsilon = epsilon_decay_fn(i)  # Decaimento baseado no episódio\n",
        "        epsilon_values.append(epsilon)  # Registrar o valor do epsilon\n",
        "\n",
        "        # Escolhe a primeira ação usando epsilon-greedy\n",
        "        action = epsilon_greedy(Q, state, epsilon)\n",
        "\n",
        "        while not done:\n",
        "            next_state, reward, terminated, truncated, _ = env.step(action)\n",
        "            done = terminated or truncated\n",
        "\n",
        "            # Escolhe a próxima ação usando epsilon-greedy\n",
        "            next_action = epsilon_greedy(Q, next_state, epsilon)\n",
        "\n",
        "            # Atualiza a Q-table (SARSA usa a próxima ação)\n",
        "            V_next_state = 0 if done else Q[next_state, next_action]\n",
        "            Q[state, action] += lr * (reward + gamma * V_next_state - Q[state, action])\n",
        "\n",
        "            sum_rewards += reward\n",
        "            state = next_state\n",
        "            action = next_action  # Atualiza a ação para o próximo passo\n",
        "\n",
        "        all_episode_rewards.append(sum_rewards)\n",
        "        avg_rewards.append(np.mean(all_episode_rewards[-100:]))  # Média móvel\n",
        "\n",
        "        if verbose and ((i + 1) % 100 == 0):\n",
        "            print(f\"Episode {i + 1}: Avg Reward (last 100): {avg_rewards[-1]:.3f}, Epsilon: {epsilon:.4f}\")\n",
        "\n",
        "    return all_episode_rewards, Q, avg_rewards, epsilon_values\n"
      ]
    },
    {
      "cell_type": "markdown",
      "metadata": {
        "id": "QqayEIcpgGld"
      },
      "source": [
        "#### Expected-SARSA"
      ]
    },
    {
      "cell_type": "code",
      "execution_count": null,
      "metadata": {
        "id": "4L5TCbUKgCvI"
      },
      "outputs": [],
      "source": [
        "def run_expected_sarsa_decay(env, episodes, lr=0.1, gamma=0.95, decay_type='exponential', initial_E=1.0, min_E=0.005, X=None, Y=None, total_steps=1000, decay_rate=0.001, verbose=True):\n",
        "    assert isinstance(env.observation_space, gym.spaces.Discrete), \"O ambiente deve ter um espaço de estados discreto.\"\n",
        "    assert isinstance(env.action_space, gym.spaces.Discrete), \"O ambiente deve ter um espaço de ações discreto.\"\n",
        "\n",
        "    num_actions = env.action_space.n\n",
        "    Q = np.zeros((env.observation_space.n, num_actions))\n",
        "    all_episode_rewards = []\n",
        "    avg_rewards = []\n",
        "    epsilon_values = []\n",
        "\n",
        "    epsilon_decay_fn = epsilon_decay(decay_type=decay_type, initial_E=initial_E, min_E=min_E, Y=Y, total_steps=total_steps, decay_rate=decay_rate)\n",
        "\n",
        "\n",
        "    for i in range(episodes):\n",
        "        state, _ = env.reset()  # Ajuste para Gym v0.26+\n",
        "        done = False\n",
        "        sum_rewards = 0\n",
        "        epsilon = epsilon_decay_fn(i)\n",
        "        epsilon_values.append(epsilon)\n",
        "\n",
        "        while not done:\n",
        "            action = epsilon_greedy(Q, state, epsilon)\n",
        "            next_state, reward, terminated, truncated, _ = env.step(action)\n",
        "            done = terminated or truncated\n",
        "\n",
        "            next_epsilon = epsilon_decay_fn(i + 1)\n",
        "\n",
        "            expected_value = 0\n",
        "            best_actions = np.where(Q[next_state] == np.max(Q[next_state]))[0]\n",
        "            prob_best_action = (1 - next_epsilon) + (next_epsilon / num_actions)\n",
        "            prob_other_actions = next_epsilon / num_actions\n",
        "\n",
        "            for a in range(num_actions):\n",
        "                prob = prob_best_action if a in best_actions else prob_other_actions\n",
        "                expected_value += prob * Q[next_state, a]\n",
        "\n",
        "            Q[state, action] += lr * (reward + gamma * expected_value - Q[state, action])\n",
        "\n",
        "            sum_rewards += reward\n",
        "            state = next_state\n",
        "\n",
        "        all_episode_rewards.append(sum_rewards)\n",
        "        avg_rewards.append(np.mean(all_episode_rewards[-100:]))\n",
        "\n",
        "        if verbose and ((i + 1) % 100 == 0):\n",
        "            print(f\"Episode {i + 1}: Avg Reward (last 100): {avg_rewards[-1]:.3f}, Epsilon: {epsilon:.4f}\")\n",
        "\n",
        "    return all_episode_rewards, Q, avg_rewards, epsilon_values\n"
      ]
    },
    {
      "cell_type": "markdown",
      "metadata": {
        "id": "Gn8K7_bEiVqc"
      },
      "source": [
        "#### SARSA de n-passos"
      ]
    },
    {
      "cell_type": "code",
      "execution_count": null,
      "metadata": {
        "id": "-v4v38UmiZWs"
      },
      "outputs": [],
      "source": [
        "def run_nstep_sarsa_decay(env, episodes, n=3, lr=0.1, gamma=0.95, decay_type='linear', initial_E=1.0, min_E=0.005,\n",
        "                     X=None, Y=None, total_steps=1000, decay_rate=0.001, verbose=True):\n",
        "    \"\"\"Executa n-step SARSA com decaimento de epsilon.\"\"\"\n",
        "\n",
        "    assert isinstance(env.observation_space, gym.spaces.Discrete), \"O ambiente deve ter um espaço de estados discreto.\"\n",
        "    assert isinstance(env.action_space, gym.spaces.Discrete), \"O ambiente deve ter um espaço de ações discreto.\"\n",
        "\n",
        "    num_actions = env.action_space.n\n",
        "    Q = np.zeros((env.observation_space.n, num_actions))  # Inicializa a Q-table\n",
        "    all_episode_rewards = []\n",
        "    avg_rewards = []\n",
        "    epsilon_values = []\n",
        "\n",
        "    # Criar a função de decaimento do epsilon\n",
        "    epsilon_decay_fn = epsilon_decay(decay_type=decay_type, initial_E=initial_E, min_E=min_E, Y=Y, total_steps=total_steps, decay_rate=decay_rate)\n",
        "\n",
        "    for i in range(episodes):\n",
        "        state, _ = env.reset()\n",
        "        done = False\n",
        "        sum_rewards = 0\n",
        "        epsilon = epsilon_decay_fn(i)  # Epsilon atualizado por episódio\n",
        "        epsilon_values.append(epsilon)\n",
        "\n",
        "        # Buffers para armazenar transições\n",
        "        states = [state]\n",
        "        actions = [epsilon_greedy(Q, state, epsilon)]\n",
        "        rewards = [0]  # Inicialmente zero\n",
        "\n",
        "        step_count = 0\n",
        "        while not done:\n",
        "            next_state, reward, terminated, truncated, _ = env.step(actions[-1])\n",
        "            done = terminated or truncated\n",
        "\n",
        "            sum_rewards += reward\n",
        "            states.append(next_state)\n",
        "            rewards.append(reward)\n",
        "\n",
        "            if not done:\n",
        "                next_action = epsilon_greedy(Q, next_state, epsilon)\n",
        "                actions.append(next_action)\n",
        "            else:\n",
        "                actions.append(None)\n",
        "\n",
        "            # Atualiza a Q-table usando o retorno de n-passos\n",
        "            if step_count >= n - 1:\n",
        "                G = sum(gamma ** j * rewards[j] for j in range(1, n + 1))  # Soma das recompensas futuras\n",
        "\n",
        "                if not done:\n",
        "                    G += (gamma ** n) * Q[states[-1], actions[-1]]\n",
        "\n",
        "                Q[states[0], actions[0]] += lr * (G - Q[states[0], actions[0]])\n",
        "\n",
        "                # Mantém o buffer de tamanho `n`\n",
        "                del states[0]\n",
        "                del actions[0]\n",
        "                del rewards[0]\n",
        "\n",
        "            step_count += 1\n",
        "\n",
        "        all_episode_rewards.append(sum_rewards)\n",
        "        avg_rewards.append(np.mean(all_episode_rewards[-100:]))\n",
        "\n",
        "        # Atualiza os últimos passos ao final do episódio\n",
        "        while len(states) > 1:\n",
        "            G = sum(gamma ** j * rewards[j] for j in range(1, len(states)))\n",
        "            if actions[-1] is not None:\n",
        "                G += (gamma ** (len(states) - 1)) * Q[states[-1], actions[-1]]\n",
        "\n",
        "            Q[states[0], actions[0]] += lr * (G - Q[states[0], actions[0]])\n",
        "\n",
        "            del states[0]\n",
        "            del actions[0]\n",
        "            del rewards[0]\n",
        "\n",
        "        # Exibe progresso a cada 100 episódios\n",
        "        if verbose and ((i + 1) % 100 == 0):\n",
        "            print(f\"Episode {i + 1}: Avg Reward (last 100): {avg_rewards[-1]:.3f}, Epsilon: {epsilon:.4f}\")\n",
        "\n",
        "    return all_episode_rewards, Q, avg_rewards, epsilon_values\n"
      ]
    },
    {
      "cell_type": "markdown",
      "metadata": {
        "id": "CmYTdnulg6dL"
      },
      "source": [
        "## Configuração dos Experimentos"
      ]
    },
    {
      "cell_type": "markdown",
      "metadata": {
        "id": "K9sybe41m_jx"
      },
      "source": [
        "### Hiperparâmetros"
      ]
    },
    {
      "cell_type": "code",
      "execution_count": null,
      "metadata": {
        "id": "KOFcwHKzoaAm"
      },
      "outputs": [],
      "source": [
        "# episodios_de_busca = 8000\n",
        "\n",
        "# def train_qlearning_decay(ambient, trial: optuna.Trial):\n",
        "#     eps = trial.suggest_float('initial_E', 1.0, 1.0)\n",
        "#     Y = trial.suggest_float('Y', 0.00001,0.001)\n",
        "#     min_eps = trial.suggest_float('min_E', 0.005, 0.2)\n",
        "#     episodes = trial.suggest_float('episodes', 8000)\n",
        "#     gamma = trial.suggest_float('gamma', 0.90, 1.00)\n",
        "#     lr = trial.suggest_float('lr', 0.001, 1.0, log=True)\n",
        "#     decay_rate = trial.suggest_float('decay_rate', .0001, 0.01, log=True)\n",
        "#     decay_type = trial.suggest_categorical('decay_type', ['linear', 'exponential','none'])\n",
        "\n",
        "#     env = gym.make(ambient)\n",
        "#     returns, _,_,_ = run_qlearning_decay(env, episodios_de_busca, lr=lr, gamma=gamma, decay_type=decay_type,\n",
        "#                                initial_E=eps, min_E=min_eps, decay_rate=decay_rate,Y=Y)\n",
        "\n",
        "#     return sum(returns[-100:]) / 100\n",
        "\n",
        "# def train_sarsa_decay(ambient, trial: optuna.Trial):\n",
        "#     decay_rate = trial.suggest_float('decay_rate', .0001, 0.01, log=True)\n",
        "\n",
        "#     eps = trial.suggest_float('initial_E', 1.0, 1.0)  # Epsilon inicial\n",
        "#     Y = trial.suggest_float('Y', 0.00001,0.001)\n",
        "#     min_eps = trial.suggest_float('min_E', 0.005, 0.2)\n",
        "#     gamma = trial.suggest_float('gamma', 0.90, 1.00)  # Fator de desconto\n",
        "#     lr = trial.suggest_float('lr', 0.001, 1.0, log=True)  # Taxa de aprendizado\n",
        "#     decay_rate = trial.suggest_float('decay_rate', .0001, 0.01, log=True)\n",
        "#     decay_type = trial.suggest_categorical('decay_type', ['linear', 'exponential','none'])\n",
        "#     episodes = trial.suggest_float('episodes', 8000)\n",
        "\n",
        "#     env = gym.make(ambient)\n",
        "#     returns, _,_,_ = run_sarsa_decay(env, episodios_de_busca, lr=lr, gamma=gamma, decay_type=decay_type,\n",
        "#                            initial_E=eps, min_E=min_eps, decay_rate=decay_rate)\n",
        "\n",
        "#     return sum(returns[-100:]) / 100\n",
        "\n",
        "# def train_expected_sarsa_decay(ambient, trial: optuna.Trial):\n",
        "#     Y = trial.suggest_float('Y', 0.0001,0.01)\n",
        "#     eps = trial.suggest_float('initial_E', 1.0, 1.0)\n",
        "#     min_eps = trial.suggest_float('min_E', 0.005, 0.2)\n",
        "#     gamma = trial.suggest_float('gamma', 0.90, 1.00)\n",
        "#     lr = trial.suggest_float('lr', 0.001, 1.0, log=True)\n",
        "#     decay_rate = trial.suggest_float('decay_rate', .0001, 0.01, log=True)\n",
        "#     decay_type = trial.suggest_categorical('decay_type', ['linear', 'exponential','none'])\n",
        "#     episodes = trial.suggest_float('episodes', 8000)\n",
        "\n",
        "#     env = gym.make(ambient)\n",
        "#     returns, _,_,_ = run_expected_sarsa_decay(env, episodios_de_busca, lr=lr, gamma=gamma, decay_type=decay_type,\n",
        "#                                     initial_E=eps, min_E=min_eps, decay_rate=decay_rate)\n",
        "\n",
        "#     return sum(returns[-100:]) / 100\n",
        "\n",
        "# def train_nstep_sarsa_decay(ambient, trial: optuna.Trial):\n",
        "#     decay_rate = trial.suggest_float('decay_rate', .0001, 0.01, log=True)\n",
        "#     Y = trial.suggest_float('Y', 0.0001,0.01)\n",
        "#     eps = trial.suggest_float('initial_E', 1.0, 1.0)\n",
        "#     min_eps = trial.suggest_float('min_E', 0.005, 0.2)\n",
        "#     gamma = trial.suggest_float('gamma', 0.90, 1.00)\n",
        "#     lr = trial.suggest_float('lr', 0.001, 1.0, log=True)\n",
        "#     decay_type = trial.suggest_categorical('decay_type', ['linear', 'exponential','none'])\n",
        "#     nsteps = trial.suggest_int('nsteps', 3, 3) # 1-16\n",
        "#     episodes = trial.suggest_float('episodes', 8000)\n",
        "\n",
        "#     env = gym.make(ambient)\n",
        "#     returns, _,_,_ = run_nstep_sarsa_decay(env, episodios_de_busca, n=nsteps, lr=lr, gamma=gamma, decay_type=decay_type,\n",
        "#                                  initial_E=eps, min_E=min_eps, decay_rate=decay_rate)\n",
        "\n",
        "#     return sum(returns[-100:]) / 100\n"
      ]
    },
    {
      "cell_type": "markdown",
      "metadata": {
        "id": "gCoZ48LCrZhY"
      },
      "source": [
        "#### Buscando para cada ambiente\n"
      ]
    },
    {
      "cell_type": "code",
      "execution_count": null,
      "metadata": {
        "collapsed": true,
        "id": "itM8LWO2rY-z"
      },
      "outputs": [],
      "source": [
        "# ambientes = [\"CliffWalking-v0\", \"Taxi-v3\", \"FrozenLake-v1\",\"RaceTrack-v0\"]\n",
        "\n",
        "\n",
        "# best_params = {}\n",
        "# trials = 1 # 50\n",
        "\n",
        "# for ambient in ambientes:\n",
        "#     print(f\"\\n🔹 Otimizando para ambiente: {ambient}\")\n",
        "\n",
        "#     best_params[ambient] = {}\n",
        "\n",
        "#     study_qlearning = optuna.create_study(direction='maximize')\n",
        "#     study_qlearning.optimize(partial(train_qlearning_decay, ambient), n_trials=trials)\n",
        "#     best_params[ambient][\"Q-Learning\"] = study_qlearning.best_params\n",
        "#     print(f\"Melhores parâmetros para Q-Learning em {ambient}: {study_qlearning.best_params}\")\n",
        "\n",
        "#     study_sarsa = optuna.create_study(direction='maximize')\n",
        "#     study_sarsa.optimize(partial(train_sarsa_decay, ambient), n_trials=trials)\n",
        "#     best_params[ambient][\"SARSA\"] = study_sarsa.best_params\n",
        "#     print(f\"Melhores parâmetros para SARSA em {ambient}: {study_sarsa.best_params}\")\n",
        "\n",
        "#     study_expected_sarsa = optuna.create_study(direction='maximize')\n",
        "#     study_expected_sarsa.optimize(partial(train_expected_sarsa_decay, ambient), n_trials=trials)\n",
        "#     best_params[ambient][\"Expected SARSA\"] = study_expected_sarsa.best_params\n",
        "#     print(f\"Melhores parâmetros para Expected SARSA em {ambient}: {study_expected_sarsa.best_params}\")\n",
        "\n",
        "#     study_nstep_sarsa = optuna.create_study(direction='maximize')\n",
        "#     study_nstep_sarsa.optimize(partial(train_nstep_sarsa_decay, ambient), n_trials=trials)\n",
        "#     best_params[ambient][\"n-step SARSA\"] = study_nstep_sarsa.best_params\n",
        "#     print(f\"Melhores parâmetros para n-step SARSA em {ambient}: {study_nstep_sarsa.best_params}\")\n",
        "\n",
        "# clear_output()\n",
        "# print(\"\\n Melhores hiperparâmetros para todos os ambientes e algoritmos:\")\n",
        "# for ambient, algos in best_params.items():\n",
        "#     print(f\"\\n🔹 Ambiente: {ambient}\")\n",
        "#     for algo, params in algos.items():\n",
        "#         print(f\"  🔸 {algo}: {params}\")"
      ]
    },
    {
      "cell_type": "markdown",
      "metadata": {
        "id": "yyq7TL0A74Tk"
      },
      "source": [
        "#### Funções de plot"
      ]
    },
    {
      "cell_type": "code",
      "execution_count": null,
      "metadata": {
        "id": "DaWnYl2L72zr"
      },
      "outputs": [],
      "source": [
        "def plot_results(title,rewards_list, labels):\n",
        "    plt.figure(figsize=(10, 5))\n",
        "    for rewards, label in zip(rewards_list, labels):\n",
        "        plt.plot(np.convolve(rewards, np.ones(10)/10, mode='valid'), label=label, linewidth=2)\n",
        "\n",
        "    plt.xlabel(\"Episódios\")\n",
        "    plt.ylabel(\"Recompensa média a cada 10 ep.\")\n",
        "    plt.legend()\n",
        "    plt.grid(True, linestyle='--', alpha=0.6)\n",
        "    plt.title(title)\n",
        "    plt.show()"
      ]
    },
    {
      "cell_type": "markdown",
      "metadata": {
        "id": "9vJp9xs5VjlU"
      },
      "source": [
        "##### Q-Learning"
      ]
    },
    {
      "cell_type": "code",
      "execution_count": null,
      "metadata": {
        "id": "4paEw8ubVjlU"
      },
      "outputs": [],
      "source": [
        "# ENV_NAME = \"CliffWalking-v0\"\n",
        "# EPISODES = 8000\n",
        "# LR = 0.01\n",
        "# GAMMA = 0.95\n",
        "# EPSILON_NORMAL = .005\n",
        "# EPSILON_START = 1.0\n",
        "# EPSILON_MIN = 0.005\n",
        "# DECAY_LINEAR = .0000000001\n",
        "# DECAY_EXP = .0001\n",
        "# Y_LINEAR=.1\n",
        "# Y_EXP = 0.000001\n",
        "# X_LINEAR=500\n",
        "# X_EXP =8000\n",
        "N_EPS_PER_REWARDS=200\n",
        "\n",
        "#######\n",
        "ENV_NAME, r_max = \"CliffWalking-v0\", 0\n",
        "EPISODES = 8_000\n",
        "LR = 0.2\n",
        "GAMMA = 0.95\n",
        "EPSILON_NORMAL = 0.1\n",
        "\n",
        "# Verificar essas var\n",
        "EPSILON_START = 1.0\n",
        "EPSILON_MIN = 0.005\n",
        "DECAY_LINEAR = 0.005\n",
        "DECAY_EXP = 0.005\n",
        "DECAY_ADAPTIVE = 0.005\n",
        "INCREASE_ADAPTIVE = 1.005\n",
        "#######\n",
        "# Y_LINEAR=.1\n",
        "# Y_EXP = 0.000001\n",
        "# X_LINEAR=500\n",
        "# X_EXP =8000\n",
        "# Y_ADAP = 0.000001\n",
        "# X_ADAP = 500\n",
        "#######\n",
        "\n",
        "env = gym.make(ENV_NAME, max_episode_steps=500)\n",
        "\n",
        "# Decaindo completamente no X = 1000 como no pré-definido\n",
        "# mas como possívelmente explorou pois passou mais tempo com maior epsilon\n",
        "# por isso com decaimento linear e exponencial se tornoi mais estável a longo prazo\n",
        "# vencendo o epsilon fixo nesse sentido\n",
        "\n",
        "rewards_linear, _, _, _ = run_qlearning_decay(env=env, episodes=EPISODES, lr=LR, gamma=GAMMA,initial_E=EPSILON_START, min_E=EPSILON_MIN, decay_type=\"linear\", decay_rate=DECAY_LINEAR, n_eps_per_rewards=N_EPS_PER_REWARDS, X=2000)\n",
        "rewards_exponential, _, _, _ = run_qlearning_decay(env=env, episodes=EPISODES, lr=LR, gamma=GAMMA,initial_E=EPSILON_START, min_E=EPSILON_MIN,decay_type=\"exponential\", decay_rate=DECAY_EXP,n_eps_per_rewards=N_EPS_PER_REWARDS, X=2000)\n",
        "rewards_adaptive, _, _, _ = run_qlearning_decay_com_adaptive(env=env, episodes=EPISODES, lr=LR, gamma=GAMMA,initial_E=EPSILON_START, min_E=EPSILON_MIN,decay_type=\"adaptive\", decay_rate=DECAY_ADAPTIVE, increase_rate=INCREASE_ADAPTIVE,n_eps_per_rewards=N_EPS_PER_REWARDS, X=2000)\n",
        "\n",
        "\n",
        "# # Executa Q-Learning SEM decaimento (epsilon fixo)\n",
        "rewards_no_decay, _, _, _ = run_qlearning_decay(\n",
        "    env=env, episodes=EPISODES, lr=LR, gamma=GAMMA,\n",
        "    initial_E=EPSILON_NORMAL, min_E=EPSILON_START,  # epsilon não decai (fixo)\n",
        "    decay_type=\"none\", decay_rate=0,n_eps_per_rewards=N_EPS_PER_REWARDS, X=0  # sem decaimento\n",
        ")\n",
        "clear_output()"
      ]
    },
    {
      "cell_type": "code",
      "execution_count": null,
      "metadata": {
        "colab": {
          "base_uri": "https://localhost:8080/",
          "height": 488
        },
        "id": "wrtDUGKpVjlU",
        "outputId": "fcd1019a-b775-444e-d03e-f5fd20473afd"
      },
      "outputs": [
        {
          "output_type": "display_data",
          "data": {
            "text/plain": [
              "<Figure size 1000x500 with 1 Axes>"
            ],
            "image/png": "[encoded data removed]"
          },
          "metadata": {}
        }
      ],
      "source": [
        "plot_results(\"Q-Learning (CliffWalking) - Fixo x Linear x Exponencial x Adaptativo\",[rewards_no_decay,rewards_linear,rewards_exponential,rewards_adaptive], [\"Fixo\",\"Linear\",\"Exponencial\", \"Adaptativo\"])\n",
        "# plot_results(\"Q-Learning (CliffWalking) - Fixo x Linear x Exponencial\",[rewards_no_decay,rewards_linear,rewards_exponential], [\"Fixo\",\"Linear\",\"Exponencial\"])\n",
        "#plot_results(\"Q-Learning (CliffWalking) - Fixo x Linear\",[rewards_no_decay,rewards_linear], [\"Fixo\",\"Linear\"]\n",
        "# plot_results(\"Q-Learning (CliffWalking) - Fixo\",[rewards_no_decay], [\"Fixo\"], 0)"
      ]
    },
    {
      "cell_type": "markdown",
      "metadata": {
        "id": "bztpHOtcVjlU"
      },
      "source": [
        "##### Sarsa"
      ]
    },
    {
      "cell_type": "code",
      "execution_count": null,
      "metadata": {
        "id": "eZQWrBawVjlV",
        "colab": {
          "base_uri": "https://localhost:8080/",
          "height": 564
        },
        "outputId": "a207b4cb-bb3a-40a8-a40c-c0768d2bead4"
      },
      "outputs": [
        {
          "output_type": "display_data",
          "data": {
            "text/plain": [
              "<Figure size 1000x600 with 1 Axes>"
            ],
            "image/png": "[encoded data removed]"
          },
          "metadata": {}
        }
      ],
      "source": [
        "import gym\n",
        "import numpy as np\n",
        "from IPython.display import clear_output\n",
        "import matplotlib.pyplot as plt\n",
        "\n",
        "# Hyperparameters\n",
        "ENV_NAME = \"CliffWalking-v0\"\n",
        "EPISODES = 8000\n",
        "LR = 0.01\n",
        "GAMMA = 0.95\n",
        "EPSILON_NORMAL = 0.005\n",
        "EPSILON_START = 1.0\n",
        "EPSILON_MIN = 0.005\n",
        "DECAY_LINEAR = 0.005\n",
        "DECAY_EXP = 0.005\n",
        "\n",
        "# Create the environment\n",
        "env = gym.make(ENV_NAME, max_episode_steps=500)\n",
        "\n",
        "# SARSA Algorithm with Epsilon Decay\n",
        "def run_sarsa_decay(env, episodes, lr, gamma, initial_E, min_E, decay_type, decay_rate):\n",
        "    n_actions = env.action_space.n\n",
        "    n_states = env.observation_space.n\n",
        "    Q = np.zeros((n_states, n_actions))  # Initialize Q-table\n",
        "    rewards = []  # Store rewards for each episode\n",
        "    epsilon = initial_E  # Initialize epsilon\n",
        "\n",
        "    for episode in range(episodes):\n",
        "        state = env.reset()\n",
        "        done = False\n",
        "        total_reward = 0\n",
        "\n",
        "        # Choose action using epsilon-greedy policy\n",
        "        if np.random.rand() < epsilon:\n",
        "            action = env.action_space.sample()  # Explore\n",
        "        else:\n",
        "            action = np.argmax(Q[state, :])  # Exploit\n",
        "\n",
        "        while not done:\n",
        "            # Take action and observe next state and reward\n",
        "            next_state, reward, done, _ = env.step(action)\n",
        "\n",
        "            # Choose next action using epsilon-greedy policy\n",
        "            if np.random.rand() < epsilon:\n",
        "                next_action = env.action_space.sample()  # Explore\n",
        "            else:\n",
        "                next_action = np.argmax(Q[next_state, :])  # Exploit\n",
        "\n",
        "            # SARSA Update Rule\n",
        "            Q[state, action] += lr * (reward + gamma * Q[next_state, next_action] - Q[state, action])\n",
        "\n",
        "            # Update state and action\n",
        "            state = next_state\n",
        "            action = next_action\n",
        "            total_reward += reward\n",
        "\n",
        "        # Decay epsilon\n",
        "        if decay_type == \"linear\":\n",
        "            epsilon = max(min_E, epsilon - decay_rate)\n",
        "        elif decay_type == \"exponential\":\n",
        "            epsilon = max(min_E, epsilon * (1 - decay_rate))\n",
        "        elif decay_type == \"none\":\n",
        "            epsilon = initial_E  # No decay\n",
        "\n",
        "        rewards.append(total_reward)\n",
        "\n",
        "    return rewards, Q, epsilon, decay_type\n",
        "\n",
        "# Run SARSA with different decay strategies\n",
        "rewards_linear, _, _, _ = run_sarsa_decay(\n",
        "    env=env, episodes=EPISODES, lr=LR, gamma=GAMMA,\n",
        "    initial_E=EPSILON_START, min_E=EPSILON_MIN,\n",
        "    decay_type=\"linear\", decay_rate=DECAY_LINEAR\n",
        ")\n",
        "\n",
        "rewards_exponential, _, _, _ = run_sarsa_decay(\n",
        "    env=env, episodes=EPISODES, lr=LR, gamma=GAMMA,\n",
        "    initial_E=EPSILON_START, min_E=EPSILON_MIN,\n",
        "    decay_type=\"exponential\", decay_rate=DECAY_EXP\n",
        ")\n",
        "\n",
        "rewards_no_decay, _, _, _ = run_sarsa_decay(\n",
        "    env=env, episodes=EPISODES, lr=LR, gamma=GAMMA,\n",
        "    initial_E=EPSILON_NORMAL, min_E=EPSILON_START,\n",
        "    decay_type=\"none\", decay_rate=0\n",
        ")\n",
        "\n",
        "# Clear output (for Jupyter notebooks)\n",
        "clear_output()\n",
        "\n",
        "# Plotting the results\n",
        "plt.figure(figsize=(10, 6))\n",
        "plt.plot(rewards_linear, label=\"Linear Decay\")\n",
        "plt.plot(rewards_exponential, label=\"Exponential Decay\")\n",
        "plt.plot(rewards_no_decay, label=\"No Decay (Fixed Epsilon)\")\n",
        "\n",
        "plt.xlabel(\"Episodes\")\n",
        "plt.ylabel(\"Total Reward\")\n",
        "plt.title(\"SARSA Performance with Different Epsilon Decay Strategies\")\n",
        "plt.legend()\n",
        "plt.grid()\n",
        "plt.show()"
      ]
    },
    {
      "cell_type": "code",
      "execution_count": null,
      "metadata": {
        "id": "IvW83NYTVjlV",
        "colab": {
          "base_uri": "https://localhost:8080/",
          "height": 488
        },
        "outputId": "8be28205-5b07-4574-8d73-11e3ec66708b"
      },
      "outputs": [
        {
          "output_type": "display_data",
          "data": {
            "text/plain": [
              "<Figure size 1000x500 with 1 Axes>"
            ],
            "image/png": "[encoded data removed]"
          },
          "metadata": {}
        }
      ],
      "source": [
        "# Plot the results\n",
        "plot_results(\n",
        "    title=\"SARSA (CliffWalking) - Fixo x Linear x Exponencial\",\n",
        "    rewards_list=[rewards_no_decay, rewards_linear, rewards_exponential],\n",
        "    labels=[\"Fixo\", \"Linear\", \"Exponencial\"]\n",
        ")"
      ]
    },
    {
      "cell_type": "markdown",
      "metadata": {
        "id": "Rcy6K2HqVjlV"
      },
      "source": [
        "##### Expected-SARSA"
      ]
    },
    {
      "cell_type": "code",
      "execution_count": null,
      "metadata": {
        "id": "hU_ndjGlVjlV",
        "colab": {
          "base_uri": "https://localhost:8080/",
          "height": 488
        },
        "outputId": "98eb1d6a-f706-4f64-9e07-4a0e2143d4c5"
      },
      "outputs": [
        {
          "output_type": "display_data",
          "data": {
            "text/plain": [
              "<Figure size 1000x500 with 1 Axes>"
            ],
            "image/png": "[encoded data removed]"
          },
          "metadata": {}
        }
      ],
      "source": [
        "import gym\n",
        "import numpy as np\n",
        "from IPython.display import clear_output\n",
        "import matplotlib.pyplot as plt\n",
        "\n",
        "# Hyperparameters\n",
        "ENV_NAME = \"CliffWalking-v0\"\n",
        "EPISODES = 8000\n",
        "LR = 0.01\n",
        "GAMMA = 0.95\n",
        "EPSILON_NORMAL = 0.005\n",
        "EPSILON_START = 1.0\n",
        "EPSILON_MIN = 0.005\n",
        "DECAY_LINEAR = 0.005\n",
        "DECAY_EXP = 0.005\n",
        "\n",
        "# Create the environment\n",
        "env = gym.make(ENV_NAME, max_episode_steps=500)\n",
        "\n",
        "# Expected SARSA Algorithm with Epsilon Decay\n",
        "def run_expected_sarsa_decay(env, episodes, lr, gamma, initial_E, min_E, decay_type, decay_rate):\n",
        "    n_actions = env.action_space.n\n",
        "    n_states = env.observation_space.n\n",
        "    Q = np.zeros((n_states, n_actions))  # Initialize Q-table\n",
        "    rewards = []  # Store rewards for each episode\n",
        "    epsilon = initial_E  # Initialize epsilon\n",
        "\n",
        "    for episode in range(episodes):\n",
        "        state = env.reset()\n",
        "        done = False\n",
        "        total_reward = 0\n",
        "\n",
        "        while not done:\n",
        "            # Choose action using epsilon-greedy policy\n",
        "            if np.random.rand() < epsilon:\n",
        "                action = env.action_space.sample()  # Explore\n",
        "            else:\n",
        "                action = np.argmax(Q[state, :])  # Exploit\n",
        "\n",
        "            # Take action and observe next state and reward\n",
        "            next_state, reward, done, _ = env.step(action)\n",
        "\n",
        "            # Calculate the expected value for the next state\n",
        "            expected_value = 0\n",
        "            if np.random.rand() < epsilon:\n",
        "                # If exploring, all actions have equal probability\n",
        "                action_probs = np.ones(n_actions) / n_actions\n",
        "            else:\n",
        "                # If exploiting, the greedy action has probability 1 - epsilon + (epsilon / n_actions)\n",
        "                action_probs = np.zeros(n_actions)\n",
        "                action_probs[np.argmax(Q[next_state, :])] = 1 - epsilon + (epsilon / n_actions)\n",
        "                action_probs += (epsilon / n_actions)\n",
        "\n",
        "            # Calculate the expected Q-value for the next state\n",
        "            expected_value = np.sum(action_probs * Q[next_state, :])\n",
        "\n",
        "            # Expected SARSA Update Rule\n",
        "            Q[state, action] += lr * (reward + gamma * expected_value - Q[state, action])\n",
        "\n",
        "            # Update state\n",
        "            state = next_state\n",
        "            total_reward += reward\n",
        "\n",
        "        # Decay epsilon\n",
        "        if decay_type == \"linear\":\n",
        "            epsilon = max(min_E, epsilon - decay_rate)\n",
        "        elif decay_type == \"exponential\":\n",
        "            epsilon = max(min_E, epsilon * (1 - decay_rate))\n",
        "        elif decay_type == \"none\":\n",
        "            epsilon = initial_E  # No decay\n",
        "\n",
        "        rewards.append(total_reward)\n",
        "\n",
        "    return rewards, Q, epsilon, decay_type\n",
        "\n",
        "# Run Expected SARSA with different decay strategies\n",
        "rewards_linear, _, _, _ = run_expected_sarsa_decay(\n",
        "    env=env, episodes=EPISODES, lr=LR, gamma=GAMMA,\n",
        "    initial_E=EPSILON_START, min_E=EPSILON_MIN,\n",
        "    decay_type=\"linear\", decay_rate=DECAY_LINEAR\n",
        ")\n",
        "\n",
        "rewards_exponential, _, _, _ = run_expected_sarsa_decay(\n",
        "    env=env, episodes=EPISODES, lr=LR, gamma=GAMMA,\n",
        "    initial_E=EPSILON_START, min_E=EPSILON_MIN,\n",
        "    decay_type=\"exponential\", decay_rate=DECAY_EXP\n",
        ")\n",
        "\n",
        "rewards_no_decay, _, _, _ = run_expected_sarsa_decay(\n",
        "    env=env, episodes=EPISODES, lr=LR, gamma=GAMMA,\n",
        "    initial_E=EPSILON_NORMAL, min_E=EPSILON_START,\n",
        "    decay_type=\"none\", decay_rate=0\n",
        ")\n",
        "\n",
        "# Clear output (for Jupyter notebooks)\n",
        "clear_output()\n",
        "\n",
        "# Plot the results\n",
        "plot_results(\n",
        "    title=\"Expected SARSA (CliffWalking) - Fixo x Linear x Exponencial\",\n",
        "    rewards_list=[rewards_no_decay, rewards_linear, rewards_exponential],\n",
        "    labels=[\"Fixo\", \"Linear\", \"Exponencial\"]\n",
        ")"
      ]
    },
    {
      "cell_type": "code",
      "execution_count": null,
      "metadata": {
        "id": "sR-S09KoVjlV"
      },
      "outputs": [],
      "source": [
        "plot_results(\n",
        "    title=\"Expected SARSA (CliffWalking) - Fixo x Linear x Exponencial\",\n",
        "    rewards_list=[rewards_no_decay, rewards_linear, rewards_exponential],\n",
        "    labels=[\"Fixo\", \"Linear\", \"Exponencial\"]\n",
        ")"
      ]
    },
    {
      "cell_type": "markdown",
      "metadata": {
        "id": "WtmZjOo-VjlW"
      },
      "source": [
        "##### SARSA de n-passos"
      ]
    },
    {
      "cell_type": "code",
      "execution_count": null,
      "metadata": {
        "id": "953uZ1oRVjlW"
      },
      "outputs": [],
      "source": [
        "import gym\n",
        "import numpy as np\n",
        "from IPython.display import clear_output\n",
        "import matplotlib.pyplot as plt\n",
        "\n",
        "# Hyperparameters\n",
        "ENV_NAME = \"CliffWalking-v0\"\n",
        "EPISODES = 8000\n",
        "LR = 0.01\n",
        "GAMMA = 0.95\n",
        "EPSILON_NORMAL = 0.005\n",
        "EPSILON_START = 1.0\n",
        "EPSILON_MIN = 0.005\n",
        "DECAY_LINEAR = 0.005\n",
        "DECAY_EXP = 0.005\n",
        "N_STEPS = 3  # Number of steps for n-step SARSA\n",
        "\n",
        "# Create the environment\n",
        "env = gym.make(ENV_NAME, max_episode_steps=500)\n",
        "\n",
        "# n-Step SARSA Algorithm with Epsilon Decay\n",
        "def run_nstep_sarsa_decay(env, episodes, lr, gamma, initial_E, min_E, decay_type, decay_rate, n_steps=N_STEPS):\n",
        "    n_actions = env.action_space.n\n",
        "    n_states = env.observation_space.n\n",
        "    Q = np.zeros((n_states, n_actions))  # Initialize Q-table\n",
        "    rewards = []  # Store rewards for each episode\n",
        "    epsilon = initial_E  # Initialize epsilon\n",
        "\n",
        "    for episode in range(episodes):\n",
        "        state = env.reset()\n",
        "        done = False\n",
        "        total_reward = 0\n",
        "\n",
        "        # Initialize buffers for n-step rewards, states, and actions\n",
        "        states = [state]\n",
        "        actions = []\n",
        "        rewards_buffer = []\n",
        "\n",
        "        # Choose initial action using epsilon-greedy policy\n",
        "        if np.random.rand() < epsilon:\n",
        "            action = env.action_space.sample()  # Explore\n",
        "        else:\n",
        "            action = np.argmax(Q[state, :])  # Exploit\n",
        "        actions.append(action)\n",
        "\n",
        "        t = 0\n",
        "        T = float('inf')  # Terminal time step\n",
        "\n",
        "        while True:\n",
        "            if t < T:\n",
        "                # Take action and observe next state and reward\n",
        "                next_state, reward, done, _ = env.step(actions[t])\n",
        "                total_reward += reward\n",
        "\n",
        "                # Store state and reward\n",
        "                states.append(next_state)\n",
        "                rewards_buffer.append(reward)\n",
        "\n",
        "                if done:\n",
        "                    T = t + 1  # Terminal state reached\n",
        "                else:\n",
        "                    # Choose next action using epsilon-greedy policy\n",
        "                    if np.random.rand() < epsilon:\n",
        "                        next_action = env.action_space.sample()  # Explore\n",
        "                    else:\n",
        "                        next_action = np.argmax(Q[next_state, :])  # Exploit\n",
        "                    actions.append(next_action)\n",
        "\n",
        "            # Update time step\n",
        "            tau = t - n_steps + 1\n",
        "            if tau >= 0:\n",
        "                # Calculate the n-step return\n",
        "                G = 0\n",
        "                for i in range(tau + 1, min(tau + n_steps, T) + 1):\n",
        "                    G += (gamma ** (i - tau - 1)) * rewards_buffer[i - 1]\n",
        "\n",
        "                if tau + n_steps < T:\n",
        "                    G += (gamma ** n_steps) * Q[states[tau + n_steps], actions[tau + n_steps]]\n",
        "\n",
        "                # Update Q-value\n",
        "                Q[states[tau], actions[tau]] += lr * (G - Q[states[tau], actions[tau]])\n",
        "\n",
        "            if tau == T - 1:\n",
        "                break\n",
        "\n",
        "            t += 1\n",
        "\n",
        "        # Decay epsilon\n",
        "        if decay_type == \"linear\":\n",
        "            epsilon = max(min_E, epsilon - decay_rate)\n",
        "        elif decay_type == \"exponential\":\n",
        "            epsilon = max(min_E, epsilon * (1 - decay_rate))\n",
        "        elif decay_type == \"none\":\n",
        "            epsilon = initial_E  # No decay\n",
        "\n",
        "        rewards.append(total_reward)\n",
        "\n",
        "    return rewards, Q, epsilon, decay_type\n",
        "\n",
        "# Run n-Step SARSA with different decay strategies\n",
        "rewards_linear, _, _, _ = run_nstep_sarsa_decay(\n",
        "    env=env, episodes=EPISODES, lr=LR, gamma=GAMMA,\n",
        "    initial_E=EPSILON_START, min_E=EPSILON_MIN,\n",
        "    decay_type=\"linear\", decay_rate=DECAY_LINEAR\n",
        ")\n",
        "\n",
        "rewards_exponential, _, _, _ = run_nstep_sarsa_decay(\n",
        "    env=env, episodes=EPISODES, lr=LR, gamma=GAMMA,\n",
        "    initial_E=EPSILON_START, min_E=EPSILON_MIN,\n",
        "    decay_type=\"exponential\", decay_rate=DECAY_EXP\n",
        ")\n",
        "\n",
        "rewards_no_decay, _, _, _ = run_nstep_sarsa_decay(\n",
        "    env=env, episodes=EPISODES, lr=LR, gamma=GAMMA,\n",
        "    initial_E=EPSILON_NORMAL, min_E=EPSILON_START,\n",
        "    decay_type=\"none\", decay_rate=0\n",
        ")\n",
        "\n",
        "# Clear output (for Jupyter notebooks)\n",
        "clear_output()\n",
        "\n",
        "# Plot the results\n",
        "plot_results(\n",
        "    title=\"n-Step SARSA (CliffWalking) - Fixo x Linear x Exponencial\",\n",
        "    rewards_list=[rewards_no_decay, rewards_linear, rewards_exponential],\n",
        "    labels=[\"Fixo\", \"Linear\", \"Exponencial\"]\n",
        ")"
      ]
    },
    {
      "cell_type": "code",
      "execution_count": null,
      "metadata": {
        "id": "-NjhdzzMVjlW"
      },
      "outputs": [],
      "source": [
        "plot_results(\n",
        "    title=\"n-Step SARSA (CliffWalking) - Fixo x Linear x Exponencial\",\n",
        "    rewards_list=[rewards_no_decay, rewards_linear, rewards_exponential],\n",
        "    labels=[\"Fixo\", \"Linear\", \"Exponencial\"]\n",
        ")"
      ]
    },
    {
      "cell_type": "markdown",
      "metadata": {
        "id": "X8FC0I5UleK4"
      },
      "source": [
        "### Cliffwalking - Tentando vencer o Epsilon Fixo"
      ]
    },
    {
      "cell_type": "markdown",
      "metadata": {
        "id": "UzYmFDt7leK6"
      },
      "source": [
        "##### Q-Learning - decaimento em 2000 episodios"
      ]
    },
    {
      "cell_type": "code",
      "execution_count": null,
      "metadata": {
        "id": "R52eJi1rleK7"
      },
      "outputs": [],
      "source": [
        "#Quanto maior o numero de episodios explorados (epsilon muito mais alto do que o epsilon fixo), ganha-se menos recompensa a curto prazo\n",
        "# mas a convergencia será feita quando atingir o episódio X com epsilon mínimo\n",
        "\n",
        "# ENV_NAME = \"CliffWalking-v0\"\n",
        "# EPISODES = 8000\n",
        "# LR = 0.01\n",
        "# GAMMA = 0.95\n",
        "# EPSILON_NORMAL = .005\n",
        "# EPSILON_START = 1.0\n",
        "# EPSILON_MIN = 0.005\n",
        "# DECAY_LINEAR = .0000000001\n",
        "# DECAY_EXP = .0001\n",
        "# Y_LINEAR=.1\n",
        "# Y_EXP = 0.000001\n",
        "# X_LINEAR=500\n",
        "# X_EXP =8000\n",
        "N_EPS_PER_REWARDS=200\n",
        "\n",
        "#######\n",
        "ENV_NAME, r_max = \"CliffWalking-v0\", 0\n",
        "EPISODES = 8_000\n",
        "LR = 0.2\n",
        "GAMMA = 0.95\n",
        "EPSILON_NORMAL = 0.1\n",
        "\n",
        "# Verificar essas var\n",
        "EPSILON_START = 1.0\n",
        "EPSILON_MIN = 0.005\n",
        "DECAY_LINEAR = 0.005\n",
        "DECAY_EXP = 0.005\n",
        "DECAY_ADAPTIVE = 0.005\n",
        "INCREASE_ADAPTIVE = 1.005\n",
        "#######\n",
        "# Y_LINEAR=.1\n",
        "# Y_EXP = 0.000001\n",
        "# X_LINEAR=500\n",
        "# X_EXP =8000\n",
        "# Y_ADAP = 0.000001\n",
        "# X_ADAP = 500\n",
        "#######\n",
        "\n",
        "env = gym.make(ENV_NAME, max_episode_steps=500)\n",
        "\n",
        "# Decaindo completamente no X = 1000 como no pré-definido\n",
        "# mas como possívelmente explorou mais , pois passou mais tempo com maior epsilon\n",
        "# por isso com decaimento linear e exponencial se tornoi mais estável a longo prazo\n",
        "# vencendo o epsilon fixo nesse sentido\n",
        "\n",
        "rewards_linear, _, _, _ = run_qlearning_decay(env=env, episodes=EPISODES, lr=LR, gamma=GAMMA,initial_E=EPSILON_START, min_E=EPSILON_MIN, decay_type=\"linear\", decay_rate=DECAY_LINEAR, n_eps_per_rewards=N_EPS_PER_REWARDS, X=2000)\n",
        "rewards_exponential, _, _, _ = run_qlearning_decay(env=env, episodes=EPISODES, lr=LR, gamma=GAMMA,initial_E=EPSILON_START, min_E=EPSILON_MIN,decay_type=\"exponential\", decay_rate=DECAY_EXP,n_eps_per_rewards=N_EPS_PER_REWARDS, X=2000)\n",
        "rewards_adaptive, _, _, _ = run_qlearning_decay_com_adaptive(env=env, episodes=EPISODES, lr=LR, gamma=GAMMA,initial_E=EPSILON_START, min_E=EPSILON_MIN,decay_type=\"adaptive\", decay_rate=DECAY_ADAPTIVE, increase_rate=INCREASE_ADAPTIVE,n_eps_per_rewards=N_EPS_PER_REWARDS, X=2000)\n",
        "\n",
        "\n",
        "# Q-Learning SEM decaimento (epsilon fixo)\n",
        "rewards_no_decay, _, _, _ = run_qlearning_decay(\n",
        "    env=env, episodes=EPISODES, lr=LR, gamma=GAMMA,\n",
        "    initial_E=EPSILON_NORMAL, min_E=EPSILON_START,  # epsilon não decai (fixo)\n",
        "    decay_type=\"none\", decay_rate=0,n_eps_per_rewards=N_EPS_PER_REWARDS, X=0  # sem decaimento\n",
        ")\n",
        "clear_output()"
      ]
    },
    {
      "cell_type": "code",
      "execution_count": null,
      "metadata": {
        "colab": {
          "base_uri": "https://localhost:8080/",
          "height": 488
        },
        "outputId": "290a3391-8a7a-4308-9d22-e7d2c4c542c0",
        "id": "AstCtQaeleK8"
      },
      "outputs": [
        {
          "output_type": "display_data",
          "data": {
            "text/plain": [
              "<Figure size 1000x500 with 1 Axes>"
            ],
            "image/png": "[encoded data removed]"
          },
          "metadata": {}
        }
      ],
      "source": [
        "plot_results(\"Q-Learning (CliffWalking) - Fixo x Linear x Exponencial x Adaptativo\",[rewards_no_decay,rewards_linear,rewards_exponential,rewards_adaptive], [\"Fixo\",\"Linear\",\"Exponencial\", \"Adaptativo\"])\n",
        "# plot_results(\"Q-Learning (CliffWalking) - Fixo x Linear x Exponencial\",[rewards_no_decay,rewards_linear,rewards_exponential], [\"Fixo\",\"Linear\",\"Exponencial\"])\n",
        "#plot_results(\"Q-Learning (CliffWalking) - Fixo x Linear\",[rewards_no_decay,rewards_linear], [\"Fixo\",\"Linear\"]\n",
        "# plot_results(\"Q-Learning (CliffWalking) - Fixo\",[rewards_no_decay], [\"Fixo\"], 0)"
      ]
    },
    {
      "cell_type": "markdown",
      "metadata": {
        "id": "NioHnGCJbWeU"
      },
      "source": [
        "##### Q-Learning - decaimento em 6000 episodios"
      ]
    },
    {
      "cell_type": "code",
      "execution_count": null,
      "metadata": {
        "id": "AGC3mzYRbWeU"
      },
      "outputs": [],
      "source": [
        "# Com a demora para o decaimento, fica visível a demora para o algoritmo demonstrar aptidão em receber melhores recompensas por conta da alta exploração\n",
        "# o decaimento exponencial foi menos afetado\n",
        "\n",
        "\n",
        "# ENV_NAME = \"CliffWalking-v0\"\n",
        "# EPISODES = 8000\n",
        "# LR = 0.01\n",
        "# GAMMA = 0.95\n",
        "# EPSILON_NORMAL = .005\n",
        "# EPSILON_START = 1.0\n",
        "# EPSILON_MIN = 0.005\n",
        "# DECAY_LINEAR = .0000000001\n",
        "# DECAY_EXP = .0001\n",
        "# Y_LINEAR=.1\n",
        "# Y_EXP = 0.000001\n",
        "# X_LINEAR=500\n",
        "# X_EXP =8000\n",
        "N_EPS_PER_REWARDS=200\n",
        "\n",
        "#######\n",
        "ENV_NAME, r_max = \"CliffWalking-v0\", 0\n",
        "EPISODES = 8_000\n",
        "LR = 0.2\n",
        "GAMMA = 0.95\n",
        "EPSILON_NORMAL = 0.1\n",
        "\n",
        "# Verificar essas var\n",
        "EPSILON_START = 1.0\n",
        "EPSILON_MIN = 0.005\n",
        "DECAY_LINEAR = 0.005\n",
        "DECAY_EXP = 0.005\n",
        "DECAY_ADAPTIVE = 0.005\n",
        "INCREASE_ADAPTIVE = 1.005\n",
        "#######\n",
        "# Y_LINEAR=.1\n",
        "# Y_EXP = 0.000001\n",
        "# X_LINEAR=500\n",
        "# X_EXP =8000\n",
        "# Y_ADAP = 0.000001\n",
        "# X_ADAP = 500\n",
        "#######\n",
        "\n",
        "env = gym.make(ENV_NAME, max_episode_steps=500)\n",
        "\n",
        "# Decaindo completamente no X = 1000 como no pré-definido\n",
        "# mas como possívelmente explorou mais , pois passou mais tempo com maior epsilon\n",
        "# por isso com decaimento linear e exponencial se tornoi mais estável a longo prazo\n",
        "# vencendo o epsilon fixo nesse sentido\n",
        "\n",
        "rewards_linear, _, _, _ = run_qlearning_decay(env=env, episodes=EPISODES, lr=LR, gamma=GAMMA,initial_E=EPSILON_START, min_E=EPSILON_MIN, decay_type=\"linear\", decay_rate=DECAY_LINEAR, n_eps_per_rewards=N_EPS_PER_REWARDS, X=6000)\n",
        "rewards_exponential, _, _, _ = run_qlearning_decay(env=env, episodes=EPISODES, lr=LR, gamma=GAMMA,initial_E=EPSILON_START, min_E=EPSILON_MIN,decay_type=\"exponential\", decay_rate=DECAY_EXP,n_eps_per_rewards=N_EPS_PER_REWARDS, X=6000)\n",
        "rewards_adaptive, _, _, _ = run_qlearning_decay_com_adaptive(env=env, episodes=EPISODES, lr=LR, gamma=GAMMA,initial_E=EPSILON_START, min_E=EPSILON_MIN,decay_type=\"adaptive\", decay_rate=DECAY_ADAPTIVE, increase_rate=INCREASE_ADAPTIVE,n_eps_per_rewards=N_EPS_PER_REWARDS, X=6000)\n",
        "\n",
        "\n",
        "# Q-Learning SEM decaimento (epsilon fixo)\n",
        "rewards_no_decay, _, _, _ = run_qlearning_decay(\n",
        "    env=env, episodes=EPISODES, lr=LR, gamma=GAMMA,\n",
        "    initial_E=EPSILON_NORMAL, min_E=EPSILON_START,  # epsilon não decai (fixo)\n",
        "    decay_type=\"none\", decay_rate=0,n_eps_per_rewards=N_EPS_PER_REWARDS, X=0  # sem decaimento\n",
        ")\n",
        "clear_output()"
      ]
    },
    {
      "cell_type": "code",
      "execution_count": null,
      "metadata": {
        "colab": {
          "base_uri": "https://localhost:8080/",
          "height": 488
        },
        "outputId": "592d18e0-f1ad-4b76-d2ab-c8cf7355dea8",
        "id": "D1jTwQX8bWeV"
      },
      "outputs": [
        {
          "output_type": "display_data",
          "data": {
            "text/plain": [
              "<Figure size 1000x500 with 1 Axes>"
            ],
            "image/png": "[encoded data removed]"
          },
          "metadata": {}
        }
      ],
      "source": [
        "plot_results(\"Q-Learning (CliffWalking) - Fixo x Linear x Exponencial x Adaptativo\",[rewards_no_decay,rewards_linear,rewards_exponential,rewards_adaptive], [\"Fixo\",\"Linear\",\"Exponencial\", \"Adaptativo\"])\n",
        "# plot_results(\"Q-Learning (CliffWalking) - Fixo x Linear x Exponencial\",[rewards_no_decay,rewards_linear,rewards_exponential], [\"Fixo\",\"Linear\",\"Exponencial\"])\n",
        "#plot_results(\"Q-Learning (CliffWalking) - Fixo x Linear\",[rewards_no_decay,rewards_linear], [\"Fixo\",\"Linear\"]\n",
        "# plot_results(\"Q-Learning (CliffWalking) - Fixo\",[rewards_no_decay], [\"Fixo\"], 0)"
      ]
    },
    {
      "cell_type": "markdown",
      "metadata": {
        "id": "idbZmq4MewVq"
      },
      "source": [
        "##### Q-Learning - decaimento em 6000 episodios"
      ]
    },
    {
      "cell_type": "code",
      "execution_count": null,
      "metadata": {
        "id": "_IR3gma8ewVs"
      },
      "outputs": [],
      "source": [
        "# decaindo no episodio 500 os resultados ficaram mais proximos\n",
        "\n",
        "# ENV_NAME = \"CliffWalking-v0\"\n",
        "# EPISODES = 8000\n",
        "# LR = 0.01\n",
        "# GAMMA = 0.95\n",
        "# EPSILON_NORMAL = .005\n",
        "# EPSILON_START = 1.0\n",
        "# EPSILON_MIN = 0.005\n",
        "# DECAY_LINEAR = .0000000001\n",
        "# DECAY_EXP = .0001\n",
        "# Y_LINEAR=.1\n",
        "# Y_EXP = 0.000001\n",
        "# X_LINEAR=500\n",
        "# X_EXP =8000\n",
        "N_EPS_PER_REWARDS=200\n",
        "\n",
        "#######\n",
        "ENV_NAME, r_max = \"CliffWalking-v0\", 0\n",
        "EPISODES = 8_000\n",
        "LR = 0.2\n",
        "GAMMA = 0.95\n",
        "EPSILON_NORMAL = 0.1\n",
        "\n",
        "# Verificar essas var\n",
        "EPSILON_START = 1.0\n",
        "EPSILON_MIN = 0.005\n",
        "DECAY_LINEAR = 0.005\n",
        "DECAY_EXP = 0.005\n",
        "DECAY_ADAPTIVE = 0.005\n",
        "INCREASE_ADAPTIVE = 1.005\n",
        "#######\n",
        "# Y_LINEAR=.1\n",
        "# Y_EXP = 0.000001\n",
        "# X_LINEAR=500\n",
        "# X_EXP =8000\n",
        "# Y_ADAP = 0.000001\n",
        "# X_ADAP = 500\n",
        "#######\n",
        "\n",
        "env = gym.make(ENV_NAME, max_episode_steps=500)\n",
        "\n",
        "# Decaindo completamente no X = 1000 como no pré-definido\n",
        "# mas como possívelmente explorou mais , pois passou mais tempo com maior epsilon\n",
        "# por isso com decaimento linear e exponencial se tornoi mais estável a longo prazo\n",
        "# vencendo o epsilon fixo nesse sentido\n",
        "\n",
        "rewards_linear, _, _, _ = run_qlearning_decay(env=env, episodes=EPISODES, lr=LR, gamma=GAMMA,initial_E=EPSILON_START, min_E=EPSILON_MIN, decay_type=\"linear\", decay_rate=DECAY_LINEAR, n_eps_per_rewards=N_EPS_PER_REWARDS, X=500)\n",
        "rewards_exponential, _, _, _ = run_qlearning_decay(env=env, episodes=EPISODES, lr=LR, gamma=GAMMA,initial_E=EPSILON_START, min_E=EPSILON_MIN,decay_type=\"exponential\", decay_rate=DECAY_EXP,n_eps_per_rewards=N_EPS_PER_REWARDS, X=500)\n",
        "rewards_adaptive, _, _, _ = run_qlearning_decay_com_adaptive(env=env, episodes=EPISODES, lr=LR, gamma=GAMMA,initial_E=EPSILON_START, min_E=EPSILON_MIN,decay_type=\"adaptive\", decay_rate=DECAY_ADAPTIVE, increase_rate=INCREASE_ADAPTIVE,n_eps_per_rewards=N_EPS_PER_REWARDS, X=500)\n",
        "\n",
        "\n",
        "# Q-Learning SEM decaimento (epsilon fixo)\n",
        "rewards_no_decay, _, _, _ = run_qlearning_decay(\n",
        "    env=env, episodes=EPISODES, lr=LR, gamma=GAMMA,\n",
        "    initial_E=EPSILON_NORMAL, min_E=EPSILON_START,  # epsilon não decai (fixo)\n",
        "    decay_type=\"none\", decay_rate=0,n_eps_per_rewards=N_EPS_PER_REWARDS, X=0  # sem decaimento\n",
        ")\n",
        "clear_output()"
      ]
    },
    {
      "cell_type": "code",
      "execution_count": null,
      "metadata": {
        "colab": {
          "base_uri": "https://localhost:8080/",
          "height": 488
        },
        "outputId": "1bc9e557-6fd2-4011-dfac-3da263779187",
        "id": "AJSGuOTnewVt"
      },
      "outputs": [
        {
          "output_type": "display_data",
          "data": {
            "text/plain": [
              "<Figure size 1000x500 with 1 Axes>"
            ],
            "image/png": "[encoded data removed]"
          },
          "metadata": {}
        }
      ],
      "source": [
        "plot_results(\"Q-Learning (CliffWalking) - Fixo x Linear x Exponencial x Adaptativo\",[rewards_no_decay,rewards_linear,rewards_exponential,rewards_adaptive], [\"Fixo\",\"Linear\",\"Exponencial\", \"Adaptativo\"])\n",
        "# plot_results(\"Q-Learning (CliffWalking) - Fixo x Linear x Exponencial\",[rewards_no_decay,rewards_linear,rewards_exponential], [\"Fixo\",\"Linear\",\"Exponencial\"])\n",
        "#plot_results(\"Q-Learning (CliffWalking) - Fixo x Linear\",[rewards_no_decay,rewards_linear], [\"Fixo\",\"Linear\"]\n",
        "# plot_results(\"Q-Learning (CliffWalking) - Fixo\",[rewards_no_decay], [\"Fixo\"], 0)"
      ]
    },
    {
      "cell_type": "markdown",
      "metadata": {
        "id": "lCvUi6hHleLA"
      },
      "source": [
        "##### Sarsa"
      ]
    },
    {
      "cell_type": "code",
      "execution_count": null,
      "metadata": {
        "colab": {
          "base_uri": "https://localhost:8080/"
        },
        "outputId": "11c50691-2d01-4bf4-94cd-c6c1dc35fd4b",
        "id": "ezVTrta1leLB"
      },
      "outputs": [
        {
          "output_type": "stream",
          "name": "stdout",
          "text": [
            "Episode 100: Avg Reward (last 100): -3756.950, Epsilon: 0.9015\n",
            "Episode 200: Avg Reward (last 100): -1918.450, Epsilon: 0.8020\n",
            "Episode 300: Avg Reward (last 100): -1260.200, Epsilon: 0.7025\n",
            "Episode 400: Avg Reward (last 100): -997.060, Epsilon: 0.6030\n",
            "Episode 500: Avg Reward (last 100): -748.160, Epsilon: 0.5035\n",
            "Episode 600: Avg Reward (last 100): -593.060, Epsilon: 0.4040\n",
            "Episode 700: Avg Reward (last 100): -559.400, Epsilon: 0.3045\n",
            "Episode 800: Avg Reward (last 100): -523.760, Epsilon: 0.2050\n",
            "Episode 900: Avg Reward (last 100): -510.890, Epsilon: 0.1055\n",
            "Episode 1000: Avg Reward (last 100): -505.940, Epsilon: 0.0060\n",
            "Episode 1100: Avg Reward (last 100): -500.000, Epsilon: 0.0050\n",
            "Episode 1200: Avg Reward (last 100): -501.980, Epsilon: 0.0050\n",
            "Episode 1300: Avg Reward (last 100): -500.000, Epsilon: 0.0050\n",
            "Episode 1400: Avg Reward (last 100): -500.000, Epsilon: 0.0050\n",
            "Episode 1500: Avg Reward (last 100): -500.000, Epsilon: 0.0050\n",
            "Episode 1600: Avg Reward (last 100): -500.990, Epsilon: 0.0050\n",
            "Episode 1700: Avg Reward (last 100): -500.000, Epsilon: 0.0050\n",
            "Episode 1800: Avg Reward (last 100): -500.990, Epsilon: 0.0050\n",
            "Episode 1900: Avg Reward (last 100): -500.990, Epsilon: 0.0050\n",
            "Episode 2000: Avg Reward (last 100): -500.000, Epsilon: 0.0050\n",
            "Episode 2100: Avg Reward (last 100): -500.000, Epsilon: 0.0050\n",
            "Episode 2200: Avg Reward (last 100): -501.980, Epsilon: 0.0050\n",
            "Episode 2300: Avg Reward (last 100): -500.000, Epsilon: 0.0050\n",
            "Episode 2400: Avg Reward (last 100): -500.000, Epsilon: 0.0050\n",
            "Episode 2500: Avg Reward (last 100): -500.000, Epsilon: 0.0050\n",
            "Episode 2600: Avg Reward (last 100): -500.000, Epsilon: 0.0050\n",
            "Episode 2700: Avg Reward (last 100): -501.980, Epsilon: 0.0050\n",
            "Episode 2800: Avg Reward (last 100): -500.990, Epsilon: 0.0050\n",
            "Episode 2900: Avg Reward (last 100): -500.990, Epsilon: 0.0050\n",
            "Episode 3000: Avg Reward (last 100): -500.000, Epsilon: 0.0050\n",
            "Episode 3100: Avg Reward (last 100): -500.000, Epsilon: 0.0050\n",
            "Episode 3200: Avg Reward (last 100): -502.970, Epsilon: 0.0050\n",
            "Episode 3300: Avg Reward (last 100): -500.990, Epsilon: 0.0050\n",
            "Episode 3400: Avg Reward (last 100): -500.990, Epsilon: 0.0050\n",
            "Episode 3500: Avg Reward (last 100): -500.000, Epsilon: 0.0050\n",
            "Episode 3600: Avg Reward (last 100): -500.000, Epsilon: 0.0050\n",
            "Episode 3700: Avg Reward (last 100): -500.990, Epsilon: 0.0050\n",
            "Episode 3800: Avg Reward (last 100): -500.990, Epsilon: 0.0050\n",
            "Episode 3900: Avg Reward (last 100): -500.000, Epsilon: 0.0050\n",
            "Episode 4000: Avg Reward (last 100): -500.000, Epsilon: 0.0050\n",
            "Episode 4100: Avg Reward (last 100): -500.990, Epsilon: 0.0050\n",
            "Episode 4200: Avg Reward (last 100): -500.000, Epsilon: 0.0050\n",
            "Episode 4300: Avg Reward (last 100): -501.980, Epsilon: 0.0050\n",
            "Episode 4400: Avg Reward (last 100): -500.000, Epsilon: 0.0050\n",
            "Episode 4500: Avg Reward (last 100): -500.000, Epsilon: 0.0050\n",
            "Episode 4600: Avg Reward (last 100): -500.000, Epsilon: 0.0050\n",
            "Episode 4700: Avg Reward (last 100): -501.980, Epsilon: 0.0050\n",
            "Episode 4800: Avg Reward (last 100): -500.990, Epsilon: 0.0050\n",
            "Episode 4900: Avg Reward (last 100): -500.000, Epsilon: 0.0050\n",
            "Episode 5000: Avg Reward (last 100): -500.000, Epsilon: 0.0050\n",
            "Episode 5100: Avg Reward (last 100): -500.990, Epsilon: 0.0050\n",
            "Episode 5200: Avg Reward (last 100): -500.990, Epsilon: 0.0050\n",
            "Episode 5300: Avg Reward (last 100): -500.000, Epsilon: 0.0050\n",
            "Episode 5400: Avg Reward (last 100): -500.000, Epsilon: 0.0050\n",
            "Episode 5500: Avg Reward (last 100): -500.990, Epsilon: 0.0050\n",
            "Episode 5600: Avg Reward (last 100): -502.970, Epsilon: 0.0050\n",
            "Episode 5700: Avg Reward (last 100): -500.990, Epsilon: 0.0050\n",
            "Episode 5800: Avg Reward (last 100): -500.990, Epsilon: 0.0050\n",
            "Episode 5900: Avg Reward (last 100): -500.000, Epsilon: 0.0050\n",
            "Episode 6000: Avg Reward (last 100): -500.000, Epsilon: 0.0050\n",
            "Episode 6100: Avg Reward (last 100): -500.000, Epsilon: 0.0050\n",
            "Episode 6200: Avg Reward (last 100): -500.990, Epsilon: 0.0050\n",
            "Episode 6300: Avg Reward (last 100): -500.000, Epsilon: 0.0050\n",
            "Episode 6400: Avg Reward (last 100): -500.990, Epsilon: 0.0050\n",
            "Episode 6500: Avg Reward (last 100): -500.000, Epsilon: 0.0050\n",
            "Episode 6600: Avg Reward (last 100): -502.970, Epsilon: 0.0050\n",
            "Episode 6700: Avg Reward (last 100): -500.000, Epsilon: 0.0050\n",
            "Episode 6800: Avg Reward (last 100): -500.990, Epsilon: 0.0050\n",
            "Episode 6900: Avg Reward (last 100): -500.000, Epsilon: 0.0050\n",
            "Episode 7000: Avg Reward (last 100): -500.000, Epsilon: 0.0050\n",
            "Episode 7100: Avg Reward (last 100): -500.000, Epsilon: 0.0050\n",
            "Episode 7200: Avg Reward (last 100): -500.990, Epsilon: 0.0050\n",
            "Episode 7300: Avg Reward (last 100): -500.990, Epsilon: 0.0050\n",
            "Episode 7400: Avg Reward (last 100): -500.000, Epsilon: 0.0050\n",
            "Episode 7500: Avg Reward (last 100): -500.000, Epsilon: 0.0050\n",
            "Episode 7600: Avg Reward (last 100): -500.000, Epsilon: 0.0050\n",
            "Episode 7700: Avg Reward (last 100): -500.990, Epsilon: 0.0050\n",
            "Episode 7800: Avg Reward (last 100): -500.990, Epsilon: 0.0050\n",
            "Episode 7900: Avg Reward (last 100): -501.980, Epsilon: 0.0050\n",
            "Episode 8000: Avg Reward (last 100): -500.990, Epsilon: 0.0050\n",
            "Episode 100: Avg Reward (last 100): -1636.550, Epsilon: 0.6115\n",
            "Episode 200: Avg Reward (last 100): -536.880, Epsilon: 0.3729\n",
            "Episode 300: Avg Reward (last 100): -523.370, Epsilon: 0.2281\n",
            "Episode 400: Avg Reward (last 100): -510.890, Epsilon: 0.1403\n",
            "Episode 500: Avg Reward (last 100): -509.900, Epsilon: 0.0871\n",
            "Episode 600: Avg Reward (last 100): -501.930, Epsilon: 0.0548\n",
            "Episode 700: Avg Reward (last 100): -500.990, Epsilon: 0.0352\n",
            "Episode 800: Avg Reward (last 100): -505.940, Epsilon: 0.0233\n",
            "Episode 900: Avg Reward (last 100): -502.080, Epsilon: 0.0161\n",
            "Episode 1000: Avg Reward (last 100): -500.990, Epsilon: 0.0117\n",
            "Episode 1100: Avg Reward (last 100): -500.990, Epsilon: 0.0091\n",
            "Episode 1200: Avg Reward (last 100): -500.000, Epsilon: 0.0075\n",
            "Episode 1300: Avg Reward (last 100): -500.990, Epsilon: 0.0065\n",
            "Episode 1400: Avg Reward (last 100): -500.990, Epsilon: 0.0059\n",
            "Episode 1500: Avg Reward (last 100): -500.990, Epsilon: 0.0056\n",
            "Episode 1600: Avg Reward (last 100): -500.000, Epsilon: 0.0053\n",
            "Episode 1700: Avg Reward (last 100): -500.990, Epsilon: 0.0052\n",
            "Episode 1800: Avg Reward (last 100): -500.000, Epsilon: 0.0051\n",
            "Episode 1900: Avg Reward (last 100): -500.990, Epsilon: 0.0051\n",
            "Episode 2000: Avg Reward (last 100): -500.000, Epsilon: 0.0050\n",
            "Episode 2100: Avg Reward (last 100): -500.000, Epsilon: 0.0050\n",
            "Episode 2200: Avg Reward (last 100): -500.000, Epsilon: 0.0050\n",
            "Episode 2300: Avg Reward (last 100): -500.000, Epsilon: 0.0050\n",
            "Episode 2400: Avg Reward (last 100): -500.990, Epsilon: 0.0050\n",
            "Episode 2500: Avg Reward (last 100): -500.990, Epsilon: 0.0050\n"
          ]
        }
      ],
      "source": [
        "N_EPS_PER_REWARDS=200\n",
        "\n",
        "#######\n",
        "ENV_NAME, r_max = \"CliffWalking-v0\", 0\n",
        "EPISODES = 8_000\n",
        "LR = 0.2\n",
        "GAMMA = 0.95\n",
        "EPSILON_NORMAL = 0.1\n",
        "\n",
        "EPSILON_START = 1.0\n",
        "EPSILON_MIN = 0.005\n",
        "DECAY_LINEAR = 0.005\n",
        "DECAY_EXP = 0.005\n",
        "DECAY_ADAPTIVE = 0.005\n",
        "INCREASE_ADAPTIVE = 1.005\n",
        "\n",
        "env = gym.make(ENV_NAME, max_episode_steps=500)\n",
        "\n",
        "rewards_linear, _, _, _ = run_sarsa_decay(env=env, episodes=EPISODES, lr=LR, gamma=GAMMA,initial_E=EPSILON_START, min_E=EPSILON_MIN, decay_type=\"linear\", decay_rate=DECAY_LINEAR, X=500)\n",
        "rewards_exponential, _, _, _ = run_sarsa_decay(env=env, episodes=EPISODES, lr=LR, gamma=GAMMA,initial_E=EPSILON_START, min_E=EPSILON_MIN,decay_type=\"exponential\", decay_rate=DECAY_EXP, X=500)\n",
        "# rewards_adaptive, _, _, _ = run_sarsa_decay_com_adaptive(env=env, episodes=EPISODES, lr=LR, gamma=GAMMA,initial_E=EPSILON_START, min_E=EPSILON_MIN,decay_type=\"adaptive\", decay_rate=DECAY_ADAPTIVE, increase_rate=INCREASE_ADAPTIVE, X=EPISODES/2)\n",
        "\n",
        "rewards_no_decay, _, _, _ = run_sarsa_decay(\n",
        "    env=env, episodes=EPISODES, lr=LR, gamma=GAMMA,\n",
        "    initial_E=EPSILON_NORMAL, min_E=EPSILON_START,  # epsilon não decai (fixo)\n",
        "    decay_type=\"none\", decay_rate=0,X =0  # sem decaimento\n",
        ")\n",
        "clear_output()"
      ]
    },
    {
      "cell_type": "code",
      "execution_count": null,
      "metadata": {
        "id": "lS5iOVgLleLC"
      },
      "outputs": [],
      "source": [
        "plot_results(\"SARSA (CliffWalking) - Fixo x Linear x Exponencial\",[rewards_no_decay,rewards_linear, rewards_exponential], [\"Fixo\",\"Decaimento Linear\", \"Decaimento Exponencial\"], 0)"
      ]
    },
    {
      "cell_type": "markdown",
      "metadata": {
        "id": "vg8cULQgleLC"
      },
      "source": [
        "##### Expected-SARSA"
      ]
    },
    {
      "cell_type": "code",
      "execution_count": null,
      "metadata": {
        "id": "kRxyhR12leLD"
      },
      "outputs": [],
      "source": [
        "ENV_NAME = \"CliffWalking-v0\"\n",
        "EPISODES = 8000\n",
        "LR = 0.01\n",
        "GAMMA = 0.95\n",
        "EPSILON_NORMAL = .005\n",
        "EPSILON_START = 1.0\n",
        "EPSILON_MIN = 0.005\n",
        "DECAY_LINEAR = 0.005\n",
        "DECAY_EXP = 0.005\n",
        "\n",
        "env = gym.make(ENV_NAME, max_episode_steps=500)\n",
        "\n",
        "rewards_linear, _, _, _ = run_expected_sarsa_decay(env=env, episodes=EPISODES, lr=LR, gamma=GAMMA,initial_E=EPSILON_START, min_E=EPSILON_MIN, decay_type=\"linear\", decay_rate=DECAY_LINEAR)\n",
        "rewards_exponential, _, _, _ = run_expected_sarsa_decay(env=env, episodes=EPISODES, lr=LR, gamma=GAMMA,initial_E=EPSILON_START, min_E=EPSILON_MIN,decay_type=\"exponential\", decay_rate=DECAY_EXP)\n",
        "\n",
        "# # Executa Q-Learning SEM decaimento (epsilon fixo)\n",
        "rewards_no_decay, _, _, _ = run_expected_sarsa_decay(env=env, episodes=EPISODES, lr=LR, gamma=GAMMA,initial_E=EPSILON_NORMAL, min_E=EPSILON_START, decay_type=\"none\", decay_rate=0)  # sem decaimento) # epsilon não decai (fixo)\n",
        "clear_output()"
      ]
    },
    {
      "cell_type": "code",
      "execution_count": null,
      "metadata": {
        "id": "VT2ICs9rleLD"
      },
      "outputs": [],
      "source": [
        "plot_results(\"Expected-SARSA (CliffWalking) - Fixo x Linear x Exponencial\",[rewards_no_decay,rewards_linear, rewards_exponential], [\"Fixo\",\"Decaimento Linear\", \"Decaimento Exponencial\"], 0)"
      ]
    },
    {
      "cell_type": "markdown",
      "metadata": {
        "id": "zulaJNPfleLD"
      },
      "source": [
        "##### SARSA de n-passos"
      ]
    },
    {
      "cell_type": "code",
      "execution_count": null,
      "metadata": {
        "id": "Ivere0trleLE"
      },
      "outputs": [],
      "source": [
        "ENV_NAME = \"CliffWalking-v0\"\n",
        "EPISODES = 8000\n",
        "LR = 0.01\n",
        "GAMMA = 0.95\n",
        "EPSILON_NORMAL = .005\n",
        "EPSILON_START = 1.0\n",
        "EPSILON_MIN = 0.005\n",
        "DECAY_LINEAR = 0.005\n",
        "DECAY_EXP = 0.005\n",
        "\n",
        "env = gym.make(ENV_NAME, max_episode_steps=500)\n",
        "\n",
        "rewards_linear, _, _, _ = run_nstep_sarsa_decay(env=env, episodes=EPISODES, lr=LR, gamma=GAMMA,initial_E=EPSILON_START, min_E=EPSILON_MIN, decay_type=\"linear\", decay_rate=DECAY_LINEAR)\n",
        "rewards_exponential, _, _, _ = run_nstep_sarsa_decay(env=env, episodes=EPISODES, lr=LR, gamma=GAMMA,initial_E=EPSILON_START, min_E=EPSILON_MIN,decay_type=\"exponential\", decay_rate=DECAY_EXP)\n",
        "\n",
        "# # Executa Q-Learning SEM decaimento (epsilon fixo)\n",
        "rewards_no_decay, _, _, _ = run_nstep_sarsa_decay(env=env, episodes=EPISODES, lr=LR, gamma=GAMMA,initial_E=EPSILON_NORMAL, min_E=EPSILON_START, decay_type=\"none\", decay_rate=0)  # sem decaimento) # epsilon não decai (fixo)\n",
        "clear_output()"
      ]
    },
    {
      "cell_type": "code",
      "execution_count": null,
      "metadata": {
        "id": "Itz3oSk9leLE"
      },
      "outputs": [],
      "source": [
        "plot_results(\"Sarsa de n-passos (CliffWalking) - Fixo x Linear x Exponencial\",[rewards_no_decay,rewards_linear, rewards_exponential], [\"Fixo\",\"Decaimento Linear\", \"Decaimento Exponencial\"], 0)"
      ]
    },
    {
      "cell_type": "markdown",
      "metadata": {
        "id": "z-lYBrIzVmPf"
      },
      "source": [
        "### Cliffwalking"
      ]
    },
    {
      "cell_type": "code",
      "execution_count": null,
      "metadata": {
        "id": "DDlGwtSAVmPh"
      },
      "outputs": [],
      "source": [
        "# plot_results(\"Linear x Exponencial (Q-Learning) - CliffWalking\",[rewards_linear, rewards_exponential], [\"Decaimento Linear\", \"Decaimento Exponencial\"], 0)"
      ]
    },
    {
      "cell_type": "markdown",
      "metadata": {
        "id": "MnCZXR51VmPi"
      },
      "source": [
        "##### Q-Learning"
      ]
    },
    {
      "cell_type": "code",
      "execution_count": null,
      "metadata": {
        "id": "gkvToMenVmPi",
        "colab": {
          "base_uri": "https://localhost:8080/",
          "height": 332
        },
        "outputId": "2044d659-bfb4-4d63-b53b-aa119061db3b"
      },
      "outputs": [
        {
          "output_type": "error",
          "ename": "TypeError",
          "evalue": "cannot unpack non-iterable int object",
          "traceback": [
            "\u001b[0;31m---------------------------------------------------------------------------\u001b[0m",
            "\u001b[0;31mTypeError\u001b[0m                                 Traceback (most recent call last)",
            "\u001b[0;32m<ipython-input-44-7ed47ef51614>\u001b[0m in \u001b[0;36m<cell line: 0>\u001b[0;34m()\u001b[0m\n\u001b[1;32m     11\u001b[0m \u001b[0menv\u001b[0m \u001b[0;34m=\u001b[0m \u001b[0mgym\u001b[0m\u001b[0;34m.\u001b[0m\u001b[0mmake\u001b[0m\u001b[0;34m(\u001b[0m\u001b[0mENV_NAME\u001b[0m\u001b[0;34m,\u001b[0m \u001b[0mmax_episode_steps\u001b[0m\u001b[0;34m=\u001b[0m\u001b[0;36m500\u001b[0m\u001b[0;34m)\u001b[0m\u001b[0;34m\u001b[0m\u001b[0;34m\u001b[0m\u001b[0m\n\u001b[1;32m     12\u001b[0m \u001b[0;34m\u001b[0m\u001b[0m\n\u001b[0;32m---> 13\u001b[0;31m \u001b[0mrewards_linear\u001b[0m\u001b[0;34m,\u001b[0m \u001b[0m_\u001b[0m\u001b[0;34m,\u001b[0m \u001b[0m_\u001b[0m\u001b[0;34m,\u001b[0m \u001b[0m_\u001b[0m \u001b[0;34m=\u001b[0m \u001b[0mrun_qlearning_decay\u001b[0m\u001b[0;34m(\u001b[0m\u001b[0menv\u001b[0m\u001b[0;34m=\u001b[0m\u001b[0menv\u001b[0m\u001b[0;34m,\u001b[0m \u001b[0mepisodes\u001b[0m\u001b[0;34m=\u001b[0m\u001b[0mEPISODES\u001b[0m\u001b[0;34m,\u001b[0m \u001b[0mlr\u001b[0m\u001b[0;34m=\u001b[0m\u001b[0mLR\u001b[0m\u001b[0;34m,\u001b[0m \u001b[0mgamma\u001b[0m\u001b[0;34m=\u001b[0m\u001b[0mGAMMA\u001b[0m\u001b[0;34m,\u001b[0m\u001b[0minitial_E\u001b[0m\u001b[0;34m=\u001b[0m\u001b[0mEPSILON_START\u001b[0m\u001b[0;34m,\u001b[0m \u001b[0mmin_E\u001b[0m\u001b[0;34m=\u001b[0m\u001b[0mEPSILON_MIN\u001b[0m\u001b[0;34m,\u001b[0m \u001b[0mdecay_type\u001b[0m\u001b[0;34m=\u001b[0m\u001b[0;34m\"linear\"\u001b[0m\u001b[0;34m,\u001b[0m \u001b[0mdecay_rate\u001b[0m\u001b[0;34m=\u001b[0m\u001b[0mDECAY_LINEAR\u001b[0m\u001b[0;34m)\u001b[0m\u001b[0;34m\u001b[0m\u001b[0;34m\u001b[0m\u001b[0m\n\u001b[0m\u001b[1;32m     14\u001b[0m \u001b[0mrewards_exponential\u001b[0m\u001b[0;34m,\u001b[0m \u001b[0m_\u001b[0m\u001b[0;34m,\u001b[0m \u001b[0m_\u001b[0m\u001b[0;34m,\u001b[0m \u001b[0m_\u001b[0m \u001b[0;34m=\u001b[0m \u001b[0mrun_qlearning_decay\u001b[0m\u001b[0;34m(\u001b[0m\u001b[0menv\u001b[0m\u001b[0;34m=\u001b[0m\u001b[0menv\u001b[0m\u001b[0;34m,\u001b[0m \u001b[0mepisodes\u001b[0m\u001b[0;34m=\u001b[0m\u001b[0mEPISODES\u001b[0m\u001b[0;34m,\u001b[0m \u001b[0mlr\u001b[0m\u001b[0;34m=\u001b[0m\u001b[0mLR\u001b[0m\u001b[0;34m,\u001b[0m \u001b[0mgamma\u001b[0m\u001b[0;34m=\u001b[0m\u001b[0mGAMMA\u001b[0m\u001b[0;34m,\u001b[0m\u001b[0minitial_E\u001b[0m\u001b[0;34m=\u001b[0m\u001b[0mEPSILON_START\u001b[0m\u001b[0;34m,\u001b[0m \u001b[0mmin_E\u001b[0m\u001b[0;34m=\u001b[0m\u001b[0mEPSILON_MIN\u001b[0m\u001b[0;34m,\u001b[0m\u001b[0mdecay_type\u001b[0m\u001b[0;34m=\u001b[0m\u001b[0;34m\"exponential\"\u001b[0m\u001b[0;34m,\u001b[0m \u001b[0mdecay_rate\u001b[0m\u001b[0;34m=\u001b[0m\u001b[0mDECAY_EXP\u001b[0m\u001b[0;34m)\u001b[0m\u001b[0;34m\u001b[0m\u001b[0;34m\u001b[0m\u001b[0m\n\u001b[1;32m     15\u001b[0m \u001b[0;34m\u001b[0m\u001b[0m\n",
            "\u001b[0;32m<ipython-input-43-4b5345d49e49>\u001b[0m in \u001b[0;36mrun_qlearning_decay\u001b[0;34m(env, episodes, lr, gamma, decay_type, initial_E, min_E, X, Y, total_steps, decay_rate, verbose, n_eps_per_rewards)\u001b[0m\n\u001b[1;32m     35\u001b[0m     \u001b[0;32mfor\u001b[0m \u001b[0mi\u001b[0m \u001b[0;32min\u001b[0m \u001b[0mrange\u001b[0m\u001b[0;34m(\u001b[0m\u001b[0mepisodes\u001b[0m\u001b[0;34m)\u001b[0m\u001b[0;34m:\u001b[0m\u001b[0;34m\u001b[0m\u001b[0;34m\u001b[0m\u001b[0m\n\u001b[1;32m     36\u001b[0m         \u001b[0meps\u001b[0m \u001b[0;34m+=\u001b[0m \u001b[0;36m1\u001b[0m\u001b[0;34m\u001b[0m\u001b[0;34m\u001b[0m\u001b[0m\n\u001b[0;32m---> 37\u001b[0;31m         \u001b[0mstate\u001b[0m\u001b[0;34m,\u001b[0m \u001b[0m_\u001b[0m \u001b[0;34m=\u001b[0m \u001b[0menv\u001b[0m\u001b[0;34m.\u001b[0m\u001b[0mreset\u001b[0m\u001b[0;34m(\u001b[0m\u001b[0;34m)\u001b[0m\u001b[0;34m\u001b[0m\u001b[0;34m\u001b[0m\u001b[0m\n\u001b[0m\u001b[1;32m     38\u001b[0m         \u001b[0mdone\u001b[0m \u001b[0;34m=\u001b[0m \u001b[0;32mFalse\u001b[0m\u001b[0;34m\u001b[0m\u001b[0;34m\u001b[0m\u001b[0m\n\u001b[1;32m     39\u001b[0m         \u001b[0msum_rewards\u001b[0m \u001b[0;34m=\u001b[0m \u001b[0;36m0\u001b[0m\u001b[0;34m\u001b[0m\u001b[0;34m\u001b[0m\u001b[0m\n",
            "\u001b[0;31mTypeError\u001b[0m: cannot unpack non-iterable int object"
          ]
        }
      ],
      "source": [
        "ENV_NAME = \"CliffWalking-v0\"\n",
        "EPISODES = 8000\n",
        "LR = 0.01\n",
        "GAMMA = 0.95\n",
        "EPSILON_NORMAL = .005\n",
        "EPSILON_START = 1.0\n",
        "EPSILON_MIN = 0.005\n",
        "DECAY_LINEAR = 0.005\n",
        "DECAY_EXP = 0.005\n",
        "\n",
        "env = gym.make(ENV_NAME, max_episode_steps=500)\n",
        "\n",
        "rewards_linear, _, _, _ = run_qlearning_decay(env=env, episodes=EPISODES, lr=LR, gamma=GAMMA,initial_E=EPSILON_START, min_E=EPSILON_MIN, decay_type=\"linear\", decay_rate=DECAY_LINEAR)\n",
        "rewards_exponential, _, _, _ = run_qlearning_decay(env=env, episodes=EPISODES, lr=LR, gamma=GAMMA,initial_E=EPSILON_START, min_E=EPSILON_MIN,decay_type=\"exponential\", decay_rate=DECAY_EXP)\n",
        "\n",
        "# # Executa Q-Learning SEM decaimento (epsilon fixo)\n",
        "rewards_no_decay, _, _, _ = run_qlearning_decay(\n",
        "    env=env, episodes=EPISODES, lr=LR, gamma=GAMMA,\n",
        "    initial_E=EPSILON_NORMAL, min_E=EPSILON_START,  # epsilon não decai (fixo)\n",
        "    decay_type=\"none\", decay_rate=0  # sem decaimento\n",
        ")\n",
        "clear_output()"
      ]
    },
    {
      "cell_type": "code",
      "execution_count": null,
      "metadata": {
        "id": "r4wIbe-GVmPj"
      },
      "outputs": [],
      "source": [
        "plot_results(\"Q-Learning (CliffWalking) - Fixo x Linear x Exponencial\",[rewards_no_decay,rewards_linear, rewards_exponential], [\"Fixo\",\"Decaimento Linear\", \"Decaimento Exponencial\"], 0)"
      ]
    },
    {
      "cell_type": "markdown",
      "metadata": {
        "id": "YBZ6dLbqVmPk"
      },
      "source": [
        "##### Sarsa"
      ]
    },
    {
      "cell_type": "code",
      "execution_count": null,
      "metadata": {
        "id": "jFsLZAMDVmPl"
      },
      "outputs": [],
      "source": [
        "ENV_NAME = \"CliffWalking-v0\"\n",
        "EPISODES = 8000\n",
        "LR = 0.01\n",
        "GAMMA = 0.95\n",
        "EPSILON_NORMAL = .005\n",
        "EPSILON_START = 1.0\n",
        "EPSILON_MIN = 0.005\n",
        "DECAY_LINEAR = 0.005\n",
        "DECAY_EXP = 0.005\n",
        "\n",
        "env = gym.make(ENV_NAME, max_episode_steps=500)\n",
        "\n",
        "rewards_linear, _, _, _ = run_sarsa_decay(env=env, episodes=EPISODES, lr=LR, gamma=GAMMA,initial_E=EPSILON_START, min_E=EPSILON_MIN, decay_type=\"linear\", decay_rate=DECAY_LINEAR)\n",
        "rewards_exponential, _, _, _ = run_sarsa_decay(env=env, episodes=EPISODES, lr=LR, gamma=GAMMA,initial_E=EPSILON_START, min_E=EPSILON_MIN,decay_type=\"exponential\", decay_rate=DECAY_EXP)\n",
        "\n",
        "# # Executa Q-Learning SEM decaimento (epsilon fixo)\n",
        "rewards_no_decay, _, _, _ = run_sarsa_decay(\n",
        "    env=env, episodes=EPISODES, lr=LR, gamma=GAMMA,\n",
        "    initial_E=EPSILON_NORMAL, min_E=EPSILON_START,  # epsilon não decai (fixo)\n",
        "    decay_type=\"none\", decay_rate=0  # sem decaimento\n",
        ")\n",
        "clear_output()"
      ]
    },
    {
      "cell_type": "code",
      "execution_count": null,
      "metadata": {
        "id": "W0wFNairVmPl"
      },
      "outputs": [],
      "source": [
        "plot_results(\"SARSA (CliffWalking) - Fixo x Linear x Exponencial\",[rewards_no_decay,rewards_linear, rewards_exponential], [\"Fixo\",\"Decaimento Linear\", \"Decaimento Exponencial\"], 0)"
      ]
    },
    {
      "cell_type": "markdown",
      "metadata": {
        "id": "VRb6CO8OVmPm"
      },
      "source": [
        "##### Expected-SARSA"
      ]
    },
    {
      "cell_type": "code",
      "execution_count": null,
      "metadata": {
        "id": "dJ6tHhvDVmPn"
      },
      "outputs": [],
      "source": [
        "ENV_NAME = \"CliffWalking-v0\"\n",
        "EPISODES = 8000\n",
        "LR = 0.01\n",
        "GAMMA = 0.95\n",
        "EPSILON_NORMAL = .005\n",
        "EPSILON_START = 1.0\n",
        "EPSILON_MIN = 0.005\n",
        "DECAY_LINEAR = 0.005\n",
        "DECAY_EXP = 0.005\n",
        "\n",
        "env = gym.make(ENV_NAME, max_episode_steps=500)\n",
        "\n",
        "rewards_linear, _, _, _ = run_expected_sarsa_decay(env=env, episodes=EPISODES, lr=LR, gamma=GAMMA,initial_E=EPSILON_START, min_E=EPSILON_MIN, decay_type=\"linear\", decay_rate=DECAY_LINEAR)\n",
        "rewards_exponential, _, _, _ = run_expected_sarsa_decay(env=env, episodes=EPISODES, lr=LR, gamma=GAMMA,initial_E=EPSILON_START, min_E=EPSILON_MIN,decay_type=\"exponential\", decay_rate=DECAY_EXP)\n",
        "\n",
        "# # Executa Q-Learning SEM decaimento (epsilon fixo)\n",
        "rewards_no_decay, _, _, _ = run_expected_sarsa_decay(env=env, episodes=EPISODES, lr=LR, gamma=GAMMA,initial_E=EPSILON_NORMAL, min_E=EPSILON_START, decay_type=\"none\", decay_rate=0)  # sem decaimento) # epsilon não decai (fixo)\n",
        "clear_output()"
      ]
    },
    {
      "cell_type": "code",
      "execution_count": null,
      "metadata": {
        "id": "gvaTszlWVmPn"
      },
      "outputs": [],
      "source": [
        "plot_results(\"Expected-SARSA (CliffWalking) - Fixo x Linear x Exponencial\",[rewards_no_decay,rewards_linear, rewards_exponential], [\"Fixo\",\"Decaimento Linear\", \"Decaimento Exponencial\"], 0)"
      ]
    },
    {
      "cell_type": "markdown",
      "metadata": {
        "id": "lIZVNON6VmPo"
      },
      "source": [
        "##### SARSA de n-passos"
      ]
    },
    {
      "cell_type": "code",
      "execution_count": null,
      "metadata": {
        "id": "MsjYxMauVmPp",
        "colab": {
          "base_uri": "https://localhost:8080/",
          "height": 211
        },
        "outputId": "8fce32aa-4222-498a-b451-a7aa0f6c7dfc"
      },
      "outputs": [
        {
          "output_type": "error",
          "ename": "NameError",
          "evalue": "name 'run_nstep_sarsa_decay' is not defined",
          "traceback": [
            "\u001b[0;31m---------------------------------------------------------------------------\u001b[0m",
            "\u001b[0;31mNameError\u001b[0m                                 Traceback (most recent call last)",
            "\u001b[0;32m<ipython-input-42-9c4adc13c266>\u001b[0m in \u001b[0;36m<cell line: 0>\u001b[0;34m()\u001b[0m\n\u001b[1;32m     11\u001b[0m \u001b[0menv\u001b[0m \u001b[0;34m=\u001b[0m \u001b[0mgym\u001b[0m\u001b[0;34m.\u001b[0m\u001b[0mmake\u001b[0m\u001b[0;34m(\u001b[0m\u001b[0mENV_NAME\u001b[0m\u001b[0;34m,\u001b[0m \u001b[0mmax_episode_steps\u001b[0m\u001b[0;34m=\u001b[0m\u001b[0;36m500\u001b[0m\u001b[0;34m)\u001b[0m\u001b[0;34m\u001b[0m\u001b[0;34m\u001b[0m\u001b[0m\n\u001b[1;32m     12\u001b[0m \u001b[0;34m\u001b[0m\u001b[0m\n\u001b[0;32m---> 13\u001b[0;31m \u001b[0mrewards_linear\u001b[0m\u001b[0;34m,\u001b[0m \u001b[0m_\u001b[0m\u001b[0;34m,\u001b[0m \u001b[0m_\u001b[0m\u001b[0;34m,\u001b[0m \u001b[0m_\u001b[0m \u001b[0;34m=\u001b[0m \u001b[0mrun_nstep_sarsa_decay\u001b[0m\u001b[0;34m(\u001b[0m\u001b[0menv\u001b[0m\u001b[0;34m=\u001b[0m\u001b[0menv\u001b[0m\u001b[0;34m,\u001b[0m \u001b[0mepisodes\u001b[0m\u001b[0;34m=\u001b[0m\u001b[0mEPISODES\u001b[0m\u001b[0;34m,\u001b[0m \u001b[0mlr\u001b[0m\u001b[0;34m=\u001b[0m\u001b[0mLR\u001b[0m\u001b[0;34m,\u001b[0m \u001b[0mgamma\u001b[0m\u001b[0;34m=\u001b[0m\u001b[0mGAMMA\u001b[0m\u001b[0;34m,\u001b[0m\u001b[0minitial_E\u001b[0m\u001b[0;34m=\u001b[0m\u001b[0mEPSILON_START\u001b[0m\u001b[0;34m,\u001b[0m \u001b[0mmin_E\u001b[0m\u001b[0;34m=\u001b[0m\u001b[0mEPSILON_MIN\u001b[0m\u001b[0;34m,\u001b[0m \u001b[0mdecay_type\u001b[0m\u001b[0;34m=\u001b[0m\u001b[0;34m\"linear\"\u001b[0m\u001b[0;34m,\u001b[0m \u001b[0mdecay_rate\u001b[0m\u001b[0;34m=\u001b[0m\u001b[0mDECAY_LINEAR\u001b[0m\u001b[0;34m)\u001b[0m\u001b[0;34m\u001b[0m\u001b[0;34m\u001b[0m\u001b[0m\n\u001b[0m\u001b[1;32m     14\u001b[0m \u001b[0mrewards_exponential\u001b[0m\u001b[0;34m,\u001b[0m \u001b[0m_\u001b[0m\u001b[0;34m,\u001b[0m \u001b[0m_\u001b[0m\u001b[0;34m,\u001b[0m \u001b[0m_\u001b[0m \u001b[0;34m=\u001b[0m \u001b[0mrun_nstep_sarsa_decay\u001b[0m\u001b[0;34m(\u001b[0m\u001b[0menv\u001b[0m\u001b[0;34m=\u001b[0m\u001b[0menv\u001b[0m\u001b[0;34m,\u001b[0m \u001b[0mepisodes\u001b[0m\u001b[0;34m=\u001b[0m\u001b[0mEPISODES\u001b[0m\u001b[0;34m,\u001b[0m \u001b[0mlr\u001b[0m\u001b[0;34m=\u001b[0m\u001b[0mLR\u001b[0m\u001b[0;34m,\u001b[0m \u001b[0mgamma\u001b[0m\u001b[0;34m=\u001b[0m\u001b[0mGAMMA\u001b[0m\u001b[0;34m,\u001b[0m\u001b[0minitial_E\u001b[0m\u001b[0;34m=\u001b[0m\u001b[0mEPSILON_START\u001b[0m\u001b[0;34m,\u001b[0m \u001b[0mmin_E\u001b[0m\u001b[0;34m=\u001b[0m\u001b[0mEPSILON_MIN\u001b[0m\u001b[0;34m,\u001b[0m\u001b[0mdecay_type\u001b[0m\u001b[0;34m=\u001b[0m\u001b[0;34m\"exponential\"\u001b[0m\u001b[0;34m,\u001b[0m \u001b[0mdecay_rate\u001b[0m\u001b[0;34m=\u001b[0m\u001b[0mDECAY_EXP\u001b[0m\u001b[0;34m)\u001b[0m\u001b[0;34m\u001b[0m\u001b[0;34m\u001b[0m\u001b[0m\n\u001b[1;32m     15\u001b[0m \u001b[0;34m\u001b[0m\u001b[0m\n",
            "\u001b[0;31mNameError\u001b[0m: name 'run_nstep_sarsa_decay' is not defined"
          ]
        }
      ],
      "source": [
        "ENV_NAME = \"CliffWalking-v0\"\n",
        "EPISODES = 8000\n",
        "LR = 0.01\n",
        "GAMMA = 0.95\n",
        "EPSILON_NORMAL = .005\n",
        "EPSILON_START = 1.0\n",
        "EPSILON_MIN = 0.005\n",
        "DECAY_LINEAR = 0.005\n",
        "DECAY_EXP = 0.005\n",
        "\n",
        "env = gym.make(ENV_NAME, max_episode_steps=500)\n",
        "\n",
        "rewards_linear, _, _, _ = run_nstep_sarsa_decay(env=env, episodes=EPISODES, lr=LR, gamma=GAMMA,initial_E=EPSILON_START, min_E=EPSILON_MIN, decay_type=\"linear\", decay_rate=DECAY_LINEAR)\n",
        "rewards_exponential, _, _, _ = run_nstep_sarsa_decay(env=env, episodes=EPISODES, lr=LR, gamma=GAMMA,initial_E=EPSILON_START, min_E=EPSILON_MIN,decay_type=\"exponential\", decay_rate=DECAY_EXP)\n",
        "\n",
        "# # Executa Q-Learning SEM decaimento (epsilon fixo)\n",
        "rewards_no_decay, _, _, _ = run_nstep_sarsa_decay(env=env, episodes=EPISODES, lr=LR, gamma=GAMMA,initial_E=EPSILON_NORMAL, min_E=EPSILON_START, decay_type=\"none\", decay_rate=0)  # sem decaimento) # epsilon não decai (fixo)\n",
        "clear_output()"
      ]
    },
    {
      "cell_type": "code",
      "execution_count": null,
      "metadata": {
        "id": "BJmVEs9QVmPp"
      },
      "outputs": [],
      "source": [
        "plot_results(\"Sarsa de n-passos (CliffWalking) - Fixo x Linear x Exponencial\",[rewards_no_decay,rewards_linear, rewards_exponential], [\"Fixo\",\"Decaimento Linear\", \"Decaimento Exponencial\"], 0)"
      ]
    },
    {
      "cell_type": "markdown",
      "metadata": {
        "id": "QEUe_Q1k5CA3"
      },
      "source": [
        "### Cliffwalking"
      ]
    },
    {
      "cell_type": "code",
      "execution_count": null,
      "metadata": {
        "id": "24H5nLvV8YQo"
      },
      "outputs": [],
      "source": [
        "# plot_results(\"Linear x Exponencial (Q-Learning) - CliffWalking\",[rewards_linear, rewards_exponential], [\"Decaimento Linear\", \"Decaimento Exponencial\"], 0)"
      ]
    },
    {
      "cell_type": "markdown",
      "metadata": {
        "id": "vO-RMfgEC1oJ"
      },
      "source": [
        "##### Q-Learning"
      ]
    },
    {
      "cell_type": "code",
      "execution_count": null,
      "metadata": {
        "id": "c89bqMd8wVTF"
      },
      "outputs": [],
      "source": [
        "ENV_NAME = \"CliffWalking-v0\"\n",
        "EPISODES = 8000\n",
        "LR = 0.01\n",
        "GAMMA = 0.95\n",
        "EPSILON_NORMAL = .005\n",
        "EPSILON_START = 1.0\n",
        "EPSILON_MIN = 0.005\n",
        "DECAY_LINEAR = 0.005\n",
        "DECAY_EXP = 0.005\n",
        "\n",
        "env = gym.make(ENV_NAME, max_episode_steps=500)\n",
        "\n",
        "rewards_linear, _, _, _ = run_qlearning_decay(env=env, episodes=EPISODES, lr=LR, gamma=GAMMA,initial_E=EPSILON_START, min_E=EPSILON_MIN, decay_type=\"linear\", decay_rate=DECAY_LINEAR)\n",
        "rewards_exponential, _, _, _ = run_qlearning_decay(env=env, episodes=EPISODES, lr=LR, gamma=GAMMA,initial_E=EPSILON_START, min_E=EPSILON_MIN,decay_type=\"exponential\", decay_rate=DECAY_EXP)\n",
        "\n",
        "# # Executa Q-Learning SEM decaimento (epsilon fixo)\n",
        "rewards_no_decay, _, _, _ = run_qlearning_decay(\n",
        "    env=env, episodes=EPISODES, lr=LR, gamma=GAMMA,\n",
        "    initial_E=EPSILON_NORMAL, min_E=EPSILON_START,  # epsilon não decai (fixo)\n",
        "    decay_type=\"none\", decay_rate=0  # sem decaimento\n",
        ")\n",
        "clear_output()"
      ]
    },
    {
      "cell_type": "code",
      "execution_count": null,
      "metadata": {
        "id": "JTSe6gLk_YMb"
      },
      "outputs": [],
      "source": [
        "plot_results(\"Q-Learning (CliffWalking) - Fixo x Linear x Exponencial\",[rewards_no_decay,rewards_linear, rewards_exponential], [\"Fixo\",\"Decaimento Linear\", \"Decaimento Exponencial\"], 0)"
      ]
    },
    {
      "cell_type": "markdown",
      "metadata": {
        "id": "HukOy4ydC5DY"
      },
      "source": [
        "##### Sarsa"
      ]
    },
    {
      "cell_type": "code",
      "execution_count": null,
      "metadata": {
        "id": "cLRA4o_dC7nm"
      },
      "outputs": [],
      "source": [
        "ENV_NAME = \"CliffWalking-v0\"\n",
        "EPISODES = 8000\n",
        "LR = 0.01\n",
        "GAMMA = 0.95\n",
        "EPSILON_NORMAL = .005\n",
        "EPSILON_START = 1.0\n",
        "EPSILON_MIN = 0.005\n",
        "DECAY_LINEAR = 0.005\n",
        "DECAY_EXP = 0.005\n",
        "\n",
        "env = gym.make(ENV_NAME, max_episode_steps=500)\n",
        "\n",
        "rewards_linear, _, _, _ = run_sarsa_decay(env=env, episodes=EPISODES, lr=LR, gamma=GAMMA,initial_E=EPSILON_START, min_E=EPSILON_MIN, decay_type=\"linear\", decay_rate=DECAY_LINEAR)\n",
        "rewards_exponential, _, _, _ = run_sarsa_decay(env=env, episodes=EPISODES, lr=LR, gamma=GAMMA,initial_E=EPSILON_START, min_E=EPSILON_MIN,decay_type=\"exponential\", decay_rate=DECAY_EXP)\n",
        "\n",
        "# # Executa Q-Learning SEM decaimento (epsilon fixo)\n",
        "rewards_no_decay, _, _, _ = run_sarsa_decay(\n",
        "    env=env, episodes=EPISODES, lr=LR, gamma=GAMMA,\n",
        "    initial_E=EPSILON_NORMAL, min_E=EPSILON_START,  # epsilon não decai (fixo)\n",
        "    decay_type=\"none\", decay_rate=0  # sem decaimento\n",
        ")\n",
        "clear_output()"
      ]
    },
    {
      "cell_type": "code",
      "execution_count": null,
      "metadata": {
        "id": "2cvgftBeC8om"
      },
      "outputs": [],
      "source": [
        "plot_results(\"SARSA (CliffWalking) - Fixo x Linear x Exponencial\",[rewards_no_decay,rewards_linear, rewards_exponential], [\"Fixo\",\"Decaimento Linear\", \"Decaimento Exponencial\"], 0)"
      ]
    },
    {
      "cell_type": "markdown",
      "metadata": {
        "id": "3UbEk8DaDllr"
      },
      "source": [
        "##### Expected-SARSA"
      ]
    },
    {
      "cell_type": "code",
      "execution_count": null,
      "metadata": {
        "id": "mE0CoqzNDqJa"
      },
      "outputs": [],
      "source": [
        "ENV_NAME = \"CliffWalking-v0\"\n",
        "EPISODES = 8000\n",
        "LR = 0.01\n",
        "GAMMA = 0.95\n",
        "EPSILON_NORMAL = .005\n",
        "EPSILON_START = 1.0\n",
        "EPSILON_MIN = 0.005\n",
        "DECAY_LINEAR = 0.005\n",
        "DECAY_EXP = 0.005\n",
        "\n",
        "env = gym.make(ENV_NAME, max_episode_steps=500)\n",
        "\n",
        "rewards_linear, _, _, _ = run_expected_sarsa_decay(env=env, episodes=EPISODES, lr=LR, gamma=GAMMA,initial_E=EPSILON_START, min_E=EPSILON_MIN, decay_type=\"linear\", decay_rate=DECAY_LINEAR)\n",
        "rewards_exponential, _, _, _ = run_expected_sarsa_decay(env=env, episodes=EPISODES, lr=LR, gamma=GAMMA,initial_E=EPSILON_START, min_E=EPSILON_MIN,decay_type=\"exponential\", decay_rate=DECAY_EXP)\n",
        "\n",
        "# # Executa Q-Learning SEM decaimento (epsilon fixo)\n",
        "rewards_no_decay, _, _, _ = run_expected_sarsa_decay(env=env, episodes=EPISODES, lr=LR, gamma=GAMMA,initial_E=EPSILON_NORMAL, min_E=EPSILON_START, decay_type=\"none\", decay_rate=0)  # sem decaimento) # epsilon não decai (fixo)\n",
        "clear_output()"
      ]
    },
    {
      "cell_type": "code",
      "execution_count": null,
      "metadata": {
        "id": "E-OmP_4MEP05"
      },
      "outputs": [],
      "source": [
        "plot_results(\"Expected-SARSA (CliffWalking) - Fixo x Linear x Exponencial\",[rewards_no_decay,rewards_linear, rewards_exponential], [\"Fixo\",\"Decaimento Linear\", \"Decaimento Exponencial\"], 0)"
      ]
    },
    {
      "cell_type": "markdown",
      "metadata": {
        "id": "A862FwMZEerx"
      },
      "source": [
        "##### SARSA de n-passos"
      ]
    },
    {
      "cell_type": "code",
      "execution_count": null,
      "metadata": {
        "id": "2TvaKEeMEz4y"
      },
      "outputs": [],
      "source": [
        "ENV_NAME = \"CliffWalking-v0\"\n",
        "EPISODES = 8000\n",
        "LR = 0.01\n",
        "GAMMA = 0.95\n",
        "EPSILON_NORMAL = .005\n",
        "EPSILON_START = 1.0\n",
        "EPSILON_MIN = 0.005\n",
        "DECAY_LINEAR = 0.005\n",
        "DECAY_EXP = 0.005\n",
        "\n",
        "env = gym.make(ENV_NAME, max_episode_steps=500)\n",
        "\n",
        "rewards_linear, _, _, _ = run_nstep_sarsa_decay(env=env, episodes=EPISODES, lr=LR, gamma=GAMMA,initial_E=EPSILON_START, min_E=EPSILON_MIN, decay_type=\"linear\", decay_rate=DECAY_LINEAR)\n",
        "rewards_exponential, _, _, _ = run_nstep_sarsa_decay(env=env, episodes=EPISODES, lr=LR, gamma=GAMMA,initial_E=EPSILON_START, min_E=EPSILON_MIN,decay_type=\"exponential\", decay_rate=DECAY_EXP)\n",
        "\n",
        "# # Executa Q-Learning SEM decaimento (epsilon fixo)\n",
        "rewards_no_decay, _, _, _ = run_nstep_sarsa_decay(env=env, episodes=EPISODES, lr=LR, gamma=GAMMA,initial_E=EPSILON_NORMAL, min_E=EPSILON_START, decay_type=\"none\", decay_rate=0)  # sem decaimento) # epsilon não decai (fixo)\n",
        "clear_output()"
      ]
    },
    {
      "cell_type": "code",
      "execution_count": null,
      "metadata": {
        "id": "CbqsJen5Ekzd"
      },
      "outputs": [],
      "source": [
        "plot_results(\"Sarsa de n-passos (CliffWalking) - Fixo x Linear x Exponencial\",[rewards_no_decay,rewards_linear, rewards_exponential], [\"Fixo\",\"Decaimento Linear\", \"Decaimento Exponencial\"], 0)"
      ]
    }
  ],
  "metadata": {
    "colab": {
      "collapsed_sections": [
        "OqdkF_zjzzdA",
        "MtrRXXsV0JvL",
        "vuh5ELm80k9i",
        "Us3IQDeMx57c",
        "7YBYR3-f9jP3",
        "Ev5B98j6-jxz",
        "Q7-ULM5r0oMa",
        "Ke4_rJ2LDYtF",
        "1sBroZK5IkYj",
        "q40W1P-1L3E7",
        "dFfo3CcmPcTr",
        "2t7pTkbs07GJ",
        "CibLZCqMbeCZ",
        "i8CBhgLkbrv0",
        "5hD42QfGbWaZ",
        "zqyfviioh1t-",
        "Cux5zoTKiMAu",
        "wvausVvN3q9F",
        "aCDsb9CqfmIU",
        "RHs3XmwfQ222",
        "YeAUDiBSgMAU",
        "QqayEIcpgGld",
        "Gn8K7_bEiVqc",
        "K9sybe41m_jx",
        "9vJp9xs5VjlU",
        "bztpHOtcVjlU",
        "Rcy6K2HqVjlV",
        "WtmZjOo-VjlW",
        "X8FC0I5UleK4",
        "z-lYBrIzVmPf",
        "MnCZXR51VmPi",
        "YBZ6dLbqVmPk",
        "VRb6CO8OVmPm",
        "lIZVNON6VmPo",
        "QEUe_Q1k5CA3",
        "vO-RMfgEC1oJ",
        "3UbEk8DaDllr",
        "A862FwMZEerx"
      ],
      "provenance": [],
      "include_colab_link": true
    },
    "kernelspec": {
      "display_name": "Python 3",
      "name": "python3"
    },
    "language_info": {
      "name": "python"
    }
  },
  "nbformat": 4,
  "nbformat_minor": 0
}