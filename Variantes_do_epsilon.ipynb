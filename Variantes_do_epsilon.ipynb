{
  "cells": [
    {
      "cell_type": "markdown",
      "metadata": {
        "id": "view-in-github",
        "colab_type": "text"
      },
      "source": [
        "<a href=\"https://colab.research.google.com/github/christiandoramo/Variantes-para-o-epsilon/blob/main/Variantes_do_epsilon.ipynb\" target=\"_parent\"><img src=\"https://colab.research.google.com/assets/colab-badge.svg\" alt=\"Open In Colab\"/></a>"
      ]
    },
    {
      "cell_type": "markdown",
      "metadata": {
        "id": "gkkFF3MkxEyP"
      },
      "source": [
        "Tema 2: Variantes para o epsilon <br>\n",
        "Equipe: <br>\n",
        "Christian Oliveira <br>\n",
        "Raphael Barbosa <br>"
      ]
    },
    {
      "cell_type": "markdown",
      "metadata": {
        "id": "PGgyS0h4xoSX"
      },
      "source": [
        "Info: [tema 2](https://docs.google.com/document/d/1bpqsUML8XkUVBMjiKMLNwbG3npgaF_35xQYrh-Dp4Ts/edit?tab=t.0#heading=h.rs93iuj1gddv )"
      ]
    },
    {
      "cell_type": "markdown",
      "metadata": {
        "id": "OqdkF_zjzzdA"
      },
      "source": [
        "# Implementação das Variantes do ε"
      ]
    },
    {
      "cell_type": "markdown",
      "metadata": {
        "id": "MtrRXXsV0JvL"
      },
      "source": [
        "##  Decaimento do ε (Linear e Exponencial)"
      ]
    },
    {
      "cell_type": "markdown",
      "metadata": {
        "id": "vuh5ELm80k9i"
      },
      "source": [
        "### Decaimento linear"
      ]
    },
    {
      "cell_type": "markdown",
      "metadata": {
        "id": "3aWsTV7Ixw6h"
      },
      "source": [
        "#### Função"
      ]
    },
    {
      "cell_type": "code",
      "execution_count": null,
      "metadata": {
        "id": "BVIFsX_7xE0E"
      },
      "outputs": [],
      "source": [
        "# testando um tipo de decaimento linear do Epsilon\n",
        "def linear_decay(initial_E=1.0, min_E=0.005, X=1000):\n",
        "    # X é o numero do passos (limite) para achar o min_E\n",
        "    k = (initial_E - min_E)/X\n",
        "    # k é a taxa de decaimento linear: Epsilon inicial - Epsilon minimo/x\n",
        "    def new_E(t): # t é o passo atual no treinamento\n",
        "        return max(min_E, initial_E - k * t)\n",
        "        # primeira vez -> (0.005, 1 - ((1-0.005)/1000) * 1) (0.005 ou 0,999005)\n",
        "        # segunda vez -> (0.005, 1 - ((1-0.005)/1000) * 2)...\n",
        "    return new_E"
      ]
    },
    {
      "cell_type": "markdown",
      "metadata": {
        "id": "yLQHD9gfxz37"
      },
      "source": [
        "#### Aplicado ao Q-learning"
      ]
    },
    {
      "cell_type": "code",
      "execution_count": null,
      "metadata": {
        "id": "qvSo9g68xs5s"
      },
      "outputs": [],
      "source": [
        "# (Q-learning é off-policy) - usando a mesma func E-greedy e apenas alterando o Q-learning do tópico recapitulações\n",
        "# ajuste dos parametros -> retira epsilon e coloca e_inicial e min, e X\n",
        "\n",
        "# Algoritmo Q-learning\n",
        "# Atenção: os espaços de estados e de ações precisam ser discretos, dados por valores inteiros\n",
        "def run_qlearning_linear_decay(env, episodes, lr=0.1, gamma=0.95, initial_E=1, min_E=0.005, X=1000):\n",
        "    assert isinstance(env.observation_space, gym.spaces.Discrete)\n",
        "    assert isinstance(env.action_space, gym.spaces.Discrete)\n",
        "\n",
        "    num_actions = env.action_space.n\n",
        "\n",
        "    # inicializa a tabela Q toda com zeros\n",
        "    # usar o estado como índice das linhas e a ação como índice das colunas\n",
        "    Q = np.zeros(shape = (env.observation_space.n, num_actions))\n",
        "\n",
        "    # para cada episódio, guarda sua soma de recompensas (retorno não-descontado)\n",
        "    all_episode_rewards = []\n",
        "\n",
        "    # definindo os variaveis dentro de linear_decay de acordo com o q-learning\n",
        "    epsilon_linear_decay = linear_decay(initial_E,min_E,X)\n",
        "    t_steps = 0 # contando passos\n",
        "\n",
        "    # loop principal\n",
        "    for i in range(episodes):\n",
        "        done = False\n",
        "        sum_rewards, reward = 0, 0\n",
        "\n",
        "        state, _ = env.reset()\n",
        "\n",
        "        # executa 1 episódio completo, fazendo atualizações na Q-table\n",
        "        while not done:\n",
        "            epsilon = epsilon_linear_decay(t_steps) # retorna o novo epsilon com base no linear decay e passo atual\n",
        "\n",
        "            # escolhe a próxima ação -- usa epsilon-greedy\n",
        "            action = epsilon_greedy(Q, state, epsilon)\n",
        "\n",
        "            # realiza a ação, ou seja, dá um passo no ambiente\n",
        "            next_state, reward, terminated, trunc, _ = env.step(action)\n",
        "            done = terminated or trunc\n",
        "\n",
        "            if terminated:\n",
        "                # para estados terminais\n",
        "                V_next_state = 0\n",
        "            else:\n",
        "                # para estados não-terminais -- valor máximo (melhor ação)\n",
        "                V_next_state = np.max(Q[next_state])\n",
        "\n",
        "            # atualiza a Q-table\n",
        "            # delta = (estimativa usando a nova recompensa) - estimativa antiga\n",
        "            delta = (reward + gamma * V_next_state) - Q[state,action]\n",
        "            Q[state,action] = Q[state,action] + lr * delta\n",
        "\n",
        "            sum_rewards += reward\n",
        "            state = next_state\n",
        "\n",
        "            t_steps += 1 # próximo passo\n",
        "\n",
        "        all_episode_rewards.append(sum_rewards)\n",
        "\n",
        "        # a cada 100 episódios, imprime informação sobre o progresso\n",
        "        if VERBOSE and ((i+1) % 100 == 0):\n",
        "            avg_reward = np.mean(all_episode_rewards[-100:])\n",
        "            print(f\"Episode {i+1} Average Reward (last 100): {avg_reward:.3f}\")\n",
        "\n",
        "    return all_episode_rewards, Q"
      ]
    },
    {
      "cell_type": "markdown",
      "metadata": {
        "id": "Us3IQDeMx57c"
      },
      "source": [
        "#### Aplicado ao SARSA"
      ]
    },
    {
      "cell_type": "code",
      "execution_count": null,
      "metadata": {
        "id": "e7-cvKREx-CF"
      },
      "outputs": [],
      "source": [
        "def run_sarsa_linear_decay(env, episodes, lr=0.1, gamma=0.95, initial_E=1, min_E=0.005, X=1000):\n",
        "    assert isinstance(env.observation_space, gym.spaces.Discrete)\n",
        "    assert isinstance(env.action_space, gym.spaces.Discrete)\n",
        "\n",
        "    num_actions = env.action_space.n\n",
        "\n",
        "    # Inicializa a tabela Q toda com zeros\n",
        "    Q = np.zeros(shape=(env.observation_space.n, num_actions))\n",
        "\n",
        "    # Para cada episódio, guarda sua soma de recompensas (retorno não-descontado)\n",
        "    all_episode_rewards = []\n",
        "\n",
        "    # Definindo as variáveis dentro de linear_decay de acordo com o SARSA\n",
        "    epsilon_linear_decay = linear_decay(initial_E, min_E, X)\n",
        "    t_steps = 0  # Contando passos\n",
        "\n",
        "    # Loop principal\n",
        "    for i in range(episodes):\n",
        "        done = False\n",
        "        sum_rewards, reward = 0, 0\n",
        "\n",
        "        state, _ = env.reset()\n",
        "\n",
        "        # Escolhe a primeira ação usando epsilon-greedy\n",
        "        epsilon = epsilon_linear_decay(t_steps)\n",
        "        action = epsilon_greedy(Q, state, epsilon)\n",
        "\n",
        "        # Executa 1 episódio completo, fazendo atualizações na Q-table\n",
        "        while not done:\n",
        "            # Realiza a ação, ou seja, dá um passo no ambiente\n",
        "            next_state, reward, terminated, trunc, _ = env.step(action)\n",
        "            done = terminated or trunc\n",
        "\n",
        "            # Escolhe a próxima ação usando epsilon-greedy\n",
        "            next_epsilon = epsilon_linear_decay(t_steps + 1)\n",
        "            next_action = epsilon_greedy(Q, next_state, next_epsilon)\n",
        "\n",
        "            if terminated:\n",
        "                # Para estados terminais\n",
        "                V_next_state = 0\n",
        "            else:\n",
        "                # Para estados não-terminais -- valor da próxima ação (SARSA é on-policy)\n",
        "                V_next_state = Q[next_state, next_action]\n",
        "\n",
        "            # Atualiza a Q-table\n",
        "            # delta = (estimativa usando a nova recompensa) - estimativa antiga\n",
        "            delta = (reward + gamma * V_next_state) - Q[state, action]\n",
        "            Q[state, action] = Q[state, action] + lr * delta\n",
        "\n",
        "            sum_rewards += reward\n",
        "            state = next_state\n",
        "            action = next_action  # SARSA usa a próxima ação para a atualização\n",
        "\n",
        "            t_steps += 1  # Próximo passo\n",
        "\n",
        "        all_episode_rewards.append(sum_rewards)\n",
        "\n",
        "        # A cada 100 episódios, imprime informação sobre o progresso\n",
        "        if VERBOSE and ((i + 1) % 100 == 0):\n",
        "            avg_reward = np.mean(all_episode_rewards[-100:])\n",
        "            print(f\"Episode {i + 1} Average Reward (last 100): {avg_reward:.3f}\")\n",
        "\n",
        "    return all_episode_rewards, Q"
      ]
    },
    {
      "cell_type": "markdown",
      "metadata": {
        "id": "7YBYR3-f9jP3"
      },
      "source": [
        "#### Aplicado ao Expected-SARSA"
      ]
    },
    {
      "cell_type": "code",
      "execution_count": null,
      "metadata": {
        "id": "I8gxgnos9jP4"
      },
      "outputs": [],
      "source": [
        "def run_expected_sarsa_linear_decay(env, episodes, lr=0.1, gamma=0.95, initial_E=1, min_E=0.005, X=1000):\n",
        "    assert isinstance(env.observation_space, gym.spaces.Discrete)\n",
        "    assert isinstance(env.action_space, gym.spaces.Discrete)\n",
        "\n",
        "    num_actions = env.action_space.n\n",
        "\n",
        "    # Inicializa a tabela Q toda com zeros\n",
        "    Q = np.zeros(shape=(env.observation_space.n, num_actions))\n",
        "\n",
        "    # Para cada episódio, guarda sua soma de recompensas (retorno não-descontado)\n",
        "    all_episode_rewards = []\n",
        "\n",
        "    # Definindo as variáveis dentro de linear_decay de acordo com o Expected-SARSA\n",
        "    epsilon_linear_decay = linear_decay(initial_E, min_E, X)\n",
        "    t_steps = 0  # Contando passos\n",
        "\n",
        "    # Loop principal\n",
        "    for i in range(episodes):\n",
        "        done = False\n",
        "        sum_rewards, reward = 0, 0\n",
        "\n",
        "        state, _ = env.reset()\n",
        "\n",
        "        # Escolhe a primeira ação usando epsilon-greedy\n",
        "        epsilon = epsilon_linear_decay(t_steps)\n",
        "        action = epsilon_greedy(Q, state, epsilon)\n",
        "\n",
        "        # Executa 1 episódio completo, fazendo atualizações na Q-table\n",
        "        while not done:\n",
        "            # Realiza a ação, ou seja, dá um passo no ambiente\n",
        "            next_state, reward, terminated, trunc, _ = env.step(action)\n",
        "            done = terminated or trunc\n",
        "\n",
        "            # Calcula o valor esperado para o próximo estado\n",
        "            next_epsilon = epsilon_linear_decay(t_steps + 1)\n",
        "            expected_value = 0  # Inicializa o valor esperado\n",
        "\n",
        "            # Calcula a probabilidade de cada ação no próximo estado\n",
        "            for a in range(num_actions):\n",
        "                if a == np.argmax(Q[next_state, :]):\n",
        "                    # Probabilidade de escolher a ação gulosa (1 - epsilon + epsilon/num_actions)\n",
        "                    prob = (1 - next_epsilon) + (next_epsilon / num_actions)\n",
        "                else:\n",
        "                    # Probabilidade de escolher uma ação aleatória (epsilon/num_actions)\n",
        "                    prob = next_epsilon / num_actions\n",
        "                expected_value += prob * Q[next_state, a]\n",
        "\n",
        "            if terminated:\n",
        "                # Para estados terminais\n",
        "                V_next_state = 0\n",
        "            else:\n",
        "                # Para estados não-terminais -- usa o valor esperado\n",
        "                V_next_state = expected_value\n",
        "\n",
        "            # Atualiza a Q-table\n",
        "            # delta = (estimativa usando a nova recompensa) - estimativa antiga\n",
        "            delta = (reward + gamma * V_next_state) - Q[state, action]\n",
        "            Q[state, action] = Q[state, action] + lr * delta\n",
        "\n",
        "            sum_rewards += reward\n",
        "            state = next_state\n",
        "            action = epsilon_greedy(Q, state, next_epsilon)  # Escolhe a próxima ação\n",
        "\n",
        "            t_steps += 1  # Próximo passo\n",
        "\n",
        "        all_episode_rewards.append(sum_rewards)\n",
        "\n",
        "        # A cada 100 episódios, imprime informação sobre o progresso\n",
        "        if VERBOSE and ((i + 1) % 100 == 0):\n",
        "            avg_reward = np.mean(all_episode_rewards[-100:])\n",
        "            print(f\"Episode {i + 1} Average Reward (last 100): {avg_reward:.3f}\")\n",
        "\n",
        "    return all_episode_rewards, Q"
      ]
    },
    {
      "cell_type": "markdown",
      "metadata": {
        "id": "Ev5B98j6-jxz"
      },
      "source": [
        "#### Aplicado ao SARSA de n Passos"
      ]
    },
    {
      "cell_type": "code",
      "execution_count": null,
      "metadata": {
        "id": "hixH5yK2-zxw"
      },
      "outputs": [],
      "source": [
        "def run_nstep_sarsa_linear_decay(env, episodes, n=3, lr=0.1, gamma=0.95, initial_E=1, min_E=0.005, X=1000):\n",
        "    assert isinstance(env.observation_space, gym.spaces.Discrete)\n",
        "    assert isinstance(env.action_space, gym.spaces.Discrete)\n",
        "\n",
        "    num_actions = env.action_space.n\n",
        "\n",
        "    # Inicializa a tabela Q toda com zeros\n",
        "    Q = np.zeros(shape=(env.observation_space.n, num_actions))\n",
        "\n",
        "    # Para cada episódio, guarda sua soma de recompensas (retorno não-descontado)\n",
        "    all_episode_rewards = []\n",
        "\n",
        "    # Definindo as variáveis dentro de linear_decay de acordo com o SARSA de n-passos\n",
        "    epsilon_linear_decay = linear_decay(initial_E, min_E, X)\n",
        "    t_steps = 0  # Contando passos\n",
        "\n",
        "    # Loop principal\n",
        "    for i in range(episodes):\n",
        "        done = False\n",
        "        sum_rewards, reward = 0, 0\n",
        "\n",
        "        state, _ = env.reset()\n",
        "\n",
        "        # Escolhe a primeira ação usando epsilon-greedy\n",
        "        epsilon = epsilon_linear_decay(t_steps)\n",
        "        action = epsilon_greedy(Q, state, epsilon)\n",
        "\n",
        "        # Listas para armazenar os últimos n estados, ações e recompensas\n",
        "        states = [state]\n",
        "        actions = [action]\n",
        "        rewards = [0]  # A primeira recompensa é 0, pois ainda não houve ação\n",
        "\n",
        "        # Executa 1 episódio completo, fazendo atualizações na Q-table\n",
        "        while not done:\n",
        "            # Realiza a ação, ou seja, dá um passo no ambiente\n",
        "            next_state, reward, terminated, trunc, _ = env.step(action)\n",
        "            done = terminated or trunc\n",
        "\n",
        "            # Escolhe a próxima ação usando epsilon-greedy\n",
        "            next_epsilon = epsilon_linear_decay(t_steps + 1)\n",
        "            next_action = epsilon_greedy(Q, next_state, next_epsilon)\n",
        "\n",
        "            # Armazena o próximo estado, ação e recompensa\n",
        "            states.append(next_state)\n",
        "            actions.append(next_action)\n",
        "            rewards.append(reward)\n",
        "\n",
        "            # Se já tivermos n passos, atualizamos a Q-table\n",
        "            if len(states) > n:\n",
        "                # Calcula o retorno de n-passos\n",
        "                G = 0\n",
        "                for j in range(t_steps - n + 1, t_steps + 1):\n",
        "                    G += (gamma ** (j - (t_steps - n))) * rewards[j]\n",
        "\n",
        "                # Adiciona o valor do estado final (se não for terminal)\n",
        "                if not done:\n",
        "                    G += (gamma ** n) * Q[next_state, next_action]\n",
        "\n",
        "                # Atualiza a Q-table para o estado e ação de n passos atrás\n",
        "                update_state = states[t_steps - n]\n",
        "                update_action = actions[t_steps - n]\n",
        "                Q[update_state, update_action] += lr * (G - Q[update_state, update_action])\n",
        "\n",
        "            sum_rewards += reward\n",
        "            state = next_state\n",
        "            action = next_action\n",
        "            t_steps += 1  # Próximo passo\n",
        "\n",
        "        # Atualiza os últimos n-1 passos que não foram atualizados\n",
        "        for k in range(max(0, len(states) - n), len(states) - 1):\n",
        "            G = 0\n",
        "            for j in range(k, len(states) - 1):\n",
        "                G += (gamma ** (j - k)) * rewards[j + 1]\n",
        "            if not done:\n",
        "                G += (gamma ** (len(states) - 1 - k)) * Q[states[-1], actions[-1]]\n",
        "            Q[states[k], actions[k]] += lr * (G - Q[states[k], actions[k]])\n",
        "\n",
        "        all_episode_rewards.append(sum_rewards)\n",
        "\n",
        "        # A cada 100 episódios, imprime informação sobre o progresso\n",
        "        if VERBOSE and ((i + 1) % 100 == 0):\n",
        "            avg_reward = np.mean(all_episode_rewards[-100:])\n",
        "            print(f\"Episode {i + 1} Average Reward (last 100): {avg_reward:.3f}\")\n",
        "\n",
        "    return all_episode_rewards, Q"
      ]
    },
    {
      "cell_type": "markdown",
      "metadata": {
        "id": "Q7-ULM5r0oMa"
      },
      "source": [
        "### Decaimento exponencial"
      ]
    },
    {
      "cell_type": "markdown",
      "metadata": {
        "id": "Ieb6QSMxC3dG"
      },
      "source": [
        "#### Função"
      ]
    },
    {
      "cell_type": "code",
      "execution_count": null,
      "metadata": {
        "id": "neSxhaZuDCL7"
      },
      "outputs": [],
      "source": [
        "import math\n",
        "\n",
        "def exponential_decay(initial_E=1.0, min_E=0.005, decay_rate=0.001):\n",
        "    \"\"\"\n",
        "    Função de decaimento exponencial para epsilon.\n",
        "\n",
        "    Parâmetros:\n",
        "        initial_E (float): Valor inicial de epsilon (epsilon máximo).\n",
        "        min_E (float): Valor mínimo de epsilon.\n",
        "        decay_rate (float): Taxa de decaimento (controla a velocidade do decaimento).\n",
        "\n",
        "    Retorna:\n",
        "        Uma função que calcula o epsilon para um dado passo t.\n",
        "    \"\"\"\n",
        "    def new_E(t):\n",
        "        # Decaimento exponencial suave em direção a min_E\n",
        "        return min_E + (initial_E - min_E) * math.exp(-decay_rate * t)\n",
        "\n",
        "    return new_E"
      ]
    },
    {
      "cell_type": "markdown",
      "metadata": {
        "id": "Ke4_rJ2LDYtF"
      },
      "source": [
        "#### Aplicado ao Q-Learning"
      ]
    },
    {
      "cell_type": "code",
      "execution_count": null,
      "metadata": {
        "id": "Wf4Zyc47DcNb"
      },
      "outputs": [],
      "source": [
        "import numpy as np\n",
        "import math\n",
        "import gym  # Certifique-se de instalar o Gym com: pip install gym\n",
        "\n",
        "def exponential_decay(initial_E=1.0, min_E=0.005, decay_rate=0.001):\n",
        "    def new_E(t):\n",
        "        return min_E + (initial_E - min_E) * math.exp(-decay_rate * t)\n",
        "    return new_E\n",
        "\n",
        "def epsilon_greedy(Q, state, epsilon):\n",
        "    if np.random.rand() < epsilon:\n",
        "        return np.random.choice(len(Q[state]))  # Exploração\n",
        "    else:\n",
        "        best_actions = np.where(Q[state] == np.max(Q[state]))[0]\n",
        "        return np.random.choice(best_actions)  # Escolhe entre as melhores ações\n",
        "\n",
        "def run_qlearning_exponential_decay(env, episodes, lr=0.1, gamma=0.95,\n",
        "                                    initial_E=1.0, min_E=0.005, decay_rate=0.001,\n",
        "                                    verbose=True):\n",
        "    # Garantindo que o ambiente é discreto\n",
        "    assert isinstance(env.observation_space, gym.spaces.Discrete), \"Apenas espaços discretos são suportados!\"\n",
        "    assert isinstance(env.action_space, gym.spaces.Discrete), \"Apenas ações discretas são suportadas!\"\n",
        "\n",
        "    num_actions = env.action_space.n\n",
        "    Q = np.zeros((env.observation_space.n, num_actions))\n",
        "    all_episode_rewards = []\n",
        "    avg_rewards = []\n",
        "    epsilon_values = []\n",
        "\n",
        "    epsilon_decay = exponential_decay(initial_E, min_E, decay_rate)\n",
        "\n",
        "    for i in range(episodes):\n",
        "        state, _ = env.reset()  # Ajuste para Gym v0.26+\n",
        "        done = False\n",
        "        sum_rewards = 0\n",
        "        t_steps = 0  # Reseta a cada episódio\n",
        "\n",
        "        while not done:\n",
        "            epsilon = epsilon_decay(t_steps)\n",
        "            action = epsilon_greedy(Q, state, epsilon)\n",
        "\n",
        "            next_state, reward, terminated, truncated, _ = env.step(action)\n",
        "            done = terminated or truncated\n",
        "\n",
        "            # Atualização Q-Learning\n",
        "            V_next_state = 0 if done else np.max(Q[next_state])\n",
        "            Q[state, action] += lr * (reward + gamma * V_next_state - Q[state, action])\n",
        "\n",
        "            sum_rewards += reward\n",
        "            state = next_state\n",
        "            t_steps += 1\n",
        "\n",
        "        all_episode_rewards.append(sum_rewards)\n",
        "        avg_rewards.append(np.mean(all_episode_rewards[-100:]))\n",
        "        epsilon_values.append(epsilon_decay(t_steps))\n",
        "\n",
        "        if verbose and (i + 1) % 100 == 0:\n",
        "            print(f\"Episode {i + 1}: Avg Reward (last 100): {avg_rewards[-1]:.3f}, Epsilon: {epsilon:.4f}\")\n",
        "\n",
        "    return all_episode_rewards, Q, avg_rewards, epsilon_values"
      ]
    },
    {
      "cell_type": "markdown",
      "metadata": {
        "id": "1sBroZK5IkYj"
      },
      "source": [
        "#### Aplicado ao SARSA"
      ]
    },
    {
      "cell_type": "code",
      "execution_count": null,
      "metadata": {
        "id": "PT2y8cs9IlxW"
      },
      "outputs": [],
      "source": [
        "import numpy as np\n",
        "import math\n",
        "import gym  # Certifique-se de instalar o Gym com: pip install gym\n",
        "\n",
        "def exponential_decay(initial_E=1.0, min_E=0.005, decay_rate=0.001):\n",
        "    def new_E(t):\n",
        "        return min_E + (initial_E - min_E) * math.exp(-decay_rate * t)\n",
        "    return new_E\n",
        "\n",
        "def epsilon_greedy(Q, state, epsilon):\n",
        "    if np.random.rand() < epsilon:\n",
        "        return np.random.choice(len(Q[state]))  # Exploração\n",
        "    else:\n",
        "        best_actions = np.where(Q[state] == np.max(Q[state]))[0]\n",
        "        return np.random.choice(best_actions)  # Escolha aleatória entre as melhores ações\n",
        "\n",
        "def run_sarsa_exponential_decay(env, episodes, lr=0.1, gamma=0.95, initial_E=1.0, min_E=0.005, decay_rate=0.001, verbose=True):\n",
        "    # Garantindo que o ambiente é discreto\n",
        "    assert isinstance(env.observation_space, gym.spaces.Discrete), \"Apenas espaços discretos são suportados!\"\n",
        "    assert isinstance(env.action_space, gym.spaces.Discrete), \"Apenas ações discretas são suportadas!\"\n",
        "\n",
        "    num_actions = env.action_space.n\n",
        "    Q = np.zeros((env.observation_space.n, num_actions))\n",
        "    all_episode_rewards = []\n",
        "    avg_rewards = []\n",
        "    epsilon_values = []\n",
        "\n",
        "    epsilon_decay = exponential_decay(initial_E, min_E, decay_rate)\n",
        "\n",
        "    for i in range(episodes):\n",
        "        state, _ = env.reset()  # Ajuste para Gym v0.26+\n",
        "        done = False\n",
        "        sum_rewards = 0\n",
        "        epsilon = epsilon_decay(i)  # Decaimento baseado no episódio\n",
        "        epsilon_values.append(epsilon)  # Registrar o valor do epsilon\n",
        "\n",
        "        # Escolhe a primeira ação usando epsilon-greedy\n",
        "        action = epsilon_greedy(Q, state, epsilon)\n",
        "\n",
        "        while not done:\n",
        "            # Executa a ação no ambiente\n",
        "            next_state, reward, terminated, truncated, _ = env.step(action)\n",
        "            done = terminated or truncated\n",
        "\n",
        "            # Escolhe a próxima ação usando epsilon-greedy\n",
        "            next_action = epsilon_greedy(Q, next_state, epsilon)\n",
        "\n",
        "            # Atualiza a Q-table (SARSA usa a próxima ação)\n",
        "            V_next_state = 0 if done else Q[next_state, next_action]\n",
        "            Q[state, action] += lr * (reward + gamma * V_next_state - Q[state, action])\n",
        "\n",
        "            sum_rewards += reward\n",
        "            state = next_state\n",
        "            action = next_action  # Atualiza a ação para o próximo passo\n",
        "\n",
        "        all_episode_rewards.append(sum_rewards)\n",
        "        avg_rewards.append(np.mean(all_episode_rewards[-100:]))  # Média móvel\n",
        "\n",
        "        if verbose and ((i + 1) % 100 == 0):\n",
        "            print(f\"Episode {i + 1}: Avg Reward (last 100): {avg_rewards[-1]:.3f}, Epsilon: {epsilon:.4f}\")\n",
        "\n",
        "    return all_episode_rewards, Q, avg_rewards, epsilon_values"
      ]
    },
    {
      "cell_type": "markdown",
      "metadata": {
        "id": "q40W1P-1L3E7"
      },
      "source": [
        "#### Aplicado ao Expected-SARSA"
      ]
    },
    {
      "cell_type": "code",
      "execution_count": null,
      "metadata": {
        "id": "U92dDL7_L7OZ"
      },
      "outputs": [],
      "source": [
        "import numpy as np\n",
        "import math\n",
        "import gym  # Certifique-se de instalar com: pip install gym\n",
        "\n",
        "def exponential_decay(initial_E=1.0, min_E=0.005, decay_rate=0.001):\n",
        "    def new_E(t):\n",
        "        return min_E + (initial_E - min_E) * math.exp(-decay_rate * t)\n",
        "    return new_E\n",
        "\n",
        "def epsilon_greedy(Q, state, epsilon):\n",
        "    if np.random.rand() < epsilon:\n",
        "        return np.random.choice(len(Q[state]))  # Exploração\n",
        "    else:\n",
        "        best_actions = np.where(Q[state] == np.max(Q[state]))[0]\n",
        "        return np.random.choice(best_actions)  # Escolha aleatória entre as melhores ações\n",
        "\n",
        "def run_expected_sarsa_exponential_decay(env, episodes, lr=0.1, gamma=0.95, initial_E=1.0, min_E=0.005, decay_rate=0.001, verbose=True):\n",
        "    assert isinstance(env.observation_space, gym.spaces.Discrete), \"O ambiente deve ter um espaço de estados discreto.\"\n",
        "    assert isinstance(env.action_space, gym.spaces.Discrete), \"O ambiente deve ter um espaço de ações discreto.\"\n",
        "\n",
        "    num_actions = env.action_space.n\n",
        "    Q = np.zeros((env.observation_space.n, num_actions))\n",
        "    all_episode_rewards = []\n",
        "    avg_rewards = []\n",
        "    epsilon_values = []\n",
        "\n",
        "    epsilon_decay = exponential_decay(initial_E, min_E, decay_rate)\n",
        "\n",
        "    for i in range(episodes):\n",
        "        state, _ = env.reset()  # Ajuste para Gym v0.26+\n",
        "        done = False\n",
        "        sum_rewards = 0\n",
        "        epsilon = epsilon_decay(i)  # Decaimento baseado no episódio\n",
        "        epsilon_values.append(epsilon)  # Registrar o valor do epsilon\n",
        "\n",
        "        while not done:\n",
        "            action = epsilon_greedy(Q, state, epsilon)\n",
        "            next_state, reward, terminated, truncated, _ = env.step(action)\n",
        "            done = terminated or truncated\n",
        "\n",
        "            next_epsilon = epsilon_decay(i + 1)  # Usando episódio como referência\n",
        "\n",
        "            # Cálculo do valor esperado para o próximo estado\n",
        "            expected_value = 0\n",
        "            best_actions = np.where(Q[next_state] == np.max(Q[next_state]))[0]\n",
        "            prob_best_action = (1 - next_epsilon) + (next_epsilon / num_actions)\n",
        "            prob_other_actions = next_epsilon / num_actions\n",
        "\n",
        "            for a in range(num_actions):\n",
        "                prob = prob_best_action if a in best_actions else prob_other_actions\n",
        "                expected_value += prob * Q[next_state, a]\n",
        "\n",
        "            # Atualização da Q-table (Expected SARSA)\n",
        "            Q[state, action] += lr * (reward + gamma * expected_value - Q[state, action])\n",
        "\n",
        "            sum_rewards += reward\n",
        "            state = next_state\n",
        "\n",
        "        all_episode_rewards.append(sum_rewards)\n",
        "        avg_rewards.append(np.mean(all_episode_rewards[-100:]))  # Média móvel\n",
        "\n",
        "        if verbose and ((i + 1) % 100 == 0):\n",
        "            print(f\"Episode {i + 1}: Avg Reward (last 100): {avg_rewards[-1]:.3f}, Epsilon: {epsilon:.4f}\")\n",
        "\n",
        "    return all_episode_rewards, Q, avg_rewards, epsilon_values"
      ]
    },
    {
      "cell_type": "markdown",
      "metadata": {
        "id": "dFfo3CcmPcTr"
      },
      "source": [
        "#### Aplicado ao SARSA de N-passos"
      ]
    },
    {
      "cell_type": "code",
      "execution_count": null,
      "metadata": {
        "id": "4Ay5efJePgza"
      },
      "outputs": [],
      "source": [
        "import numpy as np\n",
        "import math\n",
        "import gym  # Certifique-se de instalar com: pip install gym\n",
        "\n",
        "def exponential_decay(initial_E=1.0, min_E=0.005, decay_rate=0.001):\n",
        "    \"\"\"Função para calcular epsilon com decaimento exponencial.\"\"\"\n",
        "    def new_E(t):\n",
        "        return min_E + (initial_E - min_E) * math.exp(-decay_rate * t)\n",
        "    return new_E\n",
        "\n",
        "def epsilon_greedy(Q, state, epsilon):\n",
        "    \"\"\"Política epsilon-greedy para escolher ações.\"\"\"\n",
        "    if np.random.rand() < epsilon:\n",
        "        return np.random.choice(len(Q[state]))  # Exploração\n",
        "    else:\n",
        "        best_actions = np.where(Q[state] == np.max(Q[state]))[0]\n",
        "        return np.random.choice(best_actions)  # Escolhe entre as ações ótimas\n",
        "\n",
        "def run_nstep_sarsa_exponential_decay(env, episodes, n=3, lr=0.1, gamma=0.95, initial_E=1.0, min_E=0.005, decay_rate=0.001, verbose=True):\n",
        "    \"\"\"Executa n-step SARSA com decaimento exponencial de epsilon.\"\"\"\n",
        "\n",
        "    # Verificações do ambiente\n",
        "    assert isinstance(env.observation_space, gym.spaces.Discrete), \"O ambiente deve ter um espaço de estados discreto.\"\n",
        "    assert isinstance(env.action_space, gym.spaces.Discrete), \"O ambiente deve ter um espaço de ações discreto.\"\n",
        "\n",
        "    num_actions = env.action_space.n\n",
        "    Q = np.zeros((env.observation_space.n, num_actions))  # Inicializa a Q-table\n",
        "    all_episode_rewards = []\n",
        "\n",
        "    epsilon_decay = exponential_decay(initial_E, min_E, decay_rate)  # Função de decaimento de epsilon\n",
        "\n",
        "    for i in range(episodes):\n",
        "        state, _ = env.reset()  # Ajuste para Gym v0.26+\n",
        "        done = False\n",
        "        sum_rewards = 0\n",
        "        epsilon = epsilon_decay(i)  # Epsilon atualizado por episódio\n",
        "\n",
        "        # Armazena as últimas transições para atualização n-step\n",
        "        states = [state]\n",
        "        actions = [epsilon_greedy(Q, state, epsilon)]\n",
        "        rewards = [0]  # Inicialmente zero\n",
        "\n",
        "        step_count = 0\n",
        "        while not done:\n",
        "            # Executa ação no ambiente\n",
        "            next_state, reward, terminated, truncated, _ = env.step(actions[-1])\n",
        "            done = terminated or truncated\n",
        "\n",
        "            sum_rewards += reward\n",
        "            states.append(next_state)\n",
        "            rewards.append(reward)\n",
        "\n",
        "            # Se não for terminal, escolhe a próxima ação\n",
        "            if not done:\n",
        "                next_epsilon = epsilon_decay(i)  # Atualiza epsilon com base no episódio\n",
        "                actions.append(epsilon_greedy(Q, next_state, next_epsilon))\n",
        "            else:\n",
        "                actions.append(None)  # No terminal, não há ação\n",
        "\n",
        "            # Atualiza a Q-table usando o retorno de n-passos\n",
        "            if step_count >= n - 1:\n",
        "                G = sum(gamma ** j * rewards[j] for j in range(1, n + 1))  # Soma das recompensas futuras\n",
        "\n",
        "                if not done and actions[-1] is not None:  # Se não for terminal, adiciona valor esperado\n",
        "                    G += (gamma ** n) * Q[states[-1], actions[-1]]\n",
        "\n",
        "                Q[states[0], actions[0]] += lr * (G - Q[states[0], actions[0]])\n",
        "\n",
        "                # Mantém o buffer de tamanho `n`\n",
        "                del states[0]\n",
        "                del actions[0]\n",
        "                del rewards[0]\n",
        "\n",
        "            step_count += 1\n",
        "\n",
        "        all_episode_rewards.append(sum_rewards)\n",
        "\n",
        "        # Atualiza os últimos passos ao final do episódio\n",
        "        while len(states) > 1:  # Atualiza todas as transições restantes\n",
        "            G = sum(gamma ** j * rewards[j] for j in range(1, len(states)))\n",
        "            if actions[-1] is not None:\n",
        "                G += (gamma ** (len(states) - 1)) * Q[states[-1], actions[-1]]\n",
        "\n",
        "            Q[states[0], actions[0]] += lr * (G - Q[states[0], actions[0]])\n",
        "\n",
        "            del states[0]\n",
        "            del actions[0]\n",
        "            del rewards[0]\n",
        "\n",
        "        # Exibe progresso a cada 100 episódios\n",
        "        if verbose and ((i + 1) % 100 == 0):\n",
        "            avg_reward = np.mean(all_episode_rewards[-100:])\n",
        "            print(f\"Episode {i + 1}: Avg Reward (last 100): {avg_reward:.3f}, Epsilon: {epsilon:.4f}\")\n",
        "\n",
        "    return all_episode_rewards, Q"
      ]
    },
    {
      "cell_type": "markdown",
      "metadata": {
        "id": "UfieBxUT0Qpq"
      },
      "source": [
        "## Decaimento Adaptativo do ε"
      ]
    },
    {
      "cell_type": "markdown",
      "metadata": {
        "id": "2t7pTkbs07GJ"
      },
      "source": [
        "### Decaimento baseado no desempenho recente"
      ]
    },
    {
      "cell_type": "markdown",
      "metadata": {
        "id": "CibLZCqMbeCZ"
      },
      "source": [
        "#### Função"
      ]
    },
    {
      "cell_type": "markdown",
      "metadata": {
        "id": "DENjikAxb0CZ"
      },
      "source": [
        "- Se o desempenho médio dos últimos X episódios não piorar, reduzir ε.\n",
        "- Se o desempenho cair, manter ε estável ou aumentar levemente."
      ]
    },
    {
      "cell_type": "code",
      "execution_count": null,
      "metadata": {
        "id": "5uaVUOMtbwVR"
      },
      "outputs": [],
      "source": [
        "def adaptive_decay_E(E, recent_rewards, threshold=0.005, decay_factor=0.995, increase_factor=1.005, min_E=0.005, max_E=0.995, X=200):\n",
        "    if len(recent_rewards) < 2:\n",
        "        return E  # Não há dados suficientes para avaliar\n",
        "\n",
        "    N = min(50, len(recent_rewards)//2)  # Número de episódios considerados\n",
        "    recent_mean = np.mean(recent_rewards[-N:])\n",
        "\n",
        "    if len(recent_rewards) >= 2*N:\n",
        "        previous_mean = np.mean(recent_rewards[-2*N:-N])\n",
        "    else:\n",
        "        previous_mean = recent_mean  # Evita erro de variável não inicializada\n",
        "\n",
        "    if recent_mean >= (previous_mean - threshold):  # Melhorou ou manteve\n",
        "        E = max(E * decay_factor, min_E)\n",
        "    else:  # Desempenho piorou\n",
        "        if E < max_E * 0.9:  # Permite aumento apenas se estiver significativamente abaixo do máximo\n",
        "            E = min(E * increase_factor, max_E)\n",
        "\n",
        "    return E\n"
      ]
    },
    {
      "cell_type": "markdown",
      "metadata": {
        "id": "i8CBhgLkbrv0"
      },
      "source": [
        "#### Aplicado ao Q-learning"
      ]
    },
    {
      "cell_type": "code",
      "execution_count": null,
      "metadata": {
        "id": "6Z8KRT2_bsil"
      },
      "outputs": [],
      "source": [
        "\n",
        "\n",
        "def run_qlearning_adaptive(env, episodes, lr=0.1, gamma=0.95, initial_E=.995, min_E=0.005, threshold=0.005, decay_factor=0.995, increase_factor=1.005, X = 200): # X = numero X de episodios para atualizar\n",
        "    assert isinstance(env.observation_space, gym.spaces.Discrete)\n",
        "    assert isinstance(env.action_space, gym.spaces.Discrete)\n",
        "\n",
        "    num_actions = env.action_space.n\n",
        "    Q = np.zeros((env.observation_space.n, num_actions))  # Inicializa a tabela Q\n",
        "\n",
        "    all_episode_rewards = []\n",
        "    recent_rewards = []\n",
        "    epsilon = initial_E\n",
        "\n",
        "    for i in range(episodes):\n",
        "        done = False\n",
        "        sum_rewards = 0\n",
        "        state, _ = env.reset()\n",
        "\n",
        "        while not done:\n",
        "            action = epsilon_greedy(Q, state, epsilon)\n",
        "            next_state, reward, terminated, trunc, _ = env.step(action)\n",
        "            done = terminated or trunc\n",
        "\n",
        "            # Atualiza Q-table (Q-Learning)\n",
        "            V_next_state = 0 if terminated else np.max(Q[next_state])\n",
        "            Q[state, action] += lr * ((reward + gamma * V_next_state) - Q[state, action])\n",
        "\n",
        "            sum_rewards += reward\n",
        "            state = next_state\n",
        "\n",
        "        all_episode_rewards.append(sum_rewards)\n",
        "        recent_rewards.append(sum_rewards)\n",
        "\n",
        "        if len(recent_rewards) > X:\n",
        "            recent_rewards.pop(0)\n",
        "\n",
        "        epsilon = adaptive_decay_E(epsilon, recent_rewards, threshold, decay_factor, increase_factor, min_E,X)\n",
        "\n",
        "        if (i + 1) % X == 0:\n",
        "            avg_reward = np.mean(all_episode_rewards[-X:])\n",
        "            print(f\"Episode {i+1} | Avg Reward: {avg_reward:.3f} | Epsilon: {epsilon:.4f}\")\n",
        "\n",
        "    return all_episode_rewards, Q"
      ]
    },
    {
      "cell_type": "markdown",
      "metadata": {
        "id": "5hD42QfGbWaZ"
      },
      "source": [
        "#### Aplicado ao SARSA"
      ]
    },
    {
      "cell_type": "code",
      "execution_count": null,
      "metadata": {
        "id": "INH5_iDNiJYN"
      },
      "outputs": [],
      "source": []
    },
    {
      "cell_type": "markdown",
      "metadata": {
        "id": "zqyfviioh1t-"
      },
      "source": [
        "#### Aplicado ao Expected-SARSA"
      ]
    },
    {
      "cell_type": "code",
      "execution_count": null,
      "metadata": {
        "id": "a6JG68cKiH30"
      },
      "outputs": [],
      "source": []
    },
    {
      "cell_type": "markdown",
      "metadata": {
        "id": "Cux5zoTKiMAu"
      },
      "source": [
        "#### Aplicado ao SARSA de n-passos"
      ]
    },
    {
      "cell_type": "code",
      "execution_count": null,
      "metadata": {
        "id": "4KfiA5sPiKaS"
      },
      "outputs": [],
      "source": []
    },
    {
      "cell_type": "markdown",
      "metadata": {
        "id": "syGwwpiv0-4p"
      },
      "source": [
        "### Decaimento proporcional ao desempenho greedy"
      ]
    },
    {
      "cell_type": "markdown",
      "metadata": {
        "id": "uVY8J55F2ZZ4"
      },
      "source": [
        "- Definir um desempenho alvo baseado na melhor política conhecida.\n",
        "- Ajustar ε proporcionalmente à distância entre o desempenho atual e o desempenho alvo.\n",
        "\n",
        "Edtratégia:\n",
        "- Se a recompensa atual estiver abaixo do alvo -> aumenta epsilon (explorar mais)\n",
        "-Se estiver próximo/acima do alvo -> reduz epsilon (explorar menos)"
      ]
    },
    {
      "cell_type": "markdown",
      "metadata": {
        "id": "z_5KyVOTieHm"
      },
      "source": [
        "#### Função"
      ]
    },
    {
      "cell_type": "code",
      "execution_count": null,
      "metadata": {
        "id": "Mxbhu0hsidWI"
      },
      "outputs": [],
      "source": [
        "def adaptive_decay_E_target(E, current_reward,best_avg_reward, decay_factor =0.99, increase_factor=1.01, min_E=.01, max_E-1.00):\n",
        "\n",
        "  if best_avg_reward is None:\n",
        "    return E\n",
        "  performance_ratio = current_reward / best_avg_reward # proporção de proximidade\n",
        "\n",
        "  if performance_ratio < 1.0:\n",
        "    E *= increase_factor\n",
        "  else:\n",
        "    E *= decay_factor\n",
        "\n",
        "  return max(min_E, min(E,max_E)) # E nunca passa de máximo ou mínimo"
      ]
    },
    {
      "cell_type": "markdown",
      "metadata": {
        "id": "ZbMjABaVkivl"
      },
      "source": [
        "#### Aplicado ao Q-learning"
      ]
    },
    {
      "cell_type": "code",
      "execution_count": null,
      "metadata": {
        "id": "Set7hqECkmAj"
      },
      "outputs": [],
      "source": [
        "# Algoritmo Q-learning com decaimento proporcional ao desempenho alvo\n",
        "def run_qlearning_target(env, episodes, lr=0.1, gamma=0.95, initial_E=1.0, min_E=0.01, max_E=1.0, decay_factor=0.99, increase_factor=1.01):\n",
        "    assert isinstance(env.observation_space, gym.spaces.Discrete)\n",
        "    assert isinstance(env.action_space, gym.spaces.Discrete)\n",
        "\n",
        "    num_actions = env.action_space.n\n",
        "    Q = np.zeros(shape=(env.observation_space.n, num_actions))  # Inicializa a tabela Q\n",
        "\n",
        "    all_episode_rewards = []\n",
        "    epsilon = initial_E\n",
        "    best_avg_reward = None  # melhor desempenho médio - alvo escolhido na estratégia\n",
        "\n",
        "    for i in range(episodes):\n",
        "        done = False\n",
        "        sum_rewards = 0\n",
        "        state, _ = env.reset()\n",
        "\n",
        "        while not done:\n",
        "            action = epsilon_greedy(Q, state, epsilon) # E-greedy\n",
        "\n",
        "            next_state, reward, terminated, trunc, _ = env.step(action)\n",
        "            done = terminated or trunc\n",
        "\n",
        "            V_next_state = 0 if terminated else np.max(Q[next_state])\n",
        "            delta = (reward + gamma * V_next_state) - Q[state, action]\n",
        "            Q[state, action] += lr * delta\n",
        "\n",
        "            sum_rewards += reward\n",
        "            state = next_state\n",
        "\n",
        "        all_episode_rewards.append(sum_rewards)\n",
        "\n",
        "        # pegando a melhor media a cada 100 episódios - melhorar para X episódios\n",
        "        if (i + 1) % 100 == 0:\n",
        "            best_avg_reward = np.mean(all_episode_rewards[-100:])\n",
        "\n",
        "        # trocando E para um baseado no desempenho alvo\n",
        "        epsilon = adaptive_decay_target(epsilon, sum_rewards, best_avg_reward, decay_factor, increase_factor, min_E, max_E)\n",
        "\n",
        "        if VERBOSE and ((i + 1) % 100 == 0):\n",
        "            print(f\"Episode {i+1} | Avg Reward (last 100): {best_avg_reward:.3f} | Epsilon: {epsilon:.4f}\")\n",
        "\n",
        "    return all_episode_rewards, Q"
      ]
    },
    {
      "cell_type": "markdown",
      "metadata": {
        "id": "wvausVvN3q9F"
      },
      "source": [
        "## Atualizações - ajuste dinâmico"
      ]
    },
    {
      "cell_type": "markdown",
      "metadata": {
        "id": "kIqdo2tI4LLe"
      },
      "source": [
        "- Manter um histórico das últimas recompensas médias.\n",
        "- Ajustar ε dependendo da estabilidade do desempenho."
      ]
    },
    {
      "cell_type": "markdown",
      "metadata": {
        "id": "KRpQH1yC1VOL"
      },
      "source": [
        "# Testes"
      ]
    },
    {
      "cell_type": "markdown",
      "metadata": {
        "id": "5Fd9q0S-4h-H"
      },
      "source": [
        "Definir melhores ambientes para os decaimentos e parametrização. Criar comparações para o artigo\n",
        "\n",
        "\n"
      ]
    },
    {
      "cell_type": "markdown",
      "metadata": {
        "id": "aCDsb9CqfmIU"
      },
      "source": [
        "## Linear Decay"
      ]
    },
    {
      "cell_type": "markdown",
      "metadata": {
        "id": "13bt0Fm9fmIW"
      },
      "source": [
        "Q-Learning (Epsilon-greedy)"
      ]
    },
    {
      "cell_type": "code",
      "execution_count": null,
      "metadata": {
        "id": "tnv15eqTfmIX"
      },
      "outputs": [],
      "source": [
        "#ENV_NAME, r_max = \"Taxi-v3\", 10\n",
        "ENV_NAME, r_max = \"CliffWalking-v0\", 0\n",
        "\n",
        "EPISODES = 8_000\n",
        "LR = 0.01\n",
        "GAMMA = 0.95\n",
        "EPSILON = 0.05\n",
        "\n",
        "env = gym.make(ENV_NAME, max_episode_steps=500)\n",
        "\n",
        "# Roda o algoritmo Q-Learning\n",
        "rewards1, qtable1 = run_qlearning_linear_decay(env, EPISODES, LR, GAMMA)\n",
        "clear_output()\n",
        "\n",
        "print(\"Últimos resultados: media =\", np.mean(rewards1[-20:]), \", desvio padrao =\", np.std(rewards1[-20:]))"
      ]
    },
    {
      "cell_type": "code",
      "execution_count": null,
      "metadata": {
        "id": "OTmjvwVKfmIY"
      },
      "outputs": [],
      "source": [
        "# Mostra um gráfico de episódios x retornos não descontados\n",
        "plot_result(rewards1, r_max)"
      ]
    },
    {
      "cell_type": "markdown",
      "metadata": {
        "id": "2z1ntbHw8qTg"
      },
      "source": [
        "## Adaptive Decay 1"
      ]
    },
    {
      "cell_type": "markdown",
      "metadata": {
        "id": "ymKgRJw28uQb"
      },
      "source": [
        "Q-Learning (Epsilon-greedy)"
      ]
    },
    {
      "cell_type": "code",
      "execution_count": null,
      "metadata": {
        "id": "0zrZZBnr8yZe"
      },
      "outputs": [],
      "source": [
        "#ENV_NAME, r_max = \"Taxi-v3\", 10\n",
        "ENV_NAME, r_max = \"CliffWalking-v0\", 0\n",
        "\n",
        "EPISODES = 8_000\n",
        "LR = 0.01\n",
        "GAMMA = 0.95\n",
        "EPSILON = 0.05\n",
        "\n",
        "env = gym.make(ENV_NAME, max_episode_steps=500)\n",
        "\n",
        "# Roda o algoritmo Q-Learning\n",
        "rewards1, qtable1 = run_qlearning_adaptive(env, EPISODES, LR, GAMMA)\n",
        "# clear_output()\n",
        "\n",
        "print(\"Últimos resultados: media =\", np.mean(rewards1[-20:]), \", desvio padrao =\", np.std(rewards1[-20:]))"
      ]
    },
    {
      "cell_type": "code",
      "execution_count": null,
      "metadata": {
        "id": "q_iDj56p9B7f"
      },
      "outputs": [],
      "source": [
        "# Mostra um gráfico de episódios x retornos não descontados\n",
        "plot_result(rewards1, r_max)"
      ]
    },
    {
      "cell_type": "markdown",
      "metadata": {
        "id": "ATSewAohTzJS"
      },
      "source": [
        "# Experimentos (Frozen, Taxi, Cliff, Racetrack)"
      ]
    },
    {
      "cell_type": "markdown",
      "metadata": {
        "id": "FwJjwpPbZZbP"
      },
      "source": [
        "## Setup inicial"
      ]
    },
    {
      "cell_type": "code",
      "execution_count": 53,
      "metadata": {
        "id": "1NXGIsRrY4Nr"
      },
      "outputs": [],
      "source": [
        "from IPython.display import clear_output\n",
        "import sys\n",
        "\n",
        "IN_COLAB = 'google.colab' in sys.modules\n",
        "\n",
        "if IN_COLAB:\n",
        "    # for saving videos\n",
        "    !apt-get install ffmpeg\n",
        "\n",
        "    !pip install gymnasium moviepy\n",
        "    !pip install optuna\n",
        "\n",
        "    # clone repository\n",
        "    !git clone https://github.com/pablo-sampaio/rl_facil\n",
        "    sys.path.append(\"/content/rl_facil\")\n",
        "\n",
        "    clear_output()\n",
        "else:\n",
        "    from os import path\n",
        "    sys.path.append( path.dirname( path.dirname( path.abspath(\"__main__\") ) ) )"
      ]
    },
    {
      "cell_type": "code",
      "execution_count": 66,
      "metadata": {
        "id": "1H5DyqxUZCQO"
      },
      "outputs": [],
      "source": [
        "import optuna\n",
        "from functools import partial\n",
        "import gymnasium as gym\n",
        "import numpy as np\n",
        "import math\n",
        "from util.experiments import repeated_exec\n",
        "from util.plot import plot_result, plot_multiple_results\n",
        "import matplotlib.pyplot as plt\n",
        "from util.notebook import display_videos_from_path\n",
        "from util.qtable_helper import evaluate_qtable_policy, record_video_qtable\n",
        "# define se os algoritmos vão imprimir dados do treinamento\n",
        "VERBOSE = True"
      ]
    },
    {
      "cell_type": "code",
      "execution_count": 54,
      "metadata": {
        "id": "WDCgtMW5ZVKn"
      },
      "outputs": [],
      "source": [
        "def epsilon_greedy(Q, state, epsilon):\n",
        "    num_actions = len(Q[state])\n",
        "    if np.random.random() < epsilon:\n",
        "        return np.random.randint(0, num_actions)\n",
        "    else:\n",
        "        return np.argmax(Q[state])   # em caso de empates, retorna sempre o menor índice --> mais eficiente, porém...\n",
        "        #return np.random.choice(np.where(Q[state] == Q[state].max())[0]) # aleatoriza em caso de empates"
      ]
    },
    {
      "cell_type": "markdown",
      "metadata": {
        "id": "_BW7tZMXX0nj"
      },
      "source": [
        "## Decaimento parametrizado\n",
        "\n"
      ]
    },
    {
      "cell_type": "code",
      "execution_count": 55,
      "metadata": {
        "id": "re_lAZ_uXzuy"
      },
      "outputs": [],
      "source": [
        "def epsilon_decay(decay_type='none', initial_E=1.0, min_E=0.005, X=1000, Y=None, total_steps=1000,episodes=8000, decay_rate=0.001):\n",
        "    \"\"\"\n",
        "        decay_type (str): Tipo de decaimento ('linear' ou 'exponential', ou 'none').\n",
        "        initial_E (float): Valor inicial de epsilon (epsilon máximo).\n",
        "        min_E (float): Valor mínimo de epsilon.\n",
        "        X (int): Número de passos para atingir o epsilon mínimo (opcional).\n",
        "        Y (float): Percentual do tempo total de treinamento para decaimento (opcional).\n",
        "        total_steps (int): Número total de passos de treinamento.\n",
        "        decay_rate (float): Taxa de decaimento (apenas para decaimento exponencial).\n",
        "    \"\"\"\n",
        "    if X is None and Y is None:\n",
        "        raise ValueError(\"Deve inserir X (número de passos) ou Y (percentual do tempo total).\")\n",
        "\n",
        "\n",
        "\n",
        "    if Y is not None:\n",
        "        if total_steps is None:\n",
        "          estimated_steps_per_episode = 500 # sendo usado no env\n",
        "          total_steps = episodes * estimated_steps_per_episode\n",
        "        X = int(Y * total_steps)\n",
        "\n",
        "    if decay_type == 'none':\n",
        "        def new_E(t):\n",
        "            return initial_E\n",
        "    elif decay_type == 'linear':\n",
        "        k = (initial_E - min_E) / X\n",
        "        def new_E(t):\n",
        "            return max(min_E, initial_E - k * t)\n",
        "    elif decay_type == 'exponential':\n",
        "        def new_E(t):\n",
        "            return min_E + (initial_E - min_E) * math.exp(-decay_rate * t)\n",
        "\n",
        "    else:\n",
        "        raise ValueError(\"Tipo de decaimento inválido. Escolha 'linear' ou 'exponential'.\")\n",
        "\n",
        "    return new_E"
      ]
    },
    {
      "cell_type": "markdown",
      "metadata": {
        "id": "izPcSmF6a7yD"
      },
      "source": [
        "## Algoritmos TD-learning adaptados"
      ]
    },
    {
      "cell_type": "markdown",
      "metadata": {
        "id": "l5RK_IiSgOqE"
      },
      "source": [
        "#### Q-learning"
      ]
    },
    {
      "cell_type": "code",
      "execution_count": 56,
      "metadata": {
        "id": "4mahLLVabBP5"
      },
      "outputs": [],
      "source": [
        "def run_qlearning_decay(env, episodes, lr=0.1, gamma=0.95, decay_type='linear', initial_E=1.0, min_E=0.005, X=None, Y=None, total_steps=None, decay_rate=0.001, verbose=True, n_eps_per_rewards=500):\n",
        "    \"\"\"\n",
        "    Parâmetros:\n",
        "        env: Ambiente Gym.\n",
        "        episodes (int): Número de episódios de treinamento.\n",
        "        lr (float): Taxa de aprendizado (learning rate).\n",
        "        gamma (float): Fator de desconto.\n",
        "        decay_type (str): Tipo de decaimento ('linear' ou 'exponential').\n",
        "        initial_E (float): Valor inicial de epsilon.\n",
        "        min_E (float): Valor mínimo de epsilon.\n",
        "        X (int): Número de passos para atingir o epsilon mínimo (opcional).\n",
        "        Y (float): Percentual do tempo total de treinamento para decaimento (opcional).\n",
        "        total_steps (int): Número total de passos de treinamento (necessário se Y for fornecido).\n",
        "        decay_rate (float): Taxa de decaimento (apenas para decaimento exponencial).\n",
        "        verbose (bool): Se True, imprime o progresso durante o treinamento.\n",
        "\n",
        "    Retorna:\n",
        "        all_episode_rewards (list): Recompensas de todos os episódios.\n",
        "        Q (np.array): Tabela Q aprendida.\n",
        "        avg_rewards (list): Média das recompensas dos últimos 100 episódios.\n",
        "        epsilon_values (list): Valores de epsilon ao longo do treinamento.\n",
        "    \"\"\"\n",
        "    assert isinstance(env.observation_space, gym.spaces.Discrete), \"Apenas espaços discretos são suportados!\"\n",
        "    assert isinstance(env.action_space, gym.spaces.Discrete), \"Apenas ações discretas são suportadas!\"\n",
        "\n",
        "    num_actions = env.action_space.n\n",
        "    Q = np.zeros((env.observation_space.n, num_actions))\n",
        "    all_episode_rewards = []\n",
        "    avg_rewards = []\n",
        "    epsilon_values = []\n",
        "\n",
        "    epsilon_decay_fn = epsilon_decay(decay_type=decay_type, initial_E=initial_E, min_E=min_E, Y=Y, total_steps=total_steps, decay_rate=decay_rate,episodes=episodes)\n",
        "\n",
        "    eps = 0\n",
        "    for i in range(episodes):\n",
        "        eps += 1\n",
        "        state, _ = env.reset()\n",
        "        done = False\n",
        "        sum_rewards = 0\n",
        "\n",
        "\n",
        "        while not done:\n",
        "            epsilon = epsilon_decay_fn(eps)\n",
        "            action = epsilon_greedy(Q, state, epsilon)\n",
        "\n",
        "            next_state, reward, terminated, truncated, _ = env.step(action)\n",
        "            done = terminated or truncated\n",
        "\n",
        "            # Atualização Q-Learning\n",
        "            V_next_state = 0 if done else np.max(Q[next_state])\n",
        "            Q[state, action] += lr * (reward + gamma * V_next_state - Q[state, action])\n",
        "\n",
        "            sum_rewards += reward\n",
        "            state = next_state\n",
        "\n",
        "\n",
        "        all_episode_rewards.append(sum_rewards)\n",
        "        avg_rewards.append(np.mean(all_episode_rewards[-n_eps_per_rewards:]))\n",
        "        epsilon_values.append(epsilon)\n",
        "        if verbose and (i + 1) % n_eps_per_rewards == 0:\n",
        "            print(f\"Episode {i + 1}: Avg Reward (last {n_eps_per_rewards}): {avg_rewards[-1]:.3f}, Epsilon: {epsilon:.4f}\")\n",
        "    return all_episode_rewards, Q, avg_rewards, epsilon_values"
      ]
    },
    {
      "cell_type": "markdown",
      "metadata": {
        "id": "YeAUDiBSgMAU"
      },
      "source": [
        "#### SARSA"
      ]
    },
    {
      "cell_type": "code",
      "execution_count": 57,
      "metadata": {
        "id": "_l2it4CUe13n"
      },
      "outputs": [],
      "source": [
        "def run_sarsa_decay(env, episodes, lr=0.1, gamma=0.95, decay_type='linear', initial_E=1.0, min_E=0.005, X=None, Y=None, total_steps=1000, decay_rate=0.001, verbose=True):\n",
        "    # Garantindo que o ambiente é discreto\n",
        "    assert isinstance(env.observation_space, gym.spaces.Discrete), \"Apenas espaços discretos são suportados!\"\n",
        "    assert isinstance(env.action_space, gym.spaces.Discrete), \"Apenas ações discretas são suportadas!\"\n",
        "\n",
        "    num_actions = env.action_space.n\n",
        "    Q = np.zeros((env.observation_space.n, num_actions))\n",
        "    all_episode_rewards = []\n",
        "    avg_rewards = []\n",
        "    epsilon_values = []\n",
        "\n",
        "    # Criar a função de decaimento do epsilon\n",
        "    epsilon_decay_fn = epsilon_decay(decay_type=decay_type, initial_E=initial_E, min_E=min_E, Y=Y, total_steps=total_steps, decay_rate=decay_rate)\n",
        "\n",
        "\n",
        "    for i in range(episodes):\n",
        "        state, _ = env.reset()\n",
        "        done = False\n",
        "        sum_rewards = 0\n",
        "        epsilon = epsilon_decay_fn(i)  # Decaimento baseado no episódio\n",
        "        epsilon_values.append(epsilon)  # Registrar o valor do epsilon\n",
        "\n",
        "        # Escolhe a primeira ação usando epsilon-greedy\n",
        "        action = epsilon_greedy(Q, state, epsilon)\n",
        "\n",
        "        while not done:\n",
        "            next_state, reward, terminated, truncated, _ = env.step(action)\n",
        "            done = terminated or truncated\n",
        "\n",
        "            # Escolhe a próxima ação usando epsilon-greedy\n",
        "            next_action = epsilon_greedy(Q, next_state, epsilon)\n",
        "\n",
        "            # Atualiza a Q-table (SARSA usa a próxima ação)\n",
        "            V_next_state = 0 if done else Q[next_state, next_action]\n",
        "            Q[state, action] += lr * (reward + gamma * V_next_state - Q[state, action])\n",
        "\n",
        "            sum_rewards += reward\n",
        "            state = next_state\n",
        "            action = next_action  # Atualiza a ação para o próximo passo\n",
        "\n",
        "        all_episode_rewards.append(sum_rewards)\n",
        "        avg_rewards.append(np.mean(all_episode_rewards[-100:]))  # Média móvel\n",
        "\n",
        "        if verbose and ((i + 1) % 100 == 0):\n",
        "            print(f\"Episode {i + 1}: Avg Reward (last 100): {avg_rewards[-1]:.3f}, Epsilon: {epsilon:.4f}\")\n",
        "\n",
        "    return all_episode_rewards, Q, avg_rewards, epsilon_values\n"
      ]
    },
    {
      "cell_type": "markdown",
      "metadata": {
        "id": "QqayEIcpgGld"
      },
      "source": [
        "#### Expected-SARSA"
      ]
    },
    {
      "cell_type": "code",
      "execution_count": 58,
      "metadata": {
        "id": "4L5TCbUKgCvI"
      },
      "outputs": [],
      "source": [
        "def run_expected_sarsa_decay(env, episodes, lr=0.1, gamma=0.95, decay_type='exponential', initial_E=1.0, min_E=0.005, X=None, Y=None, total_steps=1000, decay_rate=0.001, verbose=True):\n",
        "    assert isinstance(env.observation_space, gym.spaces.Discrete), \"O ambiente deve ter um espaço de estados discreto.\"\n",
        "    assert isinstance(env.action_space, gym.spaces.Discrete), \"O ambiente deve ter um espaço de ações discreto.\"\n",
        "\n",
        "    num_actions = env.action_space.n\n",
        "    Q = np.zeros((env.observation_space.n, num_actions))\n",
        "    all_episode_rewards = []\n",
        "    avg_rewards = []\n",
        "    epsilon_values = []\n",
        "\n",
        "    epsilon_decay_fn = epsilon_decay(decay_type=decay_type, initial_E=initial_E, min_E=min_E, Y=Y, total_steps=total_steps, decay_rate=decay_rate)\n",
        "\n",
        "\n",
        "    for i in range(episodes):\n",
        "        state, _ = env.reset()  # Ajuste para Gym v0.26+\n",
        "        done = False\n",
        "        sum_rewards = 0\n",
        "        epsilon = epsilon_decay_fn(i)\n",
        "        epsilon_values.append(epsilon)\n",
        "\n",
        "        while not done:\n",
        "            action = epsilon_greedy(Q, state, epsilon)\n",
        "            next_state, reward, terminated, truncated, _ = env.step(action)\n",
        "            done = terminated or truncated\n",
        "\n",
        "            next_epsilon = epsilon_decay_fn(i + 1)\n",
        "\n",
        "            expected_value = 0\n",
        "            best_actions = np.where(Q[next_state] == np.max(Q[next_state]))[0]\n",
        "            prob_best_action = (1 - next_epsilon) + (next_epsilon / num_actions)\n",
        "            prob_other_actions = next_epsilon / num_actions\n",
        "\n",
        "            for a in range(num_actions):\n",
        "                prob = prob_best_action if a in best_actions else prob_other_actions\n",
        "                expected_value += prob * Q[next_state, a]\n",
        "\n",
        "            Q[state, action] += lr * (reward + gamma * expected_value - Q[state, action])\n",
        "\n",
        "            sum_rewards += reward\n",
        "            state = next_state\n",
        "\n",
        "        all_episode_rewards.append(sum_rewards)\n",
        "        avg_rewards.append(np.mean(all_episode_rewards[-100:]))\n",
        "\n",
        "        if verbose and ((i + 1) % 100 == 0):\n",
        "            print(f\"Episode {i + 1}: Avg Reward (last 100): {avg_rewards[-1]:.3f}, Epsilon: {epsilon:.4f}\")\n",
        "\n",
        "    return all_episode_rewards, Q, avg_rewards, epsilon_values\n"
      ]
    },
    {
      "cell_type": "markdown",
      "metadata": {
        "id": "Gn8K7_bEiVqc"
      },
      "source": [
        "#### SARSA de n-passos"
      ]
    },
    {
      "cell_type": "code",
      "execution_count": 59,
      "metadata": {
        "id": "-v4v38UmiZWs"
      },
      "outputs": [],
      "source": [
        "def run_nstep_sarsa_decay(env, episodes, n=3, lr=0.1, gamma=0.95, decay_type='linear', initial_E=1.0, min_E=0.005,\n",
        "                     X=None, Y=None, total_steps=1000, decay_rate=0.001, verbose=True):\n",
        "    \"\"\"Executa n-step SARSA com decaimento de epsilon.\"\"\"\n",
        "\n",
        "    assert isinstance(env.observation_space, gym.spaces.Discrete), \"O ambiente deve ter um espaço de estados discreto.\"\n",
        "    assert isinstance(env.action_space, gym.spaces.Discrete), \"O ambiente deve ter um espaço de ações discreto.\"\n",
        "\n",
        "    num_actions = env.action_space.n\n",
        "    Q = np.zeros((env.observation_space.n, num_actions))  # Inicializa a Q-table\n",
        "    all_episode_rewards = []\n",
        "    avg_rewards = []\n",
        "    epsilon_values = []\n",
        "\n",
        "    # Criar a função de decaimento do epsilon\n",
        "    epsilon_decay_fn = epsilon_decay(decay_type=decay_type, initial_E=initial_E, min_E=min_E, Y=Y, total_steps=total_steps, decay_rate=decay_rate)\n",
        "\n",
        "    for i in range(episodes):\n",
        "        state, _ = env.reset()\n",
        "        done = False\n",
        "        sum_rewards = 0\n",
        "        epsilon = epsilon_decay_fn(i)  # Epsilon atualizado por episódio\n",
        "        epsilon_values.append(epsilon)\n",
        "\n",
        "        # Buffers para armazenar transições\n",
        "        states = [state]\n",
        "        actions = [epsilon_greedy(Q, state, epsilon)]\n",
        "        rewards = [0]  # Inicialmente zero\n",
        "\n",
        "        step_count = 0\n",
        "        while not done:\n",
        "            next_state, reward, terminated, truncated, _ = env.step(actions[-1])\n",
        "            done = terminated or truncated\n",
        "\n",
        "            sum_rewards += reward\n",
        "            states.append(next_state)\n",
        "            rewards.append(reward)\n",
        "\n",
        "            if not done:\n",
        "                next_action = epsilon_greedy(Q, next_state, epsilon)\n",
        "                actions.append(next_action)\n",
        "            else:\n",
        "                actions.append(None)\n",
        "\n",
        "            # Atualiza a Q-table usando o retorno de n-passos\n",
        "            if step_count >= n - 1:\n",
        "                G = sum(gamma ** j * rewards[j] for j in range(1, n + 1))  # Soma das recompensas futuras\n",
        "\n",
        "                if not done:\n",
        "                    G += (gamma ** n) * Q[states[-1], actions[-1]]\n",
        "\n",
        "                Q[states[0], actions[0]] += lr * (G - Q[states[0], actions[0]])\n",
        "\n",
        "                # Mantém o buffer de tamanho `n`\n",
        "                del states[0]\n",
        "                del actions[0]\n",
        "                del rewards[0]\n",
        "\n",
        "            step_count += 1\n",
        "\n",
        "        all_episode_rewards.append(sum_rewards)\n",
        "        avg_rewards.append(np.mean(all_episode_rewards[-100:]))\n",
        "\n",
        "        # Atualiza os últimos passos ao final do episódio\n",
        "        while len(states) > 1:\n",
        "            G = sum(gamma ** j * rewards[j] for j in range(1, len(states)))\n",
        "            if actions[-1] is not None:\n",
        "                G += (gamma ** (len(states) - 1)) * Q[states[-1], actions[-1]]\n",
        "\n",
        "            Q[states[0], actions[0]] += lr * (G - Q[states[0], actions[0]])\n",
        "\n",
        "            del states[0]\n",
        "            del actions[0]\n",
        "            del rewards[0]\n",
        "\n",
        "        # Exibe progresso a cada 100 episódios\n",
        "        if verbose and ((i + 1) % 100 == 0):\n",
        "            print(f\"Episode {i + 1}: Avg Reward (last 100): {avg_rewards[-1]:.3f}, Epsilon: {epsilon:.4f}\")\n",
        "\n",
        "    return all_episode_rewards, Q, avg_rewards, epsilon_values\n"
      ]
    },
    {
      "cell_type": "markdown",
      "metadata": {
        "id": "CmYTdnulg6dL"
      },
      "source": [
        "## Configuração dos Experimentos"
      ]
    },
    {
      "cell_type": "markdown",
      "metadata": {
        "id": "K9sybe41m_jx"
      },
      "source": [
        "### Hiperparâmetros"
      ]
    },
    {
      "cell_type": "code",
      "execution_count": null,
      "metadata": {
        "id": "KOFcwHKzoaAm"
      },
      "outputs": [],
      "source": [
        "# episodios_de_busca = 8000\n",
        "\n",
        "# def train_qlearning_decay(ambient, trial: optuna.Trial):\n",
        "#     eps = trial.suggest_float('initial_E', 1.0, 1.0)\n",
        "#     Y = trial.suggest_float('Y', 0.00001,0.001)\n",
        "#     min_eps = trial.suggest_float('min_E', 0.005, 0.2)\n",
        "#     episodes = trial.suggest_float('episodes', 8000)\n",
        "#     gamma = trial.suggest_float('gamma', 0.90, 1.00)\n",
        "#     lr = trial.suggest_float('lr', 0.001, 1.0, log=True)\n",
        "#     decay_rate = trial.suggest_float('decay_rate', .0001, 0.01, log=True)\n",
        "#     decay_type = trial.suggest_categorical('decay_type', ['linear', 'exponential','none'])\n",
        "\n",
        "#     env = gym.make(ambient)\n",
        "#     returns, _,_,_ = run_qlearning_decay(env, episodios_de_busca, lr=lr, gamma=gamma, decay_type=decay_type,\n",
        "#                                initial_E=eps, min_E=min_eps, decay_rate=decay_rate,Y=Y)\n",
        "\n",
        "#     return sum(returns[-100:]) / 100\n",
        "\n",
        "# def train_sarsa_decay(ambient, trial: optuna.Trial):\n",
        "#     decay_rate = trial.suggest_float('decay_rate', .0001, 0.01, log=True)\n",
        "\n",
        "#     eps = trial.suggest_float('initial_E', 1.0, 1.0)  # Epsilon inicial\n",
        "#     Y = trial.suggest_float('Y', 0.00001,0.001)\n",
        "#     min_eps = trial.suggest_float('min_E', 0.005, 0.2)\n",
        "#     gamma = trial.suggest_float('gamma', 0.90, 1.00)  # Fator de desconto\n",
        "#     lr = trial.suggest_float('lr', 0.001, 1.0, log=True)  # Taxa de aprendizado\n",
        "#     decay_rate = trial.suggest_float('decay_rate', .0001, 0.01, log=True)\n",
        "#     decay_type = trial.suggest_categorical('decay_type', ['linear', 'exponential','none'])\n",
        "#     episodes = trial.suggest_float('episodes', 8000)\n",
        "\n",
        "#     env = gym.make(ambient)\n",
        "#     returns, _,_,_ = run_sarsa_decay(env, episodios_de_busca, lr=lr, gamma=gamma, decay_type=decay_type,\n",
        "#                            initial_E=eps, min_E=min_eps, decay_rate=decay_rate)\n",
        "\n",
        "#     return sum(returns[-100:]) / 100\n",
        "\n",
        "# def train_expected_sarsa_decay(ambient, trial: optuna.Trial):\n",
        "#     Y = trial.suggest_float('Y', 0.0001,0.01)\n",
        "#     eps = trial.suggest_float('initial_E', 1.0, 1.0)\n",
        "#     min_eps = trial.suggest_float('min_E', 0.005, 0.2)\n",
        "#     gamma = trial.suggest_float('gamma', 0.90, 1.00)\n",
        "#     lr = trial.suggest_float('lr', 0.001, 1.0, log=True)\n",
        "#     decay_rate = trial.suggest_float('decay_rate', .0001, 0.01, log=True)\n",
        "#     decay_type = trial.suggest_categorical('decay_type', ['linear', 'exponential','none'])\n",
        "#     episodes = trial.suggest_float('episodes', 8000)\n",
        "\n",
        "#     env = gym.make(ambient)\n",
        "#     returns, _,_,_ = run_expected_sarsa_decay(env, episodios_de_busca, lr=lr, gamma=gamma, decay_type=decay_type,\n",
        "#                                     initial_E=eps, min_E=min_eps, decay_rate=decay_rate)\n",
        "\n",
        "#     return sum(returns[-100:]) / 100\n",
        "\n",
        "# def train_nstep_sarsa_decay(ambient, trial: optuna.Trial):\n",
        "#     decay_rate = trial.suggest_float('decay_rate', .0001, 0.01, log=True)\n",
        "#     Y = trial.suggest_float('Y', 0.0001,0.01)\n",
        "#     eps = trial.suggest_float('initial_E', 1.0, 1.0)\n",
        "#     min_eps = trial.suggest_float('min_E', 0.005, 0.2)\n",
        "#     gamma = trial.suggest_float('gamma', 0.90, 1.00)\n",
        "#     lr = trial.suggest_float('lr', 0.001, 1.0, log=True)\n",
        "#     decay_type = trial.suggest_categorical('decay_type', ['linear', 'exponential','none'])\n",
        "#     nsteps = trial.suggest_int('nsteps', 3, 3) # 1-16\n",
        "#     episodes = trial.suggest_float('episodes', 8000)\n",
        "\n",
        "#     env = gym.make(ambient)\n",
        "#     returns, _,_,_ = run_nstep_sarsa_decay(env, episodios_de_busca, n=nsteps, lr=lr, gamma=gamma, decay_type=decay_type,\n",
        "#                                  initial_E=eps, min_E=min_eps, decay_rate=decay_rate)\n",
        "\n",
        "#     return sum(returns[-100:]) / 100\n"
      ]
    },
    {
      "cell_type": "markdown",
      "metadata": {
        "id": "gCoZ48LCrZhY"
      },
      "source": [
        "#### Buscando para cada ambiente\n"
      ]
    },
    {
      "cell_type": "code",
      "execution_count": null,
      "metadata": {
        "collapsed": true,
        "id": "itM8LWO2rY-z"
      },
      "outputs": [],
      "source": [
        "# ambientes = [\"CliffWalking-v0\", \"Taxi-v3\", \"FrozenLake-v1\",\"RaceTrack-v0\"]\n",
        "\n",
        "\n",
        "# best_params = {}\n",
        "# trials = 1 # 50\n",
        "\n",
        "# for ambient in ambientes:\n",
        "#     print(f\"\\n🔹 Otimizando para ambiente: {ambient}\")\n",
        "\n",
        "#     best_params[ambient] = {}\n",
        "\n",
        "#     study_qlearning = optuna.create_study(direction='maximize')\n",
        "#     study_qlearning.optimize(partial(train_qlearning_decay, ambient), n_trials=trials)\n",
        "#     best_params[ambient][\"Q-Learning\"] = study_qlearning.best_params\n",
        "#     print(f\"Melhores parâmetros para Q-Learning em {ambient}: {study_qlearning.best_params}\")\n",
        "\n",
        "#     study_sarsa = optuna.create_study(direction='maximize')\n",
        "#     study_sarsa.optimize(partial(train_sarsa_decay, ambient), n_trials=trials)\n",
        "#     best_params[ambient][\"SARSA\"] = study_sarsa.best_params\n",
        "#     print(f\"Melhores parâmetros para SARSA em {ambient}: {study_sarsa.best_params}\")\n",
        "\n",
        "#     study_expected_sarsa = optuna.create_study(direction='maximize')\n",
        "#     study_expected_sarsa.optimize(partial(train_expected_sarsa_decay, ambient), n_trials=trials)\n",
        "#     best_params[ambient][\"Expected SARSA\"] = study_expected_sarsa.best_params\n",
        "#     print(f\"Melhores parâmetros para Expected SARSA em {ambient}: {study_expected_sarsa.best_params}\")\n",
        "\n",
        "#     study_nstep_sarsa = optuna.create_study(direction='maximize')\n",
        "#     study_nstep_sarsa.optimize(partial(train_nstep_sarsa_decay, ambient), n_trials=trials)\n",
        "#     best_params[ambient][\"n-step SARSA\"] = study_nstep_sarsa.best_params\n",
        "#     print(f\"Melhores parâmetros para n-step SARSA em {ambient}: {study_nstep_sarsa.best_params}\")\n",
        "\n",
        "# clear_output()\n",
        "# print(\"\\n Melhores hiperparâmetros para todos os ambientes e algoritmos:\")\n",
        "# for ambient, algos in best_params.items():\n",
        "#     print(f\"\\n🔹 Ambiente: {ambient}\")\n",
        "#     for algo, params in algos.items():\n",
        "#         print(f\"  🔸 {algo}: {params}\")"
      ]
    },
    {
      "cell_type": "markdown",
      "metadata": {
        "id": "yyq7TL0A74Tk"
      },
      "source": [
        "#### Funções de plot"
      ]
    },
    {
      "cell_type": "code",
      "execution_count": 91,
      "metadata": {
        "id": "DaWnYl2L72zr"
      },
      "outputs": [],
      "source": [
        "def plot_results(title,rewards_list, labels):\n",
        "    plt.figure(figsize=(10, 5))\n",
        "    for rewards, label in zip(rewards_list, labels):\n",
        "        plt.plot(np.convolve(rewards, np.ones(10)/10, mode='valid'), label=label, linewidth=2)\n",
        "\n",
        "    plt.xlabel(\"Episódios\")\n",
        "    plt.ylabel(\"Recompensa média a cada 10 ep.\")\n",
        "    plt.legend()\n",
        "    plt.grid(True, linestyle='--', alpha=0.6)\n",
        "    plt.title(title)\n",
        "    plt.show()"
      ]
    },
    {
      "cell_type": "markdown",
      "metadata": {
        "id": "CEmNoFJuVjlT"
      },
      "source": [
        "### Cliffwalking - Tentando vencer o Epsilon Fixo"
      ]
    },
    {
      "cell_type": "markdown",
      "metadata": {
        "id": "9vJp9xs5VjlU"
      },
      "source": [
        "##### Q-Learning"
      ]
    },
    {
      "cell_type": "code",
      "execution_count": 95,
      "metadata": {
        "id": "4paEw8ubVjlU"
      },
      "outputs": [],
      "source": [
        "# ENV_NAME = \"CliffWalking-v0\"\n",
        "# EPISODES = 8000\n",
        "# LR = 0.01\n",
        "# GAMMA = 0.95\n",
        "# EPSILON_NORMAL = .005\n",
        "# EPSILON_START = 1.0\n",
        "# EPSILON_MIN = 0.005\n",
        "# DECAY_LINEAR = .0000000001\n",
        "# DECAY_EXP = .0001\n",
        "# Y_LINEAR=.1\n",
        "# Y_EXP = 0.000001\n",
        "# X_LINEAR=500\n",
        "# X_EXP =8000\n",
        "N_EPS_PER_REWARDS=200\n",
        "\n",
        "#######\n",
        "ENV_NAME, r_max = \"CliffWalking-v0\", 0\n",
        "EPISODES = 8_000\n",
        "LR = 0.2\n",
        "GAMMA = 0.95\n",
        "EPSILON_NORMAL = 0.1\n",
        "\n",
        "# Verificar essas var\n",
        "EPSILON_START = 1.0\n",
        "EPSILON_MIN = 0.005\n",
        "DECAY_LINEAR = 0.005\n",
        "DECAY_EXP = 0.005\n",
        "#######\n",
        "# Y_LINEAR=.1\n",
        "# Y_EXP = 0.000001\n",
        "# X_LINEAR=500\n",
        "# X_EXP =8000\n",
        "#######\n",
        "\n",
        "env = gym.make(ENV_NAME, max_episode_steps=500)\n",
        "\n",
        "rewards_linear, _, _, _ = run_qlearning_decay(env=env, episodes=EPISODES, lr=LR, gamma=GAMMA,initial_E=EPSILON_START, min_E=EPSILON_MIN, decay_type=\"linear\", decay_rate=DECAY_LINEAR, n_eps_per_rewards=N_EPS_PER_REWARDS)\n",
        "rewards_exponential, _, _, _ = run_qlearning_decay(env=env, episodes=EPISODES, lr=LR, gamma=GAMMA,initial_E=EPSILON_START, min_E=EPSILON_MIN,decay_type=\"exponential\", decay_rate=DECAY_EXP,n_eps_per_rewards=N_EPS_PER_REWARDS)\n",
        "\n",
        "# # Executa Q-Learning SEM decaimento (epsilon fixo)\n",
        "rewards_no_decay, _, _, _ = run_qlearning_decay(\n",
        "    env=env, episodes=EPISODES, lr=LR, gamma=GAMMA,\n",
        "    initial_E=EPSILON_NORMAL, min_E=EPSILON_START,  # epsilon não decai (fixo)\n",
        "    decay_type=\"none\", decay_rate=0,n_eps_per_rewards=N_EPS_PER_REWARDS  # sem decaimento\n",
        ")\n",
        "clear_output()"
      ]
    },
    {
      "cell_type": "code",
      "execution_count": 98,
      "metadata": {
        "colab": {
          "base_uri": "https://localhost:8080/",
          "height": 488
        },
        "id": "wrtDUGKpVjlU",
        "outputId": "e30c5edf-6007-4dff-91a2-c0b122451770"
      },
      "outputs": [
        {
          "output_type": "display_data",
          "data": {
            "text/plain": [
              "<Figure size 1000x500 with 1 Axes>"
            ],
            "image/png": "[encoded data removed]"
          },
          "metadata": {}
        }
      ],
      "source": [
        "plot_results(\"Q-Learning (CliffWalking) - Fixo x Linear x Exponencial\",[rewards_no_decay,rewards_linear,rewards_exponential], [\"Fixo\",\"Linear\",\"Exponencial\"])\n",
        "#plot_results(\"Q-Learning (CliffWalking) - Fixo x Linear\",[rewards_no_decay,rewards_linear], [\"Fixo\",\"Linear\"])\n",
        "\n",
        "# plot_results(\"Q-Learning (CliffWalking) - Fixo\",[rewards_no_decay], [\"Fixo\"], 0)"
      ]
    },
    {
      "cell_type": "markdown",
      "metadata": {
        "id": "bztpHOtcVjlU"
      },
      "source": [
        "##### Sarsa"
      ]
    },
    {
      "cell_type": "code",
      "execution_count": null,
      "metadata": {
        "id": "eZQWrBawVjlV"
      },
      "outputs": [],
      "source": [
        "ENV_NAME = \"CliffWalking-v0\"\n",
        "EPISODES = 8000\n",
        "LR = 0.01\n",
        "GAMMA = 0.95\n",
        "EPSILON_NORMAL = .005\n",
        "EPSILON_START = 1.0\n",
        "EPSILON_MIN = 0.005\n",
        "DECAY_LINEAR = 0.005\n",
        "DECAY_EXP = 0.005\n",
        "\n",
        "env = gym.make(ENV_NAME, max_episode_steps=500)\n",
        "\n",
        "rewards_linear, _, _, _ = run_sarsa_decay(env=env, episodes=EPISODES, lr=LR, gamma=GAMMA,initial_E=EPSILON_START, min_E=EPSILON_MIN, decay_type=\"linear\", decay_rate=DECAY_LINEAR)\n",
        "rewards_exponential, _, _, _ = run_sarsa_decay(env=env, episodes=EPISODES, lr=LR, gamma=GAMMA,initial_E=EPSILON_START, min_E=EPSILON_MIN,decay_type=\"exponential\", decay_rate=DECAY_EXP)\n",
        "\n",
        "# # Executa Q-Learning SEM decaimento (epsilon fixo)\n",
        "rewards_no_decay, _, _, _ = run_sarsa_decay(\n",
        "    env=env, episodes=EPISODES, lr=LR, gamma=GAMMA,\n",
        "    initial_E=EPSILON_NORMAL, min_E=EPSILON_START,  # epsilon não decai (fixo)\n",
        "    decay_type=\"none\", decay_rate=0  # sem decaimento\n",
        ")\n",
        "clear_output()"
      ]
    },
    {
      "cell_type": "code",
      "execution_count": null,
      "metadata": {
        "id": "IvW83NYTVjlV"
      },
      "outputs": [],
      "source": [
        "plot_results(\"SARSA (CliffWalking) - Fixo x Linear x Exponencial\",[rewards_no_decay,rewards_linear, rewards_exponential], [\"Fixo\",\"Decaimento Linear\", \"Decaimento Exponencial\"], 0)"
      ]
    },
    {
      "cell_type": "markdown",
      "metadata": {
        "id": "Rcy6K2HqVjlV"
      },
      "source": [
        "##### Expected-SARSA"
      ]
    },
    {
      "cell_type": "code",
      "execution_count": null,
      "metadata": {
        "id": "hU_ndjGlVjlV"
      },
      "outputs": [],
      "source": [
        "ENV_NAME = \"CliffWalking-v0\"\n",
        "EPISODES = 8000\n",
        "LR = 0.01\n",
        "GAMMA = 0.95\n",
        "EPSILON_NORMAL = .005\n",
        "EPSILON_START = 1.0\n",
        "EPSILON_MIN = 0.005\n",
        "DECAY_LINEAR = 0.005\n",
        "DECAY_EXP = 0.005\n",
        "\n",
        "env = gym.make(ENV_NAME, max_episode_steps=500)\n",
        "\n",
        "rewards_linear, _, _, _ = run_expected_sarsa_decay(env=env, episodes=EPISODES, lr=LR, gamma=GAMMA,initial_E=EPSILON_START, min_E=EPSILON_MIN, decay_type=\"linear\", decay_rate=DECAY_LINEAR)\n",
        "rewards_exponential, _, _, _ = run_expected_sarsa_decay(env=env, episodes=EPISODES, lr=LR, gamma=GAMMA,initial_E=EPSILON_START, min_E=EPSILON_MIN,decay_type=\"exponential\", decay_rate=DECAY_EXP)\n",
        "\n",
        "# # Executa Q-Learning SEM decaimento (epsilon fixo)\n",
        "rewards_no_decay, _, _, _ = run_expected_sarsa_decay(env=env, episodes=EPISODES, lr=LR, gamma=GAMMA,initial_E=EPSILON_NORMAL, min_E=EPSILON_START, decay_type=\"none\", decay_rate=0)  # sem decaimento) # epsilon não decai (fixo)\n",
        "clear_output()"
      ]
    },
    {
      "cell_type": "code",
      "execution_count": null,
      "metadata": {
        "id": "sR-S09KoVjlV"
      },
      "outputs": [],
      "source": [
        "plot_results(\"Expected-SARSA (CliffWalking) - Fixo x Linear x Exponencial\",[rewards_no_decay,rewards_linear, rewards_exponential], [\"Fixo\",\"Decaimento Linear\", \"Decaimento Exponencial\"], 0)"
      ]
    },
    {
      "cell_type": "markdown",
      "metadata": {
        "id": "WtmZjOo-VjlW"
      },
      "source": [
        "##### SARSA de n-passos"
      ]
    },
    {
      "cell_type": "code",
      "execution_count": null,
      "metadata": {
        "id": "953uZ1oRVjlW"
      },
      "outputs": [],
      "source": [
        "ENV_NAME = \"CliffWalking-v0\"\n",
        "EPISODES = 8000\n",
        "LR = 0.01\n",
        "GAMMA = 0.95\n",
        "EPSILON_NORMAL = .005\n",
        "EPSILON_START = 1.0\n",
        "EPSILON_MIN = 0.005\n",
        "DECAY_LINEAR = 0.005\n",
        "DECAY_EXP = 0.005\n",
        "\n",
        "env = gym.make(ENV_NAME, max_episode_steps=500)\n",
        "\n",
        "rewards_linear, _, _, _ = run_nstep_sarsa_decay(env=env, episodes=EPISODES, lr=LR, gamma=GAMMA,initial_E=EPSILON_START, min_E=EPSILON_MIN, decay_type=\"linear\", decay_rate=DECAY_LINEAR)\n",
        "rewards_exponential, _, _, _ = run_nstep_sarsa_decay(env=env, episodes=EPISODES, lr=LR, gamma=GAMMA,initial_E=EPSILON_START, min_E=EPSILON_MIN,decay_type=\"exponential\", decay_rate=DECAY_EXP)\n",
        "\n",
        "# # Executa Q-Learning SEM decaimento (epsilon fixo)\n",
        "rewards_no_decay, _, _, _ = run_nstep_sarsa_decay(env=env, episodes=EPISODES, lr=LR, gamma=GAMMA,initial_E=EPSILON_NORMAL, min_E=EPSILON_START, decay_type=\"none\", decay_rate=0)  # sem decaimento) # epsilon não decai (fixo)\n",
        "clear_output()"
      ]
    },
    {
      "cell_type": "code",
      "execution_count": null,
      "metadata": {
        "id": "-NjhdzzMVjlW"
      },
      "outputs": [],
      "source": [
        "plot_results(\"Sarsa de n-passos (CliffWalking) - Fixo x Linear x Exponencial\",[rewards_no_decay,rewards_linear, rewards_exponential], [\"Fixo\",\"Decaimento Linear\", \"Decaimento Exponencial\"], 0)"
      ]
    },
    {
      "cell_type": "markdown",
      "metadata": {
        "id": "z-lYBrIzVmPf"
      },
      "source": [
        "### Cliffwalking"
      ]
    },
    {
      "cell_type": "code",
      "execution_count": null,
      "metadata": {
        "id": "DDlGwtSAVmPh"
      },
      "outputs": [],
      "source": [
        "# plot_results(\"Linear x Exponencial (Q-Learning) - CliffWalking\",[rewards_linear, rewards_exponential], [\"Decaimento Linear\", \"Decaimento Exponencial\"], 0)"
      ]
    },
    {
      "cell_type": "markdown",
      "metadata": {
        "id": "MnCZXR51VmPi"
      },
      "source": [
        "##### Q-Learning"
      ]
    },
    {
      "cell_type": "code",
      "execution_count": null,
      "metadata": {
        "id": "gkvToMenVmPi"
      },
      "outputs": [],
      "source": [
        "ENV_NAME = \"CliffWalking-v0\"\n",
        "EPISODES = 8000\n",
        "LR = 0.01\n",
        "GAMMA = 0.95\n",
        "EPSILON_NORMAL = .005\n",
        "EPSILON_START = 1.0\n",
        "EPSILON_MIN = 0.005\n",
        "DECAY_LINEAR = 0.005\n",
        "DECAY_EXP = 0.005\n",
        "\n",
        "env = gym.make(ENV_NAME, max_episode_steps=500)\n",
        "\n",
        "rewards_linear, _, _, _ = run_qlearning_decay(env=env, episodes=EPISODES, lr=LR, gamma=GAMMA,initial_E=EPSILON_START, min_E=EPSILON_MIN, decay_type=\"linear\", decay_rate=DECAY_LINEAR)\n",
        "rewards_exponential, _, _, _ = run_qlearning_decay(env=env, episodes=EPISODES, lr=LR, gamma=GAMMA,initial_E=EPSILON_START, min_E=EPSILON_MIN,decay_type=\"exponential\", decay_rate=DECAY_EXP)\n",
        "\n",
        "# # Executa Q-Learning SEM decaimento (epsilon fixo)\n",
        "rewards_no_decay, _, _, _ = run_qlearning_decay(\n",
        "    env=env, episodes=EPISODES, lr=LR, gamma=GAMMA,\n",
        "    initial_E=EPSILON_NORMAL, min_E=EPSILON_START,  # epsilon não decai (fixo)\n",
        "    decay_type=\"none\", decay_rate=0  # sem decaimento\n",
        ")\n",
        "clear_output()"
      ]
    },
    {
      "cell_type": "code",
      "execution_count": null,
      "metadata": {
        "id": "r4wIbe-GVmPj"
      },
      "outputs": [],
      "source": [
        "plot_results(\"Q-Learning (CliffWalking) - Fixo x Linear x Exponencial\",[rewards_no_decay,rewards_linear, rewards_exponential], [\"Fixo\",\"Decaimento Linear\", \"Decaimento Exponencial\"], 0)"
      ]
    },
    {
      "cell_type": "markdown",
      "metadata": {
        "id": "YBZ6dLbqVmPk"
      },
      "source": [
        "##### Sarsa"
      ]
    },
    {
      "cell_type": "code",
      "execution_count": null,
      "metadata": {
        "id": "jFsLZAMDVmPl"
      },
      "outputs": [],
      "source": [
        "ENV_NAME = \"CliffWalking-v0\"\n",
        "EPISODES = 8000\n",
        "LR = 0.01\n",
        "GAMMA = 0.95\n",
        "EPSILON_NORMAL = .005\n",
        "EPSILON_START = 1.0\n",
        "EPSILON_MIN = 0.005\n",
        "DECAY_LINEAR = 0.005\n",
        "DECAY_EXP = 0.005\n",
        "\n",
        "env = gym.make(ENV_NAME, max_episode_steps=500)\n",
        "\n",
        "rewards_linear, _, _, _ = run_sarsa_decay(env=env, episodes=EPISODES, lr=LR, gamma=GAMMA,initial_E=EPSILON_START, min_E=EPSILON_MIN, decay_type=\"linear\", decay_rate=DECAY_LINEAR)\n",
        "rewards_exponential, _, _, _ = run_sarsa_decay(env=env, episodes=EPISODES, lr=LR, gamma=GAMMA,initial_E=EPSILON_START, min_E=EPSILON_MIN,decay_type=\"exponential\", decay_rate=DECAY_EXP)\n",
        "\n",
        "# # Executa Q-Learning SEM decaimento (epsilon fixo)\n",
        "rewards_no_decay, _, _, _ = run_sarsa_decay(\n",
        "    env=env, episodes=EPISODES, lr=LR, gamma=GAMMA,\n",
        "    initial_E=EPSILON_NORMAL, min_E=EPSILON_START,  # epsilon não decai (fixo)\n",
        "    decay_type=\"none\", decay_rate=0  # sem decaimento\n",
        ")\n",
        "clear_output()"
      ]
    },
    {
      "cell_type": "code",
      "execution_count": null,
      "metadata": {
        "id": "W0wFNairVmPl"
      },
      "outputs": [],
      "source": [
        "plot_results(\"SARSA (CliffWalking) - Fixo x Linear x Exponencial\",[rewards_no_decay,rewards_linear, rewards_exponential], [\"Fixo\",\"Decaimento Linear\", \"Decaimento Exponencial\"], 0)"
      ]
    },
    {
      "cell_type": "markdown",
      "metadata": {
        "id": "VRb6CO8OVmPm"
      },
      "source": [
        "##### Expected-SARSA"
      ]
    },
    {
      "cell_type": "code",
      "execution_count": null,
      "metadata": {
        "id": "dJ6tHhvDVmPn"
      },
      "outputs": [],
      "source": [
        "ENV_NAME = \"CliffWalking-v0\"\n",
        "EPISODES = 8000\n",
        "LR = 0.01\n",
        "GAMMA = 0.95\n",
        "EPSILON_NORMAL = .005\n",
        "EPSILON_START = 1.0\n",
        "EPSILON_MIN = 0.005\n",
        "DECAY_LINEAR = 0.005\n",
        "DECAY_EXP = 0.005\n",
        "\n",
        "env = gym.make(ENV_NAME, max_episode_steps=500)\n",
        "\n",
        "rewards_linear, _, _, _ = run_expected_sarsa_decay(env=env, episodes=EPISODES, lr=LR, gamma=GAMMA,initial_E=EPSILON_START, min_E=EPSILON_MIN, decay_type=\"linear\", decay_rate=DECAY_LINEAR)\n",
        "rewards_exponential, _, _, _ = run_expected_sarsa_decay(env=env, episodes=EPISODES, lr=LR, gamma=GAMMA,initial_E=EPSILON_START, min_E=EPSILON_MIN,decay_type=\"exponential\", decay_rate=DECAY_EXP)\n",
        "\n",
        "# # Executa Q-Learning SEM decaimento (epsilon fixo)\n",
        "rewards_no_decay, _, _, _ = run_expected_sarsa_decay(env=env, episodes=EPISODES, lr=LR, gamma=GAMMA,initial_E=EPSILON_NORMAL, min_E=EPSILON_START, decay_type=\"none\", decay_rate=0)  # sem decaimento) # epsilon não decai (fixo)\n",
        "clear_output()"
      ]
    },
    {
      "cell_type": "code",
      "execution_count": null,
      "metadata": {
        "id": "gvaTszlWVmPn"
      },
      "outputs": [],
      "source": [
        "plot_results(\"Expected-SARSA (CliffWalking) - Fixo x Linear x Exponencial\",[rewards_no_decay,rewards_linear, rewards_exponential], [\"Fixo\",\"Decaimento Linear\", \"Decaimento Exponencial\"], 0)"
      ]
    },
    {
      "cell_type": "markdown",
      "metadata": {
        "id": "lIZVNON6VmPo"
      },
      "source": [
        "##### SARSA de n-passos"
      ]
    },
    {
      "cell_type": "code",
      "execution_count": null,
      "metadata": {
        "id": "MsjYxMauVmPp"
      },
      "outputs": [],
      "source": [
        "ENV_NAME = \"CliffWalking-v0\"\n",
        "EPISODES = 8000\n",
        "LR = 0.01\n",
        "GAMMA = 0.95\n",
        "EPSILON_NORMAL = .005\n",
        "EPSILON_START = 1.0\n",
        "EPSILON_MIN = 0.005\n",
        "DECAY_LINEAR = 0.005\n",
        "DECAY_EXP = 0.005\n",
        "\n",
        "env = gym.make(ENV_NAME, max_episode_steps=500)\n",
        "\n",
        "rewards_linear, _, _, _ = run_nstep_sarsa_decay(env=env, episodes=EPISODES, lr=LR, gamma=GAMMA,initial_E=EPSILON_START, min_E=EPSILON_MIN, decay_type=\"linear\", decay_rate=DECAY_LINEAR)\n",
        "rewards_exponential, _, _, _ = run_nstep_sarsa_decay(env=env, episodes=EPISODES, lr=LR, gamma=GAMMA,initial_E=EPSILON_START, min_E=EPSILON_MIN,decay_type=\"exponential\", decay_rate=DECAY_EXP)\n",
        "\n",
        "# # Executa Q-Learning SEM decaimento (epsilon fixo)\n",
        "rewards_no_decay, _, _, _ = run_nstep_sarsa_decay(env=env, episodes=EPISODES, lr=LR, gamma=GAMMA,initial_E=EPSILON_NORMAL, min_E=EPSILON_START, decay_type=\"none\", decay_rate=0)  # sem decaimento) # epsilon não decai (fixo)\n",
        "clear_output()"
      ]
    },
    {
      "cell_type": "code",
      "execution_count": null,
      "metadata": {
        "id": "BJmVEs9QVmPp"
      },
      "outputs": [],
      "source": [
        "plot_results(\"Sarsa de n-passos (CliffWalking) - Fixo x Linear x Exponencial\",[rewards_no_decay,rewards_linear, rewards_exponential], [\"Fixo\",\"Decaimento Linear\", \"Decaimento Exponencial\"], 0)"
      ]
    },
    {
      "cell_type": "markdown",
      "metadata": {
        "id": "QEUe_Q1k5CA3"
      },
      "source": [
        "### Cliffwalking"
      ]
    },
    {
      "cell_type": "code",
      "execution_count": null,
      "metadata": {
        "id": "24H5nLvV8YQo"
      },
      "outputs": [],
      "source": [
        "# plot_results(\"Linear x Exponencial (Q-Learning) - CliffWalking\",[rewards_linear, rewards_exponential], [\"Decaimento Linear\", \"Decaimento Exponencial\"], 0)"
      ]
    },
    {
      "cell_type": "markdown",
      "metadata": {
        "id": "vO-RMfgEC1oJ"
      },
      "source": [
        "##### Q-Learning"
      ]
    },
    {
      "cell_type": "code",
      "execution_count": null,
      "metadata": {
        "id": "c89bqMd8wVTF"
      },
      "outputs": [],
      "source": [
        "ENV_NAME = \"CliffWalking-v0\"\n",
        "EPISODES = 8000\n",
        "LR = 0.01\n",
        "GAMMA = 0.95\n",
        "EPSILON_NORMAL = .005\n",
        "EPSILON_START = 1.0\n",
        "EPSILON_MIN = 0.005\n",
        "DECAY_LINEAR = 0.005\n",
        "DECAY_EXP = 0.005\n",
        "\n",
        "env = gym.make(ENV_NAME, max_episode_steps=500)\n",
        "\n",
        "rewards_linear, _, _, _ = run_qlearning_decay(env=env, episodes=EPISODES, lr=LR, gamma=GAMMA,initial_E=EPSILON_START, min_E=EPSILON_MIN, decay_type=\"linear\", decay_rate=DECAY_LINEAR)\n",
        "rewards_exponential, _, _, _ = run_qlearning_decay(env=env, episodes=EPISODES, lr=LR, gamma=GAMMA,initial_E=EPSILON_START, min_E=EPSILON_MIN,decay_type=\"exponential\", decay_rate=DECAY_EXP)\n",
        "\n",
        "# # Executa Q-Learning SEM decaimento (epsilon fixo)\n",
        "rewards_no_decay, _, _, _ = run_qlearning_decay(\n",
        "    env=env, episodes=EPISODES, lr=LR, gamma=GAMMA,\n",
        "    initial_E=EPSILON_NORMAL, min_E=EPSILON_START,  # epsilon não decai (fixo)\n",
        "    decay_type=\"none\", decay_rate=0  # sem decaimento\n",
        ")\n",
        "clear_output()"
      ]
    },
    {
      "cell_type": "code",
      "execution_count": null,
      "metadata": {
        "id": "JTSe6gLk_YMb"
      },
      "outputs": [],
      "source": [
        "plot_results(\"Q-Learning (CliffWalking) - Fixo x Linear x Exponencial\",[rewards_no_decay,rewards_linear, rewards_exponential], [\"Fixo\",\"Decaimento Linear\", \"Decaimento Exponencial\"], 0)"
      ]
    },
    {
      "cell_type": "markdown",
      "metadata": {
        "id": "HukOy4ydC5DY"
      },
      "source": [
        "##### Sarsa"
      ]
    },
    {
      "cell_type": "code",
      "execution_count": null,
      "metadata": {
        "id": "cLRA4o_dC7nm"
      },
      "outputs": [],
      "source": [
        "ENV_NAME = \"CliffWalking-v0\"\n",
        "EPISODES = 8000\n",
        "LR = 0.01\n",
        "GAMMA = 0.95\n",
        "EPSILON_NORMAL = .005\n",
        "EPSILON_START = 1.0\n",
        "EPSILON_MIN = 0.005\n",
        "DECAY_LINEAR = 0.005\n",
        "DECAY_EXP = 0.005\n",
        "\n",
        "env = gym.make(ENV_NAME, max_episode_steps=500)\n",
        "\n",
        "rewards_linear, _, _, _ = run_sarsa_decay(env=env, episodes=EPISODES, lr=LR, gamma=GAMMA,initial_E=EPSILON_START, min_E=EPSILON_MIN, decay_type=\"linear\", decay_rate=DECAY_LINEAR)\n",
        "rewards_exponential, _, _, _ = run_sarsa_decay(env=env, episodes=EPISODES, lr=LR, gamma=GAMMA,initial_E=EPSILON_START, min_E=EPSILON_MIN,decay_type=\"exponential\", decay_rate=DECAY_EXP)\n",
        "\n",
        "# # Executa Q-Learning SEM decaimento (epsilon fixo)\n",
        "rewards_no_decay, _, _, _ = run_sarsa_decay(\n",
        "    env=env, episodes=EPISODES, lr=LR, gamma=GAMMA,\n",
        "    initial_E=EPSILON_NORMAL, min_E=EPSILON_START,  # epsilon não decai (fixo)\n",
        "    decay_type=\"none\", decay_rate=0  # sem decaimento\n",
        ")\n",
        "clear_output()"
      ]
    },
    {
      "cell_type": "code",
      "execution_count": null,
      "metadata": {
        "id": "2cvgftBeC8om"
      },
      "outputs": [],
      "source": [
        "plot_results(\"SARSA (CliffWalking) - Fixo x Linear x Exponencial\",[rewards_no_decay,rewards_linear, rewards_exponential], [\"Fixo\",\"Decaimento Linear\", \"Decaimento Exponencial\"], 0)"
      ]
    },
    {
      "cell_type": "markdown",
      "metadata": {
        "id": "3UbEk8DaDllr"
      },
      "source": [
        "##### Expected-SARSA"
      ]
    },
    {
      "cell_type": "code",
      "execution_count": null,
      "metadata": {
        "id": "mE0CoqzNDqJa"
      },
      "outputs": [],
      "source": [
        "ENV_NAME = \"CliffWalking-v0\"\n",
        "EPISODES = 8000\n",
        "LR = 0.01\n",
        "GAMMA = 0.95\n",
        "EPSILON_NORMAL = .005\n",
        "EPSILON_START = 1.0\n",
        "EPSILON_MIN = 0.005\n",
        "DECAY_LINEAR = 0.005\n",
        "DECAY_EXP = 0.005\n",
        "\n",
        "env = gym.make(ENV_NAME, max_episode_steps=500)\n",
        "\n",
        "rewards_linear, _, _, _ = run_expected_sarsa_decay(env=env, episodes=EPISODES, lr=LR, gamma=GAMMA,initial_E=EPSILON_START, min_E=EPSILON_MIN, decay_type=\"linear\", decay_rate=DECAY_LINEAR)\n",
        "rewards_exponential, _, _, _ = run_expected_sarsa_decay(env=env, episodes=EPISODES, lr=LR, gamma=GAMMA,initial_E=EPSILON_START, min_E=EPSILON_MIN,decay_type=\"exponential\", decay_rate=DECAY_EXP)\n",
        "\n",
        "# # Executa Q-Learning SEM decaimento (epsilon fixo)\n",
        "rewards_no_decay, _, _, _ = run_expected_sarsa_decay(env=env, episodes=EPISODES, lr=LR, gamma=GAMMA,initial_E=EPSILON_NORMAL, min_E=EPSILON_START, decay_type=\"none\", decay_rate=0)  # sem decaimento) # epsilon não decai (fixo)\n",
        "clear_output()"
      ]
    },
    {
      "cell_type": "code",
      "execution_count": null,
      "metadata": {
        "id": "E-OmP_4MEP05"
      },
      "outputs": [],
      "source": [
        "plot_results(\"Expected-SARSA (CliffWalking) - Fixo x Linear x Exponencial\",[rewards_no_decay,rewards_linear, rewards_exponential], [\"Fixo\",\"Decaimento Linear\", \"Decaimento Exponencial\"], 0)"
      ]
    },
    {
      "cell_type": "markdown",
      "metadata": {
        "id": "A862FwMZEerx"
      },
      "source": [
        "##### SARSA de n-passos"
      ]
    },
    {
      "cell_type": "code",
      "execution_count": null,
      "metadata": {
        "id": "2TvaKEeMEz4y"
      },
      "outputs": [],
      "source": [
        "ENV_NAME = \"CliffWalking-v0\"\n",
        "EPISODES = 8000\n",
        "LR = 0.01\n",
        "GAMMA = 0.95\n",
        "EPSILON_NORMAL = .005\n",
        "EPSILON_START = 1.0\n",
        "EPSILON_MIN = 0.005\n",
        "DECAY_LINEAR = 0.005\n",
        "DECAY_EXP = 0.005\n",
        "\n",
        "env = gym.make(ENV_NAME, max_episode_steps=500)\n",
        "\n",
        "rewards_linear, _, _, _ = run_nstep_sarsa_decay(env=env, episodes=EPISODES, lr=LR, gamma=GAMMA,initial_E=EPSILON_START, min_E=EPSILON_MIN, decay_type=\"linear\", decay_rate=DECAY_LINEAR)\n",
        "rewards_exponential, _, _, _ = run_nstep_sarsa_decay(env=env, episodes=EPISODES, lr=LR, gamma=GAMMA,initial_E=EPSILON_START, min_E=EPSILON_MIN,decay_type=\"exponential\", decay_rate=DECAY_EXP)\n",
        "\n",
        "# # Executa Q-Learning SEM decaimento (epsilon fixo)\n",
        "rewards_no_decay, _, _, _ = run_nstep_sarsa_decay(env=env, episodes=EPISODES, lr=LR, gamma=GAMMA,initial_E=EPSILON_NORMAL, min_E=EPSILON_START, decay_type=\"none\", decay_rate=0)  # sem decaimento) # epsilon não decai (fixo)\n",
        "clear_output()"
      ]
    },
    {
      "cell_type": "code",
      "execution_count": null,
      "metadata": {
        "id": "CbqsJen5Ekzd"
      },
      "outputs": [],
      "source": [
        "plot_results(\"Sarsa de n-passos (CliffWalking) - Fixo x Linear x Exponencial\",[rewards_no_decay,rewards_linear, rewards_exponential], [\"Fixo\",\"Decaimento Linear\", \"Decaimento Exponencial\"], 0)"
      ]
    }
  ],
  "metadata": {
    "colab": {
      "collapsed_sections": [
        "OqdkF_zjzzdA",
        "MtrRXXsV0JvL",
        "vuh5ELm80k9i",
        "Us3IQDeMx57c",
        "7YBYR3-f9jP3",
        "Ev5B98j6-jxz",
        "Q7-ULM5r0oMa",
        "Ke4_rJ2LDYtF",
        "1sBroZK5IkYj",
        "q40W1P-1L3E7",
        "dFfo3CcmPcTr",
        "UfieBxUT0Qpq",
        "i8CBhgLkbrv0",
        "5hD42QfGbWaZ",
        "wvausVvN3q9F",
        "KRpQH1yC1VOL",
        "aCDsb9CqfmIU",
        "2z1ntbHw8qTg",
        "YeAUDiBSgMAU",
        "QqayEIcpgGld",
        "Gn8K7_bEiVqc",
        "z-lYBrIzVmPf",
        "QEUe_Q1k5CA3",
        "HukOy4ydC5DY",
        "3UbEk8DaDllr",
        "A862FwMZEerx"
      ],
      "provenance": [],
      "include_colab_link": true
    },
    "kernelspec": {
      "display_name": "Python 3",
      "name": "python3"
    },
    "language_info": {
      "name": "python"
    }
  },
  "nbformat": 4,
  "nbformat_minor": 0
}