{
  "cells": [
    {
      "cell_type": "markdown",
      "metadata": {
        "id": "view-in-github",
        "colab_type": "text"
      },
      "source": [
        "<a href=\"https://colab.research.google.com/github/christiandoramo/Variantes-para-o-epsilon/blob/main/RL_Variantes_do_epsilon.ipynb\" target=\"_parent\"><img src=\"https://colab.research.google.com/assets/colab-badge.svg\" alt=\"Open In Colab\"/></a>"
      ]
    },
    {
      "cell_type": "markdown",
      "metadata": {
        "id": "gkkFF3MkxEyP"
      },
      "source": [
        "Tema 2: Variantes para o epsilon <br>\n",
        "Equipe: <br>\n",
        "Christian Oliveira <br>\n",
        "Raphael Barbosa <br>"
      ]
    },
    {
      "cell_type": "markdown",
      "metadata": {
        "id": "PGgyS0h4xoSX"
      },
      "source": [
        "Info: [tema 2](https://docs.google.com/document/d/1bpqsUML8XkUVBMjiKMLNwbG3npgaF_35xQYrh-Dp4Ts/edit?tab=t.0#heading=h.rs93iuj1gddv )"
      ]
    },
    {
      "cell_type": "markdown",
      "metadata": {
        "id": "OqdkF_zjzzdA"
      },
      "source": [
        "# Implementação das Variantes do ε"
      ]
    },
    {
      "cell_type": "markdown",
      "metadata": {
        "id": "jWmPTx9fQfmO"
      },
      "source": [
        "## Novas funções de Decaimentos - fixo,linear,exp; adaptativo"
      ]
    },
    {
      "cell_type": "code",
      "execution_count": null,
      "metadata": {
        "id": "Sh3ags1WQrMV"
      },
      "outputs": [],
      "source": [
        "def epsilon_decay_2(decay_type='none', initial_E=1.0, min_E=0.005, X=1000, Y=None, total_eps=None, episodes=8000, decay_rate=0.001):\n",
        "    \"\"\"\n",
        "    Decaimento fixo do epsilon (linear ou exponencial), baseado em X passos ou Y proporção do tempo total.\n",
        "    \"\"\"\n",
        "    # Calcula X a partir de Y, se fornecido\n",
        "    if Y is not None:\n",
        "        if total_eps is None:\n",
        "            estimated_steps_per_episode = 500  # Estimativa do ambiente\n",
        "            total_eps = episodes * estimated_steps_per_episode\n",
        "        X = int(Y * total_eps)\n",
        "\n",
        "    if X is None:\n",
        "        raise ValueError(\"É necessário definir X ou Y para o decaimento.\")\n",
        "\n",
        "    if decay_type == 'none':\n",
        "        def new_E(t):\n",
        "            return initial_E\n",
        "    elif decay_type == 'linear':\n",
        "        k = (initial_E - min_E) / X\n",
        "        def new_E(t):\n",
        "            return max(min_E, initial_E - k * t)\n",
        "    elif decay_type == 'exponential':\n",
        "        decay_rate = math.log((initial_E - min_E) / (min_E - min_E + 1e-8)) / X  # Ajusta o decaimento\n",
        "        def new_E(t):\n",
        "            return min_E + (initial_E - min_E) * math.exp(-decay_rate * t)\n",
        "    else:\n",
        "        raise ValueError(\"Tipo de decaimento inválido. Escolha 'linear' ou 'exponential'.\")\n",
        "\n",
        "    return new_E"
      ]
    },
    {
      "cell_type": "code",
      "execution_count": null,
      "metadata": {
        "id": "PFUwi8JXQpwF"
      },
      "outputs": [],
      "source": [
        "def epsilon_decay_adaptive_2(initial_E=1.0, min_E=0.005, max_E=0.995, decay_rate=0.99, increase_rate=1.01, threshold=0.005, eps_limit_adaptive_to_consider=50, X=1000, Y=None, total_eps=None, episodes=8000):\n",
        "    \"\"\"\n",
        "    Decaimento adaptativo do epsilon baseado na variação das recompensas recentes, limitado por X passos ou Y proporção do tempo total.\n",
        "    \"\"\"\n",
        "    # Calcula X a partir de Y, se fornecido\n",
        "    if Y is not None:\n",
        "        if total_eps is None:\n",
        "            estimated_steps_per_episode = 500\n",
        "            total_eps = episodes * estimated_steps_per_episode\n",
        "        X = int(Y * total_eps)\n",
        "\n",
        "    if X is None:\n",
        "        raise ValueError(\"É necessário definir X ou Y para o decaimento.\")\n",
        "\n",
        "    def new_E(E, recent_rewards, t):\n",
        "        if t >= X:  # Garante que o epsilon não continue mudando indefinidamente\n",
        "            return min_E\n",
        "\n",
        "        if len(recent_rewards) < 2:\n",
        "            return E  # Não muda no início\n",
        "\n",
        "        N = min(eps_limit_adaptive_to_consider, len(recent_rewards) // 2)\n",
        "        recent_mean = np.mean(recent_rewards[-N:])\n",
        "\n",
        "        if len(recent_rewards) >= 2 * N:\n",
        "            previous_mean = np.mean(recent_rewards[-2 * N:-N])\n",
        "        else:\n",
        "            previous_mean = recent_mean\n",
        "\n",
        "        if recent_mean >= (previous_mean - threshold):  # Melhorou ou manteve\n",
        "            E = max(E * decay_rate, min_E)\n",
        "        elif E < max_E:  # Desempenho piorou, aumenta epsilon para mais exploração\n",
        "            E = min(E * increase_rate, max_E)\n",
        "\n",
        "        return E\n",
        "\n",
        "    return new_E"
      ]
    },
    {
      "cell_type": "markdown",
      "metadata": {
        "id": "MtrRXXsV0JvL"
      },
      "source": [
        "##  Decaimento do ε (Linear e Exponencial)"
      ]
    },
    {
      "cell_type": "markdown",
      "metadata": {
        "id": "vuh5ELm80k9i"
      },
      "source": [
        "### Decaimento linear"
      ]
    },
    {
      "cell_type": "markdown",
      "metadata": {
        "id": "3aWsTV7Ixw6h"
      },
      "source": [
        "#### Função"
      ]
    },
    {
      "cell_type": "code",
      "execution_count": null,
      "metadata": {
        "id": "BVIFsX_7xE0E"
      },
      "outputs": [],
      "source": [
        "# testando um tipo de decaimento linear do Epsilon\n",
        "def linear_decay(initial_E=1.0, min_E=0.005, X=1000):\n",
        "    # X é o numero do passos (limite) para achar o min_E\n",
        "    k = (initial_E - min_E)/X\n",
        "    # k é a taxa de decaimento linear: Epsilon inicial - Epsilon minimo/x\n",
        "    def new_E(t): # t é o passo atual no treinamento\n",
        "        return max(min_E, initial_E - k * t)\n",
        "        # primeira vez -> (0.005, 1 - ((1-0.005)/1000) * 1) (0.005 ou 0,999005)\n",
        "        # segunda vez -> (0.005, 1 - ((1-0.005)/1000) * 2)...\n",
        "    return new_E"
      ]
    },
    {
      "cell_type": "markdown",
      "metadata": {
        "id": "yLQHD9gfxz37"
      },
      "source": [
        "#### Aplicado ao Q-learning"
      ]
    },
    {
      "cell_type": "code",
      "execution_count": null,
      "metadata": {
        "id": "qvSo9g68xs5s"
      },
      "outputs": [],
      "source": [
        "# (Q-learning é off-policy) - usando a mesma func E-greedy e apenas alterando o Q-learning do tópico recapitulações\n",
        "# ajuste dos parametros -> retira epsilon e coloca e_inicial e min, e X\n",
        "\n",
        "# Algoritmo Q-learning\n",
        "# Atenção: os espaços de estados e de ações precisam ser discretos, dados por valores inteiros\n",
        "def run_qlearning_linear_decay(env, episodes, lr=0.1, gamma=0.95, initial_E=1, min_E=0.005, X=1000):\n",
        "    assert isinstance(env.observation_space, gym.spaces.Discrete)\n",
        "    assert isinstance(env.action_space, gym.spaces.Discrete)\n",
        "\n",
        "    num_actions = env.action_space.n\n",
        "\n",
        "    # inicializa a tabela Q toda com zeros\n",
        "    # usar o estado como índice das linhas e a ação como índice das colunas\n",
        "    Q = np.zeros(shape = (env.observation_space.n, num_actions))\n",
        "\n",
        "    # para cada episódio, guarda sua soma de recompensas (retorno não-descontado)\n",
        "    all_episode_rewards = []\n",
        "\n",
        "    # definindo os variaveis dentro de linear_decay de acordo com o q-learning\n",
        "    epsilon_linear_decay = linear_decay(initial_E,min_E,X)\n",
        "    t_steps = 0 # contando passos\n",
        "\n",
        "    # loop principal\n",
        "    for i in range(episodes):\n",
        "        done = False\n",
        "        sum_rewards, reward = 0, 0\n",
        "\n",
        "        state, _ = env.reset()\n",
        "\n",
        "        # executa 1 episódio completo, fazendo atualizações na Q-table\n",
        "        while not done:\n",
        "            epsilon = epsilon_linear_decay(t_steps) # retorna o novo epsilon com base no linear decay e passo atual\n",
        "\n",
        "            # escolhe a próxima ação -- usa epsilon-greedy\n",
        "            action = epsilon_greedy(Q, state, epsilon)\n",
        "\n",
        "            # realiza a ação, ou seja, dá um passo no ambiente\n",
        "            next_state, reward, terminated, trunc, _ = env.step(action)\n",
        "            done = terminated or trunc\n",
        "\n",
        "            if terminated:\n",
        "                # para estados terminais\n",
        "                V_next_state = 0\n",
        "            else:\n",
        "                # para estados não-terminais -- valor máximo (melhor ação)\n",
        "                V_next_state = np.max(Q[next_state])\n",
        "\n",
        "            # atualiza a Q-table\n",
        "            # delta = (estimativa usando a nova recompensa) - estimativa antiga\n",
        "            delta = (reward + gamma * V_next_state) - Q[state,action]\n",
        "            Q[state,action] = Q[state,action] + lr * delta\n",
        "\n",
        "            sum_rewards += reward\n",
        "            state = next_state\n",
        "\n",
        "            t_steps += 1 # próximo passo\n",
        "\n",
        "        all_episode_rewards.append(sum_rewards)\n",
        "\n",
        "        # a cada 100 episódios, imprime informação sobre o progresso\n",
        "        if VERBOSE and ((i+1) % 100 == 0):\n",
        "            avg_reward = np.mean(all_episode_rewards[-100:])\n",
        "            print(f\"Episode {i+1} Average Reward (last 100): {avg_reward:.3f}\")\n",
        "\n",
        "    return all_episode_rewards, Q"
      ]
    },
    {
      "cell_type": "markdown",
      "metadata": {
        "id": "Us3IQDeMx57c"
      },
      "source": [
        "#### Aplicado ao SARSA"
      ]
    },
    {
      "cell_type": "code",
      "execution_count": null,
      "metadata": {
        "id": "e7-cvKREx-CF"
      },
      "outputs": [],
      "source": [
        "def run_sarsa_linear_decay(env, episodes, lr=0.1, gamma=0.95, initial_E=1, min_E=0.005, X=1000):\n",
        "    assert isinstance(env.observation_space, gym.spaces.Discrete)\n",
        "    assert isinstance(env.action_space, gym.spaces.Discrete)\n",
        "\n",
        "    num_actions = env.action_space.n\n",
        "\n",
        "    # Inicializa a tabela Q toda com zeros\n",
        "    Q = np.zeros(shape=(env.observation_space.n, num_actions))\n",
        "\n",
        "    # Para cada episódio, guarda sua soma de recompensas (retorno não-descontado)\n",
        "    all_episode_rewards = []\n",
        "\n",
        "    # Definindo as variáveis dentro de linear_decay de acordo com o SARSA\n",
        "    epsilon_linear_decay = linear_decay(initial_E, min_E, X)\n",
        "    t_steps = 0  # Contando passos\n",
        "\n",
        "    # Loop principal\n",
        "    for i in range(episodes):\n",
        "        done = False\n",
        "        sum_rewards, reward = 0, 0\n",
        "\n",
        "        state, _ = env.reset()\n",
        "\n",
        "        # Escolhe a primeira ação usando epsilon-greedy\n",
        "        epsilon = epsilon_linear_decay(t_steps)\n",
        "        action = epsilon_greedy(Q, state, epsilon)\n",
        "\n",
        "        # Executa 1 episódio completo, fazendo atualizações na Q-table\n",
        "        while not done:\n",
        "            # Realiza a ação, ou seja, dá um passo no ambiente\n",
        "            next_state, reward, terminated, trunc, _ = env.step(action)\n",
        "            done = terminated or trunc\n",
        "\n",
        "            # Escolhe a próxima ação usando epsilon-greedy\n",
        "            next_epsilon = epsilon_linear_decay(t_steps + 1)\n",
        "            next_action = epsilon_greedy(Q, next_state, next_epsilon)\n",
        "\n",
        "            if terminated:\n",
        "                # Para estados terminais\n",
        "                V_next_state = 0\n",
        "            else:\n",
        "                # Para estados não-terminais -- valor da próxima ação (SARSA é on-policy)\n",
        "                V_next_state = Q[next_state, next_action]\n",
        "\n",
        "            # Atualiza a Q-table\n",
        "            # delta = (estimativa usando a nova recompensa) - estimativa antiga\n",
        "            delta = (reward + gamma * V_next_state) - Q[state, action]\n",
        "            Q[state, action] = Q[state, action] + lr * delta\n",
        "\n",
        "            sum_rewards += reward\n",
        "            state = next_state\n",
        "            action = next_action  # SARSA usa a próxima ação para a atualização\n",
        "\n",
        "            t_steps += 1  # Próximo passo\n",
        "\n",
        "        all_episode_rewards.append(sum_rewards)\n",
        "\n",
        "        # A cada 100 episódios, imprime informação sobre o progresso\n",
        "        if VERBOSE and ((i + 1) % 100 == 0):\n",
        "            avg_reward = np.mean(all_episode_rewards[-100:])\n",
        "            print(f\"Episode {i + 1} Average Reward (last 100): {avg_reward:.3f}\")\n",
        "\n",
        "    return all_episode_rewards, Q"
      ]
    },
    {
      "cell_type": "markdown",
      "metadata": {
        "id": "7YBYR3-f9jP3"
      },
      "source": [
        "#### Aplicado ao Expected-SARSA"
      ]
    },
    {
      "cell_type": "code",
      "execution_count": null,
      "metadata": {
        "id": "I8gxgnos9jP4"
      },
      "outputs": [],
      "source": [
        "def run_expected_sarsa_linear_decay(env, episodes, lr=0.1, gamma=0.95, initial_E=1, min_E=0.005, X=1000):\n",
        "    assert isinstance(env.observation_space, gym.spaces.Discrete)\n",
        "    assert isinstance(env.action_space, gym.spaces.Discrete)\n",
        "\n",
        "    num_actions = env.action_space.n\n",
        "\n",
        "    # Inicializa a tabela Q toda com zeros\n",
        "    Q = np.zeros(shape=(env.observation_space.n, num_actions))\n",
        "\n",
        "    # Para cada episódio, guarda sua soma de recompensas (retorno não-descontado)\n",
        "    all_episode_rewards = []\n",
        "\n",
        "    # Definindo as variáveis dentro de linear_decay de acordo com o Expected-SARSA\n",
        "    epsilon_linear_decay = linear_decay(initial_E, min_E, X)\n",
        "    t_steps = 0  # Contando passos\n",
        "\n",
        "    # Loop principal\n",
        "    for i in range(episodes):\n",
        "        done = False\n",
        "        sum_rewards, reward = 0, 0\n",
        "\n",
        "        state, _ = env.reset()\n",
        "\n",
        "        # Escolhe a primeira ação usando epsilon-greedy\n",
        "        epsilon = epsilon_linear_decay(t_steps)\n",
        "        action = epsilon_greedy(Q, state, epsilon)\n",
        "\n",
        "        # Executa 1 episódio completo, fazendo atualizações na Q-table\n",
        "        while not done:\n",
        "            # Realiza a ação, ou seja, dá um passo no ambiente\n",
        "            next_state, reward, terminated, trunc, _ = env.step(action)\n",
        "            done = terminated or trunc\n",
        "\n",
        "            # Calcula o valor esperado para o próximo estado\n",
        "            next_epsilon = epsilon_linear_decay(t_steps + 1)\n",
        "            expected_value = 0  # Inicializa o valor esperado\n",
        "\n",
        "            # Calcula a probabilidade de cada ação no próximo estado\n",
        "            for a in range(num_actions):\n",
        "                if a == np.argmax(Q[next_state, :]):\n",
        "                    # Probabilidade de escolher a ação gulosa (1 - epsilon + epsilon/num_actions)\n",
        "                    prob = (1 - next_epsilon) + (next_epsilon / num_actions)\n",
        "                else:\n",
        "                    # Probabilidade de escolher uma ação aleatória (epsilon/num_actions)\n",
        "                    prob = next_epsilon / num_actions\n",
        "                expected_value += prob * Q[next_state, a]\n",
        "\n",
        "            if terminated:\n",
        "                # Para estados terminais\n",
        "                V_next_state = 0\n",
        "            else:\n",
        "                # Para estados não-terminais -- usa o valor esperado\n",
        "                V_next_state = expected_value\n",
        "\n",
        "            # Atualiza a Q-table\n",
        "            # delta = (estimativa usando a nova recompensa) - estimativa antiga\n",
        "            delta = (reward + gamma * V_next_state) - Q[state, action]\n",
        "            Q[state, action] = Q[state, action] + lr * delta\n",
        "\n",
        "            sum_rewards += reward\n",
        "            state = next_state\n",
        "            action = epsilon_greedy(Q, state, next_epsilon)  # Escolhe a próxima ação\n",
        "\n",
        "            t_steps += 1  # Próximo passo\n",
        "\n",
        "        all_episode_rewards.append(sum_rewards)\n",
        "\n",
        "        # A cada 100 episódios, imprime informação sobre o progresso\n",
        "        if VERBOSE and ((i + 1) % 100 == 0):\n",
        "            avg_reward = np.mean(all_episode_rewards[-100:])\n",
        "            print(f\"Episode {i + 1} Average Reward (last 100): {avg_reward:.3f}\")\n",
        "\n",
        "    return all_episode_rewards, Q"
      ]
    },
    {
      "cell_type": "markdown",
      "metadata": {
        "id": "Ev5B98j6-jxz"
      },
      "source": [
        "#### Aplicado ao SARSA de n Passos"
      ]
    },
    {
      "cell_type": "code",
      "execution_count": null,
      "metadata": {
        "id": "hixH5yK2-zxw"
      },
      "outputs": [],
      "source": [
        "def run_nstep_sarsa_linear_decay(env, episodes, n=3, lr=0.1, gamma=0.95, initial_E=1, min_E=0.005, X=1000):\n",
        "    assert isinstance(env.observation_space, gym.spaces.Discrete)\n",
        "    assert isinstance(env.action_space, gym.spaces.Discrete)\n",
        "\n",
        "    num_actions = env.action_space.n\n",
        "\n",
        "    # Inicializa a tabela Q toda com zeros\n",
        "    Q = np.zeros(shape=(env.observation_space.n, num_actions))\n",
        "\n",
        "    # Para cada episódio, guarda sua soma de recompensas (retorno não-descontado)\n",
        "    all_episode_rewards = []\n",
        "\n",
        "    # Definindo as variáveis dentro de linear_decay de acordo com o SARSA de n-passos\n",
        "    epsilon_linear_decay = linear_decay(initial_E, min_E, X)\n",
        "    t_steps = 0  # Contando passos\n",
        "\n",
        "    # Loop principal\n",
        "    for i in range(episodes):\n",
        "        done = False\n",
        "        sum_rewards, reward = 0, 0\n",
        "\n",
        "        state, _ = env.reset()\n",
        "\n",
        "        # Escolhe a primeira ação usando epsilon-greedy\n",
        "        epsilon = epsilon_linear_decay(t_steps)\n",
        "        action = epsilon_greedy(Q, state, epsilon)\n",
        "\n",
        "        # Listas para armazenar os últimos n estados, ações e recompensas\n",
        "        states = [state]\n",
        "        actions = [action]\n",
        "        rewards = [0]  # A primeira recompensa é 0, pois ainda não houve ação\n",
        "\n",
        "        # Executa 1 episódio completo, fazendo atualizações na Q-table\n",
        "        while not done:\n",
        "            # Realiza a ação, ou seja, dá um passo no ambiente\n",
        "            next_state, reward, terminated, trunc, _ = env.step(action)\n",
        "            done = terminated or trunc\n",
        "\n",
        "            # Escolhe a próxima ação usando epsilon-greedy\n",
        "            next_epsilon = epsilon_linear_decay(t_steps + 1)\n",
        "            next_action = epsilon_greedy(Q, next_state, next_epsilon)\n",
        "\n",
        "            # Armazena o próximo estado, ação e recompensa\n",
        "            states.append(next_state)\n",
        "            actions.append(next_action)\n",
        "            rewards.append(reward)\n",
        "\n",
        "            # Se já tivermos n passos, atualizamos a Q-table\n",
        "            if len(states) > n:\n",
        "                # Calcula o retorno de n-passos\n",
        "                G = 0\n",
        "                for j in range(t_steps - n + 1, t_steps + 1):\n",
        "                    G += (gamma ** (j - (t_steps - n))) * rewards[j]\n",
        "\n",
        "                # Adiciona o valor do estado final (se não for terminal)\n",
        "                if not done:\n",
        "                    G += (gamma ** n) * Q[next_state, next_action]\n",
        "\n",
        "                # Atualiza a Q-table para o estado e ação de n passos atrás\n",
        "                update_state = states[t_steps - n]\n",
        "                update_action = actions[t_steps - n]\n",
        "                Q[update_state, update_action] += lr * (G - Q[update_state, update_action])\n",
        "\n",
        "            sum_rewards += reward\n",
        "            state = next_state\n",
        "            action = next_action\n",
        "            t_steps += 1  # Próximo passo\n",
        "\n",
        "        # Atualiza os últimos n-1 passos que não foram atualizados\n",
        "        for k in range(max(0, len(states) - n), len(states) - 1):\n",
        "            G = 0\n",
        "            for j in range(k, len(states) - 1):\n",
        "                G += (gamma ** (j - k)) * rewards[j + 1]\n",
        "            if not done:\n",
        "                G += (gamma ** (len(states) - 1 - k)) * Q[states[-1], actions[-1]]\n",
        "            Q[states[k], actions[k]] += lr * (G - Q[states[k], actions[k]])\n",
        "\n",
        "        all_episode_rewards.append(sum_rewards)\n",
        "\n",
        "        # A cada 100 episódios, imprime informação sobre o progresso\n",
        "        if VERBOSE and ((i + 1) % 100 == 0):\n",
        "            avg_reward = np.mean(all_episode_rewards[-100:])\n",
        "            print(f\"Episode {i + 1} Average Reward (last 100): {avg_reward:.3f}\")\n",
        "\n",
        "    return all_episode_rewards, Q"
      ]
    },
    {
      "cell_type": "markdown",
      "metadata": {
        "id": "Q7-ULM5r0oMa"
      },
      "source": [
        "### Decaimento exponencial"
      ]
    },
    {
      "cell_type": "markdown",
      "metadata": {
        "id": "Ieb6QSMxC3dG"
      },
      "source": [
        "#### Função"
      ]
    },
    {
      "cell_type": "code",
      "execution_count": null,
      "metadata": {
        "id": "neSxhaZuDCL7"
      },
      "outputs": [],
      "source": [
        "import math\n",
        "\n",
        "def exponential_decay(initial_E=1.0, min_E=0.005, decay_rate=0.001):\n",
        "    \"\"\"\n",
        "    Função de decaimento exponencial para epsilon.\n",
        "\n",
        "    Parâmetros:\n",
        "        initial_E (float): Valor inicial de epsilon (epsilon máximo).\n",
        "        min_E (float): Valor mínimo de epsilon.\n",
        "        decay_rate (float): Taxa de decaimento (controla a velocidade do decaimento).\n",
        "\n",
        "    Retorna:\n",
        "        Uma função que calcula o epsilon para um dado passo t.\n",
        "    \"\"\"\n",
        "    def new_E(t):\n",
        "        # Decaimento exponencial suave em direção a min_E\n",
        "        return min_E + (initial_E - min_E) * math.exp(-decay_rate * t)\n",
        "\n",
        "    return new_E"
      ]
    },
    {
      "cell_type": "markdown",
      "metadata": {
        "id": "Ke4_rJ2LDYtF"
      },
      "source": [
        "#### Aplicado ao Q-Learning"
      ]
    },
    {
      "cell_type": "code",
      "execution_count": null,
      "metadata": {
        "id": "Wf4Zyc47DcNb"
      },
      "outputs": [],
      "source": [
        "import numpy as np\n",
        "import math\n",
        "import gym  # Certifique-se de instalar o Gym com: pip install gym\n",
        "\n",
        "def exponential_decay(initial_E=1.0, min_E=0.005, decay_rate=0.001):\n",
        "    def new_E(t):\n",
        "        return min_E + (initial_E - min_E) * math.exp(-decay_rate * t)\n",
        "    return new_E\n",
        "\n",
        "def epsilon_greedy(Q, state, epsilon):\n",
        "    if np.random.rand() < epsilon:\n",
        "        return np.random.choice(len(Q[state]))  # Exploração\n",
        "    else:\n",
        "        best_actions = np.where(Q[state] == np.max(Q[state]))[0]\n",
        "        return np.random.choice(best_actions)  # Escolhe entre as melhores ações\n",
        "\n",
        "def run_qlearning_exponential_decay(env, episodes, lr=0.1, gamma=0.95,\n",
        "                                    initial_E=1.0, min_E=0.005, decay_rate=0.001,\n",
        "                                    verbose=True):\n",
        "    # Garantindo que o ambiente é discreto\n",
        "    assert isinstance(env.observation_space, gym.spaces.Discrete), \"Apenas espaços discretos são suportados!\"\n",
        "    assert isinstance(env.action_space, gym.spaces.Discrete), \"Apenas ações discretas são suportadas!\"\n",
        "\n",
        "    num_actions = env.action_space.n\n",
        "    Q = np.zeros((env.observation_space.n, num_actions))\n",
        "    all_episode_rewards = []\n",
        "    avg_rewards = []\n",
        "    epsilon_values = []\n",
        "\n",
        "    epsilon_decay = exponential_decay(initial_E, min_E, decay_rate)\n",
        "\n",
        "    for i in range(episodes):\n",
        "        state, _ = env.reset()  # Ajuste para Gym v0.26+\n",
        "        done = False\n",
        "        sum_rewards = 0\n",
        "        t_steps = 0  # Reseta a cada episódio\n",
        "\n",
        "        while not done:\n",
        "            epsilon = epsilon_decay(t_steps)\n",
        "            action = epsilon_greedy(Q, state, epsilon)\n",
        "\n",
        "            next_state, reward, terminated, truncated, _ = env.step(action)\n",
        "            done = terminated or truncated\n",
        "\n",
        "            # Atualização Q-Learning\n",
        "            V_next_state = 0 if done else np.max(Q[next_state])\n",
        "            Q[state, action] += lr * (reward + gamma * V_next_state - Q[state, action])\n",
        "\n",
        "            sum_rewards += reward\n",
        "            state = next_state\n",
        "            t_steps += 1\n",
        "\n",
        "        all_episode_rewards.append(sum_rewards)\n",
        "        avg_rewards.append(np.mean(all_episode_rewards[-100:]))\n",
        "        epsilon_values.append(epsilon_decay(t_steps))\n",
        "\n",
        "        if verbose and (i + 1) % 100 == 0:\n",
        "            print(f\"Episode {i + 1}: Avg Reward (last 100): {avg_rewards[-1]:.3f}, Epsilon: {epsilon:.4f}\")\n",
        "\n",
        "    return all_episode_rewards, Q, avg_rewards, epsilon_values"
      ]
    },
    {
      "cell_type": "markdown",
      "metadata": {
        "id": "1sBroZK5IkYj"
      },
      "source": [
        "#### Aplicado ao SARSA"
      ]
    },
    {
      "cell_type": "code",
      "execution_count": null,
      "metadata": {
        "id": "PT2y8cs9IlxW"
      },
      "outputs": [],
      "source": [
        "import numpy as np\n",
        "import math\n",
        "import gym  # Certifique-se de instalar o Gym com: pip install gym\n",
        "\n",
        "def exponential_decay(initial_E=1.0, min_E=0.005, decay_rate=0.001):\n",
        "    def new_E(t):\n",
        "        return min_E + (initial_E - min_E) * math.exp(-decay_rate * t)\n",
        "    return new_E\n",
        "\n",
        "def epsilon_greedy(Q, state, epsilon):\n",
        "    if np.random.rand() < epsilon:\n",
        "        return np.random.choice(len(Q[state]))  # Exploração\n",
        "    else:\n",
        "        best_actions = np.where(Q[state] == np.max(Q[state]))[0]\n",
        "        return np.random.choice(best_actions)  # Escolha aleatória entre as melhores ações\n",
        "\n",
        "def run_sarsa_exponential_decay(env, episodes, lr=0.1, gamma=0.95, initial_E=1.0, min_E=0.005, decay_rate=0.001, verbose=True):\n",
        "    # Garantindo que o ambiente é discreto\n",
        "    assert isinstance(env.observation_space, gym.spaces.Discrete), \"Apenas espaços discretos são suportados!\"\n",
        "    assert isinstance(env.action_space, gym.spaces.Discrete), \"Apenas ações discretas são suportadas!\"\n",
        "\n",
        "    num_actions = env.action_space.n\n",
        "    Q = np.zeros((env.observation_space.n, num_actions))\n",
        "    all_episode_rewards = []\n",
        "    avg_rewards = []\n",
        "    epsilon_values = []\n",
        "\n",
        "    epsilon_decay = exponential_decay(initial_E, min_E, decay_rate)\n",
        "\n",
        "    for i in range(episodes):\n",
        "        state, _ = env.reset()  # Ajuste para Gym v0.26+\n",
        "        done = False\n",
        "        sum_rewards = 0\n",
        "        epsilon = epsilon_decay(i)  # Decaimento baseado no episódio\n",
        "        epsilon_values.append(epsilon)  # Registrar o valor do epsilon\n",
        "\n",
        "        # Escolhe a primeira ação usando epsilon-greedy\n",
        "        action = epsilon_greedy(Q, state, epsilon)\n",
        "\n",
        "        while not done:\n",
        "            # Executa a ação no ambiente\n",
        "            next_state, reward, terminated, truncated, _ = env.step(action)\n",
        "            done = terminated or truncated\n",
        "\n",
        "            # Escolhe a próxima ação usando epsilon-greedy\n",
        "            next_action = epsilon_greedy(Q, next_state, epsilon)\n",
        "\n",
        "            # Atualiza a Q-table (SARSA usa a próxima ação)\n",
        "            V_next_state = 0 if done else Q[next_state, next_action]\n",
        "            Q[state, action] += lr * (reward + gamma * V_next_state - Q[state, action])\n",
        "\n",
        "            sum_rewards += reward\n",
        "            state = next_state\n",
        "            action = next_action  # Atualiza a ação para o próximo passo\n",
        "\n",
        "        all_episode_rewards.append(sum_rewards)\n",
        "        avg_rewards.append(np.mean(all_episode_rewards[-100:]))  # Média móvel\n",
        "\n",
        "        if verbose and ((i + 1) % 100 == 0):\n",
        "            print(f\"Episode {i + 1}: Avg Reward (last 100): {avg_rewards[-1]:.3f}, Epsilon: {epsilon:.4f}\")\n",
        "\n",
        "    return all_episode_rewards, Q, avg_rewards, epsilon_values"
      ]
    },
    {
      "cell_type": "markdown",
      "metadata": {
        "id": "q40W1P-1L3E7"
      },
      "source": [
        "#### Aplicado ao Expected-SARSA"
      ]
    },
    {
      "cell_type": "code",
      "execution_count": null,
      "metadata": {
        "id": "U92dDL7_L7OZ"
      },
      "outputs": [],
      "source": [
        "import numpy as np\n",
        "import math\n",
        "import gym  # Certifique-se de instalar com: pip install gym\n",
        "\n",
        "def exponential_decay(initial_E=1.0, min_E=0.005, decay_rate=0.001):\n",
        "    def new_E(t):\n",
        "        return min_E + (initial_E - min_E) * math.exp(-decay_rate * t)\n",
        "    return new_E\n",
        "\n",
        "def epsilon_greedy(Q, state, epsilon):\n",
        "    if np.random.rand() < epsilon:\n",
        "        return np.random.choice(len(Q[state]))  # Exploração\n",
        "    else:\n",
        "        best_actions = np.where(Q[state] == np.max(Q[state]))[0]\n",
        "        return np.random.choice(best_actions)  # Escolha aleatória entre as melhores ações\n",
        "\n",
        "def run_expected_sarsa_exponential_decay(env, episodes, lr=0.1, gamma=0.95, initial_E=1.0, min_E=0.005, decay_rate=0.001, verbose=True):\n",
        "    assert isinstance(env.observation_space, gym.spaces.Discrete), \"O ambiente deve ter um espaço de estados discreto.\"\n",
        "    assert isinstance(env.action_space, gym.spaces.Discrete), \"O ambiente deve ter um espaço de ações discreto.\"\n",
        "\n",
        "    num_actions = env.action_space.n\n",
        "    Q = np.zeros((env.observation_space.n, num_actions))\n",
        "    all_episode_rewards = []\n",
        "    avg_rewards = []\n",
        "    epsilon_values = []\n",
        "\n",
        "    epsilon_decay = exponential_decay(initial_E, min_E, decay_rate)\n",
        "\n",
        "    for i in range(episodes):\n",
        "        state, _ = env.reset()  # Ajuste para Gym v0.26+\n",
        "        done = False\n",
        "        sum_rewards = 0\n",
        "        epsilon = epsilon_decay(i)  # Decaimento baseado no episódio\n",
        "        epsilon_values.append(epsilon)  # Registrar o valor do epsilon\n",
        "\n",
        "        while not done:\n",
        "            action = epsilon_greedy(Q, state, epsilon)\n",
        "            next_state, reward, terminated, truncated, _ = env.step(action)\n",
        "            done = terminated or truncated\n",
        "\n",
        "            next_epsilon = epsilon_decay(i + 1)  # Usando episódio como referência\n",
        "\n",
        "            # Cálculo do valor esperado para o próximo estado\n",
        "            expected_value = 0\n",
        "            best_actions = np.where(Q[next_state] == np.max(Q[next_state]))[0]\n",
        "            prob_best_action = (1 - next_epsilon) + (next_epsilon / num_actions)\n",
        "            prob_other_actions = next_epsilon / num_actions\n",
        "\n",
        "            for a in range(num_actions):\n",
        "                prob = prob_best_action if a in best_actions else prob_other_actions\n",
        "                expected_value += prob * Q[next_state, a]\n",
        "\n",
        "            # Atualização da Q-table (Expected SARSA)\n",
        "            Q[state, action] += lr * (reward + gamma * expected_value - Q[state, action])\n",
        "\n",
        "            sum_rewards += reward\n",
        "            state = next_state\n",
        "\n",
        "        all_episode_rewards.append(sum_rewards)\n",
        "        avg_rewards.append(np.mean(all_episode_rewards[-100:]))  # Média móvel\n",
        "\n",
        "        if verbose and ((i + 1) % 100 == 0):\n",
        "            print(f\"Episode {i + 1}: Avg Reward (last 100): {avg_rewards[-1]:.3f}, Epsilon: {epsilon:.4f}\")\n",
        "\n",
        "    return all_episode_rewards, Q, avg_rewards, epsilon_values"
      ]
    },
    {
      "cell_type": "markdown",
      "metadata": {
        "id": "dFfo3CcmPcTr"
      },
      "source": [
        "#### Aplicado ao SARSA de N-passos"
      ]
    },
    {
      "cell_type": "code",
      "execution_count": null,
      "metadata": {
        "id": "4Ay5efJePgza"
      },
      "outputs": [],
      "source": [
        "import numpy as np\n",
        "import math\n",
        "import gym  # Certifique-se de instalar com: pip install gym\n",
        "\n",
        "def exponential_decay(initial_E=1.0, min_E=0.005, decay_rate=0.001):\n",
        "    \"\"\"Função para calcular epsilon com decaimento exponencial.\"\"\"\n",
        "    def new_E(t):\n",
        "        return min_E + (initial_E - min_E) * math.exp(-decay_rate * t)\n",
        "    return new_E\n",
        "\n",
        "def epsilon_greedy(Q, state, epsilon):\n",
        "    \"\"\"Política epsilon-greedy para escolher ações.\"\"\"\n",
        "    if np.random.rand() < epsilon:\n",
        "        return np.random.choice(len(Q[state]))  # Exploração\n",
        "    else:\n",
        "        best_actions = np.where(Q[state] == np.max(Q[state]))[0]\n",
        "        return np.random.choice(best_actions)  # Escolhe entre as ações ótimas\n",
        "\n",
        "def run_nstep_sarsa_exponential_decay(env, episodes, n=3, lr=0.1, gamma=0.95, initial_E=1.0, min_E=0.005, decay_rate=0.001, verbose=True):\n",
        "    \"\"\"Executa n-step SARSA com decaimento exponencial de epsilon.\"\"\"\n",
        "\n",
        "    # Verificações do ambiente\n",
        "    assert isinstance(env.observation_space, gym.spaces.Discrete), \"O ambiente deve ter um espaço de estados discreto.\"\n",
        "    assert isinstance(env.action_space, gym.spaces.Discrete), \"O ambiente deve ter um espaço de ações discreto.\"\n",
        "\n",
        "    num_actions = env.action_space.n\n",
        "    Q = np.zeros((env.observation_space.n, num_actions))  # Inicializa a Q-table\n",
        "    all_episode_rewards = []\n",
        "\n",
        "    epsilon_decay = exponential_decay(initial_E, min_E, decay_rate)  # Função de decaimento de epsilon\n",
        "\n",
        "    for i in range(episodes):\n",
        "        state, _ = env.reset()  # Ajuste para Gym v0.26+\n",
        "        done = False\n",
        "        sum_rewards = 0\n",
        "        epsilon = epsilon_decay(i)  # Epsilon atualizado por episódio\n",
        "\n",
        "        # Armazena as últimas transições para atualização n-step\n",
        "        states = [state]\n",
        "        actions = [epsilon_greedy(Q, state, epsilon)]\n",
        "        rewards = [0]  # Inicialmente zero\n",
        "\n",
        "        step_count = 0\n",
        "        while not done:\n",
        "            # Executa ação no ambiente\n",
        "            next_state, reward, terminated, truncated, _ = env.step(actions[-1])\n",
        "            done = terminated or truncated\n",
        "\n",
        "            sum_rewards += reward\n",
        "            states.append(next_state)\n",
        "            rewards.append(reward)\n",
        "\n",
        "            # Se não for terminal, escolhe a próxima ação\n",
        "            if not done:\n",
        "                next_epsilon = epsilon_decay(i)  # Atualiza epsilon com base no episódio\n",
        "                actions.append(epsilon_greedy(Q, next_state, next_epsilon))\n",
        "            else:\n",
        "                actions.append(None)  # No terminal, não há ação\n",
        "\n",
        "            # Atualiza a Q-table usando o retorno de n-passos\n",
        "            if step_count >= n - 1:\n",
        "                G = sum(gamma ** j * rewards[j] for j in range(1, n + 1))  # Soma das recompensas futuras\n",
        "\n",
        "                if not done and actions[-1] is not None:  # Se não for terminal, adiciona valor esperado\n",
        "                    G += (gamma ** n) * Q[states[-1], actions[-1]]\n",
        "\n",
        "                Q[states[0], actions[0]] += lr * (G - Q[states[0], actions[0]])\n",
        "\n",
        "                # Mantém o buffer de tamanho `n`\n",
        "                del states[0]\n",
        "                del actions[0]\n",
        "                del rewards[0]\n",
        "\n",
        "            step_count += 1\n",
        "\n",
        "        all_episode_rewards.append(sum_rewards)\n",
        "\n",
        "        # Atualiza os últimos passos ao final do episódio\n",
        "        while len(states) > 1:  # Atualiza todas as transições restantes\n",
        "            G = sum(gamma ** j * rewards[j] for j in range(1, len(states)))\n",
        "            if actions[-1] is not None:\n",
        "                G += (gamma ** (len(states) - 1)) * Q[states[-1], actions[-1]]\n",
        "\n",
        "            Q[states[0], actions[0]] += lr * (G - Q[states[0], actions[0]])\n",
        "\n",
        "            del states[0]\n",
        "            del actions[0]\n",
        "            del rewards[0]\n",
        "\n",
        "        # Exibe progresso a cada 100 episódios\n",
        "        if verbose and ((i + 1) % 100 == 0):\n",
        "            avg_reward = np.mean(all_episode_rewards[-100:])\n",
        "            print(f\"Episode {i + 1}: Avg Reward (last 100): {avg_reward:.3f}, Epsilon: {epsilon:.4f}\")\n",
        "\n",
        "    return all_episode_rewards, Q"
      ]
    },
    {
      "cell_type": "markdown",
      "metadata": {
        "id": "UfieBxUT0Qpq"
      },
      "source": [
        "## Decaimento Adaptativo do ε"
      ]
    },
    {
      "cell_type": "markdown",
      "metadata": {
        "id": "2t7pTkbs07GJ"
      },
      "source": [
        "### Decaimento baseado no desempenho recente"
      ]
    },
    {
      "cell_type": "markdown",
      "metadata": {
        "id": "CibLZCqMbeCZ"
      },
      "source": [
        "#### Função"
      ]
    },
    {
      "cell_type": "markdown",
      "metadata": {
        "id": "DENjikAxb0CZ"
      },
      "source": [
        "- Se o desempenho médio dos últimos X episódios não piorar, reduzir ε.\n",
        "- Se o desempenho cair, manter ε estável ou aumentar levemente."
      ]
    },
    {
      "cell_type": "code",
      "execution_count": null,
      "metadata": {
        "id": "5uaVUOMtbwVR"
      },
      "outputs": [],
      "source": [
        "def adaptive_decay_E(E, recent_rewards, threshold=0.005, decay_factor=0.995, increase_factor=1.005, min_E=0.005, max_E=0.995, X=200):\n",
        "    if len(recent_rewards) < 2:\n",
        "        return E  # Não há dados suficientes para avaliar\n",
        "\n",
        "    N = min(50, len(recent_rewards)//2)  # Número de episódios considerados\n",
        "    recent_mean = np.mean(recent_rewards[-N:])\n",
        "\n",
        "    if len(recent_rewards) >= 2*N:\n",
        "        previous_mean = np.mean(recent_rewards[-2*N:-N])\n",
        "    else:\n",
        "        previous_mean = recent_mean  # Evita erro de variável não inicializada\n",
        "\n",
        "    if recent_mean >= (previous_mean - threshold):  # Melhorou ou manteve\n",
        "        E = max(E * decay_factor, min_E)\n",
        "    else:  # Desempenho piorou\n",
        "        if E < max_E * 0.9:  # Permite aumento apenas se estiver significativamente abaixo do máximo\n",
        "            E = min(E * increase_factor, max_E)\n",
        "\n",
        "    return E\n"
      ]
    },
    {
      "cell_type": "markdown",
      "metadata": {
        "id": "i8CBhgLkbrv0"
      },
      "source": [
        "#### Aplicado ao Q-learning"
      ]
    },
    {
      "cell_type": "code",
      "execution_count": null,
      "metadata": {
        "id": "6Z8KRT2_bsil"
      },
      "outputs": [],
      "source": [
        "def run_qlearning_adaptive(env, episodes, lr=0.1, gamma=0.95, initial_E=.995, min_E=0.005, threshold=0.005, decay_factor=0.995, increase_factor=1.005, X = 200): # X = numero X de episodios para atualizar\n",
        "    assert isinstance(env.observation_space, gym.spaces.Discrete)\n",
        "    assert isinstance(env.action_space, gym.spaces.Discrete)\n",
        "\n",
        "    num_actions = env.action_space.n\n",
        "    Q = np.zeros((env.observation_space.n, num_actions))  # Inicializa a tabela Q\n",
        "\n",
        "    all_episode_rewards = []\n",
        "    recent_rewards = []\n",
        "    epsilon = initial_E\n",
        "\n",
        "    for i in range(episodes):\n",
        "        done = False\n",
        "        sum_rewards = 0\n",
        "        state, _ = env.reset()\n",
        "\n",
        "        while not done:\n",
        "            action = epsilon_greedy(Q, state, epsilon)\n",
        "            next_state, reward, terminated, trunc, _ = env.step(action)\n",
        "            done = terminated or trunc\n",
        "\n",
        "            # Atualiza Q-table (Q-Learning)\n",
        "            V_next_state = 0 if terminated else np.max(Q[next_state])\n",
        "            Q[state, action] += lr * ((reward + gamma * V_next_state) - Q[state, action])\n",
        "\n",
        "            sum_rewards += reward\n",
        "            state = next_state\n",
        "\n",
        "        all_episode_rewards.append(sum_rewards)\n",
        "        recent_rewards.append(sum_rewards)\n",
        "\n",
        "        if len(recent_rewards) > X:\n",
        "            recent_rewards.pop(0)\n",
        "\n",
        "        epsilon = adaptive_decay_E(epsilon, recent_rewards, threshold, decay_factor, increase_factor, min_E,X)\n",
        "\n",
        "        if (i + 1) % X == 0:\n",
        "            avg_reward = np.mean(all_episode_rewards[-X:])\n",
        "            print(f\"Episode {i+1} | Avg Reward: {avg_reward:.3f} | Epsilon: {epsilon:.4f}\")\n",
        "\n",
        "    return all_episode_rewards, Q"
      ]
    },
    {
      "cell_type": "markdown",
      "metadata": {
        "id": "5hD42QfGbWaZ"
      },
      "source": [
        "#### Aplicado ao SARSA"
      ]
    },
    {
      "cell_type": "code",
      "execution_count": null,
      "metadata": {
        "id": "INH5_iDNiJYN"
      },
      "outputs": [],
      "source": []
    },
    {
      "cell_type": "markdown",
      "metadata": {
        "id": "zqyfviioh1t-"
      },
      "source": [
        "#### Aplicado ao Expected-SARSA"
      ]
    },
    {
      "cell_type": "code",
      "execution_count": null,
      "metadata": {
        "id": "a6JG68cKiH30"
      },
      "outputs": [],
      "source": []
    },
    {
      "cell_type": "markdown",
      "metadata": {
        "id": "Cux5zoTKiMAu"
      },
      "source": [
        "#### Aplicado ao SARSA de n-passos"
      ]
    },
    {
      "cell_type": "code",
      "execution_count": null,
      "metadata": {
        "id": "4KfiA5sPiKaS"
      },
      "outputs": [],
      "source": []
    },
    {
      "cell_type": "markdown",
      "metadata": {
        "id": "syGwwpiv0-4p"
      },
      "source": [
        "### Decaimento proporcional ao desempenho greedy"
      ]
    },
    {
      "cell_type": "markdown",
      "metadata": {
        "id": "uVY8J55F2ZZ4"
      },
      "source": [
        "- Definir um desempenho alvo baseado na melhor política conhecida.\n",
        "- Ajustar ε proporcionalmente à distância entre o desempenho atual e o desempenho alvo.\n",
        "\n",
        "Edtratégia:\n",
        "- Se a recompensa atual estiver abaixo do alvo -> aumenta epsilon (explorar mais)\n",
        "-Se estiver próximo/acima do alvo -> reduz epsilon (explorar menos)"
      ]
    },
    {
      "cell_type": "markdown",
      "metadata": {
        "id": "z_5KyVOTieHm"
      },
      "source": [
        "#### Função"
      ]
    },
    {
      "cell_type": "code",
      "execution_count": null,
      "metadata": {
        "id": "Mxbhu0hsidWI"
      },
      "outputs": [],
      "source": [
        "def adaptive_decay_E_target(E, current_reward,best_avg_reward, decay_factor =0.99, increase_factor=1.01, min_E=.01, max_E=1.00):\n",
        "\n",
        "  if best_avg_reward is None:\n",
        "    return E\n",
        "  performance_ratio = current_reward / best_avg_reward # proporção de proximidade\n",
        "\n",
        "  if performance_ratio < 1.0:\n",
        "    E *= increase_factor\n",
        "  else:\n",
        "    E *= decay_factor\n",
        "\n",
        "  return max(min_E, min(E,max_E)) # E nunca passa de máximo ou mínimo"
      ]
    },
    {
      "cell_type": "markdown",
      "metadata": {
        "id": "ZbMjABaVkivl"
      },
      "source": [
        "#### Aplicado ao Q-learning"
      ]
    },
    {
      "cell_type": "code",
      "execution_count": null,
      "metadata": {
        "id": "Set7hqECkmAj"
      },
      "outputs": [],
      "source": [
        "# Algoritmo Q-learning com decaimento proporcional ao desempenho alvo\n",
        "def run_qlearning_target(env, episodes, lr=0.1, gamma=0.95, initial_E=1.0, min_E=0.01, max_E=1.0, decay_factor=0.99, increase_factor=1.01):\n",
        "    assert isinstance(env.observation_space, gym.spaces.Discrete)\n",
        "    assert isinstance(env.action_space, gym.spaces.Discrete)\n",
        "\n",
        "    num_actions = env.action_space.n\n",
        "    Q = np.zeros(shape=(env.observation_space.n, num_actions))  # Inicializa a tabela Q\n",
        "\n",
        "    all_episode_rewards = []\n",
        "    epsilon = initial_E\n",
        "    best_avg_reward = None  # melhor desempenho médio - alvo escolhido na estratégia\n",
        "\n",
        "    for i in range(episodes):\n",
        "        done = False\n",
        "        sum_rewards = 0\n",
        "        state, _ = env.reset()\n",
        "\n",
        "        while not done:\n",
        "            action = epsilon_greedy(Q, state, epsilon) # E-greedy\n",
        "\n",
        "            next_state, reward, terminated, trunc, _ = env.step(action)\n",
        "            done = terminated or trunc\n",
        "\n",
        "            V_next_state = 0 if terminated else np.max(Q[next_state])\n",
        "            delta = (reward + gamma * V_next_state) - Q[state, action]\n",
        "            Q[state, action] += lr * delta\n",
        "\n",
        "            sum_rewards += reward\n",
        "            state = next_state\n",
        "\n",
        "        all_episode_rewards.append(sum_rewards)\n",
        "\n",
        "        # pegando a melhor media a cada 100 episódios - melhorar para X episódios\n",
        "        if (i + 1) % 100 == 0:\n",
        "            best_avg_reward = np.mean(all_episode_rewards[-100:])\n",
        "\n",
        "        # trocando E para um baseado no desempenho alvo\n",
        "        epsilon = adaptive_decay_target(epsilon, sum_rewards, best_avg_reward, decay_factor, increase_factor, min_E, max_E)\n",
        "\n",
        "        if VERBOSE and ((i + 1) % 100 == 0):\n",
        "            print(f\"Episode {i+1} | Avg Reward (last 100): {best_avg_reward:.3f} | Epsilon: {epsilon:.4f}\")\n",
        "\n",
        "    return all_episode_rewards, Q"
      ]
    },
    {
      "cell_type": "markdown",
      "metadata": {
        "id": "wvausVvN3q9F"
      },
      "source": [
        "## Atualizações - ajuste dinâmico"
      ]
    },
    {
      "cell_type": "markdown",
      "metadata": {
        "id": "kIqdo2tI4LLe"
      },
      "source": [
        "- Manter um histórico das últimas recompensas médias.\n",
        "- Ajustar ε dependendo da estabilidade do desempenho."
      ]
    },
    {
      "cell_type": "markdown",
      "metadata": {
        "id": "KRpQH1yC1VOL"
      },
      "source": [
        "# Testes"
      ]
    },
    {
      "cell_type": "markdown",
      "metadata": {
        "id": "5Fd9q0S-4h-H"
      },
      "source": [
        "Definir melhores ambientes para os decaimentos e parametrização. Criar comparações para o artigo\n",
        "\n",
        "\n"
      ]
    },
    {
      "cell_type": "markdown",
      "metadata": {
        "id": "aCDsb9CqfmIU"
      },
      "source": [
        "## Linear Decay"
      ]
    },
    {
      "cell_type": "markdown",
      "metadata": {
        "id": "13bt0Fm9fmIW"
      },
      "source": [
        "Q-Learning (Epsilon-greedy)"
      ]
    },
    {
      "cell_type": "code",
      "execution_count": null,
      "metadata": {
        "id": "tnv15eqTfmIX"
      },
      "outputs": [],
      "source": [
        "# #ENV_NAME, r_max = \"Taxi-v3\", 10\n",
        "# ENV_NAME, r_max = \"CliffWalking-v0\", 0\n",
        "\n",
        "# EPISODES = 8_000\n",
        "# LR = 0.01\n",
        "# GAMMA = 0.95\n",
        "# EPSILON = 0.05\n",
        "\n",
        "# env = gym.make(ENV_NAME, max_episode_steps=500)\n",
        "\n",
        "# # Roda o algoritmo Q-Learning\n",
        "# rewards1, qtable1 = run_qlearning_linear_decay(env, EPISODES, LR, GAMMA)\n",
        "# clear_output()\n",
        "\n",
        "# print(\"Últimos resultados: media =\", np.mean(rewards1[-20:]), \", desvio padrao =\", np.std(rewards1[-20:]))"
      ]
    },
    {
      "cell_type": "code",
      "execution_count": null,
      "metadata": {
        "id": "OTmjvwVKfmIY"
      },
      "outputs": [],
      "source": [
        "# # Mostra um gráfico de episódios x retornos não descontados\n",
        "# plot_result(rewards1, r_max)"
      ]
    },
    {
      "cell_type": "markdown",
      "metadata": {
        "id": "2z1ntbHw8qTg"
      },
      "source": [
        "## Adaptive Decay 1"
      ]
    },
    {
      "cell_type": "markdown",
      "metadata": {
        "id": "ymKgRJw28uQb"
      },
      "source": [
        "Q-Learning (Epsilon-greedy)"
      ]
    },
    {
      "cell_type": "code",
      "execution_count": null,
      "metadata": {
        "id": "0zrZZBnr8yZe"
      },
      "outputs": [],
      "source": [
        "# #ENV_NAME, r_max = \"Taxi-v3\", 10\n",
        "# ENV_NAME, r_max = \"CliffWalking-v0\", 0\n",
        "\n",
        "# EPISODES = 8_000\n",
        "# LR = 0.01\n",
        "# GAMMA = 0.95\n",
        "# EPSILON = 0.05\n",
        "\n",
        "# env = gym.make(ENV_NAME, max_episode_steps=500)\n",
        "\n",
        "# rewards1, qtable1 = run_qlearning_adaptive(env, EPISODES, LR, GAMMA)\n",
        "# # clear_output()\n",
        "\n",
        "# print(\"Últimos resultados: media =\", np.mean(rewards1[-20:]), \", desvio padrao =\", np.std(rewards1[-20:]))"
      ]
    },
    {
      "cell_type": "code",
      "execution_count": null,
      "metadata": {
        "id": "q_iDj56p9B7f"
      },
      "outputs": [],
      "source": [
        "# plot_result(rewards1, r_max)"
      ]
    },
    {
      "cell_type": "markdown",
      "metadata": {
        "id": "ATSewAohTzJS"
      },
      "source": [
        "# Experimentos (Frozen, Taxi, Cliff, Racetrack)"
      ]
    },
    {
      "cell_type": "markdown",
      "metadata": {
        "id": "FwJjwpPbZZbP"
      },
      "source": [
        "## Setup inicial"
      ]
    },
    {
      "cell_type": "code",
      "execution_count": null,
      "metadata": {
        "id": "1NXGIsRrY4Nr"
      },
      "outputs": [],
      "source": [
        "from IPython.display import clear_output\n",
        "import sys\n",
        "\n",
        "IN_COLAB = 'google.colab' in sys.modules\n",
        "\n",
        "if IN_COLAB:\n",
        "    # for saving videos\n",
        "    !apt-get install ffmpeg\n",
        "\n",
        "    !pip install gymnasium moviepy\n",
        "    !pip install optuna\n",
        "\n",
        "    # clone repository\n",
        "    !git clone https://github.com/pablo-sampaio/rl_facil\n",
        "    sys.path.append(\"/content/rl_facil\")\n",
        "\n",
        "    clear_output()\n",
        "else:\n",
        "    from os import path\n",
        "    sys.path.append( path.dirname( path.dirname( path.abspath(\"__main__\") ) ) )"
      ]
    },
    {
      "cell_type": "code",
      "execution_count": null,
      "metadata": {
        "id": "1H5DyqxUZCQO"
      },
      "outputs": [],
      "source": [
        "import optuna\n",
        "from functools import partial\n",
        "import gymnasium as gym\n",
        "import numpy as np\n",
        "import math\n",
        "from util.experiments import repeated_exec\n",
        "from util.plot import plot_result, plot_multiple_results\n",
        "import matplotlib.pyplot as plt\n",
        "from util.notebook import display_videos_from_path\n",
        "from util.qtable_helper import evaluate_qtable_policy, record_video_qtable\n",
        "# define se os algoritmos vão imprimir dados do treinamento\n",
        "VERBOSE = True\n",
        "import pandas as pd\n",
        "import ast\n",
        "import seaborn as sns"
      ]
    },
    {
      "cell_type": "code",
      "execution_count": null,
      "metadata": {
        "id": "WDCgtMW5ZVKn"
      },
      "outputs": [],
      "source": [
        "def epsilon_greedy(Q, state, epsilon):\n",
        "    num_actions = len(Q[state])\n",
        "    if np.random.random() < epsilon:\n",
        "        return np.random.randint(0, num_actions)\n",
        "    else:\n",
        "        return np.argmax(Q[state])   # em caso de empates, retorna sempre o menor índice --> mais eficiente, porém...\n",
        "        #return np.random.choice(np.where(Q[state] == Q[state].max())[0]) # aleatoriza em caso de empates"
      ]
    },
    {
      "cell_type": "markdown",
      "metadata": {
        "id": "_BW7tZMXX0nj"
      },
      "source": [
        "## Decaimento parametrizado\n",
        "\n"
      ]
    },
    {
      "cell_type": "code",
      "execution_count": null,
      "metadata": {
        "id": "re_lAZ_uXzuy"
      },
      "outputs": [],
      "source": [
        "def epsilon_decay(decay_type='none', initial_E=1.0, min_E=0.005,X=1000, Y=None, total_eps=1000,episodes=8000,decay_rate=0.001, threshold=.005,max_E=0.995,increase_rate=0.001, eps_limit_adaptive_to_consider=50):\n",
        "    \"\"\"\n",
        "        decay_type (str): Tipo de decaimento ('linear' ou 'exponential', ou 'none').\n",
        "        initial_E (float): Valor inicial de epsilon (epsilon máximo).\n",
        "        min_E (float): Valor mínimo de epsilon.\n",
        "        X (int): Número de passos para atingir o epsilon mínimo (opcional).\n",
        "        Y (float): Percentual do tempo total de treinamento para decaimento (opcional).\n",
        "        total_eps (int): Número total de passos de treinamento.\n",
        "        decay_rate (float): Taxa de decaimento (apenas para decaimento exponencial).\n",
        "        threshold (float): limite de mudança de recompensa para o Epsilon mudar\n",
        "        recent_rewards (lista): lista com recompensas recentes\n",
        "    \"\"\"\n",
        "    if X is None and Y is None:\n",
        "        raise ValueError(\"Deve inserir X (número de passos) ou Y (percentual do tempo total).\")\n",
        "\n",
        "    if Y is not None:\n",
        "        if total_eps is None:\n",
        "          estimated_steps_per_episode = 500 # sendo usado no env\n",
        "          total_eps = episodes * estimated_steps_per_episode\n",
        "        X = int(Y * total_eps)\n",
        "\n",
        "    if decay_type == 'none':\n",
        "        def new_E(t):\n",
        "            return initial_E\n",
        "    elif decay_type == 'linear':\n",
        "        k = (initial_E - min_E) / X\n",
        "        def new_E(t):\n",
        "            return max(min_E, initial_E - k * t)\n",
        "    elif decay_type == 'exponential':\n",
        "        def new_E(t):\n",
        "            return min_E + (initial_E - min_E) * math.exp(-decay_rate * t)\n",
        "    elif decay_type == 'adaptive':\n",
        "        def new_E(E, recent_rewards):\n",
        "          if len(recent_rewards) < 2:\n",
        "            return E\n",
        "          N = min(eps_limit_adaptive_to_consider, len(recent_rewards)//2)  # Número de episódios considerados\n",
        "          recent_mean = np.mean(recent_rewards[-N:])\n",
        "          if len(recent_rewards) >= 2*N: # atualizando se andou os episodios suficientes\n",
        "            previous_mean = np.mean(recent_rewards[-2*N:-N])\n",
        "          else:\n",
        "            previous_mean = recent_mean  # Evita erro de variável não inicializada\n",
        "\n",
        "          if recent_mean >= (previous_mean - threshold):  # Melhorou ou manteve\n",
        "            E = max(E * decay_rate, min_E)\n",
        "          elif E < max_E * 0.9:  # Desempenho piorou\n",
        "              # Permite aumento apenas se estiver significativamente abaixo do máximo\n",
        "                E = min(E * increase_rate, max_E)\n",
        "          return E\n",
        "    else:\n",
        "        raise ValueError(\"Tipo de decaimento inválido. Escolha 'linear' ou 'exponential'.\")\n",
        "\n",
        "    return new_E"
      ]
    },
    {
      "cell_type": "markdown",
      "metadata": {
        "id": "izPcSmF6a7yD"
      },
      "source": [
        "## Algoritmos TD-learning adaptados"
      ]
    },
    {
      "cell_type": "markdown",
      "metadata": {
        "id": "l5RK_IiSgOqE"
      },
      "source": [
        "#### Q-learning"
      ]
    },
    {
      "cell_type": "code",
      "execution_count": null,
      "metadata": {
        "id": "4mahLLVabBP5"
      },
      "outputs": [],
      "source": [
        "def run_qlearning_decay(env, episodes, lr=0.1, gamma=0.95, decay_type='linear', initial_E=1.0, min_E=0.005, X=1000, Y=None, total_eps=None, decay_rate=0.001, verbose=True, n_eps_per_rewards=500):\n",
        "    \"\"\"\n",
        "    Parâmetros:\n",
        "        env: Ambiente Gym.\n",
        "        episodes (int): Número de episódios de treinamento.\n",
        "        lr (float): Taxa de aprendizado (learning rate).\n",
        "        gamma (float): Fator de desconto.\n",
        "        decay_type (str): Tipo de decaimento ('linear' ou 'exponential').\n",
        "        initial_E (float): Valor inicial de epsilon.\n",
        "        min_E (float): Valor mínimo de epsilon.\n",
        "        X (int): Número de passos para atingir o epsilon mínimo.\n",
        "        Y (float): Percentual do tempo total de treinamento para decaimento.\n",
        "        total_eps (int): Número total de passos de treinamento (necessário se Y for fornecido).\n",
        "        decay_rate (float): Taxa de decaimento (apenas para decaimento exponencial).\n",
        "        verbose (bool): Se True, imprime o progresso durante o treinamento.\n",
        "\n",
        "    Retorna:\n",
        "        all_episode_rewards (list): Recompensas de todos os episódios.\n",
        "        Q (np.array): Tabela Q aprendida.\n",
        "        avg_rewards (list): Média das recompensas dos últimos 100 episódios.\n",
        "        epsilon_values (list): Valores de epsilon ao longo do treinamento.\n",
        "    \"\"\"\n",
        "    assert isinstance(env.observation_space, gym.spaces.Discrete), \"Apenas espaços discretos são suportados!\"\n",
        "    assert isinstance(env.action_space, gym.spaces.Discrete), \"Apenas ações discretas são suportadas!\"\n",
        "\n",
        "    num_actions = env.action_space.n\n",
        "    Q = np.zeros((env.observation_space.n, num_actions))\n",
        "    all_episode_rewards = []\n",
        "    avg_rewards = []\n",
        "    epsilon_values = []\n",
        "\n",
        "    epsilon_decay_fn = epsilon_decay(decay_type=decay_type, initial_E=initial_E, min_E=min_E, Y=Y,X=X, total_eps=total_eps, decay_rate=decay_rate,episodes=episodes)\n",
        "\n",
        "    eps = 0\n",
        "    for i in range(episodes):\n",
        "        eps += 1\n",
        "        state, _ = env.reset()\n",
        "        done = False\n",
        "        sum_rewards = 0\n",
        "\n",
        "\n",
        "        while not done:\n",
        "            epsilon = epsilon_decay_fn(eps)\n",
        "            action = epsilon_greedy(Q, state, epsilon)\n",
        "\n",
        "            next_state, reward, terminated, truncated, _ = env.step(action)\n",
        "            done = terminated or truncated\n",
        "\n",
        "            # Atualização Q-Learning\n",
        "            V_next_state = 0 if done else np.max(Q[next_state])\n",
        "            Q[state, action] += lr * (reward + gamma * V_next_state - Q[state, action])\n",
        "\n",
        "            sum_rewards += reward\n",
        "            state = next_state\n",
        "\n",
        "\n",
        "        all_episode_rewards.append(sum_rewards)\n",
        "        avg_rewards.append(np.mean(all_episode_rewards[-n_eps_per_rewards:]))\n",
        "        epsilon_values.append(epsilon)\n",
        "        if verbose and (i + 1) % n_eps_per_rewards == 0:\n",
        "            print(f\"Episode {i + 1}: Avg Reward (last {n_eps_per_rewards}): {avg_rewards[-1]:.3f}, Epsilon: {epsilon:.4f}\")\n",
        "    return all_episode_rewards, Q, avg_rewards, epsilon_values"
      ]
    },
    {
      "cell_type": "markdown",
      "metadata": {
        "id": "RHs3XmwfQ222"
      },
      "source": [
        "##### Com Adaptive"
      ]
    },
    {
      "cell_type": "code",
      "execution_count": null,
      "metadata": {
        "id": "rbNSo1M-QjBn"
      },
      "outputs": [],
      "source": [
        "def run_qlearning_decay_com_adaptive(env, episodes, lr=0.1, gamma=0.95, decay_type='none', initial_E=1.0, min_E=0.005, X=None, Y=None, total_eps=None, decay_rate=0.001, verbose=True, n_eps_per_rewards=500, threshold=.005, recent_rewards=None,max_E=0.995,increase_rate=0.001, eps_limit_adaptive_to_consider=50):\n",
        "    \"\"\"\n",
        "    Parâmetros:\n",
        "        env: Ambiente Gym.\n",
        "        episodes (int): Número de episódios de treinamento.\n",
        "        lr (float): Taxa de aprendizado (learning rate).\n",
        "        gamma (float): Fator de desconto.\n",
        "        decay_type (str): Tipo de decaimento ('linear' ou 'exponential').\n",
        "        initial_E (float): Valor inicial de epsilon.\n",
        "        min_E (float): Valor mínimo de epsilon.\n",
        "        X (int): Número de passos para atingir o epsilon mínimo (opcional).\n",
        "        Y (float): Percentual do tempo total de treinamento para decaimento (opcional).\n",
        "        total_eps (int): Número total de passos de treinamento (necessário se Y for fornecido).\n",
        "        decay_rate (float): Taxa de decaimento (apenas para decaimento exponencial).\n",
        "        verbose (bool): Se True, imprime o progresso durante o treinamento.\n",
        "\n",
        "    Retorna:\n",
        "        all_episode_rewards (list): Recompensas de todos os episódios.\n",
        "        Q (np.array): Tabela Q aprendida.\n",
        "        avg_rewards (list): Média das recompensas dos últimos 100 episódios.\n",
        "        epsilon_values (list): Valores de epsilon ao longo do treinamento.\n",
        "    \"\"\"\n",
        "    assert isinstance(env.observation_space, gym.spaces.Discrete), \"Apenas espaços discretos são suportados!\"\n",
        "    assert isinstance(env.action_space, gym.spaces.Discrete), \"Apenas ações discretas são suportadas!\"\n",
        "\n",
        "    num_actions = env.action_space.n\n",
        "    Q = np.zeros((env.observation_space.n, num_actions))\n",
        "    all_episode_rewards = []\n",
        "    avg_rewards = []\n",
        "    epsilon_values = []\n",
        "\n",
        "    recent_rewards = [] # adaptive epsilon\n",
        "\n",
        "    if decay_type==\"adaptive\":\n",
        "      epsilon = initial_E\n",
        "\n",
        "\n",
        "    epsilon_decay_fn = epsilon_decay(decay_type=decay_type, initial_E=initial_E, min_E=min_E, Y=Y,X=X, total_eps=total_eps, decay_rate=decay_rate,episodes=episodes, threshold=threshold, increase_rate=increase_rate)\n",
        "\n",
        "\n",
        "    eps = 0\n",
        "    for i in range(episodes):\n",
        "        eps += 1\n",
        "        state, _ = env.reset()\n",
        "        done = False\n",
        "        sum_rewards = 0\n",
        "\n",
        "\n",
        "        while not done:\n",
        "            if(decay_type==\"none\" or decay_type==\"linear\" or decay_type==\"exponential\"):\n",
        "              epsilon = epsilon_decay_fn(eps)\n",
        "            action = epsilon_greedy(Q, state, epsilon)\n",
        "\n",
        "            next_state, reward, terminated, truncated, _ = env.step(action)\n",
        "            done = terminated or truncated\n",
        "\n",
        "            # Atualização Q-Learning\n",
        "            V_next_state = 0 if done else np.max(Q[next_state])\n",
        "            Q[state, action] += lr * (reward + gamma * V_next_state - Q[state, action])\n",
        "\n",
        "            sum_rewards += reward\n",
        "            state = next_state\n",
        "\n",
        "\n",
        "        all_episode_rewards.append(sum_rewards)\n",
        "        avg_rewards.append(np.mean(all_episode_rewards[-n_eps_per_rewards:]))\n",
        "        epsilon_values.append(epsilon)\n",
        "\n",
        "        recent_rewards.append(sum_rewards) # adaptive\n",
        "        if len(recent_rewards) > n_eps_per_rewards:\n",
        "            recent_rewards.pop(0)\n",
        "        if decay_type==\"adaptive\":\n",
        "          epsilon = epsilon_decay_fn(epsilon,recent_rewards)\n",
        "\n",
        "        if verbose and (i + 1) % n_eps_per_rewards == 0:\n",
        "            print(f\"Episode {i + 1}: Avg Reward (last {n_eps_per_rewards}): {avg_rewards[-1]:.3f}, Epsilon: {epsilon:.4f}\")\n",
        "    return all_episode_rewards, Q, avg_rewards, epsilon_values"
      ]
    },
    {
      "cell_type": "markdown",
      "metadata": {
        "id": "YeAUDiBSgMAU"
      },
      "source": [
        "#### SARSA"
      ]
    },
    {
      "cell_type": "code",
      "execution_count": null,
      "metadata": {
        "id": "_l2it4CUe13n"
      },
      "outputs": [],
      "source": [
        "def run_sarsa_decay(env, episodes, lr=0.1, gamma=0.95, decay_type='linear', initial_E=1.0, min_E=0.005, X=None, Y=None, total_eps=1000, decay_rate=0.001, verbose=True):\n",
        "    # Garantindo que o ambiente é discreto\n",
        "    assert isinstance(env.observation_space, gym.spaces.Discrete), \"Apenas espaços discretos são suportados!\"\n",
        "    assert isinstance(env.action_space, gym.spaces.Discrete), \"Apenas ações discretas são suportadas!\"\n",
        "\n",
        "    num_actions = env.action_space.n\n",
        "    Q = np.zeros((env.observation_space.n, num_actions))\n",
        "    all_episode_rewards = []\n",
        "    avg_rewards = []\n",
        "    epsilon_values = []\n",
        "\n",
        "    # Criar a função de decaimento do epsilon\n",
        "    epsilon_decay_fn = epsilon_decay(decay_type=decay_type, initial_E=initial_E, min_E=min_E, Y=Y, total_eps=total_eps, decay_rate=decay_rate)\n",
        "\n",
        "\n",
        "    for i in range(episodes):\n",
        "        state, _ = env.reset()\n",
        "        done = False\n",
        "        sum_rewards = 0\n",
        "        epsilon = epsilon_decay_fn(i)  # Decaimento baseado no episódio\n",
        "        epsilon_values.append(epsilon)  # Registrar o valor do epsilon\n",
        "\n",
        "        # Escolhe a primeira ação usando epsilon-greedy\n",
        "        action = epsilon_greedy(Q, state, epsilon)\n",
        "\n",
        "        while not done:\n",
        "            next_state, reward, terminated, truncated, _ = env.step(action)\n",
        "            done = terminated or truncated\n",
        "\n",
        "            # Escolhe a próxima ação usando epsilon-greedy\n",
        "            next_action = epsilon_greedy(Q, next_state, epsilon)\n",
        "\n",
        "            # Atualiza a Q-table (SARSA usa a próxima ação)\n",
        "            V_next_state = 0 if done else Q[next_state, next_action]\n",
        "            Q[state, action] += lr * (reward + gamma * V_next_state - Q[state, action])\n",
        "\n",
        "            sum_rewards += reward\n",
        "            state = next_state\n",
        "            action = next_action  # Atualiza a ação para o próximo passo\n",
        "\n",
        "        all_episode_rewards.append(sum_rewards)\n",
        "        avg_rewards.append(np.mean(all_episode_rewards[-100:]))  # Média móvel\n",
        "\n",
        "        if verbose and ((i + 1) % 100 == 0):\n",
        "            print(f\"Episode {i + 1}: Avg Reward (last 100): {avg_rewards[-1]:.3f}, Epsilon: {epsilon:.4f}\")\n",
        "\n",
        "    return all_episode_rewards, Q, avg_rewards, epsilon_values\n"
      ]
    },
    {
      "cell_type": "markdown",
      "metadata": {
        "id": "QqayEIcpgGld"
      },
      "source": [
        "#### Expected-SARSA"
      ]
    },
    {
      "cell_type": "code",
      "execution_count": null,
      "metadata": {
        "id": "4L5TCbUKgCvI"
      },
      "outputs": [],
      "source": [
        "def run_expected_sarsa_decay(env, episodes, lr=0.1, gamma=0.95, decay_type='exponential', initial_E=1.0, min_E=0.005, X=None, Y=None, total_eps=1000, decay_rate=0.001, verbose=True):\n",
        "    assert isinstance(env.observation_space, gym.spaces.Discrete), \"O ambiente deve ter um espaço de estados discreto.\"\n",
        "    assert isinstance(env.action_space, gym.spaces.Discrete), \"O ambiente deve ter um espaço de ações discreto.\"\n",
        "\n",
        "    num_actions = env.action_space.n\n",
        "    Q = np.zeros((env.observation_space.n, num_actions))\n",
        "    all_episode_rewards = []\n",
        "    avg_rewards = []\n",
        "    epsilon_values = []\n",
        "\n",
        "    epsilon_decay_fn = epsilon_decay(decay_type=decay_type, initial_E=initial_E, min_E=min_E, Y=Y, total_eps=total_eps, decay_rate=decay_rate)\n",
        "\n",
        "\n",
        "    for i in range(episodes):\n",
        "        state, _ = env.reset()  # Ajuste para Gym v0.26+\n",
        "        done = False\n",
        "        sum_rewards = 0\n",
        "        epsilon = epsilon_decay_fn(i)\n",
        "        epsilon_values.append(epsilon)\n",
        "\n",
        "        while not done:\n",
        "            action = epsilon_greedy(Q, state, epsilon)\n",
        "            next_state, reward, terminated, truncated, _ = env.step(action)\n",
        "            done = terminated or truncated\n",
        "\n",
        "            next_epsilon = epsilon_decay_fn(i + 1)\n",
        "\n",
        "            expected_value = 0\n",
        "            best_actions = np.where(Q[next_state] == np.max(Q[next_state]))[0]\n",
        "            prob_best_action = (1 - next_epsilon) + (next_epsilon / num_actions)\n",
        "            prob_other_actions = next_epsilon / num_actions\n",
        "\n",
        "            for a in range(num_actions):\n",
        "                prob = prob_best_action if a in best_actions else prob_other_actions\n",
        "                expected_value += prob * Q[next_state, a]\n",
        "\n",
        "            Q[state, action] += lr * (reward + gamma * expected_value - Q[state, action])\n",
        "\n",
        "            sum_rewards += reward\n",
        "            state = next_state\n",
        "\n",
        "        all_episode_rewards.append(sum_rewards)\n",
        "        avg_rewards.append(np.mean(all_episode_rewards[-100:]))\n",
        "\n",
        "        if verbose and ((i + 1) % 100 == 0):\n",
        "            print(f\"Episode {i + 1}: Avg Reward (last 100): {avg_rewards[-1]:.3f}, Epsilon: {epsilon:.4f}\")\n",
        "\n",
        "    return all_episode_rewards, Q, avg_rewards, epsilon_values\n"
      ]
    },
    {
      "cell_type": "markdown",
      "metadata": {
        "id": "Gn8K7_bEiVqc"
      },
      "source": [
        "#### SARSA de n-passos"
      ]
    },
    {
      "cell_type": "code",
      "execution_count": null,
      "metadata": {
        "id": "-v4v38UmiZWs"
      },
      "outputs": [],
      "source": [
        "def run_nstep_sarsa_decay(env, episodes, n=3, lr=0.1, gamma=0.95, decay_type='linear', initial_E=1.0, min_E=0.005,\n",
        "                     X=None, Y=None, total_eps=1000, decay_rate=0.001, verbose=True):\n",
        "    \"\"\"Executa n-step SARSA com decaimento de epsilon.\"\"\"\n",
        "\n",
        "    assert isinstance(env.observation_space, gym.spaces.Discrete), \"O ambiente deve ter um espaço de estados discreto.\"\n",
        "    assert isinstance(env.action_space, gym.spaces.Discrete), \"O ambiente deve ter um espaço de ações discreto.\"\n",
        "\n",
        "    num_actions = env.action_space.n\n",
        "    Q = np.zeros((env.observation_space.n, num_actions))  # Inicializa a Q-table\n",
        "    all_episode_rewards = []\n",
        "    avg_rewards = []\n",
        "    epsilon_values = []\n",
        "\n",
        "    # Criar a função de decaimento do epsilon\n",
        "    epsilon_decay_fn = epsilon_decay(decay_type=decay_type, initial_E=initial_E, min_E=min_E, Y=Y, total_eps=total_eps, decay_rate=decay_rate)\n",
        "\n",
        "    for i in range(episodes):\n",
        "        state, _ = env.reset()\n",
        "        done = False\n",
        "        sum_rewards = 0\n",
        "        epsilon = epsilon_decay_fn(i)  # Epsilon atualizado por episódio\n",
        "        epsilon_values.append(epsilon)\n",
        "\n",
        "        # Buffers para armazenar transições\n",
        "        states = [state]\n",
        "        actions = [epsilon_greedy(Q, state, epsilon)]\n",
        "        rewards = [0]  # Inicialmente zero\n",
        "\n",
        "        step_count = 0\n",
        "        while not done:\n",
        "            next_state, reward, terminated, truncated, _ = env.step(actions[-1])\n",
        "            done = terminated or truncated\n",
        "\n",
        "            sum_rewards += reward\n",
        "            states.append(next_state)\n",
        "            rewards.append(reward)\n",
        "\n",
        "            if not done:\n",
        "                next_action = epsilon_greedy(Q, next_state, epsilon)\n",
        "                actions.append(next_action)\n",
        "            else:\n",
        "                actions.append(None)\n",
        "\n",
        "            # Atualiza a Q-table usando o retorno de n-passos\n",
        "            if step_count >= n - 1:\n",
        "                G = sum(gamma ** j * rewards[j] for j in range(1, n + 1))  # Soma das recompensas futuras\n",
        "\n",
        "                if not done:\n",
        "                    G += (gamma ** n) * Q[states[-1], actions[-1]]\n",
        "\n",
        "                Q[states[0], actions[0]] += lr * (G - Q[states[0], actions[0]])\n",
        "\n",
        "                # Mantém o buffer de tamanho `n`\n",
        "                del states[0]\n",
        "                del actions[0]\n",
        "                del rewards[0]\n",
        "\n",
        "            step_count += 1\n",
        "\n",
        "        all_episode_rewards.append(sum_rewards)\n",
        "        avg_rewards.append(np.mean(all_episode_rewards[-100:]))\n",
        "\n",
        "        # Atualiza os últimos passos ao final do episódio\n",
        "        while len(states) > 1:\n",
        "            G = sum(gamma ** j * rewards[j] for j in range(1, len(states)))\n",
        "            if actions[-1] is not None:\n",
        "                G += (gamma ** (len(states) - 1)) * Q[states[-1], actions[-1]]\n",
        "\n",
        "            Q[states[0], actions[0]] += lr * (G - Q[states[0], actions[0]])\n",
        "\n",
        "            del states[0]\n",
        "            del actions[0]\n",
        "            del rewards[0]\n",
        "\n",
        "        # Exibe progresso a cada 100 episódios\n",
        "        if verbose and ((i + 1) % 100 == 0):\n",
        "            print(f\"Episode {i + 1}: Avg Reward (last 100): {avg_rewards[-1]:.3f}, Epsilon: {epsilon:.4f}\")\n",
        "\n",
        "    return all_episode_rewards, Q, avg_rewards, epsilon_values\n"
      ]
    },
    {
      "cell_type": "markdown",
      "metadata": {
        "id": "CmYTdnulg6dL"
      },
      "source": [
        "## Configuração dos Experimentos"
      ]
    },
    {
      "cell_type": "markdown",
      "metadata": {
        "id": "TAodLFau5wXG"
      },
      "source": [
        "### Funções de plot"
      ]
    },
    {
      "cell_type": "code",
      "execution_count": null,
      "metadata": {
        "id": "FhRvRnVh5z3e"
      },
      "outputs": [],
      "source": [
        "def plot_results(title,rewards_list, labels):\n",
        "    plt.figure(figsize=(10, 5))\n",
        "    for rewards, label in zip(rewards_list, labels):\n",
        "        plt.plot(np.convolve(rewards, np.ones(10)/10, mode='valid'), label=label, linewidth=2)\n",
        "\n",
        "    plt.xlabel(\"Episódios\")\n",
        "    plt.ylabel(\"Recompensa média a cada 10 ep.\")\n",
        "    plt.legend()\n",
        "    plt.grid(True, linestyle='--', alpha=0.6)\n",
        "    plt.title(title)\n",
        "    plt.show()"
      ]
    },
    {
      "cell_type": "markdown",
      "metadata": {
        "id": "K9sybe41m_jx"
      },
      "source": [
        "### Hiperparâmetros"
      ]
    },
    {
      "cell_type": "markdown",
      "metadata": {
        "id": "8xp_PBVN5lQd"
      },
      "source": [
        "#### Funções de treino"
      ]
    },
    {
      "cell_type": "code",
      "execution_count": null,
      "metadata": {
        "id": "KOFcwHKzoaAm"
      },
      "outputs": [],
      "source": [
        "episodios_de_busca = 8000\n",
        "\n",
        "def train_qlearning_decay(ambient, trial: optuna.Trial):\n",
        "    eps = trial.suggest_float('initial_E', 1.0, 1.0)\n",
        "    Y = trial.suggest_float('Y', 0.00001,0.001)\n",
        "    min_eps = trial.suggest_float('min_E', 0.005, 0.2)\n",
        "    episodes = trial.suggest_float('episodes', 8000)\n",
        "    gamma = trial.suggest_float('gamma', 0.90, 1.00)\n",
        "    lr = trial.suggest_float('lr', 0.001, 1.0, log=True)\n",
        "    decay_rate = trial.suggest_float('decay_rate', .0001, 0.01, log=True)\n",
        "    decay_type = trial.suggest_categorical('decay_type', ['linear', 'exponential','none'])\n",
        "\n",
        "    env = gym.make(ambient)\n",
        "    returns, _,_,_ = run_qlearning_decay(env, episodios_de_busca, lr=lr, gamma=gamma, decay_type=decay_type,\n",
        "                               initial_E=eps, min_E=min_eps, decay_rate=decay_rate,Y=Y)\n",
        "\n",
        "    return sum(returns[-100:]) / 100\n",
        "\n",
        "def train_sarsa_decay(ambient, trial: optuna.Trial):\n",
        "    decay_rate = trial.suggest_float('decay_rate', .0001, 0.01, log=True)\n",
        "\n",
        "    eps = trial.suggest_float('initial_E', 1.0, 1.0)  # Epsilon inicial\n",
        "    Y = trial.suggest_float('Y', 0.00001,0.001)\n",
        "    min_eps = trial.suggest_float('min_E', 0.005, 0.2)\n",
        "    gamma = trial.suggest_float('gamma', 0.90, 1.00)  # Fator de desconto\n",
        "    lr = trial.suggest_float('lr', 0.001, 1.0, log=True)  # Taxa de aprendizado\n",
        "    decay_rate = trial.suggest_float('decay_rate', .0001, 0.01, log=True)\n",
        "    decay_type = trial.suggest_categorical('decay_type', ['linear', 'exponential','none'])\n",
        "    episodes = trial.suggest_float('episodes', 8000)\n",
        "\n",
        "    env = gym.make(ambient)\n",
        "    returns, _,_,_ = run_sarsa_decay(env, episodios_de_busca, lr=lr, gamma=gamma, decay_type=decay_type,\n",
        "                           initial_E=eps, min_E=min_eps, decay_rate=decay_rate)\n",
        "\n",
        "    return sum(returns[-100:]) / 100\n",
        "\n",
        "def train_expected_sarsa_decay(ambient, trial: optuna.Trial):\n",
        "    Y = trial.suggest_float('Y', 0.0001,0.01)\n",
        "    eps = trial.suggest_float('initial_E', 1.0, 1.0)\n",
        "    min_eps = trial.suggest_float('min_E', 0.005, 0.2)\n",
        "    gamma = trial.suggest_float('gamma', 0.90, 1.00)\n",
        "    lr = trial.suggest_float('lr', 0.001, 1.0, log=True)\n",
        "    decay_rate = trial.suggest_float('decay_rate', .0001, 0.01, log=True)\n",
        "    decay_type = trial.suggest_categorical('decay_type', ['linear', 'exponential','none'])\n",
        "    episodes = trial.suggest_float('episodes', 8000)\n",
        "\n",
        "    env = gym.make(ambient)\n",
        "    returns, _,_,_ = run_expected_sarsa_decay(env, episodios_de_busca, lr=lr, gamma=gamma, decay_type=decay_type,\n",
        "                                    initial_E=eps, min_E=min_eps, decay_rate=decay_rate)\n",
        "\n",
        "    return sum(returns[-100:]) / 100\n",
        "\n",
        "def train_nstep_sarsa_decay(ambient, trial: optuna.Trial):\n",
        "    decay_rate = trial.suggest_float('decay_rate', .0001, 0.01, log=True)\n",
        "    Y = trial.suggest_float('Y', 0.0001,0.01)\n",
        "    eps = trial.suggest_float('initial_E', 1.0, 1.0)\n",
        "    min_eps = trial.suggest_float('min_E', 0.005, 0.2)\n",
        "    gamma = trial.suggest_float('gamma', 0.90, 1.00)\n",
        "    lr = trial.suggest_float('lr', 0.001, 1.0, log=True)\n",
        "    decay_type = trial.suggest_categorical('decay_type', ['linear', 'exponential','none'])\n",
        "    nsteps = trial.suggest_int('nsteps', 3, 3) # 1-16\n",
        "    episodes = trial.suggest_float('episodes', 8000)\n",
        "\n",
        "    env = gym.make(ambient)\n",
        "    returns, _,_,_ = run_nstep_sarsa_decay(env, episodios_de_busca, n=nsteps, lr=lr, gamma=gamma, decay_type=decay_type,\n",
        "                                 initial_E=eps, min_E=min_eps, decay_rate=decay_rate)\n",
        "\n",
        "    return sum(returns[-100:]) / 100\n"
      ]
    },
    {
      "cell_type": "markdown",
      "metadata": {
        "id": "gCoZ48LCrZhY"
      },
      "source": [
        "#### Buscando para cada ambiente"
      ]
    },
    {
      "cell_type": "code",
      "execution_count": null,
      "metadata": {
        "collapsed": true,
        "id": "itM8LWO2rY-z"
      },
      "outputs": [],
      "source": [
        "# ambientes = [\"CliffWalking-v0\", \"Taxi-v3\", \"FrozenLake-v1\",\"RaceTrack-v0\"]\n",
        "\n",
        "\n",
        "# best_params = {}\n",
        "# trials = 1 # 50\n",
        "\n",
        "# for ambient in ambientes:\n",
        "#     print(f\"\\n🔹 Otimizando para ambiente: {ambient}\")\n",
        "\n",
        "#     best_params[ambient] = {}\n",
        "\n",
        "#     study_qlearning = optuna.create_study(direction='maximize')\n",
        "#     study_qlearning.optimize(partial(train_qlearning_decay, ambient), n_trials=trials)\n",
        "#     best_params[ambient][\"Q-Learning\"] = study_qlearning.best_params\n",
        "#     print(f\"Melhores parâmetros para Q-Learning em {ambient}: {study_qlearning.best_params}\")\n",
        "\n",
        "#     study_sarsa = optuna.create_study(direction='maximize')\n",
        "#     study_sarsa.optimize(partial(train_sarsa_decay, ambient), n_trials=trials)\n",
        "#     best_params[ambient][\"SARSA\"] = study_sarsa.best_params\n",
        "#     print(f\"Melhores parâmetros para SARSA em {ambient}: {study_sarsa.best_params}\")\n",
        "\n",
        "#     study_expected_sarsa = optuna.create_study(direction='maximize')\n",
        "#     study_expected_sarsa.optimize(partial(train_expected_sarsa_decay, ambient), n_trials=trials)\n",
        "#     best_params[ambient][\"Expected SARSA\"] = study_expected_sarsa.best_params\n",
        "#     print(f\"Melhores parâmetros para Expected SARSA em {ambient}: {study_expected_sarsa.best_params}\")\n",
        "\n",
        "#     study_nstep_sarsa = optuna.create_study(direction='maximize')\n",
        "#     study_nstep_sarsa.optimize(partial(train_nstep_sarsa_decay, ambient), n_trials=trials)\n",
        "#     best_params[ambient][\"n-step SARSA\"] = study_nstep_sarsa.best_params\n",
        "#     print(f\"Melhores parâmetros para n-step SARSA em {ambient}: {study_nstep_sarsa.best_params}\")\n",
        "\n",
        "# clear_output()\n",
        "# print(\"\\n Melhores hiperparâmetros para todos os ambientes e algoritmos:\")\n",
        "# for ambient, algos in best_params.items():\n",
        "#     print(f\"\\n🔹 Ambiente: {ambient}\")\n",
        "#     for algo, params in algos.items():\n",
        "#         print(f\"  🔸 {algo}: {params}\")"
      ]
    },
    {
      "cell_type": "markdown",
      "metadata": {
        "id": "X8FC0I5UleK4"
      },
      "source": [
        "### Cliffwalking - Tentando vencer o Epsilon Fixo"
      ]
    },
    {
      "cell_type": "markdown",
      "metadata": {
        "id": "o9dQ-LB_1Kjw"
      },
      "source": [
        "#### Q-Learning"
      ]
    },
    {
      "cell_type": "markdown",
      "metadata": {
        "id": "idbZmq4MewVq"
      },
      "source": [
        "##### Q-Learning - decaimento em 500 episodios"
      ]
    },
    {
      "cell_type": "code",
      "execution_count": null,
      "metadata": {
        "id": "_IR3gma8ewVs",
        "colab": {
          "base_uri": "https://localhost:8080/",
          "height": 384
        },
        "outputId": "6806f14d-30fa-49e4-8c58-4d671b3bacba"
      },
      "outputs": [
        {
          "output_type": "error",
          "ename": "NameError",
          "evalue": "name 'epsilon_decay' is not defined",
          "traceback": [
            "\u001b[0;31m---------------------------------------------------------------------------\u001b[0m",
            "\u001b[0;31mNameError\u001b[0m                                 Traceback (most recent call last)",
            "\u001b[0;32m<ipython-input-13-3793838996a3>\u001b[0m in \u001b[0;36m<cell line: 0>\u001b[0;34m()\u001b[0m\n\u001b[1;32m     46\u001b[0m \u001b[0;31m# vencendo o epsilon fixo nesse sentido\u001b[0m\u001b[0;34m\u001b[0m\u001b[0;34m\u001b[0m\u001b[0m\n\u001b[1;32m     47\u001b[0m \u001b[0;34m\u001b[0m\u001b[0m\n\u001b[0;32m---> 48\u001b[0;31m \u001b[0mrewards_linear\u001b[0m\u001b[0;34m,\u001b[0m \u001b[0m_\u001b[0m\u001b[0;34m,\u001b[0m \u001b[0m_\u001b[0m\u001b[0;34m,\u001b[0m \u001b[0m_\u001b[0m \u001b[0;34m=\u001b[0m \u001b[0mrun_qlearning_decay\u001b[0m\u001b[0;34m(\u001b[0m\u001b[0menv\u001b[0m\u001b[0;34m=\u001b[0m\u001b[0menv\u001b[0m\u001b[0;34m,\u001b[0m \u001b[0mepisodes\u001b[0m\u001b[0;34m=\u001b[0m\u001b[0mEPISODES\u001b[0m\u001b[0;34m,\u001b[0m \u001b[0mlr\u001b[0m\u001b[0;34m=\u001b[0m\u001b[0mLR\u001b[0m\u001b[0;34m,\u001b[0m \u001b[0mgamma\u001b[0m\u001b[0;34m=\u001b[0m\u001b[0mGAMMA\u001b[0m\u001b[0;34m,\u001b[0m\u001b[0minitial_E\u001b[0m\u001b[0;34m=\u001b[0m\u001b[0mEPSILON_START\u001b[0m\u001b[0;34m,\u001b[0m \u001b[0mmin_E\u001b[0m\u001b[0;34m=\u001b[0m\u001b[0mEPSILON_MIN\u001b[0m\u001b[0;34m,\u001b[0m \u001b[0mdecay_type\u001b[0m\u001b[0;34m=\u001b[0m\u001b[0;34m\"linear\"\u001b[0m\u001b[0;34m,\u001b[0m \u001b[0mdecay_rate\u001b[0m\u001b[0;34m=\u001b[0m\u001b[0mDECAY_LINEAR\u001b[0m\u001b[0;34m,\u001b[0m \u001b[0mn_eps_per_rewards\u001b[0m\u001b[0;34m=\u001b[0m\u001b[0mN_EPS_PER_REWARDS\u001b[0m\u001b[0;34m,\u001b[0m \u001b[0mX\u001b[0m\u001b[0;34m=\u001b[0m\u001b[0;36m500\u001b[0m\u001b[0;34m)\u001b[0m\u001b[0;34m\u001b[0m\u001b[0;34m\u001b[0m\u001b[0m\n\u001b[0m\u001b[1;32m     49\u001b[0m \u001b[0mrewards_exponential\u001b[0m\u001b[0;34m,\u001b[0m \u001b[0m_\u001b[0m\u001b[0;34m,\u001b[0m \u001b[0m_\u001b[0m\u001b[0;34m,\u001b[0m \u001b[0m_\u001b[0m \u001b[0;34m=\u001b[0m \u001b[0mrun_qlearning_decay\u001b[0m\u001b[0;34m(\u001b[0m\u001b[0menv\u001b[0m\u001b[0;34m=\u001b[0m\u001b[0menv\u001b[0m\u001b[0;34m,\u001b[0m \u001b[0mepisodes\u001b[0m\u001b[0;34m=\u001b[0m\u001b[0mEPISODES\u001b[0m\u001b[0;34m,\u001b[0m \u001b[0mlr\u001b[0m\u001b[0;34m=\u001b[0m\u001b[0mLR\u001b[0m\u001b[0;34m,\u001b[0m \u001b[0mgamma\u001b[0m\u001b[0;34m=\u001b[0m\u001b[0mGAMMA\u001b[0m\u001b[0;34m,\u001b[0m\u001b[0minitial_E\u001b[0m\u001b[0;34m=\u001b[0m\u001b[0mEPSILON_START\u001b[0m\u001b[0;34m,\u001b[0m \u001b[0mmin_E\u001b[0m\u001b[0;34m=\u001b[0m\u001b[0mEPSILON_MIN\u001b[0m\u001b[0;34m,\u001b[0m\u001b[0mdecay_type\u001b[0m\u001b[0;34m=\u001b[0m\u001b[0;34m\"exponential\"\u001b[0m\u001b[0;34m,\u001b[0m \u001b[0mdecay_rate\u001b[0m\u001b[0;34m=\u001b[0m\u001b[0mDECAY_EXP\u001b[0m\u001b[0;34m,\u001b[0m\u001b[0mn_eps_per_rewards\u001b[0m\u001b[0;34m=\u001b[0m\u001b[0mN_EPS_PER_REWARDS\u001b[0m\u001b[0;34m,\u001b[0m \u001b[0mX\u001b[0m\u001b[0;34m=\u001b[0m\u001b[0;36m500\u001b[0m\u001b[0;34m)\u001b[0m\u001b[0;34m\u001b[0m\u001b[0;34m\u001b[0m\u001b[0m\n\u001b[1;32m     50\u001b[0m \u001b[0mrewards_adaptive\u001b[0m\u001b[0;34m,\u001b[0m \u001b[0m_\u001b[0m\u001b[0;34m,\u001b[0m \u001b[0m_\u001b[0m\u001b[0;34m,\u001b[0m \u001b[0m_\u001b[0m \u001b[0;34m=\u001b[0m \u001b[0mrun_qlearning_decay_com_adaptive\u001b[0m\u001b[0;34m(\u001b[0m\u001b[0menv\u001b[0m\u001b[0;34m=\u001b[0m\u001b[0menv\u001b[0m\u001b[0;34m,\u001b[0m \u001b[0mepisodes\u001b[0m\u001b[0;34m=\u001b[0m\u001b[0mEPISODES\u001b[0m\u001b[0;34m,\u001b[0m \u001b[0mlr\u001b[0m\u001b[0;34m=\u001b[0m\u001b[0mLR\u001b[0m\u001b[0;34m,\u001b[0m \u001b[0mgamma\u001b[0m\u001b[0;34m=\u001b[0m\u001b[0mGAMMA\u001b[0m\u001b[0;34m,\u001b[0m\u001b[0minitial_E\u001b[0m\u001b[0;34m=\u001b[0m\u001b[0mEPSILON_START\u001b[0m\u001b[0;34m,\u001b[0m \u001b[0mmin_E\u001b[0m\u001b[0;34m=\u001b[0m\u001b[0mEPSILON_MIN\u001b[0m\u001b[0;34m,\u001b[0m\u001b[0mdecay_type\u001b[0m\u001b[0;34m=\u001b[0m\u001b[0;34m\"adaptive\"\u001b[0m\u001b[0;34m,\u001b[0m \u001b[0mdecay_rate\u001b[0m\u001b[0;34m=\u001b[0m\u001b[0mDECAY_ADAPTIVE\u001b[0m\u001b[0;34m,\u001b[0m \u001b[0mincrease_rate\u001b[0m\u001b[0;34m=\u001b[0m\u001b[0mINCREASE_ADAPTIVE\u001b[0m\u001b[0;34m,\u001b[0m\u001b[0mn_eps_per_rewards\u001b[0m\u001b[0;34m=\u001b[0m\u001b[0mN_EPS_PER_REWARDS\u001b[0m\u001b[0;34m,\u001b[0m \u001b[0mX\u001b[0m\u001b[0;34m=\u001b[0m\u001b[0;36m500\u001b[0m\u001b[0;34m)\u001b[0m\u001b[0;34m\u001b[0m\u001b[0;34m\u001b[0m\u001b[0m\n",
            "\u001b[0;32m<ipython-input-5-609a1cc4fdf5>\u001b[0m in \u001b[0;36mrun_qlearning_decay\u001b[0;34m(env, episodes, lr, gamma, decay_type, initial_E, min_E, X, Y, total_eps, decay_rate, verbose, n_eps_per_rewards)\u001b[0m\n\u001b[1;32m     30\u001b[0m     \u001b[0mepsilon_values\u001b[0m \u001b[0;34m=\u001b[0m \u001b[0;34m[\u001b[0m\u001b[0;34m]\u001b[0m\u001b[0;34m\u001b[0m\u001b[0;34m\u001b[0m\u001b[0m\n\u001b[1;32m     31\u001b[0m \u001b[0;34m\u001b[0m\u001b[0m\n\u001b[0;32m---> 32\u001b[0;31m     \u001b[0mepsilon_decay_fn\u001b[0m \u001b[0;34m=\u001b[0m \u001b[0mepsilon_decay\u001b[0m\u001b[0;34m(\u001b[0m\u001b[0mdecay_type\u001b[0m\u001b[0;34m=\u001b[0m\u001b[0mdecay_type\u001b[0m\u001b[0;34m,\u001b[0m \u001b[0minitial_E\u001b[0m\u001b[0;34m=\u001b[0m\u001b[0minitial_E\u001b[0m\u001b[0;34m,\u001b[0m \u001b[0mmin_E\u001b[0m\u001b[0;34m=\u001b[0m\u001b[0mmin_E\u001b[0m\u001b[0;34m,\u001b[0m \u001b[0mY\u001b[0m\u001b[0;34m=\u001b[0m\u001b[0mY\u001b[0m\u001b[0;34m,\u001b[0m\u001b[0mX\u001b[0m\u001b[0;34m=\u001b[0m\u001b[0mX\u001b[0m\u001b[0;34m,\u001b[0m \u001b[0mtotal_eps\u001b[0m\u001b[0;34m=\u001b[0m\u001b[0mtotal_eps\u001b[0m\u001b[0;34m,\u001b[0m \u001b[0mdecay_rate\u001b[0m\u001b[0;34m=\u001b[0m\u001b[0mdecay_rate\u001b[0m\u001b[0;34m,\u001b[0m\u001b[0mepisodes\u001b[0m\u001b[0;34m=\u001b[0m\u001b[0mepisodes\u001b[0m\u001b[0;34m)\u001b[0m\u001b[0;34m\u001b[0m\u001b[0;34m\u001b[0m\u001b[0m\n\u001b[0m\u001b[1;32m     33\u001b[0m \u001b[0;34m\u001b[0m\u001b[0m\n\u001b[1;32m     34\u001b[0m     \u001b[0meps\u001b[0m \u001b[0;34m=\u001b[0m \u001b[0;36m0\u001b[0m\u001b[0;34m\u001b[0m\u001b[0;34m\u001b[0m\u001b[0m\n",
            "\u001b[0;31mNameError\u001b[0m: name 'epsilon_decay' is not defined"
          ]
        }
      ],
      "source": [
        "# decaindo no episodio 500 os resultados ficaram mais proximos\n",
        "\n",
        "# ENV_NAME = \"CliffWalking-v0\"\n",
        "# EPISODES = 8000\n",
        "# LR = 0.01\n",
        "# GAMMA = 0.95\n",
        "# EPSILON_NORMAL = .005\n",
        "# EPSILON_START = 1.0\n",
        "# EPSILON_MIN = 0.005\n",
        "# DECAY_LINEAR = .0000000001\n",
        "# DECAY_EXP = .0001\n",
        "# Y_LINEAR=.1\n",
        "# Y_EXP = 0.000001\n",
        "# X_LINEAR=500\n",
        "# X_EXP =8000\n",
        "N_EPS_PER_REWARDS=200\n",
        "\n",
        "#######\n",
        "ENV_NAME, r_max = \"CliffWalking-v0\", 0\n",
        "EPISODES = 8_000\n",
        "LR = 0.2\n",
        "GAMMA = 0.95\n",
        "EPSILON_NORMAL = 0.1\n",
        "\n",
        "# Verificar essas var\n",
        "EPSILON_START = 1.0\n",
        "EPSILON_MIN = 0.005\n",
        "DECAY_LINEAR = 0.005\n",
        "DECAY_EXP = 0.005\n",
        "DECAY_ADAPTIVE = 0.005\n",
        "INCREASE_ADAPTIVE = 1.005\n",
        "#######\n",
        "# Y_LINEAR=.1\n",
        "# Y_EXP = 0.000001\n",
        "# X_LINEAR=500\n",
        "# X_EXP =8000\n",
        "# Y_ADAP = 0.000001\n",
        "# X_ADAP = 500\n",
        "#######\n",
        "\n",
        "env = gym.make(ENV_NAME, max_episode_steps=500)\n",
        "\n",
        "# Decaindo completamente no X = 1000 como no pré-definido\n",
        "# mas como possívelmente explorou mais , pois passou mais tempo com maior epsilon\n",
        "# por isso com decaimento linear e exponencial se tornoi mais estável a longo prazo\n",
        "# vencendo o epsilon fixo nesse sentido\n",
        "\n",
        "rewards_linear, _, _, _ = run_qlearning_decay(env=env, episodes=EPISODES, lr=LR, gamma=GAMMA,initial_E=EPSILON_START, min_E=EPSILON_MIN, decay_type=\"linear\", decay_rate=DECAY_LINEAR, n_eps_per_rewards=N_EPS_PER_REWARDS, X=500)\n",
        "rewards_exponential, _, _, _ = run_qlearning_decay(env=env, episodes=EPISODES, lr=LR, gamma=GAMMA,initial_E=EPSILON_START, min_E=EPSILON_MIN,decay_type=\"exponential\", decay_rate=DECAY_EXP,n_eps_per_rewards=N_EPS_PER_REWARDS, X=500)\n",
        "rewards_adaptive, _, _, _ = run_qlearning_decay_com_adaptive(env=env, episodes=EPISODES, lr=LR, gamma=GAMMA,initial_E=EPSILON_START, min_E=EPSILON_MIN,decay_type=\"adaptive\", decay_rate=DECAY_ADAPTIVE, increase_rate=INCREASE_ADAPTIVE,n_eps_per_rewards=N_EPS_PER_REWARDS, X=500)\n",
        "\n",
        "\n",
        "# Q-Learning SEM decaimento (epsilon fixo)\n",
        "rewards_no_decay, _, _, _ = run_qlearning_decay(\n",
        "    env=env, episodes=EPISODES, lr=LR, gamma=GAMMA,\n",
        "    initial_E=EPSILON_NORMAL, min_E=EPSILON_START,  # epsilon não decai (fixo)\n",
        "    decay_type=\"none\", decay_rate=0,n_eps_per_rewards=N_EPS_PER_REWARDS, X=0  # sem decaimento\n",
        ")\n",
        "clear_output()"
      ]
    },
    {
      "cell_type": "code",
      "execution_count": null,
      "metadata": {
        "id": "AJSGuOTnewVt"
      },
      "outputs": [],
      "source": [
        "plot_results(\"Q-Learning (CliffWalking) - Fixo x Linear x Exponencial x Adaptativo\",[rewards_no_decay,rewards_linear,rewards_exponential,rewards_adaptive], [\"Fixo\",\"Linear\",\"Exponencial\", \"Adaptativo\"])\n",
        "# plot_results(\"Q-Learning (CliffWalking) - Fixo x Linear x Exponencial\",[rewards_no_decay,rewards_linear,rewards_exponential], [\"Fixo\",\"Linear\",\"Exponencial\"])\n",
        "#plot_results(\"Q-Learning (CliffWalking) - Fixo x Linear\",[rewards_no_decay,rewards_linear], [\"Fixo\",\"Linear\"]\n",
        "# plot_results(\"Q-Learning (CliffWalking) - Fixo\",[rewards_no_decay], [\"Fixo\"], 0)"
      ]
    },
    {
      "cell_type": "markdown",
      "metadata": {
        "id": "UzYmFDt7leK6"
      },
      "source": [
        "##### Q-Learning - decaimento em 2000 episodios"
      ]
    },
    {
      "cell_type": "code",
      "execution_count": null,
      "metadata": {
        "id": "R52eJi1rleK7"
      },
      "outputs": [],
      "source": [
        "#Quanto maior o numero de episodios explorados (epsilon muito mais alto do que o epsilon fixo), ganha-se menos recompensa a curto prazo\n",
        "# mas a convergencia será feita quando atingir o episódio X com epsilon mínimo\n",
        "\n",
        "# ENV_NAME = \"CliffWalking-v0\"\n",
        "# EPISODES = 8000\n",
        "# LR = 0.01\n",
        "# GAMMA = 0.95\n",
        "# EPSILON_NORMAL = .005\n",
        "# EPSILON_START = 1.0\n",
        "# EPSILON_MIN = 0.005\n",
        "# DECAY_LINEAR = .0000000001\n",
        "# DECAY_EXP = .0001\n",
        "# Y_LINEAR=.1\n",
        "# Y_EXP = 0.000001\n",
        "# X_LINEAR=500\n",
        "# X_EXP =8000\n",
        "N_EPS_PER_REWARDS=200\n",
        "\n",
        "#######\n",
        "ENV_NAME, r_max = \"CliffWalking-v0\", 0\n",
        "EPISODES = 8_000\n",
        "LR = 0.2\n",
        "GAMMA = 0.95\n",
        "EPSILON_NORMAL = 0.1\n",
        "\n",
        "# Verificar essas var\n",
        "EPSILON_START = 1.0\n",
        "EPSILON_MIN = 0.005\n",
        "DECAY_LINEAR = 0.005\n",
        "DECAY_EXP = 0.005\n",
        "DECAY_ADAPTIVE = 0.005\n",
        "INCREASE_ADAPTIVE = 1.005\n",
        "#######\n",
        "# Y_LINEAR=.1\n",
        "# Y_EXP = 0.000001\n",
        "# X_LINEAR=500\n",
        "# X_EXP =8000\n",
        "# Y_ADAP = 0.000001\n",
        "# X_ADAP = 500\n",
        "#######\n",
        "\n",
        "env = gym.make(ENV_NAME, max_episode_steps=500)\n",
        "\n",
        "# Decaindo completamente no X = 1000 como no pré-definido\n",
        "# mas como possívelmente explorou mais , pois passou mais tempo com maior epsilon\n",
        "# por isso com decaimento linear e exponencial se tornoi mais estável a longo prazo\n",
        "# vencendo o epsilon fixo nesse sentido\n",
        "\n",
        "rewards_linear, _, _, _ = run_qlearning_decay(env=env, episodes=EPISODES, lr=LR, gamma=GAMMA,initial_E=EPSILON_START, min_E=EPSILON_MIN, decay_type=\"linear\", decay_rate=DECAY_LINEAR, n_eps_per_rewards=N_EPS_PER_REWARDS, X=2000)\n",
        "rewards_exponential, _, _, _ = run_qlearning_decay(env=env, episodes=EPISODES, lr=LR, gamma=GAMMA,initial_E=EPSILON_START, min_E=EPSILON_MIN,decay_type=\"exponential\", decay_rate=DECAY_EXP,n_eps_per_rewards=N_EPS_PER_REWARDS, X=2000)\n",
        "rewards_adaptive, _, _, _ = run_qlearning_decay_com_adaptive(env=env, episodes=EPISODES, lr=LR, gamma=GAMMA,initial_E=EPSILON_START, min_E=EPSILON_MIN,decay_type=\"adaptive\", decay_rate=DECAY_ADAPTIVE, increase_rate=INCREASE_ADAPTIVE,n_eps_per_rewards=N_EPS_PER_REWARDS, X=2000)\n",
        "\n",
        "\n",
        "# Q-Learning SEM decaimento (epsilon fixo)\n",
        "rewards_no_decay, _, _, _ = run_qlearning_decay(\n",
        "    env=env, episodes=EPISODES, lr=LR, gamma=GAMMA,\n",
        "    initial_E=EPSILON_NORMAL, min_E=EPSILON_START,  # epsilon não decai (fixo)\n",
        "    decay_type=\"none\", decay_rate=0,n_eps_per_rewards=N_EPS_PER_REWARDS, X=0  # sem decaimento\n",
        ")\n",
        "clear_output()"
      ]
    },
    {
      "cell_type": "code",
      "execution_count": null,
      "metadata": {
        "id": "AstCtQaeleK8"
      },
      "outputs": [],
      "source": [
        "plot_results(\"Q-Learning (CliffWalking) - Fixo x Linear x Exponencial x Adaptativo\",[rewards_no_decay,rewards_linear,rewards_exponential,rewards_adaptive], [\"Fixo\",\"Linear\",\"Exponencial\", \"Adaptativo\"])\n",
        "# plot_results(\"Q-Learning (CliffWalking) - Fixo x Linear x Exponencial\",[rewards_no_decay,rewards_linear,rewards_exponential], [\"Fixo\",\"Linear\",\"Exponencial\"])\n",
        "#plot_results(\"Q-Learning (CliffWalking) - Fixo x Linear\",[rewards_no_decay,rewards_linear], [\"Fixo\",\"Linear\"]\n",
        "# plot_results(\"Q-Learning (CliffWalking) - Fixo\",[rewards_no_decay], [\"Fixo\"], 0)"
      ]
    },
    {
      "cell_type": "markdown",
      "metadata": {
        "id": "NioHnGCJbWeU"
      },
      "source": [
        "##### Q-Learning - decaimento em 6000 episodios"
      ]
    },
    {
      "cell_type": "code",
      "execution_count": null,
      "metadata": {
        "id": "AGC3mzYRbWeU"
      },
      "outputs": [],
      "source": [
        "# Com a demora para o decaimento, fica visível a demora para o algoritmo demonstrar aptidão em receber melhores recompensas por conta da alta exploração\n",
        "# o decaimento exponencial foi menos afetado\n",
        "\n",
        "\n",
        "# ENV_NAME = \"CliffWalking-v0\"\n",
        "# EPISODES = 8000\n",
        "# LR = 0.01\n",
        "# GAMMA = 0.95\n",
        "# EPSILON_NORMAL = .005\n",
        "# EPSILON_START = 1.0\n",
        "# EPSILON_MIN = 0.005\n",
        "# DECAY_LINEAR = .0000000001\n",
        "# DECAY_EXP = .0001\n",
        "# Y_LINEAR=.1\n",
        "# Y_EXP = 0.000001\n",
        "# X_LINEAR=500\n",
        "# X_EXP =8000\n",
        "N_EPS_PER_REWARDS=200\n",
        "\n",
        "#######\n",
        "ENV_NAME, r_max = \"CliffWalking-v0\", 0\n",
        "EPISODES = 8_000\n",
        "LR = 0.2\n",
        "GAMMA = 0.95\n",
        "EPSILON_NORMAL = 0.1\n",
        "\n",
        "# Verificar essas var\n",
        "EPSILON_START = 1.0\n",
        "EPSILON_MIN = 0.005\n",
        "DECAY_LINEAR = 0.005\n",
        "DECAY_EXP = 0.005\n",
        "DECAY_ADAPTIVE = 0.005\n",
        "INCREASE_ADAPTIVE = 1.005\n",
        "#######\n",
        "# Y_LINEAR=.1\n",
        "# Y_EXP = 0.000001\n",
        "# X_LINEAR=500\n",
        "# X_EXP =8000\n",
        "# Y_ADAP = 0.000001\n",
        "# X_ADAP = 500\n",
        "#######\n",
        "\n",
        "env = gym.make(ENV_NAME, max_episode_steps=500)\n",
        "\n",
        "# Decaindo completamente no X = 1000 como no pré-definido\n",
        "# mas como possívelmente explorou mais , pois passou mais tempo com maior epsilon\n",
        "# por isso com decaimento linear e exponencial se tornoi mais estável a longo prazo\n",
        "# vencendo o epsilon fixo nesse sentido\n",
        "\n",
        "rewards_linear, _, _, _ = run_qlearning_decay(env=env, episodes=EPISODES, lr=LR, gamma=GAMMA,initial_E=EPSILON_START, min_E=EPSILON_MIN, decay_type=\"linear\", decay_rate=DECAY_LINEAR, n_eps_per_rewards=N_EPS_PER_REWARDS, X=6000)\n",
        "rewards_exponential, _, _, _ = run_qlearning_decay(env=env, episodes=EPISODES, lr=LR, gamma=GAMMA,initial_E=EPSILON_START, min_E=EPSILON_MIN,decay_type=\"exponential\", decay_rate=DECAY_EXP,n_eps_per_rewards=N_EPS_PER_REWARDS, X=6000)\n",
        "rewards_adaptive, _, _, _ = run_qlearning_decay_com_adaptive(env=env, episodes=EPISODES, lr=LR, gamma=GAMMA,initial_E=EPSILON_START, min_E=EPSILON_MIN,decay_type=\"adaptive\", decay_rate=DECAY_ADAPTIVE, increase_rate=INCREASE_ADAPTIVE,n_eps_per_rewards=N_EPS_PER_REWARDS, X=6000)\n",
        "\n",
        "\n",
        "# Q-Learning SEM decaimento (epsilon fixo)\n",
        "rewards_no_decay, _, _, _ = run_qlearning_decay(\n",
        "    env=env, episodes=EPISODES, lr=LR, gamma=GAMMA,\n",
        "    initial_E=EPSILON_NORMAL, min_E=EPSILON_START,  # epsilon não decai (fixo)\n",
        "    decay_type=\"none\", decay_rate=0,n_eps_per_rewards=N_EPS_PER_REWARDS, X=0  # sem decaimento\n",
        ")\n",
        "clear_output()"
      ]
    },
    {
      "cell_type": "code",
      "execution_count": null,
      "metadata": {
        "id": "D1jTwQX8bWeV"
      },
      "outputs": [],
      "source": [
        "plot_results(\"Q-Learning (CliffWalking) - Fixo x Linear x Exponencial x Adaptativo\",[rewards_no_decay,rewards_linear,rewards_exponential,rewards_adaptive], [\"Fixo\",\"Linear\",\"Exponencial\", \"Adaptativo\"])\n",
        "# plot_results(\"Q-Learning (CliffWalking) - Fixo x Linear x Exponencial\",[rewards_no_decay,rewards_linear,rewards_exponential], [\"Fixo\",\"Linear\",\"Exponencial\"])\n",
        "#plot_results(\"Q-Learning (CliffWalking) - Fixo x Linear\",[rewards_no_decay,rewards_linear], [\"Fixo\",\"Linear\"]\n",
        "# plot_results(\"Q-Learning (CliffWalking) - Fixo\",[rewards_no_decay], [\"Fixo\"], 0)"
      ]
    },
    {
      "cell_type": "markdown",
      "metadata": {
        "id": "lCvUi6hHleLA"
      },
      "source": [
        "#### Sarsa"
      ]
    },
    {
      "cell_type": "markdown",
      "metadata": {
        "id": "SYKBsSS888VQ"
      },
      "source": [
        "##### 500 episodios"
      ]
    },
    {
      "cell_type": "code",
      "execution_count": null,
      "metadata": {
        "colab": {
          "base_uri": "https://localhost:8080/",
          "height": 228
        },
        "id": "ezVTrta1leLB",
        "outputId": "b3ff58b0-d031-411d-99f1-5c2690246c07"
      },
      "outputs": [
        {
          "ename": "NameError",
          "evalue": "name 'run_sarsa_decay_com_adaptive' is not defined",
          "output_type": "error",
          "traceback": [
            "\u001b[0;31m---------------------------------------------------------------------------\u001b[0m",
            "\u001b[0;31mNameError\u001b[0m                                 Traceback (most recent call last)",
            "\u001b[0;32m<ipython-input-39-c6eb24f5adf1>\u001b[0m in \u001b[0;36m<cell line: 0>\u001b[0;34m()\u001b[0m\n\u001b[1;32m     19\u001b[0m \u001b[0;31m# rewards_linear, _, _, _ = run_sarsa_decay(env=env, episodes=EPISODES, lr=LR, gamma=GAMMA,initial_E=EPSILON_START, min_E=EPSILON_MIN, decay_type=\"linear\", decay_rate=DECAY_LINEAR, X=500)\u001b[0m\u001b[0;34m\u001b[0m\u001b[0;34m\u001b[0m\u001b[0m\n\u001b[1;32m     20\u001b[0m \u001b[0;31m# rewards_exponential, _, _, _ = run_sarsa_decay(env=env, episodes=EPISODES, lr=LR, gamma=GAMMA,initial_E=EPSILON_START, min_E=EPSILON_MIN,decay_type=\"exponential\", decay_rate=DECAY_EXP, X=500)\u001b[0m\u001b[0;34m\u001b[0m\u001b[0;34m\u001b[0m\u001b[0m\n\u001b[0;32m---> 21\u001b[0;31m \u001b[0mrewards_adaptive\u001b[0m\u001b[0;34m,\u001b[0m \u001b[0m_\u001b[0m\u001b[0;34m,\u001b[0m \u001b[0m_\u001b[0m\u001b[0;34m,\u001b[0m \u001b[0m_\u001b[0m \u001b[0;34m=\u001b[0m \u001b[0mrun_sarsa_decay_com_adaptive\u001b[0m\u001b[0;34m(\u001b[0m\u001b[0menv\u001b[0m\u001b[0;34m=\u001b[0m\u001b[0menv\u001b[0m\u001b[0;34m,\u001b[0m \u001b[0mepisodes\u001b[0m\u001b[0;34m=\u001b[0m\u001b[0mEPISODES\u001b[0m\u001b[0;34m,\u001b[0m \u001b[0mlr\u001b[0m\u001b[0;34m=\u001b[0m\u001b[0mLR\u001b[0m\u001b[0;34m,\u001b[0m \u001b[0mgamma\u001b[0m\u001b[0;34m=\u001b[0m\u001b[0mGAMMA\u001b[0m\u001b[0;34m,\u001b[0m\u001b[0minitial_E\u001b[0m\u001b[0;34m=\u001b[0m\u001b[0mEPSILON_START\u001b[0m\u001b[0;34m,\u001b[0m \u001b[0mmin_E\u001b[0m\u001b[0;34m=\u001b[0m\u001b[0mEPSILON_MIN\u001b[0m\u001b[0;34m,\u001b[0m\u001b[0mdecay_type\u001b[0m\u001b[0;34m=\u001b[0m\u001b[0;34m\"adaptive\"\u001b[0m\u001b[0;34m,\u001b[0m \u001b[0mdecay_rate\u001b[0m\u001b[0;34m=\u001b[0m\u001b[0mDECAY_ADAPTIVE\u001b[0m\u001b[0;34m,\u001b[0m \u001b[0mincrease_rate\u001b[0m\u001b[0;34m=\u001b[0m\u001b[0mINCREASE_ADAPTIVE\u001b[0m\u001b[0;34m,\u001b[0m \u001b[0mX\u001b[0m\u001b[0;34m=\u001b[0m\u001b[0;36m500\u001b[0m\u001b[0;34m)\u001b[0m\u001b[0;34m\u001b[0m\u001b[0;34m\u001b[0m\u001b[0m\n\u001b[0m\u001b[1;32m     22\u001b[0m \u001b[0;34m\u001b[0m\u001b[0m\n\u001b[1;32m     23\u001b[0m \u001b[0;31m# rewards_no_decay, _, _, _ = run_sarsa_decay(\u001b[0m\u001b[0;34m\u001b[0m\u001b[0;34m\u001b[0m\u001b[0m\n",
            "\u001b[0;31mNameError\u001b[0m: name 'run_sarsa_decay_com_adaptive' is not defined"
          ]
        }
      ],
      "source": [
        "N_EPS_PER_REWARDS=200\n",
        "\n",
        "#######\n",
        "ENV_NAME, r_max = \"CliffWalking-v0\", 0\n",
        "EPISODES = 8_000\n",
        "LR = 0.2\n",
        "GAMMA = 0.95\n",
        "EPSILON_NORMAL = 0.1\n",
        "\n",
        "EPSILON_START = 1.0\n",
        "EPSILON_MIN = 0.005\n",
        "DECAY_LINEAR = 0.005\n",
        "DECAY_EXP = 0.005\n",
        "DECAY_ADAPTIVE = 0.005\n",
        "INCREASE_ADAPTIVE = 1.005\n",
        "\n",
        "env = gym.make(ENV_NAME, max_episode_steps=500)\n",
        "\n",
        "# rewards_linear, _, _, _ = run_sarsa_decay(env=env, episodes=EPISODES, lr=LR, gamma=GAMMA,initial_E=EPSILON_START, min_E=EPSILON_MIN, decay_type=\"linear\", decay_rate=DECAY_LINEAR, X=500)\n",
        "# rewards_exponential, _, _, _ = run_sarsa_decay(env=env, episodes=EPISODES, lr=LR, gamma=GAMMA,initial_E=EPSILON_START, min_E=EPSILON_MIN,decay_type=\"exponential\", decay_rate=DECAY_EXP, X=500)\n",
        "rewards_adaptive, _, _, _ = run_sarsa_decay_com_adaptive(env=env, episodes=EPISODES, lr=LR, gamma=GAMMA,initial_E=EPSILON_START, min_E=EPSILON_MIN,decay_type=\"adaptive\", decay_rate=DECAY_ADAPTIVE, increase_rate=INCREASE_ADAPTIVE, X=500)\n",
        "\n",
        "# rewards_no_decay, _, _, _ = run_sarsa_decay(\n",
        "#     env=env, episodes=EPISODES, lr=LR, gamma=GAMMA,\n",
        "#     initial_E=EPSILON_NORMAL, min_E=EPSILON_START,  # epsilon não decai (fixo)\n",
        "#     decay_type=\"none\", decay_rate=0,X =0  # sem decaimento\n",
        "# )\n",
        "# clear_output()"
      ]
    },
    {
      "cell_type": "code",
      "execution_count": null,
      "metadata": {
        "id": "lS5iOVgLleLC"
      },
      "outputs": [],
      "source": [
        "plot_results(\"SARSA (CliffWalking) - Fixo x Linear x Exponencial\",[rewards_no_decay,rewards_linear, rewards_exponential], [\"Fixo\",\"Decaimento Linear\", \"Decaimento Exponencial\"])"
      ]
    },
    {
      "cell_type": "markdown",
      "metadata": {
        "id": "lGIJmLKc9Yw2"
      },
      "source": [
        "#### Outros"
      ]
    },
    {
      "cell_type": "markdown",
      "metadata": {
        "id": "vg8cULQgleLC"
      },
      "source": [
        "##### Expected-SARSA"
      ]
    },
    {
      "cell_type": "code",
      "execution_count": null,
      "metadata": {
        "id": "kRxyhR12leLD"
      },
      "outputs": [],
      "source": [
        "ENV_NAME = \"CliffWalking-v0\"\n",
        "EPISODES = 8000\n",
        "LR = 0.01\n",
        "GAMMA = 0.95\n",
        "EPSILON_NORMAL = .005\n",
        "EPSILON_START = 1.0\n",
        "EPSILON_MIN = 0.005\n",
        "DECAY_LINEAR = 0.005\n",
        "DECAY_EXP = 0.005\n",
        "\n",
        "env = gym.make(ENV_NAME, max_episode_steps=500)\n",
        "\n",
        "rewards_linear, _, _, _ = run_expected_sarsa_decay(env=env, episodes=EPISODES, lr=LR, gamma=GAMMA,initial_E=EPSILON_START, min_E=EPSILON_MIN, decay_type=\"linear\", decay_rate=DECAY_LINEAR)\n",
        "rewards_exponential, _, _, _ = run_expected_sarsa_decay(env=env, episodes=EPISODES, lr=LR, gamma=GAMMA,initial_E=EPSILON_START, min_E=EPSILON_MIN,decay_type=\"exponential\", decay_rate=DECAY_EXP)\n",
        "\n",
        "# # Executa Q-Learning SEM decaimento (epsilon fixo)\n",
        "rewards_no_decay, _, _, _ = run_expected_sarsa_decay(env=env, episodes=EPISODES, lr=LR, gamma=GAMMA,initial_E=EPSILON_NORMAL, min_E=EPSILON_START, decay_type=\"none\", decay_rate=0)  # sem decaimento) # epsilon não decai (fixo)\n",
        "clear_output()"
      ]
    },
    {
      "cell_type": "code",
      "execution_count": null,
      "metadata": {
        "id": "VT2ICs9rleLD"
      },
      "outputs": [],
      "source": [
        "plot_results(\"Expected-SARSA (CliffWalking) - Fixo x Linear x Exponencial\",[rewards_no_decay,rewards_linear, rewards_exponential], [\"Fixo\",\"Decaimento Linear\", \"Decaimento Exponencial\"], 0)"
      ]
    },
    {
      "cell_type": "markdown",
      "metadata": {
        "id": "zulaJNPfleLD"
      },
      "source": [
        "##### SARSA de n-passos"
      ]
    },
    {
      "cell_type": "code",
      "execution_count": null,
      "metadata": {
        "id": "Ivere0trleLE"
      },
      "outputs": [],
      "source": [
        "ENV_NAME = \"CliffWalking-v0\"\n",
        "EPISODES = 8000\n",
        "LR = 0.01\n",
        "GAMMA = 0.95\n",
        "EPSILON_NORMAL = .005\n",
        "EPSILON_START = 1.0\n",
        "EPSILON_MIN = 0.005\n",
        "DECAY_LINEAR = 0.005\n",
        "DECAY_EXP = 0.005\n",
        "\n",
        "env = gym.make(ENV_NAME, max_episode_steps=500)\n",
        "\n",
        "rewards_linear, _, _, _ = run_nstep_sarsa_decay(env=env, episodes=EPISODES, lr=LR, gamma=GAMMA,initial_E=EPSILON_START, min_E=EPSILON_MIN, decay_type=\"linear\", decay_rate=DECAY_LINEAR)\n",
        "rewards_exponential, _, _, _ = run_nstep_sarsa_decay(env=env, episodes=EPISODES, lr=LR, gamma=GAMMA,initial_E=EPSILON_START, min_E=EPSILON_MIN,decay_type=\"exponential\", decay_rate=DECAY_EXP)\n",
        "\n",
        "# # Executa Q-Learning SEM decaimento (epsilon fixo)\n",
        "rewards_no_decay, _, _, _ = run_nstep_sarsa_decay(env=env, episodes=EPISODES, lr=LR, gamma=GAMMA,initial_E=EPSILON_NORMAL, min_E=EPSILON_START, decay_type=\"none\", decay_rate=0)  # sem decaimento) # epsilon não decai (fixo)\n",
        "clear_output()"
      ]
    },
    {
      "cell_type": "code",
      "execution_count": null,
      "metadata": {
        "id": "Itz3oSk9leLE"
      },
      "outputs": [],
      "source": [
        "plot_results(\"Sarsa de n-passos (CliffWalking) - Fixo x Linear x Exponencial\",[rewards_no_decay,rewards_linear, rewards_exponential], [\"Fixo\",\"Decaimento Linear\", \"Decaimento Exponencial\"], 0)"
      ]
    },
    {
      "cell_type": "markdown",
      "metadata": {
        "id": "UmbLJvuwZAwf"
      },
      "source": [
        "## Novas funções de Decaimentos - fixo,linear,exp; adaptativo, Q-Learning e Sarsa"
      ]
    },
    {
      "cell_type": "markdown",
      "metadata": {
        "id": "3y7Fe7-SaVn1"
      },
      "source": [
        "### Funções"
      ]
    },
    {
      "cell_type": "markdown",
      "metadata": {
        "id": "VjMtcCfhac5e"
      },
      "source": [
        "#### Decaiment do Epsilon"
      ]
    },
    {
      "cell_type": "code",
      "execution_count": null,
      "metadata": {
        "id": "fT5Nm3P7ZAwg"
      },
      "outputs": [],
      "source": [
        "def epsilon_decay_normal_2(decay_type='none', initial_E=1.0, min_E=0.005, X=None, Y=None,  episodes=8000, decay_rate=0.001):\n",
        "    \"\"\"\n",
        "    Decaimento fixo do epsilon (linear ou exponencial), baseado em X passos ou Y proporção do tempo total.\n",
        "    Se decay_type='none', o epsilon permanece constante (initial_E) e não depende de X ou Y.\n",
        "    \"\"\"\n",
        "    if decay_type == 'none':\n",
        "        def new_E(t):\n",
        "            return initial_E\n",
        "        return new_E\n",
        "\n",
        "    # Apenas para decay_type 'linear' ou 'exponential'\n",
        "    if decay_type not in ['linear', 'exponential']:\n",
        "        raise ValueError(\"Tipo de decaimento inválido. Escolha 'none', 'linear' ou 'exponential'.\")\n",
        "\n",
        "    # Calcula X a partir de Y, se fornecido\n",
        "    if Y is not None:\n",
        "        X = int(Y * episodes)\n",
        "\n",
        "    if X is None:\n",
        "        raise ValueError(\"É necessário definir X ou Y para o decaimento quando decay_type não é 'none'.\")\n",
        "\n",
        "    if decay_type == 'linear':\n",
        "        k = (initial_E - min_E) / X\n",
        "        def new_E(t):\n",
        "            return max(min_E, initial_E - k * t)\n",
        "    elif decay_type == 'exponential':\n",
        "        decay_rate = math.log((initial_E - min_E) / (min_E - min_E + 1e-8)) / X  # Ajusta o decaimento\n",
        "        def new_E(t):\n",
        "            return min_E + (initial_E - min_E) * math.exp(-decay_rate * t)\n",
        "\n",
        "    return new_E"
      ]
    },
    {
      "cell_type": "code",
      "execution_count": null,
      "metadata": {
        "id": "83vYt8ZSZAwh"
      },
      "outputs": [],
      "source": [
        "def epsilon_decay_adaptive_2(mode=1, initial_E=1.0, min_E=0.005, max_E=0.995, decay_rate=0.99, increase_rate=1.01, threshold=0.01, eps_limit_adaptive_to_consider=50, X=1000, Y=None, episodes=8000):\n",
        "    \"\"\"\n",
        "    Decaimento adaptativo do epsilon baseado na variação das recompensas recentes, limitado por X passos ou Y proporção do tempo total.\n",
        "    \"\"\"\n",
        "    # Calcula X a partir de Y, se fornecido - Y fará com que X seja proporcional a ele\n",
        "    if Y is not None:\n",
        "        X = int(Y * episodes)\n",
        "\n",
        "    if X is None:\n",
        "        raise ValueError(\"É necessário definir X ou Y para o decaimento.\")\n",
        "\n",
        "    previous_E = initial_E  # armazena E para manter E passado ao invés de aumentar\n",
        "\n",
        "    def new_E(E, recent_rewards, t):\n",
        "        if t >= X:  # epsilon para de mudar no ep X\n",
        "            return min_E\n",
        "\n",
        "        if len(recent_rewards) < 2:\n",
        "            return E  # Não muda no início\n",
        "\n",
        "        N = min(eps_limit_adaptive_to_consider, len(recent_rewards) // 2)\n",
        "        recent_mean = np.mean(recent_rewards[-N:])\n",
        "\n",
        "        if len(recent_rewards) >= 2 * N:\n",
        "            previous_mean = np.mean(recent_rewards[-2 * N:-N])\n",
        "        else:\n",
        "            previous_mean = recent_mean\n",
        "\n",
        "        if recent_mean >= (previous_mean - threshold):  # Melhorou ou manteve\n",
        "            E = max(E * decay_rate, min_E)\n",
        "        elif E < max_E:  # Desempenho piorou, aumenta ou mantém epsilon para mais exploração\n",
        "            if mode == 1:\n",
        "                E = min(E * increase_rate, max_E)\n",
        "            elif mode == 2:\n",
        "                E = previous_E  # mantém epsilon ao invés de aumentar\n",
        "        elif E > max_E:\n",
        "            E = max_E  # contornando problema\n",
        "\n",
        "        previous_E = E  # Atualiza o valor anterior de E\n",
        "\n",
        "        return E\n",
        "\n",
        "    return new_E"
      ]
    },
    {
      "cell_type": "markdown",
      "metadata": {
        "id": "fn8IbuHFaP-i"
      },
      "source": [
        "#### Q-Learning"
      ]
    },
    {
      "cell_type": "code",
      "execution_count": null,
      "metadata": {
        "id": "kNVuevMSZTLf"
      },
      "outputs": [],
      "source": [
        "def run_qlearning_decay_2(env, episodes,mode=1, lr=0.1, gamma=0.95, initial_E=1.0, min_E=0.005, X=1000, Y=None, decay_rate=0.99, increase_rate=1.01, verbose=True, n_eps_per_rewards=500,decay_type = 'none', threshold=0.005, eps_limit_adaptive_to_consider=50,max_E=0.995):\n",
        "    \"\"\"\n",
        "    Implementação do Q-learning com a função de decaimento epsilon_decay_fixed_2.\n",
        "    \"\"\"\n",
        "    assert isinstance(env.observation_space, gym.spaces.Discrete), \"Apenas espaços discretos são suportados!\"\n",
        "    assert isinstance(env.action_space, gym.spaces.Discrete), \"Apenas ações discretas são suportadas!\"\n",
        "\n",
        "    num_actions = env.action_space.n\n",
        "    # inicializa a tabela Q com valores aleatórios de -1.0 a 0.0\n",
        "    #usar o estado como índice das linhas e a ação como índice das colunas\n",
        "    Q = np.zeros((env.observation_space.n, num_actions))\n",
        "\n",
        "    # para cada episódio, guarda sua soma de recompensas (retorno não-descontado)\n",
        "    all_episode_rewards = []\n",
        "    avg_rewards = []\n",
        "    epsilon_values = []\n",
        "\n",
        "    # Função de decaimento adaptative ou normal -linear/fixa/exponencial\n",
        "    if decay_type == 'adaptive':\n",
        "      epsilon_decay_fn = epsilon_decay_adaptive_2(mode=mode,initial_E=initial_E, max_E=max_E,min_E=min_E, X=X, Y=Y, episodes=episodes, decay_rate=decay_rate, increase_rate=increase_rate,threshold=threshold,eps_limit_adaptive_to_consider=eps_limit_adaptive_to_consider)\n",
        "    else:\n",
        "      epsilon_decay_fn = epsilon_decay_normal_2(decay_type=decay_type, initial_E=initial_E, min_E=min_E, X=X, Y=Y, episodes=episodes, decay_rate=decay_rate)\n",
        "\n",
        "    recent_rewards = []\n",
        "    epsilon = initial_E\n",
        "\n",
        "    for i in range(episodes):\n",
        "      done = False\n",
        "      sum_rewards = 0\n",
        "      reward = 0\n",
        "      state, _ = env.reset()\n",
        "      while not done:\n",
        "        action = epsilon_greedy(Q, state, epsilon)\n",
        "\n",
        "        next_state, reward, terminated, truncated, _ = env.step(action)\n",
        "        done = terminated or truncated\n",
        "        if terminated:\n",
        "            # para estados terminaispr\n",
        "            V_next_state = 0\n",
        "        else:\n",
        "            # para estados não-terminais -- valor máximo (melhor ação)\n",
        "            V_next_state = np.max(Q[next_state])\n",
        "\n",
        "        V_next_state = 0 if terminated else np.max(Q[next_state])\n",
        "        Q[state, action] += lr * ((reward + gamma * V_next_state) - Q[state, action])\n",
        "\n",
        "        sum_rewards += reward\n",
        "        state = next_state\n",
        "\n",
        "      all_episode_rewards.append(sum_rewards)\n",
        "      avg_rewards.append(np.mean(all_episode_rewards[-n_eps_per_rewards:]))\n",
        "\n",
        "      if decay_type == 'adaptive':\n",
        "        # recent_rewards = all_episode_rewards[-n_eps_per_rewards:] if len(all_episode_rewards) > 0 else [0]\n",
        "        recent_rewards.append(sum_rewards)\n",
        "        if len(recent_rewards) > X:\n",
        "          recent_rewards.pop(0)\n",
        "        epsilon = epsilon_decay_fn(initial_E, recent_rewards, i)\n",
        "      else:\n",
        "        epsilon = epsilon_decay_fn(i)\n",
        "      epsilon_values.append(epsilon)\n",
        "\n",
        "      if verbose and (i + 1) % n_eps_per_rewards == 0:\n",
        "          print(f\"Episode {i + 1}: Avg Reward (last {n_eps_per_rewards}): {avg_rewards[-1]:.3f}, Epsilon: {epsilon:.4f}\")\n",
        "\n",
        "    return all_episode_rewards, Q, avg_rewards, epsilon_values"
      ]
    },
    {
      "cell_type": "markdown",
      "metadata": {
        "id": "l8b08z9XiH2h"
      },
      "source": [
        "#### SARSA"
      ]
    },
    {
      "cell_type": "code",
      "execution_count": null,
      "metadata": {
        "id": "aQru6kWyZ0rU"
      },
      "outputs": [],
      "source": [
        "def run_sarsa_decay_2(env, episodes,mode=1, lr=0.1, gamma=0.95, initial_E=1.0, min_E=0.005, X=1000, Y=None,decay_rate=0.99, increase_rate=1.01, verbose=True, n_eps_per_rewards=500,decay_type = 'none', threshold=0.005, eps_limit_adaptive_to_consider=50,max_E=0.995):\n",
        "    \"\"\"\n",
        "    Implementação do SARSA com a função de decaimento epsilon_decay_adaptive_2.\n",
        "    \"\"\"\n",
        "    assert isinstance(env.observation_space, gym.spaces.Discrete), \"Apenas espaços discretos são suportados!\"\n",
        "    assert isinstance(env.action_space, gym.spaces.Discrete), \"Apenas ações discretas são suportadas!\"\n",
        "\n",
        "    num_actions = env.action_space.n\n",
        "    Q = np.zeros((env.observation_space.n, num_actions))\n",
        "    all_episode_rewards = []\n",
        "    avg_rewards = []\n",
        "    epsilon_values = []\n",
        "\n",
        "    # Função de decaimento adaptative ou normal -linear/fixa/exponencial\n",
        "    if decay_type == 'adaptive':\n",
        "      epsilon_decay_fn = epsilon_decay_adaptive_2(mode=mode,initial_E=initial_E, max_E=max_E,min_E=min_E, X=X, Y=Y,  episodes=episodes, decay_rate=decay_rate, increase_rate=increase_rate,threshold=threshold,eps_limit_adaptive_to_consider=eps_limit_adaptive_to_consider)\n",
        "      epsilon = initial_E\n",
        "    else:\n",
        "      epsilon_decay_fn = epsilon_decay_normal_2(decay_type=decay_type, initial_E=initial_E, min_E=min_E, X=X, Y=Y, episodes=episodes, decay_rate=decay_rate)\n",
        "\n",
        "    for i in range(episodes):\n",
        "        state, _ = env.reset()\n",
        "        done = False\n",
        "        sum_rewards = 0\n",
        "\n",
        "\n",
        "        if decay_type == 'adaptive':\n",
        "            recent_rewards = all_episode_rewards[-n_eps_per_rewards:] if len(all_episode_rewards) > 0 else [0]\n",
        "            epsilon = epsilon_decay_fn(initial_E, recent_rewards, i)\n",
        "        else:\n",
        "            epsilon = epsilon_decay_fn(i)\n",
        "        epsilon_values.append(epsilon)\n",
        "\n",
        "        action = epsilon_greedy(Q, state, epsilon)\n",
        "\n",
        "        while not done:\n",
        "            next_state, reward, terminated, truncated, _ = env.step(action)\n",
        "            done = terminated or truncated\n",
        "\n",
        "            # Escolhe a próxima ação usando epsilon-greedy\n",
        "            next_action = epsilon_greedy(Q, next_state, epsilon)\n",
        "\n",
        "            # Atualiza a Q-table (SARSA usa a próxima ação)\n",
        "            V_next_state = 0 if done else Q[next_state, next_action]\n",
        "            Q[state, action] += lr * (reward + gamma * V_next_state - Q[state, action])\n",
        "\n",
        "            sum_rewards += reward\n",
        "            state = next_state\n",
        "            action = next_action  # Atualiza a ação para o próximo passo\n",
        "\n",
        "        all_episode_rewards.append(sum_rewards)\n",
        "        avg_rewards.append(np.mean(all_episode_rewards[-n_eps_per_rewards:]))\n",
        "        epsilon_values.append(epsilon)\n",
        "\n",
        "        if verbose and ((i + 1) % 100 == 0):\n",
        "            print(f\"Episode {i + 1}: Avg Reward (last 100): {avg_rewards[-1]:.3f}, Epsilon: {epsilon:.4f}\")\n",
        "\n",
        "    return all_episode_rewards, Q, avg_rewards, epsilon_values"
      ]
    },
    {
      "cell_type": "markdown",
      "metadata": {
        "id": "7nV2eUOTlI51"
      },
      "source": [
        "### Ambientes"
      ]
    },
    {
      "cell_type": "markdown",
      "metadata": {
        "id": "RqDbFprAlmcr"
      },
      "source": [
        "#### Q_Learning no CliffWalking"
      ]
    },
    {
      "cell_type": "code",
      "execution_count": null,
      "metadata": {
        "colab": {
          "base_uri": "https://localhost:8080/"
        },
        "id": "LKsX9Ow-lkjl",
        "outputId": "7fe7a727-bd2e-4e8e-888f-34383743f0cd"
      },
      "outputs": [
        {
          "output_type": "stream",
          "name": "stdout",
          "text": [
            "Episode 500: Avg Reward (last 500): -25.770, Epsilon: 0.0050\n",
            "Episode 1000: Avg Reward (last 500): -14.176, Epsilon: 0.0050\n",
            "Episode 1500: Avg Reward (last 500): -14.758, Epsilon: 0.0050\n",
            "Episode 2000: Avg Reward (last 500): -15.562, Epsilon: 0.0050\n",
            "Episode 2500: Avg Reward (last 500): -15.450, Epsilon: 0.0050\n",
            "Episode 3000: Avg Reward (last 500): -13.976, Epsilon: 0.0050\n",
            "Episode 3500: Avg Reward (last 500): -14.120, Epsilon: 0.0050\n",
            "Episode 4000: Avg Reward (last 500): -15.574, Epsilon: 0.0050\n",
            "Episode 4500: Avg Reward (last 500): -15.640, Epsilon: 0.0050\n",
            "Episode 5000: Avg Reward (last 500): -14.986, Epsilon: 0.0050\n",
            "Episode 5500: Avg Reward (last 500): -14.546, Epsilon: 0.0050\n",
            "Episode 6000: Avg Reward (last 500): -14.180, Epsilon: 0.0050\n",
            "Episode 6500: Avg Reward (last 500): -14.588, Epsilon: 0.0050\n",
            "Episode 7000: Avg Reward (last 500): -15.180, Epsilon: 0.0050\n",
            "Episode 7500: Avg Reward (last 500): -13.690, Epsilon: 0.0050\n",
            "Episode 8000: Avg Reward (last 500): -14.376, Epsilon: 0.0050\n",
            "Episode 500: Avg Reward (last 500): -1677.776, Epsilon: 0.7517\n",
            "Episode 1000: Avg Reward (last 500): -570.212, Epsilon: 0.5030\n",
            "Episode 1500: Avg Reward (last 500): -175.002, Epsilon: 0.2542\n",
            "Episode 2000: Avg Reward (last 500): -68.838, Epsilon: 0.0055\n",
            "Episode 2500: Avg Reward (last 500): -14.932, Epsilon: 0.0050\n",
            "Episode 3000: Avg Reward (last 500): -13.912, Epsilon: 0.0050\n",
            "Episode 3500: Avg Reward (last 500): -14.122, Epsilon: 0.0050\n",
            "Episode 4000: Avg Reward (last 500): -15.392, Epsilon: 0.0050\n",
            "Episode 4500: Avg Reward (last 500): -14.916, Epsilon: 0.0050\n",
            "Episode 5000: Avg Reward (last 500): -14.328, Epsilon: 0.0050\n",
            "Episode 5500: Avg Reward (last 500): -15.016, Epsilon: 0.0050\n",
            "Episode 6000: Avg Reward (last 500): -14.316, Epsilon: 0.0050\n",
            "Episode 6500: Avg Reward (last 500): -14.338, Epsilon: 0.0050\n",
            "Episode 7000: Avg Reward (last 500): -14.754, Epsilon: 0.0050\n",
            "Episode 7500: Avg Reward (last 500): -14.346, Epsilon: 0.0050\n",
            "Episode 8000: Avg Reward (last 500): -13.264, Epsilon: 0.0050\n",
            "Episode 500: Avg Reward (last 500): -235.176, Epsilon: 0.0151\n",
            "Episode 1000: Avg Reward (last 500): -15.682, Epsilon: 0.0051\n",
            "Episode 1500: Avg Reward (last 500): -14.514, Epsilon: 0.0050\n",
            "Episode 2000: Avg Reward (last 500): -15.424, Epsilon: 0.0050\n",
            "Episode 2500: Avg Reward (last 500): -14.990, Epsilon: 0.0050\n",
            "Episode 3000: Avg Reward (last 500): -14.118, Epsilon: 0.0050\n",
            "Episode 3500: Avg Reward (last 500): -14.130, Epsilon: 0.0050\n",
            "Episode 4000: Avg Reward (last 500): -15.408, Epsilon: 0.0050\n",
            "Episode 4500: Avg Reward (last 500): -14.966, Epsilon: 0.0050\n",
            "Episode 5000: Avg Reward (last 500): -13.898, Epsilon: 0.0050\n",
            "Episode 5500: Avg Reward (last 500): -14.416, Epsilon: 0.0050\n",
            "Episode 6000: Avg Reward (last 500): -14.126, Epsilon: 0.0050\n",
            "Episode 6500: Avg Reward (last 500): -15.632, Epsilon: 0.0050\n",
            "Episode 7000: Avg Reward (last 500): -14.566, Epsilon: 0.0050\n",
            "Episode 7500: Avg Reward (last 500): -14.992, Epsilon: 0.0050\n",
            "Episode 8000: Avg Reward (last 500): -15.180, Epsilon: 0.0050\n"
          ]
        }
      ],
      "source": [
        "# Configurações do ambiente\n",
        "env_name = \"CliffWalking-v0\"\n",
        "\n",
        "# Parâmetros fixos\n",
        "episodes = 8_000\n",
        "lr = .2#0.1\n",
        "gamma = 0.95\n",
        "initial_E = 1.0\n",
        "min_E = 0.005\n",
        "n_eps_per_rewards = 200 # 500 # passos por episodio\n",
        "max_E=.995\n",
        "\n",
        "# Parâmetros de decaimento\n",
        "decay_linear = 0.005\n",
        "decay_exponential = 0.001\n",
        "decay_adaptive = 0.9\n",
        "increase_adaptive = 1.01\n",
        "\n",
        "env = gym.make(env_name,max_episode_steps=n_eps_per_rewards)\n",
        "\n",
        "fixo, _, _, _ = run_qlearning_decay_2(env=env, episodes=episodes, lr=lr, gamma=gamma, initial_E=0.005, min_E=min_E, decay_type='none')\n",
        "linear, _, _, _ = run_qlearning_decay_2(X=2000,env=env,episodes=episodes,lr=lr, gamma=gamma, initial_E=initial_E, min_E=min_E,decay_type='linear', decay_rate=decay_linear)\n",
        "exponencial, _, _, _ = run_qlearning_decay_2(X=2000,env=env, episodes=episodes,lr=lr, gamma=gamma, initial_E=initial_E, min_E=min_E, decay_type='exponential', decay_rate=decay_exponential)\n",
        "# adaptativo1, _, _, _ = run_qlearning_decay_2(mode=1,X=4000,eps_limit_adaptive_to_consider=n_eps_per_rewards,threshold = .05,max_E=max_E,env=env, episodes=episodes, lr=lr, gamma=gamma, initial_E=initial_E, min_E=min_E, decay_type='adaptive', decay_rate=decay_adaptive, increase_rate=increase_adaptive)\n",
        "# adaptativo2, _, _, _ = run_qlearning_decay_2(mode=2,X=4000,eps_limit_adaptive_to_consider=n_eps_per_rewards,threshold = .05,max_E=max_E,env=env, episodes=episodes, lr=lr, gamma=gamma, initial_E=initial_E, min_E=min_E, decay_type='adaptive', decay_rate=decay_adaptive, increase_rate=increase_adaptive)"
      ]
    },
    {
      "cell_type": "code",
      "execution_count": null,
      "metadata": {
        "colab": {
          "base_uri": "https://localhost:8080/"
        },
        "id": "5xgbiJT1mEfs",
        "outputId": "66d654f5-cf88-45e5-dd0e-30496ae7bb68"
      },
      "outputs": [
        {
          "output_type": "display_data",
          "data": {
            "text/plain": [
              "<Figure size 1000x500 with 1 Axes>"
            ],
            "image/png": "[encoded data removed]"
          },
          "metadata": {}
        }
      ],
      "source": [
        "plot_results(\"Q-Learning (CliffWalking) - Fixo x Linear x Exponencial\", [fixo,linear,exponencial],[\"Fixo\",\"Linear\",\"Exponencial\"])"
      ]
    },
    {
      "cell_type": "markdown",
      "metadata": {
        "id": "b2pLj_8kjxWi"
      },
      "source": [
        "#### SARSA no CliffWalking"
      ]
    },
    {
      "cell_type": "code",
      "execution_count": null,
      "metadata": {
        "colab": {
          "base_uri": "https://localhost:8080/"
        },
        "outputId": "c5458c19-1642-4f7c-ff5c-8954e62288e4",
        "id": "xm3H4LBxjxWm"
      },
      "outputs": [
        {
          "output_type": "stream",
          "name": "stdout",
          "text": [
            "Episode 100: Avg Reward (last 100): -66.610, Epsilon: 0.0050\n",
            "Episode 200: Avg Reward (last 100): -41.355, Epsilon: 0.0050\n",
            "Episode 300: Avg Reward (last 100): -33.993, Epsilon: 0.0050\n",
            "Episode 400: Avg Reward (last 100): -30.108, Epsilon: 0.0050\n",
            "Episode 500: Avg Reward (last 100): -27.142, Epsilon: 0.0050\n",
            "Episode 600: Avg Reward (last 100): -16.832, Epsilon: 0.0050\n",
            "Episode 700: Avg Reward (last 100): -16.896, Epsilon: 0.0050\n",
            "Episode 800: Avg Reward (last 100): -16.278, Epsilon: 0.0050\n",
            "Episode 900: Avg Reward (last 100): -15.614, Epsilon: 0.0050\n",
            "Episode 1000: Avg Reward (last 100): -15.598, Epsilon: 0.0050\n",
            "Episode 1100: Avg Reward (last 100): -15.598, Epsilon: 0.0050\n",
            "Episode 1200: Avg Reward (last 100): -15.530, Epsilon: 0.0050\n",
            "Episode 1300: Avg Reward (last 100): -15.338, Epsilon: 0.0050\n",
            "Episode 1400: Avg Reward (last 100): -15.316, Epsilon: 0.0050\n",
            "Episode 1500: Avg Reward (last 100): -15.528, Epsilon: 0.0050\n",
            "Episode 1600: Avg Reward (last 100): -15.548, Epsilon: 0.0050\n",
            "Episode 1700: Avg Reward (last 100): -15.340, Epsilon: 0.0050\n",
            "Episode 1800: Avg Reward (last 100): -15.540, Epsilon: 0.0050\n",
            "Episode 1900: Avg Reward (last 100): -15.552, Epsilon: 0.0050\n",
            "Episode 2000: Avg Reward (last 100): -15.330, Epsilon: 0.0050\n",
            "Episode 2100: Avg Reward (last 100): -15.340, Epsilon: 0.0050\n",
            "Episode 2200: Avg Reward (last 100): -15.348, Epsilon: 0.0050\n",
            "Episode 2300: Avg Reward (last 100): -15.134, Epsilon: 0.0050\n",
            "Episode 2400: Avg Reward (last 100): -15.828, Epsilon: 0.0050\n",
            "Episode 2500: Avg Reward (last 100): -15.828, Epsilon: 0.0050\n",
            "Episode 2600: Avg Reward (last 100): -15.808, Epsilon: 0.0050\n",
            "Episode 2700: Avg Reward (last 100): -15.814, Epsilon: 0.0050\n",
            "Episode 2800: Avg Reward (last 100): -15.808, Epsilon: 0.0050\n",
            "Episode 2900: Avg Reward (last 100): -15.116, Epsilon: 0.0050\n",
            "Episode 3000: Avg Reward (last 100): -15.108, Epsilon: 0.0050\n",
            "Episode 3100: Avg Reward (last 100): -15.132, Epsilon: 0.0050\n",
            "Episode 3200: Avg Reward (last 100): -15.132, Epsilon: 0.0050\n",
            "Episode 3300: Avg Reward (last 100): -15.122, Epsilon: 0.0050\n",
            "Episode 3400: Avg Reward (last 100): -15.116, Epsilon: 0.0050\n",
            "Episode 3500: Avg Reward (last 100): -15.142, Epsilon: 0.0050\n",
            "Episode 3600: Avg Reward (last 100): -15.112, Epsilon: 0.0050\n",
            "Episode 3700: Avg Reward (last 100): -15.118, Epsilon: 0.0050\n",
            "Episode 3800: Avg Reward (last 100): -15.316, Epsilon: 0.0050\n",
            "Episode 3900: Avg Reward (last 100): -15.338, Epsilon: 0.0050\n",
            "Episode 4000: Avg Reward (last 100): -15.308, Epsilon: 0.0050\n",
            "Episode 4100: Avg Reward (last 100): -15.314, Epsilon: 0.0050\n",
            "Episode 4200: Avg Reward (last 100): -15.306, Epsilon: 0.0050\n",
            "Episode 4300: Avg Reward (last 100): -15.104, Epsilon: 0.0050\n",
            "Episode 4400: Avg Reward (last 100): -15.278, Epsilon: 0.0050\n",
            "Episode 4500: Avg Reward (last 100): -15.288, Epsilon: 0.0050\n",
            "Episode 4600: Avg Reward (last 100): -15.280, Epsilon: 0.0050\n",
            "Episode 4700: Avg Reward (last 100): -15.282, Epsilon: 0.0050\n",
            "Episode 4800: Avg Reward (last 100): -15.294, Epsilon: 0.0050\n",
            "Episode 4900: Avg Reward (last 100): -15.110, Epsilon: 0.0050\n",
            "Episode 5000: Avg Reward (last 100): -15.110, Epsilon: 0.0050\n",
            "Episode 5100: Avg Reward (last 100): -15.124, Epsilon: 0.0050\n",
            "Episode 5200: Avg Reward (last 100): -15.124, Epsilon: 0.0050\n",
            "Episode 5300: Avg Reward (last 100): -15.118, Epsilon: 0.0050\n",
            "Episode 5400: Avg Reward (last 100): -15.108, Epsilon: 0.0050\n",
            "Episode 5500: Avg Reward (last 100): -15.298, Epsilon: 0.0050\n",
            "Episode 5600: Avg Reward (last 100): -15.298, Epsilon: 0.0050\n",
            "Episode 5700: Avg Reward (last 100): -15.290, Epsilon: 0.0050\n",
            "Episode 5800: Avg Reward (last 100): -15.296, Epsilon: 0.0050\n",
            "Episode 5900: Avg Reward (last 100): -15.316, Epsilon: 0.0050\n",
            "Episode 6000: Avg Reward (last 100): -15.322, Epsilon: 0.0050\n",
            "Episode 6100: Avg Reward (last 100): -15.326, Epsilon: 0.0050\n",
            "Episode 6200: Avg Reward (last 100): -15.342, Epsilon: 0.0050\n",
            "Episode 6300: Avg Reward (last 100): -15.344, Epsilon: 0.0050\n",
            "Episode 6400: Avg Reward (last 100): -15.332, Epsilon: 0.0050\n",
            "Episode 6500: Avg Reward (last 100): -15.118, Epsilon: 0.0050\n",
            "Episode 6600: Avg Reward (last 100): -15.116, Epsilon: 0.0050\n",
            "Episode 6700: Avg Reward (last 100): -15.106, Epsilon: 0.0050\n",
            "Episode 6800: Avg Reward (last 100): -15.090, Epsilon: 0.0050\n",
            "Episode 6900: Avg Reward (last 100): -15.076, Epsilon: 0.0050\n",
            "Episode 7000: Avg Reward (last 100): -15.074, Epsilon: 0.0050\n",
            "Episode 7100: Avg Reward (last 100): -15.060, Epsilon: 0.0050\n",
            "Episode 7200: Avg Reward (last 100): -15.280, Epsilon: 0.0050\n",
            "Episode 7300: Avg Reward (last 100): -15.286, Epsilon: 0.0050\n",
            "Episode 7400: Avg Reward (last 100): -15.292, Epsilon: 0.0050\n",
            "Episode 7500: Avg Reward (last 100): -15.296, Epsilon: 0.0050\n",
            "Episode 7600: Avg Reward (last 100): -15.312, Epsilon: 0.0050\n",
            "Episode 7700: Avg Reward (last 100): -15.296, Epsilon: 0.0050\n",
            "Episode 7800: Avg Reward (last 100): -15.288, Epsilon: 0.0050\n",
            "Episode 7900: Avg Reward (last 100): -15.294, Epsilon: 0.0050\n",
            "Episode 8000: Avg Reward (last 100): -15.302, Epsilon: 0.0050\n",
            "Episode 100: Avg Reward (last 100): -730.830, Epsilon: 0.5075\n",
            "Episode 200: Avg Reward (last 100): -392.240, Epsilon: 0.0100\n",
            "Episode 300: Avg Reward (last 100): -267.197, Epsilon: 0.0050\n",
            "Episode 400: Avg Reward (last 100): -204.692, Epsilon: 0.0050\n",
            "Episode 500: Avg Reward (last 100): -167.158, Epsilon: 0.0050\n",
            "Episode 600: Avg Reward (last 100): -24.420, Epsilon: 0.0050\n",
            "Episode 700: Avg Reward (last 100): -17.108, Epsilon: 0.0050\n",
            "Episode 800: Avg Reward (last 100): -17.292, Epsilon: 0.0050\n",
            "Episode 900: Avg Reward (last 100): -17.266, Epsilon: 0.0050\n",
            "Episode 1000: Avg Reward (last 100): -17.280, Epsilon: 0.0050\n",
            "Episode 1100: Avg Reward (last 100): -17.278, Epsilon: 0.0050\n",
            "Episode 1200: Avg Reward (last 100): -17.282, Epsilon: 0.0050\n",
            "Episode 1300: Avg Reward (last 100): -17.080, Epsilon: 0.0050\n",
            "Episode 1400: Avg Reward (last 100): -17.108, Epsilon: 0.0050\n",
            "Episode 1500: Avg Reward (last 100): -17.108, Epsilon: 0.0050\n",
            "Episode 1600: Avg Reward (last 100): -17.096, Epsilon: 0.0050\n",
            "Episode 1700: Avg Reward (last 100): -17.298, Epsilon: 0.0050\n",
            "Episode 1800: Avg Reward (last 100): -17.328, Epsilon: 0.0050\n",
            "Episode 1900: Avg Reward (last 100): -17.314, Epsilon: 0.0050\n",
            "Episode 2000: Avg Reward (last 100): -17.306, Epsilon: 0.0050\n",
            "Episode 2100: Avg Reward (last 100): -17.320, Epsilon: 0.0050\n",
            "Episode 2200: Avg Reward (last 100): -17.106, Epsilon: 0.0050\n",
            "Episode 2300: Avg Reward (last 100): -17.106, Epsilon: 0.0050\n",
            "Episode 2400: Avg Reward (last 100): -17.100, Epsilon: 0.0050\n",
            "Episode 2500: Avg Reward (last 100): -17.110, Epsilon: 0.0050\n",
            "Episode 2600: Avg Reward (last 100): -17.088, Epsilon: 0.0050\n",
            "Episode 2700: Avg Reward (last 100): -17.098, Epsilon: 0.0050\n",
            "Episode 2800: Avg Reward (last 100): -17.092, Epsilon: 0.0050\n",
            "Episode 2900: Avg Reward (last 100): -17.286, Epsilon: 0.0050\n",
            "Episode 3000: Avg Reward (last 100): -17.284, Epsilon: 0.0050\n",
            "Episode 3100: Avg Reward (last 100): -17.302, Epsilon: 0.0050\n",
            "Episode 3200: Avg Reward (last 100): -17.294, Epsilon: 0.0050\n",
            "Episode 3300: Avg Reward (last 100): -17.476, Epsilon: 0.0050\n",
            "Episode 3400: Avg Reward (last 100): -17.274, Epsilon: 0.0050\n",
            "Episode 3500: Avg Reward (last 100): -17.264, Epsilon: 0.0050\n",
            "Episode 3600: Avg Reward (last 100): -17.260, Epsilon: 0.0050\n",
            "Episode 3700: Avg Reward (last 100): -17.288, Epsilon: 0.0050\n",
            "Episode 3800: Avg Reward (last 100): -17.090, Epsilon: 0.0050\n",
            "Episode 3900: Avg Reward (last 100): -17.102, Epsilon: 0.0050\n",
            "Episode 4000: Avg Reward (last 100): -17.128, Epsilon: 0.0050\n",
            "Episode 4100: Avg Reward (last 100): -17.328, Epsilon: 0.0050\n",
            "Episode 4200: Avg Reward (last 100): -17.304, Epsilon: 0.0050\n",
            "Episode 4300: Avg Reward (last 100): -17.326, Epsilon: 0.0050\n",
            "Episode 4400: Avg Reward (last 100): -17.326, Epsilon: 0.0050\n",
            "Episode 4500: Avg Reward (last 100): -17.316, Epsilon: 0.0050\n",
            "Episode 4600: Avg Reward (last 100): -17.120, Epsilon: 0.0050\n",
            "Episode 4700: Avg Reward (last 100): -17.108, Epsilon: 0.0050\n",
            "Episode 4800: Avg Reward (last 100): -17.094, Epsilon: 0.0050\n",
            "Episode 4900: Avg Reward (last 100): -17.308, Epsilon: 0.0050\n",
            "Episode 5000: Avg Reward (last 100): -17.304, Epsilon: 0.0050\n",
            "Episode 5100: Avg Reward (last 100): -17.308, Epsilon: 0.0050\n",
            "Episode 5200: Avg Reward (last 100): -17.320, Epsilon: 0.0050\n",
            "Episode 5300: Avg Reward (last 100): -17.522, Epsilon: 0.0050\n",
            "Episode 5400: Avg Reward (last 100): -17.296, Epsilon: 0.0050\n",
            "Episode 5500: Avg Reward (last 100): -17.298, Epsilon: 0.0050\n",
            "Episode 5600: Avg Reward (last 100): -17.294, Epsilon: 0.0050\n",
            "Episode 5700: Avg Reward (last 100): -17.324, Epsilon: 0.0050\n",
            "Episode 5800: Avg Reward (last 100): -17.340, Epsilon: 0.0050\n",
            "Episode 5900: Avg Reward (last 100): -17.352, Epsilon: 0.0050\n",
            "Episode 6000: Avg Reward (last 100): -17.338, Epsilon: 0.0050\n",
            "Episode 6100: Avg Reward (last 100): -17.322, Epsilon: 0.0050\n",
            "Episode 6200: Avg Reward (last 100): -17.284, Epsilon: 0.0050\n",
            "Episode 6300: Avg Reward (last 100): -17.064, Epsilon: 0.0050\n",
            "Episode 6400: Avg Reward (last 100): -17.060, Epsilon: 0.0050\n",
            "Episode 6500: Avg Reward (last 100): -17.070, Epsilon: 0.0050\n",
            "Episode 6600: Avg Reward (last 100): -17.078, Epsilon: 0.0050\n",
            "Episode 6700: Avg Reward (last 100): -17.096, Epsilon: 0.0050\n",
            "Episode 6800: Avg Reward (last 100): -17.122, Epsilon: 0.0050\n",
            "Episode 6900: Avg Reward (last 100): -17.312, Epsilon: 0.0050\n",
            "Episode 7000: Avg Reward (last 100): -17.312, Epsilon: 0.0050\n",
            "Episode 7100: Avg Reward (last 100): -17.324, Epsilon: 0.0050\n",
            "Episode 7200: Avg Reward (last 100): -17.318, Epsilon: 0.0050\n",
            "Episode 7300: Avg Reward (last 100): -17.306, Epsilon: 0.0050\n",
            "Episode 7400: Avg Reward (last 100): -17.108, Epsilon: 0.0050\n",
            "Episode 7500: Avg Reward (last 100): -17.124, Epsilon: 0.0050\n",
            "Episode 7600: Avg Reward (last 100): -17.116, Epsilon: 0.0050\n",
            "Episode 7700: Avg Reward (last 100): -17.104, Epsilon: 0.0050\n",
            "Episode 7800: Avg Reward (last 100): -17.082, Epsilon: 0.0050\n",
            "Episode 7900: Avg Reward (last 100): -17.088, Epsilon: 0.0050\n",
            "Episode 8000: Avg Reward (last 100): -17.070, Epsilon: 0.0050\n",
            "Episode 100: Avg Reward (last 100): -489.860, Epsilon: 0.4049\n",
            "Episode 200: Avg Reward (last 100): -264.115, Epsilon: 0.1642\n",
            "Episode 300: Avg Reward (last 100): -183.827, Epsilon: 0.0684\n",
            "Episode 400: Avg Reward (last 100): -143.127, Epsilon: 0.0302\n",
            "Episode 500: Avg Reward (last 100): -118.196, Epsilon: 0.0151\n",
            "Episode 600: Avg Reward (last 100): -23.860, Epsilon: 0.0090\n",
            "Episode 700: Avg Reward (last 100): -19.614, Epsilon: 0.0066\n",
            "Episode 800: Avg Reward (last 100): -18.390, Epsilon: 0.0056\n",
            "Episode 900: Avg Reward (last 100): -17.606, Epsilon: 0.0053\n",
            "Episode 1000: Avg Reward (last 100): -17.338, Epsilon: 0.0051\n",
            "Episode 1100: Avg Reward (last 100): -17.114, Epsilon: 0.0050\n",
            "Episode 1200: Avg Reward (last 100): -17.090, Epsilon: 0.0050\n",
            "Episode 1300: Avg Reward (last 100): -17.078, Epsilon: 0.0050\n",
            "Episode 1400: Avg Reward (last 100): -17.100, Epsilon: 0.0050\n",
            "Episode 1500: Avg Reward (last 100): -17.096, Epsilon: 0.0050\n",
            "Episode 1600: Avg Reward (last 100): -17.096, Epsilon: 0.0050\n",
            "Episode 1700: Avg Reward (last 100): -17.124, Epsilon: 0.0050\n",
            "Episode 1800: Avg Reward (last 100): -17.144, Epsilon: 0.0050\n",
            "Episode 1900: Avg Reward (last 100): -17.120, Epsilon: 0.0050\n",
            "Episode 2000: Avg Reward (last 100): -17.104, Epsilon: 0.0050\n",
            "Episode 2100: Avg Reward (last 100): -17.112, Epsilon: 0.0050\n",
            "Episode 2200: Avg Reward (last 100): -17.110, Epsilon: 0.0050\n",
            "Episode 2300: Avg Reward (last 100): -17.104, Epsilon: 0.0050\n",
            "Episode 2400: Avg Reward (last 100): -17.104, Epsilon: 0.0050\n",
            "Episode 2500: Avg Reward (last 100): -17.120, Epsilon: 0.0050\n",
            "Episode 2600: Avg Reward (last 100): -17.122, Epsilon: 0.0050\n",
            "Episode 2700: Avg Reward (last 100): -17.308, Epsilon: 0.0050\n",
            "Episode 2800: Avg Reward (last 100): -17.298, Epsilon: 0.0050\n",
            "Episode 2900: Avg Reward (last 100): -17.290, Epsilon: 0.0050\n",
            "Episode 3000: Avg Reward (last 100): -17.286, Epsilon: 0.0050\n",
            "Episode 3100: Avg Reward (last 100): -17.270, Epsilon: 0.0050\n",
            "Episode 3200: Avg Reward (last 100): -17.060, Epsilon: 0.0050\n",
            "Episode 3300: Avg Reward (last 100): -17.066, Epsilon: 0.0050\n",
            "Episode 3400: Avg Reward (last 100): -17.102, Epsilon: 0.0050\n",
            "Episode 3500: Avg Reward (last 100): -17.108, Epsilon: 0.0050\n",
            "Episode 3600: Avg Reward (last 100): -17.108, Epsilon: 0.0050\n",
            "Episode 3700: Avg Reward (last 100): -17.142, Epsilon: 0.0050\n",
            "Episode 3800: Avg Reward (last 100): -17.130, Epsilon: 0.0050\n",
            "Episode 3900: Avg Reward (last 100): -17.106, Epsilon: 0.0050\n",
            "Episode 4000: Avg Reward (last 100): -17.094, Epsilon: 0.0050\n",
            "Episode 4100: Avg Reward (last 100): -17.104, Epsilon: 0.0050\n",
            "Episode 4200: Avg Reward (last 100): -17.078, Epsilon: 0.0050\n",
            "Episode 4300: Avg Reward (last 100): -17.090, Epsilon: 0.0050\n",
            "Episode 4400: Avg Reward (last 100): -17.076, Epsilon: 0.0050\n",
            "Episode 4500: Avg Reward (last 100): -17.088, Epsilon: 0.0050\n",
            "Episode 4600: Avg Reward (last 100): -17.082, Epsilon: 0.0050\n",
            "Episode 4700: Avg Reward (last 100): -17.100, Epsilon: 0.0050\n",
            "Episode 4800: Avg Reward (last 100): -17.088, Epsilon: 0.0050\n",
            "Episode 4900: Avg Reward (last 100): -17.100, Epsilon: 0.0050\n",
            "Episode 5000: Avg Reward (last 100): -17.096, Epsilon: 0.0050\n",
            "Episode 5100: Avg Reward (last 100): -17.110, Epsilon: 0.0050\n",
            "Episode 5200: Avg Reward (last 100): -17.090, Epsilon: 0.0050\n",
            "Episode 5300: Avg Reward (last 100): -17.094, Epsilon: 0.0050\n",
            "Episode 5400: Avg Reward (last 100): -17.480, Epsilon: 0.0050\n",
            "Episode 5500: Avg Reward (last 100): -17.476, Epsilon: 0.0050\n",
            "Episode 5600: Avg Reward (last 100): -17.672, Epsilon: 0.0050\n",
            "Episode 5700: Avg Reward (last 100): -17.882, Epsilon: 0.0050\n",
            "Episode 5800: Avg Reward (last 100): -17.888, Epsilon: 0.0050\n",
            "Episode 5900: Avg Reward (last 100): -17.486, Epsilon: 0.0050\n",
            "Episode 6000: Avg Reward (last 100): -17.498, Epsilon: 0.0050\n",
            "Episode 6100: Avg Reward (last 100): -17.308, Epsilon: 0.0050\n",
            "Episode 6200: Avg Reward (last 100): -17.102, Epsilon: 0.0050\n",
            "Episode 6300: Avg Reward (last 100): -17.114, Epsilon: 0.0050\n",
            "Episode 6400: Avg Reward (last 100): -17.130, Epsilon: 0.0050\n",
            "Episode 6500: Avg Reward (last 100): -17.108, Epsilon: 0.0050\n",
            "Episode 6600: Avg Reward (last 100): -17.148, Epsilon: 0.0050\n",
            "Episode 6700: Avg Reward (last 100): -17.162, Epsilon: 0.0050\n",
            "Episode 6800: Avg Reward (last 100): -17.144, Epsilon: 0.0050\n",
            "Episode 6900: Avg Reward (last 100): -17.134, Epsilon: 0.0050\n",
            "Episode 7000: Avg Reward (last 100): -17.156, Epsilon: 0.0050\n",
            "Episode 7100: Avg Reward (last 100): -17.112, Epsilon: 0.0050\n",
            "Episode 7200: Avg Reward (last 100): -17.096, Epsilon: 0.0050\n",
            "Episode 7300: Avg Reward (last 100): -17.094, Epsilon: 0.0050\n",
            "Episode 7400: Avg Reward (last 100): -17.088, Epsilon: 0.0050\n",
            "Episode 7500: Avg Reward (last 100): -17.086, Epsilon: 0.0050\n",
            "Episode 7600: Avg Reward (last 100): -17.072, Epsilon: 0.0050\n",
            "Episode 7700: Avg Reward (last 100): -17.074, Epsilon: 0.0050\n",
            "Episode 7800: Avg Reward (last 100): -17.082, Epsilon: 0.0050\n",
            "Episode 7900: Avg Reward (last 100): -17.098, Epsilon: 0.0050\n",
            "Episode 8000: Avg Reward (last 100): -17.096, Epsilon: 0.0050\n"
          ]
        }
      ],
      "source": [
        "# Configurações do ambiente\n",
        "env_name = \"CliffWalking-v0\"\n",
        "\n",
        "# Parâmetros fixos\n",
        "episodes = 8_000\n",
        "lr = .2#0.1\n",
        "gamma = 0.95\n",
        "initial_E = 1.0\n",
        "min_E = 0.005\n",
        "n_eps_per_rewards = 200 # 500 # passos por episodio\n",
        "max_E=.995\n",
        "\n",
        "# Parâmetros de decaimento\n",
        "decay_linear = 0.005\n",
        "decay_exponential = 0.001\n",
        "decay_adaptive = 0.9\n",
        "increase_adaptive = 1.01\n",
        "\n",
        "env = gym.make(env_name,max_episode_steps=n_eps_per_rewards)\n",
        "\n",
        "fixo, _, _, _ = run_sarsa_decay_2(env=env, episodes=episodes, lr=lr, gamma=gamma, initial_E=0.005, min_E=min_E, decay_type='none')\n",
        "linear, _, _, _ = run_sarsa_decay_2(X=200,env=env,episodes=episodes,lr=lr, gamma=gamma, initial_E=initial_E, min_E=min_E,decay_type='linear', decay_rate=decay_linear)\n",
        "exponencial, _, _, _ = run_sarsa_decay_2(X=2000,env=env, episodes=episodes,lr=lr, gamma=gamma, initial_E=initial_E, min_E=min_E, decay_type='exponential', decay_rate=decay_exponential)\n",
        "# adaptativo1, _, _, _ = run_qlearning_decay_2(mode=1,X=4000,eps_limit_adaptive_to_consider=n_eps_per_rewards,threshold = .05,max_E=max_E,env=env, episodes=episodes, lr=lr, gamma=gamma, initial_E=initial_E, min_E=min_E, decay_type='adaptive', decay_rate=decay_adaptive, increase_rate=increase_adaptive)\n",
        "# adaptativo2, _, _, _ = run_qlearning_decay_2(mode=2,X=4000,eps_limit_adaptive_to_consider=n_eps_per_rewards,threshold = .05,max_E=max_E,env=env, episodes=episodes, lr=lr, gamma=gamma, initial_E=initial_E, min_E=min_E, decay_type='adaptive', decay_rate=decay_adaptive, increase_rate=increase_adaptive)"
      ]
    },
    {
      "cell_type": "code",
      "execution_count": null,
      "metadata": {
        "colab": {
          "base_uri": "https://localhost:8080/"
        },
        "outputId": "82af44f4-50ed-49da-910b-ae30e35458ce",
        "id": "vOid-LnmjxWp"
      },
      "outputs": [
        {
          "output_type": "display_data",
          "data": {
            "text/plain": [
              "<Figure size 1000x500 with 1 Axes>"
            ],
            "image/png": "[encoded data removed]"
          },
          "metadata": {}
        }
      ],
      "source": [
        "plot_results(\"Sarsa (CliffWalking) - Fixo x Linear x Exponencial\", [fixo,linear,exponencial],[\"Fixo\",\"Linear\",\"Exponencial\"])"
      ]
    },
    {
      "cell_type": "markdown",
      "metadata": {
        "id": "jMPkL2pjpnKK"
      },
      "source": [
        "#### Q_Learning no Frozen-Lake"
      ]
    },
    {
      "cell_type": "code",
      "execution_count": null,
      "metadata": {
        "colab": {
          "base_uri": "https://localhost:8080/"
        },
        "outputId": "b6ffd9e7-6147-468b-b4b9-51b0a1b263f8",
        "id": "1b07YV_SpnKM"
      },
      "outputs": [
        {
          "output_type": "stream",
          "name": "stdout",
          "text": [
            "Episode 500: Avg Reward (last 500): 0.000, Epsilon: 0.2000\n",
            "Episode 1000: Avg Reward (last 500): 0.086, Epsilon: 0.2000\n",
            "Episode 1500: Avg Reward (last 500): 0.192, Epsilon: 0.2000\n",
            "Episode 2000: Avg Reward (last 500): 0.176, Epsilon: 0.2000\n",
            "Episode 2500: Avg Reward (last 500): 0.184, Epsilon: 0.2000\n",
            "Episode 3000: Avg Reward (last 500): 0.186, Epsilon: 0.2000\n",
            "Episode 3500: Avg Reward (last 500): 0.162, Epsilon: 0.2000\n",
            "Episode 4000: Avg Reward (last 500): 0.188, Epsilon: 0.2000\n",
            "Episode 4500: Avg Reward (last 500): 0.172, Epsilon: 0.2000\n",
            "Episode 5000: Avg Reward (last 500): 0.184, Epsilon: 0.2000\n",
            "Episode 5500: Avg Reward (last 500): 0.222, Epsilon: 0.2000\n",
            "Episode 6000: Avg Reward (last 500): 0.216, Epsilon: 0.2000\n",
            "Episode 6500: Avg Reward (last 500): 0.166, Epsilon: 0.2000\n",
            "Episode 7000: Avg Reward (last 500): 0.216, Epsilon: 0.2000\n",
            "Episode 7500: Avg Reward (last 500): 0.150, Epsilon: 0.2000\n",
            "Episode 8000: Avg Reward (last 500): 0.166, Epsilon: 0.2000\n",
            "Episode 500: Avg Reward (last 500): 0.022, Epsilon: 0.8004\n",
            "Episode 1000: Avg Reward (last 500): 0.028, Epsilon: 0.6004\n",
            "Episode 1500: Avg Reward (last 500): 0.048, Epsilon: 0.4004\n",
            "Episode 2000: Avg Reward (last 500): 0.116, Epsilon: 0.2004\n",
            "Episode 2500: Avg Reward (last 500): 0.186, Epsilon: 0.2000\n",
            "Episode 3000: Avg Reward (last 500): 0.196, Epsilon: 0.2000\n",
            "Episode 3500: Avg Reward (last 500): 0.190, Epsilon: 0.2000\n",
            "Episode 4000: Avg Reward (last 500): 0.194, Epsilon: 0.2000\n",
            "Episode 4500: Avg Reward (last 500): 0.146, Epsilon: 0.2000\n",
            "Episode 5000: Avg Reward (last 500): 0.172, Epsilon: 0.2000\n",
            "Episode 5500: Avg Reward (last 500): 0.192, Epsilon: 0.2000\n",
            "Episode 6000: Avg Reward (last 500): 0.212, Epsilon: 0.2000\n",
            "Episode 6500: Avg Reward (last 500): 0.162, Epsilon: 0.2000\n",
            "Episode 7000: Avg Reward (last 500): 0.180, Epsilon: 0.2000\n",
            "Episode 7500: Avg Reward (last 500): 0.202, Epsilon: 0.2000\n",
            "Episode 8000: Avg Reward (last 500): 0.170, Epsilon: 0.2000\n",
            "Episode 500: Avg Reward (last 500): 0.020, Epsilon: 0.2085\n",
            "Episode 1000: Avg Reward (last 500): 0.166, Epsilon: 0.2001\n",
            "Episode 1500: Avg Reward (last 500): 0.212, Epsilon: 0.2000\n",
            "Episode 2000: Avg Reward (last 500): 0.190, Epsilon: 0.2000\n",
            "Episode 2500: Avg Reward (last 500): 0.196, Epsilon: 0.2000\n",
            "Episode 3000: Avg Reward (last 500): 0.158, Epsilon: 0.2000\n",
            "Episode 3500: Avg Reward (last 500): 0.226, Epsilon: 0.2000\n",
            "Episode 4000: Avg Reward (last 500): 0.198, Epsilon: 0.2000\n",
            "Episode 4500: Avg Reward (last 500): 0.146, Epsilon: 0.2000\n",
            "Episode 5000: Avg Reward (last 500): 0.164, Epsilon: 0.2000\n",
            "Episode 5500: Avg Reward (last 500): 0.204, Epsilon: 0.2000\n",
            "Episode 6000: Avg Reward (last 500): 0.190, Epsilon: 0.2000\n",
            "Episode 6500: Avg Reward (last 500): 0.190, Epsilon: 0.2000\n",
            "Episode 7000: Avg Reward (last 500): 0.208, Epsilon: 0.2000\n",
            "Episode 7500: Avg Reward (last 500): 0.226, Epsilon: 0.2000\n",
            "Episode 8000: Avg Reward (last 500): 0.210, Epsilon: 0.2000\n"
          ]
        }
      ],
      "source": [
        "# Configurações do ambiente\n",
        "env_name = \"FrozenLake-v1\"\n",
        "\n",
        "# Parâmetros fixos\n",
        "episodes = 8_000\n",
        "lr = .2#0.1\n",
        "gamma = 0.95\n",
        "initial_E = 1.0\n",
        "min_E = 0.2\n",
        "n_eps_per_rewards = 200 # 500 # passos por episodio\n",
        "max_E=.8\n",
        "\n",
        "# Parâmetros de decaimento\n",
        "decay_linear = 0.0005\n",
        "decay_exponential = 0.001\n",
        "decay_adaptive = 0.9\n",
        "increase_adaptive = 1.01\n",
        "\n",
        "env = gym.make(env_name,max_episode_steps=n_eps_per_rewards)\n",
        "\n",
        "fixo, _, _, _ = run_qlearning_decay_2(env=env, episodes=episodes, lr=lr, gamma=gamma, initial_E=0.2, min_E=min_E, decay_type='none')\n",
        "linear, _, _, _ = run_qlearning_decay_2(X=2000,env=env,episodes=episodes,lr=lr, gamma=gamma, initial_E=initial_E, min_E=min_E,decay_type='linear', decay_rate=decay_linear)\n",
        "exponencial, _, _, _ = run_qlearning_decay_2(X=2000,env=env, episodes=episodes,lr=lr, gamma=gamma, initial_E=initial_E, min_E=min_E, decay_type='exponential', decay_rate=decay_exponential)\n",
        "\n",
        "# adaptativo1, _, _, _ = run_qlearning_decay_2(mode=1,X=4000,eps_limit_adaptive_to_consider=n_eps_per_rewards,threshold = .05,max_E=max_E,env=env, episodes=episodes, lr=lr, gamma=gamma, initial_E=initial_E, min_E=min_E, decay_type='adaptive', decay_rate=decay_adaptive, increase_rate=increase_adaptive)\n",
        "# adaptativo2, _, _, _ = run_qlearning_decay_2(mode=2,X=4000,eps_limit_adaptive_to_consider=n_eps_per_rewards,threshold = .05,max_E=max_E,env=env, episodes=episodes, lr=lr, gamma=gamma, initial_E=initial_E, min_E=min_E, decay_type='adaptive', decay_rate=decay_adaptive, increase_rate=increase_adaptive)"
      ]
    },
    {
      "cell_type": "code",
      "execution_count": null,
      "metadata": {
        "colab": {
          "base_uri": "https://localhost:8080/",
          "height": 488
        },
        "outputId": "a4226d98-065f-4684-e76d-2f751642f76c",
        "id": "EjprBpVZpnKO"
      },
      "outputs": [
        {
          "output_type": "display_data",
          "data": {
            "text/plain": [
              "<Figure size 1000x500 with 1 Axes>"
            ],
            "image/png": "[encoded data removed]"
          },
          "metadata": {}
        }
      ],
      "source": [
        "plot_results(\"Q-Learning (FrozenLake) - Fixo x Linear x Exponencial\", [fixo,linear,exponencial],[\"Fixo\",\"Linear\",\"Exponencial\"])"
      ]
    },
    {
      "cell_type": "code",
      "source": [
        "def plot_results(title,rewards_list, labels):\n",
        "    plt.figure(figsize=(10, 5))\n",
        "    for rewards, label in zip(rewards_list, labels):\n",
        "        plt.plot(np.convolve(rewards, np.ones(50)/50, mode='valid'), label=label, linewidth=2)\n",
        "\n",
        "    plt.xlabel(\"Episódios\")\n",
        "    plt.ylabel(\"Recompensa média a cada 50 ep.\")\n",
        "    plt.legend()\n",
        "    plt.grid(True, linestyle='--', alpha=0.6)\n",
        "    plt.title(title)\n",
        "    plt.show()"
      ],
      "metadata": {
        "id": "Mqk1X6CMqsbs"
      },
      "execution_count": null,
      "outputs": []
    },
    {
      "cell_type": "markdown",
      "source": [
        "##### reusando a função antiga de epsilon adaptativo"
      ],
      "metadata": {
        "id": "rJg14z9MbU-a"
      }
    },
    {
      "cell_type": "code",
      "source": [
        "def adaptive_decay_E(E, recent_rewards, threshold=0.005, decay_factor=0.995, increase_factor=1.005, min_E=0.005, max_E=0.995, X=200):\n",
        "    if len(recent_rewards) < 2:\n",
        "        return E  # Não há dados suficientes para avaliar\n",
        "\n",
        "    N = min(50, len(recent_rewards)//2)  # Número de episódios considerados\n",
        "    recent_mean = np.mean(recent_rewards[-N:])\n",
        "\n",
        "    if len(recent_rewards) >= 2*N:\n",
        "        previous_mean = np.mean(recent_rewards[-2*N:-N])\n",
        "    else:\n",
        "        previous_mean = recent_mean  # Evita erro de variável não inicializada\n",
        "\n",
        "    if recent_mean >= (previous_mean - threshold):  # Melhorou ou manteve\n",
        "        E = max(E * decay_factor, min_E)\n",
        "    else:  # Desempenho piorou\n",
        "        if E < max_E * 0.9:  # Permite aumento apenas se estiver significativamente abaixo do máximo\n",
        "            E = min(E * increase_factor, max_E)\n",
        "\n",
        "    return E\n"
      ],
      "metadata": {
        "id": "Yw3unzp9bTET"
      },
      "execution_count": null,
      "outputs": []
    },
    {
      "cell_type": "code",
      "source": [
        "def run_qlearning_adaptive(env, episodes, lr=0.1, gamma=0.95, initial_E=.995, min_E=0.005, threshold=0.005, decay_factor=0.995, increase_factor=1.005, X = 200): # X = numero X de episodios para atualizar\n",
        "    assert isinstance(env.observation_space, gym.spaces.Discrete)\n",
        "    assert isinstance(env.action_space, gym.spaces.Discrete)\n",
        "\n",
        "    num_actions = env.action_space.n\n",
        "    Q = np.zeros((env.observation_space.n, num_actions))  # Inicializa a tabela Q\n",
        "\n",
        "    all_episode_rewards = []\n",
        "    recent_rewards = []\n",
        "    epsilon = initial_E\n",
        "\n",
        "    for i in range(episodes):\n",
        "        done = False\n",
        "        sum_rewards = 0\n",
        "        state, _ = env.reset()\n",
        "\n",
        "        while not done:\n",
        "            action = epsilon_greedy(Q, state, epsilon)\n",
        "            next_state, reward, terminated, trunc, _ = env.step(action)\n",
        "            done = terminated or trunc\n",
        "\n",
        "            # Atualiza Q-table (Q-Learning)\n",
        "            V_next_state = 0 if terminated else np.max(Q[next_state])\n",
        "            Q[state, action] += lr * ((reward + gamma * V_next_state) - Q[state, action])\n",
        "\n",
        "            sum_rewards += reward\n",
        "            state = next_state\n",
        "\n",
        "        all_episode_rewards.append(sum_rewards)\n",
        "        recent_rewards.append(sum_rewards)\n",
        "\n",
        "        if len(recent_rewards) > X:\n",
        "            recent_rewards.pop(0)\n",
        "\n",
        "        epsilon = adaptive_decay_E(epsilon, recent_rewards, threshold, decay_factor, increase_factor, min_E,X)\n",
        "\n",
        "        if (i + 1) % X == 0:\n",
        "            avg_reward = np.mean(all_episode_rewards[-X:])\n",
        "            print(f\"Episode {i+1} | Avg Reward: {avg_reward:.3f} | Epsilon: {epsilon:.4f}\")\n",
        "\n",
        "    return all_episode_rewards, Q"
      ],
      "metadata": {
        "id": "_-FGPNShbxnj"
      },
      "execution_count": null,
      "outputs": []
    },
    {
      "cell_type": "markdown",
      "source": [
        "#### Rodando várias vezes para descobrir se o q-learning com epsilon com decaimento linear  ou decaimento exponencial pode ser melhor que o fixo."
      ],
      "metadata": {
        "id": "NX_h8o3b_IbR"
      }
    },
    {
      "cell_type": "code",
      "source": [
        "env_name = \"FrozenLake-v1\"\n",
        "\n",
        "# params fixos#####\n",
        "episodes = 8_000\n",
        "lr = 0.2\n",
        "gamma = 0.95\n",
        "initial_E = 1.0\n",
        "min_E = 0.2\n",
        "n_eps_per_rewards = 200\n",
        "max_E = 0.8\n",
        "# params fixos#####\n",
        "\n",
        "decay_linear = 0.0005\n",
        "decay_exponential = 0.001\n",
        "decay_adaptive = 0.9\n",
        "increase_adaptive = 1.01\n",
        "\n",
        "env = gym.make(env_name, max_episode_steps=n_eps_per_rewards)\n",
        "\n",
        "results = []\n",
        "\n",
        "for i in range(100):\n",
        "    fixo, _, _, _ = run_qlearning_decay_2(env=env, episodes=episodes, lr=lr, gamma=gamma, initial_E=0.2, min_E=min_E, decay_type='none')\n",
        "    linear, _, _, _ = run_qlearning_decay_2(X=2000, env=env, episodes=episodes, lr=lr, gamma=gamma, initial_E=initial_E, min_E=min_E, decay_type='linear', decay_rate=decay_linear)\n",
        "    exponencial, _, _, _ = run_qlearning_decay_2(X=2000, env=env, episodes=episodes, lr=lr, gamma=gamma, initial_E=initial_E, min_E=min_E, decay_type='exponential', decay_rate=decay_exponential)\n",
        "\n",
        "    clear_output()\n",
        "    results.append({\n",
        "        'Iteracao': i + 1,\n",
        "        'Fixo': fixo,\n",
        "        'Linear': linear,\n",
        "        'Exponencial': exponencial\n",
        "    })"
      ],
      "metadata": {
        "colab": {
          "base_uri": "https://localhost:8080/"
        },
        "id": "FJlWkSi9_X7C",
        "outputId": "43bcccc2-fc7b-4110-82b6-79e9ca0e1b62"
      },
      "execution_count": null,
      "outputs": [
        {
          "output_type": "stream",
          "name": "stdout",
          "text": [
            "Episode 500: Avg Reward (last 500): 0.038, Epsilon: 0.2000\n",
            "Episode 1000: Avg Reward (last 500): 0.156, Epsilon: 0.2000\n",
            "Episode 1500: Avg Reward (last 500): 0.190, Epsilon: 0.2000\n",
            "Episode 2000: Avg Reward (last 500): 0.196, Epsilon: 0.2000\n",
            "Episode 2500: Avg Reward (last 500): 0.206, Epsilon: 0.2000\n",
            "Episode 3000: Avg Reward (last 500): 0.192, Epsilon: 0.2000\n",
            "Episode 3500: Avg Reward (last 500): 0.170, Epsilon: 0.2000\n",
            "Episode 4000: Avg Reward (last 500): 0.192, Epsilon: 0.2000\n",
            "Episode 4500: Avg Reward (last 500): 0.200, Epsilon: 0.2000\n",
            "Episode 5000: Avg Reward (last 500): 0.216, Epsilon: 0.2000\n",
            "Episode 5500: Avg Reward (last 500): 0.190, Epsilon: 0.2000\n",
            "Episode 6000: Avg Reward (last 500): 0.190, Epsilon: 0.2000\n",
            "Episode 6500: Avg Reward (last 500): 0.174, Epsilon: 0.2000\n",
            "Episode 7000: Avg Reward (last 500): 0.200, Epsilon: 0.2000\n",
            "Episode 7500: Avg Reward (last 500): 0.176, Epsilon: 0.2000\n",
            "Episode 8000: Avg Reward (last 500): 0.192, Epsilon: 0.2000\n",
            "Episode 500: Avg Reward (last 500): 0.012, Epsilon: 0.8004\n",
            "Episode 1000: Avg Reward (last 500): 0.026, Epsilon: 0.6004\n",
            "Episode 1500: Avg Reward (last 500): 0.046, Epsilon: 0.4004\n",
            "Episode 2000: Avg Reward (last 500): 0.146, Epsilon: 0.2004\n",
            "Episode 2500: Avg Reward (last 500): 0.222, Epsilon: 0.2000\n",
            "Episode 3000: Avg Reward (last 500): 0.158, Epsilon: 0.2000\n",
            "Episode 3500: Avg Reward (last 500): 0.192, Epsilon: 0.2000\n",
            "Episode 4000: Avg Reward (last 500): 0.198, Epsilon: 0.2000\n",
            "Episode 4500: Avg Reward (last 500): 0.192, Epsilon: 0.2000\n",
            "Episode 5000: Avg Reward (last 500): 0.208, Epsilon: 0.2000\n",
            "Episode 5500: Avg Reward (last 500): 0.174, Epsilon: 0.2000\n",
            "Episode 6000: Avg Reward (last 500): 0.208, Epsilon: 0.2000\n",
            "Episode 6500: Avg Reward (last 500): 0.170, Epsilon: 0.2000\n",
            "Episode 7000: Avg Reward (last 500): 0.168, Epsilon: 0.2000\n",
            "Episode 7500: Avg Reward (last 500): 0.232, Epsilon: 0.2000\n",
            "Episode 8000: Avg Reward (last 500): 0.206, Epsilon: 0.2000\n",
            "Episode 500: Avg Reward (last 500): 0.104, Epsilon: 0.2085\n",
            "Episode 1000: Avg Reward (last 500): 0.166, Epsilon: 0.2001\n",
            "Episode 1500: Avg Reward (last 500): 0.180, Epsilon: 0.2000\n",
            "Episode 2000: Avg Reward (last 500): 0.202, Epsilon: 0.2000\n",
            "Episode 2500: Avg Reward (last 500): 0.186, Epsilon: 0.2000\n",
            "Episode 3000: Avg Reward (last 500): 0.182, Epsilon: 0.2000\n",
            "Episode 3500: Avg Reward (last 500): 0.212, Epsilon: 0.2000\n"
          ]
        }
      ]
    },
    {
      "cell_type": "code",
      "source": [
        "df = pd.DataFrame(results)\n",
        "\n",
        "# Converter listas em strings\n",
        "df['Fixo'] = df['Fixo'].apply(lambda x: str(x))\n",
        "df['Linear'] = df['Linear'].apply(lambda x: str(x))\n",
        "df['Exponencial'] = df['Exponencial'].apply(lambda x: str(x))\n",
        "\n",
        "# Salvar em um arquivo CSV\n",
        "df.to_csv('dts/recompensas.csv', index=False)"
      ],
      "metadata": {
        "id": "JNn9dohd2Oua"
      },
      "execution_count": null,
      "outputs": []
    },
    {
      "cell_type": "code",
      "source": [
        "def expand_lists_to_columns(df, column_name):\n",
        "    expanded_df = df[column_name].apply(pd.Series)\n",
        "    expanded_df = expanded_df.rename(columns=lambda x: f'{column_name}_{x+1}')\n",
        "    return expanded_df\n",
        "\n",
        "# Converter para DataFrame\n",
        "df = pd.DataFrame(results)\n",
        "\n",
        "# Expandir listas em colunas\n",
        "fixo_expanded = expand_lists_to_columns(df, 'Fixo')\n",
        "linear_expanded = expand_lists_to_columns(df, 'Linear')\n",
        "exponencial_expanded = expand_lists_to_columns(df, 'Exponencial')\n",
        "\n",
        "# Concatenar colunas expandidas com o DataFrame original\n",
        "df_expanded = pd.concat([df['Iteracao'], fixo_expanded, linear_expanded, exponencial_expanded], axis=1)\n",
        "\n",
        "# Salvar em um arquivo CSV\n",
        "df_expanded.to_csv('recompensas_expanded.csv', index=False)"
      ],
      "metadata": {
        "id": "1IznMzLq_ese"
      },
      "execution_count": null,
      "outputs": []
    },
    {
      "cell_type": "code",
      "source": [
        "import ast\n",
        "\n",
        "# Ler o CSV\n",
        "df = pd.read_csv('dts/recompensas.csv')\n",
        "\n",
        "# Desserializar as strings de volta para listas\n",
        "df['Fixo'] = df['Fixo'].apply(ast.literal_eval)\n",
        "df['Linear'] = df['Linear'].apply(ast.literal_eval)\n",
        "df['Exponencial'] = df['Exponencial'].apply(ast.literal_eval)\n",
        "\n",
        "total_fixo = df['Fixo'].apply(sum).sum()\n",
        "total_linear = df['Linear'].apply(sum).sum()\n",
        "total_exponencial = df['Exponencial'].apply(sum).sum()\n",
        "\n",
        "total_rewards = {\n",
        "    'Fixo': total_fixo,\n",
        "    'Linear': total_linear,\n",
        "    'Exponencial': total_exponencial\n",
        "}\n",
        "\n",
        "total_geral = sum(total_rewards.values())\n",
        "percentual = {algoritmo: (recompensa / total_geral) * 100 for algoritmo, recompensa in total_rewards.items()}\n",
        "\n",
        "# Mostrar os percentuais\n",
        "for algoritmo, pct in percentual.items():\n",
        "    print(f\"{algoritmo}: {pct:.2f}%\")\n",
        "\n",
        "# Identificar o algoritmo com o maior percentual\n",
        "algoritmo_vencedor = max(percentual, key=percentual.get)\n",
        "print(f\"\\nO algoritmo com o maior percentual de recompensas é: {algoritmo_vencedor} com {percentual[algoritmo_vencedor]:.2f}%\")"
      ],
      "metadata": {
        "colab": {
          "base_uri": "https://localhost:8080/"
        },
        "id": "-PK9cU6p20W9",
        "outputId": "3772999d-f76f-4945-9700-041d4bf78bda"
      },
      "execution_count": null,
      "outputs": [
        {
          "output_type": "stream",
          "name": "stdout",
          "text": [
            "Fixo: 30.33%\n",
            "Linear: 34.12%\n",
            "Exponencial: 35.56%\n",
            "\n",
            "O algoritmo com o maior percentual de recompensas é: Exponencial com 35.56%\n"
          ]
        }
      ]
    },
    {
      "cell_type": "code",
      "source": [
        "# Ler o CSV\n",
        "df = pd.read_csv('dts/recompensas.csv')\n",
        "\n",
        "# Desserializar as strings de volta para listas\n",
        "df['Fixo'] = df['Fixo'].apply(ast.literal_eval)\n",
        "df['Linear'] = df['Linear'].apply(ast.literal_eval)\n",
        "df['Exponencial'] = df['Exponencial'].apply(ast.literal_eval)\n",
        "\n",
        "# Calcular a soma total das recompensas para cada algoritmo\n",
        "total_fixo = df['Fixo'].apply(sum).sum()\n",
        "total_linear = df['Linear'].apply(sum).sum()\n",
        "total_exponencial = df['Exponencial'].apply(sum).sum()\n",
        "\n",
        "# Criar um dicionário com os totais\n",
        "total_rewards = {\n",
        "    'Fixo': total_fixo,\n",
        "    'Linear': total_linear,\n",
        "    'Exponencial': total_exponencial\n",
        "}\n",
        "\n",
        "# Calcular o percentual de cada algoritmo\n",
        "total_geral = sum(total_rewards.values())\n",
        "percentual = {algoritmo: (recompensa / total_geral) * 100 for algoritmo, recompensa in total_rewards.items()}\n",
        "\n",
        "# Converter o dicionário de percentuais em um DataFrame para facilitar a plotagem\n",
        "df_percentual = pd.DataFrame(list(percentual.items()), columns=['Algoritmo', 'Percentual'])\n",
        "\n",
        "# Configurar o estilo do gráfico\n",
        "sns.set(style=\"whitegrid\")\n",
        "plt.figure(figsize=(8, 6))\n",
        "\n",
        "# Criar o gráfico de barras\n",
        "bar_plot = sns.barplot(x='Algoritmo', y='Percentual', data=df_percentual, palette='viridis')\n",
        "\n",
        "# Adicionar os valores percentuais em cima das barras\n",
        "for index, row in df_percentual.iterrows():\n",
        "    bar_plot.text(index, row['Percentual'], f\"{row['Percentual']:.2f}%\", color='black', ha=\"center\")\n",
        "\n",
        "# Adicionar título e labels\n",
        "plt.title('Percentual de Recompensas por Algoritmo', fontsize=16)\n",
        "plt.xlabel('Algoritmo', fontsize=14)\n",
        "plt.ylabel('Percentual de Recompensas (%)', fontsize=14)\n",
        "\n",
        "# Mostrar o gráfico\n",
        "plt.show()"
      ],
      "metadata": {
        "colab": {
          "base_uri": "https://localhost:8080/",
          "height": 663
        },
        "id": "CTwhirkW7Ooy",
        "outputId": "7471394b-9a7e-4396-d7e3-ed391b450053"
      },
      "execution_count": null,
      "outputs": [
        {
          "output_type": "stream",
          "name": "stderr",
          "text": [
            "<ipython-input-49-5f0d4b3cf6a4>:38: FutureWarning: \n",
            "\n",
            "Passing `palette` without assigning `hue` is deprecated and will be removed in v0.14.0. Assign the `x` variable to `hue` and set `legend=False` for the same effect.\n",
            "\n",
            "  bar_plot = sns.barplot(x='Algoritmo', y='Percentual', data=df_percentual, palette='viridis')\n"
          ]
        },
        {
          "output_type": "display_data",
          "data": {
            "text/plain": [
              "<Figure size 800x600 with 1 Axes>"
            ],
            "image/png": "[encoded data removed]"
          },
          "metadata": {}
        }
      ]
    },
    {
      "cell_type": "markdown",
      "source": [
        "#### Agora usar o sarsa, outro ambiente novamente, ou explorar o Y (o X ja foi explorado no início - uma das funções Q-learning está fazendo o uso adequado do Y)"
      ],
      "metadata": {
        "id": "tXjGZkdV_mKH"
      }
    },
    {
      "cell_type": "code",
      "source": [
        "env_name = \"FrozenLake-v1\"\n",
        "\n",
        "# params fixos#####\n",
        "episodes = 8_000\n",
        "lr = 0.2\n",
        "gamma = 0.95\n",
        "initial_E = 1.0\n",
        "min_E = 0.2\n",
        "n_eps_per_rewards = 200\n",
        "max_E = 0.8\n",
        "# params fixos#####\n",
        "\n",
        "decay_linear = 0.0005\n",
        "decay_exponential = 0.001\n",
        "decay_adaptive = 0.9\n",
        "increase_adaptive = 1.01\n",
        "\n",
        "env = gym.make(env_name, max_episode_steps=n_eps_per_rewards)\n",
        "\n",
        "results = []\n",
        "\n",
        "for i in range(100):\n",
        "    fixo, _, _, _ = run_sarsa_decay_2(env=env, episodes=episodes, lr=lr, gamma=gamma, initial_E=0.2, min_E=min_E, decay_type='none')\n",
        "    linear, _, _, _ = run_sarsa_decay_2(X=2000, env=env, episodes=episodes, lr=lr, gamma=gamma, initial_E=initial_E, min_E=min_E, decay_type='linear', decay_rate=decay_linear)\n",
        "    exponencial, _, _, _ = run_sarsa_decay_2(X=2000, env=env, episodes=episodes, lr=lr, gamma=gamma, initial_E=initial_E, min_E=min_E, decay_type='exponential', decay_rate=decay_exponential)\n",
        "\n",
        "    clear_output()\n",
        "    results.append({\n",
        "        'Iteracao': i + 1,\n",
        "        'Fixo': fixo,\n",
        "        'Linear': linear,\n",
        "        'Exponencial': exponencial\n",
        "    })"
      ],
      "metadata": {
        "id": "kRKTRtGV5BfC"
      },
      "execution_count": null,
      "outputs": []
    },
    {
      "cell_type": "code",
      "source": [
        "df = pd.DataFrame(results)\n",
        "\n",
        "# Converter listas em strings\n",
        "df['Fixo'] = df['Fixo'].apply(lambda x: str(x))\n",
        "df['Linear'] = df['Linear'].apply(lambda x: str(x))\n",
        "df['Exponencial'] = df['Exponencial'].apply(lambda x: str(x))\n",
        "\n",
        "# Salvar em um arquivo CSV\n",
        "df.to_csv('sample_data/recompensas-sarsa.csv', index=False)"
      ],
      "metadata": {
        "id": "SOT2VxBl6lLz"
      },
      "execution_count": null,
      "outputs": []
    },
    {
      "cell_type": "code",
      "source": [
        "def expand_lists_to_columns(df, column_name):\n",
        "    expanded_df = df[column_name].apply(pd.Series)\n",
        "    expanded_df = expanded_df.rename(columns=lambda x: f'{column_name}_{x+1}')\n",
        "    return expanded_df\n",
        "\n",
        "# Converter para DataFrame\n",
        "df = pd.DataFrame(results)\n",
        "\n",
        "# Expandir listas em colunas\n",
        "fixo_expanded = expand_lists_to_columns(df, 'Fixo')\n",
        "linear_expanded = expand_lists_to_columns(df, 'Linear')\n",
        "exponencial_expanded = expand_lists_to_columns(df, 'Exponencial')\n",
        "\n",
        "# Concatenar colunas expandidas com o DataFrame original\n",
        "df_expanded = pd.concat([df['Iteracao'], fixo_expanded, linear_expanded, exponencial_expanded], axis=1)\n",
        "\n",
        "# Salvar em um arquivo CSV\n",
        "df_expanded.to_csv('sample_data/recompensas-sarsa_expanded.csv', index=False)"
      ],
      "metadata": {
        "id": "5loyH3of7JQF"
      },
      "execution_count": null,
      "outputs": []
    },
    {
      "cell_type": "code",
      "source": [
        "df = pd.read_csv('sample_data/recompensas-sarsa.csv')\n",
        "\n",
        "df['Fixo'] = df['Fixo'].apply(ast.literal_eval)\n",
        "df['Linear'] = df['Linear'].apply(ast.literal_eval)\n",
        "df['Exponencial'] = df['Exponencial'].apply(ast.literal_eval)\n",
        "\n",
        "total_fixo = df['Fixo'].apply(sum).sum()\n",
        "total_linear = df['Linear'].apply(sum).sum()\n",
        "total_exponencial = df['Exponencial'].apply(sum).sum()\n",
        "\n",
        "total_rewards = {\n",
        "    'Fixo': total_fixo,\n",
        "    'Linear': total_linear,\n",
        "    'Exponencial': total_exponencial\n",
        "}\n",
        "\n",
        "total_geral = sum(total_rewards.values())\n",
        "percentual = {algoritmo: (recompensa / total_geral) * 100 for algoritmo, recompensa in total_rewards.items()}\n",
        "\n",
        "df_percentual = pd.DataFrame(list(percentual.items()), columns=['Algoritmo', 'Percentual'])\n",
        "\n",
        "sns.set(style=\"whitegrid\")\n",
        "plt.figure(figsize=(8, 6))\n",
        "\n",
        "bar_plot = sns.barplot(x='Algoritmo', y='Percentual', data=df_percentual, palette='viridis')\n",
        "\n",
        "for index, row in df_percentual.iterrows():\n",
        "    bar_plot.text(index, row['Percentual'], f\"{row['Percentual']:.2f}%\", color='black', ha=\"center\")\n",
        "\n",
        "# Adicionar título e labels\n",
        "plt.title('Sarsa FrozenLake', fontsize=16)\n",
        "plt.xlabel('Algoritmo', fontsize=14)\n",
        "plt.ylabel('Percentual de Recompensas (%)', fontsize=14)\n",
        "\n",
        "plt.show()"
      ],
      "metadata": {
        "colab": {
          "base_uri": "https://localhost:8080/",
          "height": 683
        },
        "id": "5TkMEcA-7gHv",
        "outputId": "3539bde3-303e-4cbc-dc9f-d1ce33f313ef"
      },
      "execution_count": null,
      "outputs": [
        {
          "output_type": "stream",
          "name": "stderr",
          "text": [
            "<ipython-input-22-4a7ba5cb5bae>:25: FutureWarning: \n",
            "\n",
            "Passing `palette` without assigning `hue` is deprecated and will be removed in v0.14.0. Assign the `x` variable to `hue` and set `legend=False` for the same effect.\n",
            "\n",
            "  bar_plot = sns.barplot(x='Algoritmo', y='Percentual', data=df_percentual, palette='viridis')\n"
          ]
        },
        {
          "output_type": "display_data",
          "data": {
            "text/plain": [
              "<Figure size 800x600 with 1 Axes>"
            ],
            "image/png": "[encoded data removed]"
          },
          "metadata": {}
        }
      ]
    },
    {
      "cell_type": "markdown",
      "source": [
        "##### Ambiente Taxi"
      ],
      "metadata": {
        "id": "tMdZc99qGNhN"
      }
    },
    {
      "cell_type": "code",
      "source": [
        "env_name = \"Taxi-v3\"\n",
        "\n",
        "# params fixos#####\n",
        "episodes = 8_000\n",
        "lr = 0.2\n",
        "gamma = 0.95\n",
        "initial_E = 1.0\n",
        "min_E = 0.2\n",
        "n_eps_per_rewards = 200\n",
        "max_E = 0.8\n",
        "# params fixos#####\n",
        "\n",
        "decay_linear = 0.0005\n",
        "decay_exponential = 0.001\n",
        "decay_adaptive = 0.9\n",
        "increase_adaptive = 1.01\n",
        "\n",
        "env = gym.make(env_name, max_episode_steps=200)\n",
        "\n",
        "# results = []\n",
        "\n",
        "# for i in range(1):\n",
        "fixo, _, _, _ = run_sarsa_decay_2(env=env, episodes=episodes, lr=lr, gamma=gamma, initial_E=0.2, min_E=min_E, decay_type='none')\n",
        "linear, _, _, _ = run_sarsa_decay_2(X=2000, env=env, episodes=episodes, lr=lr, gamma=gamma, initial_E=initial_E, min_E=min_E, decay_type='linear', decay_rate=decay_linear)\n",
        "exponencial, _, _, _ = run_sarsa_decay_2(X=2000, env=env, episodes=episodes, lr=lr, gamma=gamma, initial_E=initial_E, min_E=min_E, decay_type='exponential', decay_rate=decay_exponential)\n",
        "clear_output()\n",
        "    # results.append({\n",
        "    #     'Iteracao': i + 1,\n",
        "    #     'Fixo': fixo,\n",
        "    #     'Linear': linear,\n",
        "    #     'Exponencial': exponencial\n",
        "    # })"
      ],
      "metadata": {
        "id": "5AWkQ43JH0OO"
      },
      "execution_count": null,
      "outputs": []
    },
    {
      "cell_type": "code",
      "source": [
        "plot_results(\"Sarsa (Taxi) - Fixo x Linear x Exponencial\", [fixo,linear,exponencial],[\"Fixo\",\"Linear\",\"Exponencial\"])"
      ],
      "metadata": {
        "colab": {
          "base_uri": "https://localhost:8080/",
          "height": 496
        },
        "id": "AYVJrO8_JIy3",
        "outputId": "8de613c5-1102-42c8-baea-98f3a9b08a7f"
      },
      "execution_count": null,
      "outputs": [
        {
          "output_type": "display_data",
          "data": {
            "text/plain": [
              "<Figure size 1000x500 with 1 Axes>"
            ],
            "image/png": "[encoded data removed]"
          },
          "metadata": {}
        }
      ]
    },
    {
      "cell_type": "markdown",
      "source": [
        "#### Testando com hiperparametros"
      ],
      "metadata": {
        "id": "pi3Sj3j2MsxX"
      }
    },
    {
      "cell_type": "code",
      "source": [
        "def train_sarsa_decay_2_linear(ambient, trial: optuna.Trial):\n",
        "    try:\n",
        "        # Configurações e chamada para run_sarsa_decay_2\n",
        "\n",
        "        clear_output()\n",
        "        episodios_de_busca = 8000\n",
        "\n",
        "        # params fixos\n",
        "        episodes = 8_000\n",
        "        lr = 0.2\n",
        "        gamma = 0.95\n",
        "        initial_E = 1.0\n",
        "        min_E = 0.2\n",
        "        n_eps_per_rewards = 200\n",
        "        max_E = 0.8\n",
        "        # params moveis#####\n",
        "        decay_linear = 0.0005\n",
        "        decay_exponential = 0.001\n",
        "        # decay_adaptive = 0.9\n",
        "        # increase_adaptive = 1.01\n",
        "\n",
        "        X = 2000\n",
        "        Y = trial.suggest_float('Y', 0.0001,1)\n",
        "        decay_rate = trial.suggest_float('decay_rate', decay_linear*.001,decay_linear*100, log=True)\n",
        "        decay_type = 'linear'\n",
        "\n",
        "        env = gym.make(ambient)\n",
        "        returns, _,_,_ = run_sarsa_decay_2(env, episodes,mode=1, lr=lr, gamma=gamma, initial_E=initial_E,\n",
        "                                       min_E=min_E, X=X, Y=Y,decay_rate=decay_rate, decay_type = decay_type,max_E=max_E)\n",
        "        if isinstance(returns, list) and len(returns) > 0:\n",
        "            return np.mean(returns)\n",
        "        else:\n",
        "            return 0.0\n",
        "    except Exception as e:\n",
        "        print(f\"Erro no trial: {e}\")\n",
        "        return 0.0  # Retorna um valor padrão em caso de erro\n",
        "\n",
        "def train_sarsa_decay_2_exp(ambient, trial: optuna.Trial):\n",
        "    try:\n",
        "        # Configurações e chamada para run_sarsa_decay_2\n",
        "      clear_output()\n",
        "      episodios_de_busca = 8000\n",
        "\n",
        "      # params fixos\n",
        "      episodes = 8_000\n",
        "      lr = 0.2\n",
        "      gamma = 0.95\n",
        "      initial_E = 1.0\n",
        "      min_E = 0.2\n",
        "      n_eps_per_rewards = 200\n",
        "      max_E = 0.8\n",
        "      # params moveis#####\n",
        "      decay_linear = 0.0005\n",
        "      decay_exponential = 0.001\n",
        "      # decay_adaptive = 0.9\n",
        "      # increase_adaptive = 1.01\n",
        "\n",
        "\n",
        "      X = 2000 # fixando 2000\n",
        "      Y = trial.suggest_float('Y', 0.0001,0.1)\n",
        "      decay_rate = trial.suggest_float('decay_rate', decay_exponential*0.01, decay_exponential*100, log=True)\n",
        "      decay_type = \"exponential\"\n",
        "\n",
        "      env = gym.make(ambient)\n",
        "      returns, _,_,_ = run_sarsa_decay_2(env, episodes,mode=1, lr=lr, gamma=gamma, initial_E=initial_E,\n",
        "                                       min_E=min_E, X=X, Y=Y,decay_rate=decay_rate, decay_type = decay_type,max_E=max_E)\n",
        "\n",
        "      if isinstance(returns, list) and len(returns) > 0:\n",
        "          return np.mean(returns)\n",
        "      else:\n",
        "          return 0.0\n",
        "      return returns if returns is not None else 0.0\n",
        "    except Exception as e:\n",
        "      print(f\"Erro no trial: {e}\")\n",
        "      return 0.0  # Retorna um valor padrão em caso de erro\n",
        "\n",
        "# ambientes = [\"Taxi-v3\"]\n",
        "\n",
        "# trials = 1\n",
        "# hyperparams_linear = []\n",
        "# hyperparams_exp = []\n",
        "\n",
        "# for ambient in ambientes:\n",
        "#     print(f\"\\n🔹 Otimizando para ambiente: {ambient}\")\n",
        "#     study_sarsa = optuna.create_study(direction='maximize')\n",
        "#     study_sarsa.optimize(partial(train_sarsa_decay_2_linear, ambient), n_trials=trials)\n",
        "#     hyperparams_linear.append(study_sarsa)\n",
        "\n",
        "#     study_sarsa = optuna.create_study(direction='maximize')\n",
        "#     study_sarsa.optimize(partial(train_sarsa_decay_2_exp, ambient), n_trials=trials)\n",
        "#     hyperparams_exp.append(study_sarsa)\n",
        "#     print(\"Fim\")"
      ],
      "metadata": {
        "id": "Jeo9IZOxMsdg"
      },
      "execution_count": null,
      "outputs": []
    },
    {
      "cell_type": "code",
      "source": [
        "ambientes = [\"Taxi-v3\"]\n",
        "\n",
        "trials = 20\n",
        "hyperparams_linear = []\n",
        "hyperparams_exp = []\n",
        "\n",
        "for ambient in ambientes:\n",
        "    print(f\"\\n🔹 Otimizando para ambiente: {ambient}\")\n",
        "\n",
        "    # Otimização para decay_type = 'linear'\n",
        "    study_sarsa_linear = optuna.create_study(direction='maximize')\n",
        "    study_sarsa_linear.optimize(partial(train_sarsa_decay_2_linear, ambient), n_trials=trials)\n",
        "    if len(study_sarsa_linear.trials) > 0:  # Verifica se há trials completados\n",
        "        hyperparams_linear.append(study_sarsa_linear.best_params)\n",
        "    else:\n",
        "        print(\"Nenhum trial foi completado com sucesso para decay_type = 'linear'.\")\n",
        "\n",
        "    # Otimização para decay_type = 'exponential'\n",
        "    study_sarsa_exp = optuna.create_study(direction='maximize')\n",
        "    study_sarsa_exp.optimize(partial(train_sarsa_decay_2_exp, ambient), n_trials=trials)\n",
        "    if len(study_sarsa_exp.trials) > 0:  # Verifica se há trials completados\n",
        "        hyperparams_exp.append(study_sarsa_exp.best_params)\n",
        "    else:\n",
        "        print(\"Nenhum trial foi completado com sucesso para decay_type = 'exponential'.\")\n",
        "\n",
        "    print(\"Fim\")"
      ],
      "metadata": {
        "colab": {
          "base_uri": "https://localhost:8080/"
        },
        "id": "ngO6pNPaonfR",
        "outputId": "c2f5fa77-57c4-41e7-cbd5-9e37432d38c0"
      },
      "execution_count": null,
      "outputs": [
        {
          "output_type": "stream",
          "name": "stdout",
          "text": [
            "Episode 100: Avg Reward (last 100): -412.640, Epsilon: 0.2010\n",
            "Episode 200: Avg Reward (last 100): -318.635, Epsilon: 0.2000\n",
            "Episode 300: Avg Reward (last 100): -261.413, Epsilon: 0.2000\n",
            "Episode 400: Avg Reward (last 100): -222.738, Epsilon: 0.2000\n",
            "Episode 500: Avg Reward (last 100): -193.518, Epsilon: 0.2000\n",
            "Episode 600: Avg Reward (last 100): -123.136, Epsilon: 0.2000\n",
            "Episode 700: Avg Reward (last 100): -87.484, Epsilon: 0.2000\n",
            "Episode 800: Avg Reward (last 100): -64.304, Epsilon: 0.2000\n",
            "Episode 900: Avg Reward (last 100): -47.466, Epsilon: 0.2000\n",
            "Episode 1000: Avg Reward (last 100): -37.082, Epsilon: 0.2000\n",
            "Episode 1100: Avg Reward (last 100): -27.566, Epsilon: 0.2000\n",
            "Episode 1200: Avg Reward (last 100): -21.304, Epsilon: 0.2000\n",
            "Episode 1300: Avg Reward (last 100): -20.018, Epsilon: 0.2000\n",
            "Episode 1400: Avg Reward (last 100): -19.988, Epsilon: 0.2000\n",
            "Episode 1500: Avg Reward (last 100): -18.336, Epsilon: 0.2000\n",
            "Episode 1600: Avg Reward (last 100): -18.424, Epsilon: 0.2000\n",
            "Episode 1700: Avg Reward (last 100): -17.426, Epsilon: 0.2000\n",
            "Episode 1800: Avg Reward (last 100): -16.434, Epsilon: 0.2000\n",
            "Episode 1900: Avg Reward (last 100): -14.804, Epsilon: 0.2000\n",
            "Episode 2000: Avg Reward (last 100): -16.020, Epsilon: 0.2000\n",
            "Episode 2100: Avg Reward (last 100): -15.700, Epsilon: 0.2000\n",
            "Episode 2200: Avg Reward (last 100): -15.980, Epsilon: 0.2000\n",
            "Episode 2300: Avg Reward (last 100): -14.172, Epsilon: 0.2000\n",
            "Episode 2400: Avg Reward (last 100): -13.696, Epsilon: 0.2000\n",
            "Episode 2500: Avg Reward (last 100): -10.568, Epsilon: 0.2000\n",
            "Episode 2600: Avg Reward (last 100): -9.240, Epsilon: 0.2000\n",
            "Episode 2700: Avg Reward (last 100): -8.596, Epsilon: 0.2000\n",
            "Episode 2800: Avg Reward (last 100): -8.088, Epsilon: 0.2000\n",
            "Episode 2900: Avg Reward (last 100): -7.368, Epsilon: 0.2000\n",
            "Episode 3000: Avg Reward (last 100): -8.222, Epsilon: 0.2000\n",
            "Episode 3100: Avg Reward (last 100): -9.256, Epsilon: 0.2000\n",
            "Episode 3200: Avg Reward (last 100): -9.420, Epsilon: 0.2000\n",
            "Episode 3300: Avg Reward (last 100): -9.726, Epsilon: 0.2000\n",
            "Episode 3400: Avg Reward (last 100): -9.906, Epsilon: 0.2000\n",
            "Episode 3500: Avg Reward (last 100): -9.554, Epsilon: 0.2000\n",
            "Episode 3600: Avg Reward (last 100): -9.578, Epsilon: 0.2000\n",
            "Episode 3700: Avg Reward (last 100): -9.726, Epsilon: 0.2000\n",
            "Episode 3800: Avg Reward (last 100): -9.902, Epsilon: 0.2000\n",
            "Episode 3900: Avg Reward (last 100): -10.066, Epsilon: 0.2000\n",
            "Episode 4000: Avg Reward (last 100): -10.678, Epsilon: 0.2000\n",
            "Episode 4100: Avg Reward (last 100): -10.180, Epsilon: 0.2000\n",
            "Episode 4200: Avg Reward (last 100): -10.066, Epsilon: 0.2000\n",
            "Episode 4300: Avg Reward (last 100): -10.078, Epsilon: 0.2000\n",
            "Episode 4400: Avg Reward (last 100): -10.058, Epsilon: 0.2000\n",
            "Episode 4500: Avg Reward (last 100): -8.780, Epsilon: 0.2000\n",
            "Episode 4600: Avg Reward (last 100): -9.164, Epsilon: 0.2000\n",
            "Episode 4700: Avg Reward (last 100): -8.640, Epsilon: 0.2000\n",
            "Episode 4800: Avg Reward (last 100): -8.004, Epsilon: 0.2000\n",
            "Episode 4900: Avg Reward (last 100): -7.834, Epsilon: 0.2000\n",
            "Episode 5000: Avg Reward (last 100): -8.900, Epsilon: 0.2000\n",
            "Episode 5100: Avg Reward (last 100): -8.998, Epsilon: 0.2000\n",
            "Episode 5200: Avg Reward (last 100): -9.426, Epsilon: 0.2000\n",
            "Episode 5300: Avg Reward (last 100): -9.642, Epsilon: 0.2000\n",
            "Episode 5400: Avg Reward (last 100): -9.996, Epsilon: 0.2000\n",
            "Episode 5500: Avg Reward (last 100): -9.646, Epsilon: 0.2000\n",
            "Episode 5600: Avg Reward (last 100): -9.574, Epsilon: 0.2000\n",
            "Episode 5700: Avg Reward (last 100): -9.658, Epsilon: 0.2000\n",
            "Episode 5800: Avg Reward (last 100): -9.156, Epsilon: 0.2000\n",
            "Episode 5900: Avg Reward (last 100): -8.698, Epsilon: 0.2000\n",
            "Episode 6000: Avg Reward (last 100): -8.334, Epsilon: 0.2000\n",
            "Episode 6100: Avg Reward (last 100): -7.700, Epsilon: 0.2000\n",
            "Episode 6200: Avg Reward (last 100): -6.930, Epsilon: 0.2000\n",
            "Episode 6300: Avg Reward (last 100): -6.924, Epsilon: 0.2000\n",
            "Episode 6400: Avg Reward (last 100): -6.390, Epsilon: 0.2000\n",
            "Episode 6500: Avg Reward (last 100): -5.994, Epsilon: 0.2000\n",
            "Episode 6600: Avg Reward (last 100): -5.642, Epsilon: 0.2000\n",
            "Episode 6700: Avg Reward (last 100): -5.952, Epsilon: 0.2000\n",
            "Episode 6800: Avg Reward (last 100): -6.216, Epsilon: 0.2000\n",
            "Episode 6900: Avg Reward (last 100): -6.028, Epsilon: 0.2000\n",
            "Episode 7000: Avg Reward (last 100): -6.406, Epsilon: 0.2000\n",
            "Episode 7100: Avg Reward (last 100): -6.234, Epsilon: 0.2000\n",
            "Episode 7200: Avg Reward (last 100): -6.472, Epsilon: 0.2000\n",
            "Episode 7300: Avg Reward (last 100): -6.448, Epsilon: 0.2000\n",
            "Episode 7400: Avg Reward (last 100): -6.686, Epsilon: 0.2000\n",
            "Episode 7500: Avg Reward (last 100): -6.434, Epsilon: 0.2000\n",
            "Episode 7600: Avg Reward (last 100): -6.598, Epsilon: 0.2000\n",
            "Episode 7700: Avg Reward (last 100): -6.404, Epsilon: 0.2000\n",
            "Episode 7800: Avg Reward (last 100): -6.320, Epsilon: 0.2000\n"
          ]
        },
        {
          "output_type": "stream",
          "name": "stderr",
          "text": [
            "[I 2025-02-28 22:25:24,634] Trial 19 finished with value: -22.8125 and parameters: {'Y': 0.03369100320806295, 'decay_rate': 0.00014908504490367185}. Best is trial 14 with value: -21.876875.\n"
          ]
        },
        {
          "output_type": "stream",
          "name": "stdout",
          "text": [
            "Episode 7900: Avg Reward (last 100): -6.590, Epsilon: 0.2000\n",
            "Episode 8000: Avg Reward (last 100): -6.528, Epsilon: 0.2000\n",
            "Fim\n"
          ]
        }
      ]
    },
    {
      "cell_type": "code",
      "source": [
        "print(\"hyperparams_linear:\", hyperparams_linear)\n",
        "print(\"hyperparams_exponential:\", hyperparams_exp)"
      ],
      "metadata": {
        "colab": {
          "base_uri": "https://localhost:8080/"
        },
        "id": "PLh3evUmkMc1",
        "outputId": "2ead89b1-1ffb-4e4a-d62a-b3ceb751ba92"
      },
      "execution_count": null,
      "outputs": [
        {
          "output_type": "stream",
          "name": "stdout",
          "text": [
            "hyperparams_linear: [{'Y': 0.0001169840360533414, 'decay_rate': 1.403411556141256e-05}]\n",
            "hyperparams_exponential: [{'Y': 0.029191662490266078, 'decay_rate': 0.0006645387115262478}]\n"
          ]
        }
      ]
    },
    {
      "cell_type": "markdown",
      "source": [
        "##### Comparando com os hyperparametros"
      ],
      "metadata": {
        "id": "Szx9Em7PtjSV"
      }
    },
    {
      "cell_type": "code",
      "source": [
        "env_name = 'Taxi-v3'\n",
        "\n",
        "# params fixos#####\n",
        "episodes = 8_000\n",
        "lr = 0.2\n",
        "gamma = 0.95\n",
        "initial_E = 1.0\n",
        "min_E = 0.2\n",
        "n_eps_per_rewards = 200\n",
        "max_E = 0.8\n",
        "# params fixos#####\n",
        "\n",
        "decay_linear = 0.0005\n",
        "decay_exponential = 0.001\n",
        "decay_adaptive = 0.9\n",
        "increase_adaptive = 1.01\n",
        "\n",
        "env = gym.make(env_name, max_episode_steps=n_eps_per_rewards)\n",
        "\n",
        "results = []\n",
        "\n",
        "for i in range(20):\n",
        "    fixo, _, _, _ = run_sarsa_decay_2(env=env, episodes=episodes, lr=lr, gamma=gamma, initial_E=0.2, min_E=min_E, decay_type='none')\n",
        "    linear, _, _, _ = run_sarsa_decay_2(X=2000, env=env, episodes=episodes, lr=lr, gamma=gamma, initial_E=initial_E, min_E=min_E, decay_type='linear', decay_rate=decay_linear)\n",
        "    exponencial, _, _, _ = run_sarsa_decay_2(X=2000, env=env, episodes=episodes, lr=lr, gamma=gamma, initial_E=initial_E, min_E=min_E, decay_type='exponential', decay_rate=decay_exponential)\n",
        "\n",
        "    clear_output()\n",
        "    results.append({\n",
        "        'Iteracao': i + 1,\n",
        "        'Fixo': fixo,\n",
        "        'Linear': linear,\n",
        "        'Exponencial': exponencial\n",
        "    })"
      ],
      "metadata": {
        "id": "5XKpBBkvtn_f"
      },
      "execution_count": null,
      "outputs": []
    },
    {
      "cell_type": "code",
      "source": [
        "df = pd.DataFrame(results)\n",
        "\n",
        "# Converter listas em strings\n",
        "df['Fixo'] = df['Fixo'].apply(lambda x: str(x))\n",
        "df['Linear'] = df['Linear'].apply(lambda x: str(x))\n",
        "df['Exponencial'] = df['Exponencial'].apply(lambda x: str(x))\n",
        "\n",
        "# Salvar em um arquivo CSV\n",
        "df.to_csv('sample_data/recompensas-sarsa-sem-hiperparametros.csv', index=False)\n",
        "\n",
        "######## usando\n",
        "\n",
        "df = pd.read_csv('sample_data/recompensas-sarsa-sem-hiperparametros.csv')\n",
        "\n",
        "df['Fixo'] = df['Fixo'].apply(ast.literal_eval)\n",
        "df['Linear'] = df['Linear'].apply(ast.literal_eval)\n",
        "df['Exponencial'] = df['Exponencial'].apply(ast.literal_eval)\n",
        "\n",
        "total_fixo = df['Fixo'].apply(sum).sum()\n",
        "total_linear = df['Linear'].apply(sum).sum()\n",
        "total_exponencial = df['Exponencial'].apply(sum).sum()\n",
        "\n",
        "total_rewards = {\n",
        "    'Fixo': total_fixo,\n",
        "    'Linear': total_linear,\n",
        "    'Exponencial': total_exponencial\n",
        "}\n",
        "\n",
        "total_geral = sum(total_rewards.values())\n",
        "percentual = {algoritmo: (recompensa / total_geral) * 100 for algoritmo, recompensa in total_rewards.items()}\n",
        "\n",
        "df_percentual = pd.DataFrame(list(percentual.items()), columns=['Algoritmo', 'Percentual'])\n",
        "\n",
        "sns.set(style=\"whitegrid\")\n",
        "plt.figure(figsize=(8, 6))\n",
        "\n",
        "bar_plot = sns.barplot(x='Algoritmo', y='Percentual', data=df_percentual, palette='viridis')\n",
        "\n",
        "for index, row in df_percentual.iterrows():\n",
        "    bar_plot.text(index, row['Percentual'], f\"{row['Percentual']:.2f}%\", color='black', ha=\"center\")\n",
        "\n",
        "# Adicionar título e labels\n",
        "plt.title('Sarsa FrozenLake', fontsize=16)\n",
        "plt.xlabel('Algoritmo', fontsize=14)\n",
        "plt.ylabel('Percentual de Recompensas (%)', fontsize=14)\n",
        "\n",
        "plt.show()"
      ],
      "metadata": {
        "id": "itSK-uF6uDpQ",
        "colab": {
          "base_uri": "https://localhost:8080/",
          "height": 663
        },
        "outputId": "6693e825-f9fd-4e20-abd6-1ce8b782eda1"
      },
      "execution_count": null,
      "outputs": [
        {
          "output_type": "stream",
          "name": "stderr",
          "text": [
            "<ipython-input-12-053b31ad2456>:37: FutureWarning: \n",
            "\n",
            "Passing `palette` without assigning `hue` is deprecated and will be removed in v0.14.0. Assign the `x` variable to `hue` and set `legend=False` for the same effect.\n",
            "\n",
            "  bar_plot = sns.barplot(x='Algoritmo', y='Percentual', data=df_percentual, palette='viridis')\n"
          ]
        },
        {
          "output_type": "display_data",
          "data": {
            "text/plain": [
              "<Figure size 800x600 with 1 Axes>"
            ],
            "image/png": "[encoded data removed]"
          },
          "metadata": {}
        }
      ]
    },
    {
      "cell_type": "markdown",
      "source": [
        "##### com hiperparametros"
      ],
      "metadata": {
        "id": "czOmK34owhPh"
      }
    },
    {
      "cell_type": "code",
      "source": [
        "env_name = 'Taxi-v3'\n",
        "\n",
        "# params fixos#####\n",
        "episodes = 8_000\n",
        "lr = 0.2\n",
        "gamma = 0.95\n",
        "initial_E = 1.0\n",
        "min_E = 0.2\n",
        "n_eps_per_rewards = 200\n",
        "max_E = 0.8\n",
        "# params fixos#####\n",
        "\n",
        "decay_linear = 0.0005\n",
        "decay_exponential = 0.001\n",
        "decay_adaptive = 0.9\n",
        "increase_adaptive = 1.01\n",
        "\n",
        "env = gym.make(env_name, max_episode_steps=n_eps_per_rewards)\n",
        "\n",
        "results = []\n",
        "\n",
        "for i in range(20):\n",
        "    fixo, _, _, _ = run_sarsa_decay_2(env=env, episodes=episodes, lr=lr, gamma=gamma, initial_E=0.2, min_E=min_E, decay_type='none')\n",
        "    linear, _, _, _ = run_sarsa_decay_2(hyperparams_linear.be,X=2000, env=env, episodes=episodes, lr=lr, gamma=gamma, initial_E=initial_E, min_E=min_E, decay_type='linear', decay_rate=hyperparams_linear[0].decay_rate)\n",
        "    exponencial, _, _, _ = run_sarsa_decay_2(X=2000, env=env, episodes=episodes, lr=lr, gamma=gamma, initial_E=initial_E, min_E=min_E, decay_type='exponential', decay_rate=hyperparams_exp[0].decay_rate)\n",
        "\n",
        "    clear_output()\n",
        "    results.append({\n",
        "        'Iteracao': i + 1,\n",
        "        'Fixo': fixo,\n",
        "        'Linear': linear,\n",
        "        'Exponencial': exponencial\n",
        "    })"
      ],
      "metadata": {
        "id": "slBo2BW-wgzE",
        "colab": {
          "base_uri": "https://localhost:8080/",
          "height": 1000
        },
        "outputId": "e4349d5c-3a21-4674-b0e6-8550a8797b72"
      },
      "execution_count": null,
      "outputs": [
        {
          "output_type": "stream",
          "name": "stdout",
          "text": [
            "Episode 100: Avg Reward (last 100): -395.180, Epsilon: 0.2000\n",
            "Episode 200: Avg Reward (last 100): -303.710, Epsilon: 0.2000\n",
            "Episode 300: Avg Reward (last 100): -255.643, Epsilon: 0.2000\n",
            "Episode 400: Avg Reward (last 100): -218.398, Epsilon: 0.2000\n",
            "Episode 500: Avg Reward (last 100): -187.168, Epsilon: 0.2000\n",
            "Episode 600: Avg Reward (last 100): -117.362, Epsilon: 0.2000\n",
            "Episode 700: Avg Reward (last 100): -84.256, Epsilon: 0.2000\n",
            "Episode 800: Avg Reward (last 100): -60.156, Epsilon: 0.2000\n",
            "Episode 900: Avg Reward (last 100): -43.282, Epsilon: 0.2000\n",
            "Episode 1000: Avg Reward (last 100): -37.930, Epsilon: 0.2000\n",
            "Episode 1100: Avg Reward (last 100): -32.330, Epsilon: 0.2000\n",
            "Episode 1200: Avg Reward (last 100): -27.564, Epsilon: 0.2000\n",
            "Episode 1300: Avg Reward (last 100): -22.494, Epsilon: 0.2000\n",
            "Episode 1400: Avg Reward (last 100): -21.872, Epsilon: 0.2000\n",
            "Episode 1500: Avg Reward (last 100): -18.108, Epsilon: 0.2000\n",
            "Episode 1600: Avg Reward (last 100): -17.028, Epsilon: 0.2000\n",
            "Episode 1700: Avg Reward (last 100): -16.266, Epsilon: 0.2000\n",
            "Episode 1800: Avg Reward (last 100): -15.224, Epsilon: 0.2000\n",
            "Episode 1900: Avg Reward (last 100): -14.094, Epsilon: 0.2000\n",
            "Episode 2000: Avg Reward (last 100): -13.452, Epsilon: 0.2000\n",
            "Episode 2100: Avg Reward (last 100): -12.622, Epsilon: 0.2000\n",
            "Episode 2200: Avg Reward (last 100): -11.106, Epsilon: 0.2000\n",
            "Episode 2300: Avg Reward (last 100): -10.666, Epsilon: 0.2000\n",
            "Episode 2400: Avg Reward (last 100): -10.048, Epsilon: 0.2000\n",
            "Episode 2500: Avg Reward (last 100): -9.044, Epsilon: 0.2000\n",
            "Episode 2600: Avg Reward (last 100): -8.678, Epsilon: 0.2000\n",
            "Episode 2700: Avg Reward (last 100): -8.502, Epsilon: 0.2000\n",
            "Episode 2800: Avg Reward (last 100): -9.290, Epsilon: 0.2000\n",
            "Episode 2900: Avg Reward (last 100): -9.394, Epsilon: 0.2000\n",
            "Episode 3000: Avg Reward (last 100): -9.568, Epsilon: 0.2000\n",
            "Episode 3100: Avg Reward (last 100): -10.050, Epsilon: 0.2000\n",
            "Episode 3200: Avg Reward (last 100): -9.928, Epsilon: 0.2000\n",
            "Episode 3300: Avg Reward (last 100): -9.730, Epsilon: 0.2000\n",
            "Episode 3400: Avg Reward (last 100): -9.356, Epsilon: 0.2000\n",
            "Episode 3500: Avg Reward (last 100): -8.636, Epsilon: 0.2000\n",
            "Episode 3600: Avg Reward (last 100): -9.036, Epsilon: 0.2000\n",
            "Episode 3700: Avg Reward (last 100): -9.178, Epsilon: 0.2000\n",
            "Episode 3800: Avg Reward (last 100): -8.914, Epsilon: 0.2000\n",
            "Episode 3900: Avg Reward (last 100): -9.312, Epsilon: 0.2000\n",
            "Episode 4000: Avg Reward (last 100): -9.180, Epsilon: 0.2000\n",
            "Episode 4100: Avg Reward (last 100): -8.682, Epsilon: 0.2000\n",
            "Episode 4200: Avg Reward (last 100): -8.472, Epsilon: 0.2000\n",
            "Episode 4300: Avg Reward (last 100): -9.290, Epsilon: 0.2000\n",
            "Episode 4400: Avg Reward (last 100): -9.284, Epsilon: 0.2000\n",
            "Episode 4500: Avg Reward (last 100): -9.762, Epsilon: 0.2000\n",
            "Episode 4600: Avg Reward (last 100): -10.714, Epsilon: 0.2000\n",
            "Episode 4700: Avg Reward (last 100): -10.386, Epsilon: 0.2000\n",
            "Episode 4800: Avg Reward (last 100): -10.242, Epsilon: 0.2000\n",
            "Episode 4900: Avg Reward (last 100): -9.508, Epsilon: 0.2000\n",
            "Episode 5000: Avg Reward (last 100): -9.538, Epsilon: 0.2000\n",
            "Episode 5100: Avg Reward (last 100): -9.146, Epsilon: 0.2000\n",
            "Episode 5200: Avg Reward (last 100): -9.582, Epsilon: 0.2000\n",
            "Episode 5300: Avg Reward (last 100): -9.418, Epsilon: 0.2000\n",
            "Episode 5400: Avg Reward (last 100): -9.266, Epsilon: 0.2000\n",
            "Episode 5500: Avg Reward (last 100): -9.684, Epsilon: 0.2000\n",
            "Episode 5600: Avg Reward (last 100): -9.774, Epsilon: 0.2000\n",
            "Episode 5700: Avg Reward (last 100): -9.616, Epsilon: 0.2000\n",
            "Episode 5800: Avg Reward (last 100): -8.570, Epsilon: 0.2000\n",
            "Episode 5900: Avg Reward (last 100): -8.848, Epsilon: 0.2000\n",
            "Episode 6000: Avg Reward (last 100): -8.638, Epsilon: 0.2000\n",
            "Episode 6100: Avg Reward (last 100): -8.222, Epsilon: 0.2000\n",
            "Episode 6200: Avg Reward (last 100): -7.960, Epsilon: 0.2000\n",
            "Episode 6300: Avg Reward (last 100): -8.294, Epsilon: 0.2000\n",
            "Episode 6400: Avg Reward (last 100): -7.972, Epsilon: 0.2000\n",
            "Episode 6500: Avg Reward (last 100): -7.776, Epsilon: 0.2000\n",
            "Episode 6600: Avg Reward (last 100): -7.314, Epsilon: 0.2000\n",
            "Episode 6700: Avg Reward (last 100): -6.898, Epsilon: 0.2000\n",
            "Episode 6800: Avg Reward (last 100): -6.738, Epsilon: 0.2000\n",
            "Episode 6900: Avg Reward (last 100): -6.720, Epsilon: 0.2000\n",
            "Episode 7000: Avg Reward (last 100): -6.834, Epsilon: 0.2000\n",
            "Episode 7100: Avg Reward (last 100): -7.188, Epsilon: 0.2000\n",
            "Episode 7200: Avg Reward (last 100): -7.262, Epsilon: 0.2000\n",
            "Episode 7300: Avg Reward (last 100): -7.824, Epsilon: 0.2000\n",
            "Episode 7400: Avg Reward (last 100): -8.524, Epsilon: 0.2000\n",
            "Episode 7500: Avg Reward (last 100): -8.130, Epsilon: 0.2000\n",
            "Episode 7600: Avg Reward (last 100): -8.290, Epsilon: 0.2000\n",
            "Episode 7700: Avg Reward (last 100): -8.110, Epsilon: 0.2000\n",
            "Episode 7800: Avg Reward (last 100): -7.526, Epsilon: 0.2000\n",
            "Episode 7900: Avg Reward (last 100): -6.716, Epsilon: 0.2000\n",
            "Episode 8000: Avg Reward (last 100): -6.520, Epsilon: 0.2000\n"
          ]
        },
        {
          "output_type": "error",
          "ename": "NameError",
          "evalue": "name 'hyperparams_linear' is not defined",
          "traceback": [
            "\u001b[0;31m---------------------------------------------------------------------------\u001b[0m",
            "\u001b[0;31mNameError\u001b[0m                                 Traceback (most recent call last)",
            "\u001b[0;32m<ipython-input-10-7b4e29ae66d2>\u001b[0m in \u001b[0;36m<cell line: 0>\u001b[0;34m()\u001b[0m\n\u001b[1;32m     22\u001b[0m \u001b[0;32mfor\u001b[0m \u001b[0mi\u001b[0m \u001b[0;32min\u001b[0m \u001b[0mrange\u001b[0m\u001b[0;34m(\u001b[0m\u001b[0;36m20\u001b[0m\u001b[0;34m)\u001b[0m\u001b[0;34m:\u001b[0m\u001b[0;34m\u001b[0m\u001b[0;34m\u001b[0m\u001b[0m\n\u001b[1;32m     23\u001b[0m     \u001b[0mfixo\u001b[0m\u001b[0;34m,\u001b[0m \u001b[0m_\u001b[0m\u001b[0;34m,\u001b[0m \u001b[0m_\u001b[0m\u001b[0;34m,\u001b[0m \u001b[0m_\u001b[0m \u001b[0;34m=\u001b[0m \u001b[0mrun_sarsa_decay_2\u001b[0m\u001b[0;34m(\u001b[0m\u001b[0menv\u001b[0m\u001b[0;34m=\u001b[0m\u001b[0menv\u001b[0m\u001b[0;34m,\u001b[0m \u001b[0mepisodes\u001b[0m\u001b[0;34m=\u001b[0m\u001b[0mepisodes\u001b[0m\u001b[0;34m,\u001b[0m \u001b[0mlr\u001b[0m\u001b[0;34m=\u001b[0m\u001b[0mlr\u001b[0m\u001b[0;34m,\u001b[0m \u001b[0mgamma\u001b[0m\u001b[0;34m=\u001b[0m\u001b[0mgamma\u001b[0m\u001b[0;34m,\u001b[0m \u001b[0minitial_E\u001b[0m\u001b[0;34m=\u001b[0m\u001b[0;36m0.2\u001b[0m\u001b[0;34m,\u001b[0m \u001b[0mmin_E\u001b[0m\u001b[0;34m=\u001b[0m\u001b[0mmin_E\u001b[0m\u001b[0;34m,\u001b[0m \u001b[0mdecay_type\u001b[0m\u001b[0;34m=\u001b[0m\u001b[0;34m'none'\u001b[0m\u001b[0;34m)\u001b[0m\u001b[0;34m\u001b[0m\u001b[0;34m\u001b[0m\u001b[0m\n\u001b[0;32m---> 24\u001b[0;31m     \u001b[0mlinear\u001b[0m\u001b[0;34m,\u001b[0m \u001b[0m_\u001b[0m\u001b[0;34m,\u001b[0m \u001b[0m_\u001b[0m\u001b[0;34m,\u001b[0m \u001b[0m_\u001b[0m \u001b[0;34m=\u001b[0m \u001b[0mrun_sarsa_decay_2\u001b[0m\u001b[0;34m(\u001b[0m\u001b[0mhyperparams_linear\u001b[0m\u001b[0;34m.\u001b[0m\u001b[0mbe\u001b[0m\u001b[0;34m,\u001b[0m\u001b[0mX\u001b[0m\u001b[0;34m=\u001b[0m\u001b[0;36m2000\u001b[0m\u001b[0;34m,\u001b[0m \u001b[0menv\u001b[0m\u001b[0;34m=\u001b[0m\u001b[0menv\u001b[0m\u001b[0;34m,\u001b[0m \u001b[0mepisodes\u001b[0m\u001b[0;34m=\u001b[0m\u001b[0mepisodes\u001b[0m\u001b[0;34m,\u001b[0m \u001b[0mlr\u001b[0m\u001b[0;34m=\u001b[0m\u001b[0mlr\u001b[0m\u001b[0;34m,\u001b[0m \u001b[0mgamma\u001b[0m\u001b[0;34m=\u001b[0m\u001b[0mgamma\u001b[0m\u001b[0;34m,\u001b[0m \u001b[0minitial_E\u001b[0m\u001b[0;34m=\u001b[0m\u001b[0minitial_E\u001b[0m\u001b[0;34m,\u001b[0m \u001b[0mmin_E\u001b[0m\u001b[0;34m=\u001b[0m\u001b[0mmin_E\u001b[0m\u001b[0;34m,\u001b[0m \u001b[0mdecay_type\u001b[0m\u001b[0;34m=\u001b[0m\u001b[0;34m'linear'\u001b[0m\u001b[0;34m,\u001b[0m \u001b[0mdecay_rate\u001b[0m\u001b[0;34m=\u001b[0m\u001b[0mhyperparams_linear\u001b[0m\u001b[0;34m[\u001b[0m\u001b[0;36m0\u001b[0m\u001b[0;34m]\u001b[0m\u001b[0;34m.\u001b[0m\u001b[0mdecay_rate\u001b[0m\u001b[0;34m)\u001b[0m\u001b[0;34m\u001b[0m\u001b[0;34m\u001b[0m\u001b[0m\n\u001b[0m\u001b[1;32m     25\u001b[0m     \u001b[0mexponencial\u001b[0m\u001b[0;34m,\u001b[0m \u001b[0m_\u001b[0m\u001b[0;34m,\u001b[0m \u001b[0m_\u001b[0m\u001b[0;34m,\u001b[0m \u001b[0m_\u001b[0m \u001b[0;34m=\u001b[0m \u001b[0mrun_sarsa_decay_2\u001b[0m\u001b[0;34m(\u001b[0m\u001b[0mX\u001b[0m\u001b[0;34m=\u001b[0m\u001b[0;36m2000\u001b[0m\u001b[0;34m,\u001b[0m \u001b[0menv\u001b[0m\u001b[0;34m=\u001b[0m\u001b[0menv\u001b[0m\u001b[0;34m,\u001b[0m \u001b[0mepisodes\u001b[0m\u001b[0;34m=\u001b[0m\u001b[0mepisodes\u001b[0m\u001b[0;34m,\u001b[0m \u001b[0mlr\u001b[0m\u001b[0;34m=\u001b[0m\u001b[0mlr\u001b[0m\u001b[0;34m,\u001b[0m \u001b[0mgamma\u001b[0m\u001b[0;34m=\u001b[0m\u001b[0mgamma\u001b[0m\u001b[0;34m,\u001b[0m \u001b[0minitial_E\u001b[0m\u001b[0;34m=\u001b[0m\u001b[0minitial_E\u001b[0m\u001b[0;34m,\u001b[0m \u001b[0mmin_E\u001b[0m\u001b[0;34m=\u001b[0m\u001b[0mmin_E\u001b[0m\u001b[0;34m,\u001b[0m \u001b[0mdecay_type\u001b[0m\u001b[0;34m=\u001b[0m\u001b[0;34m'exponential'\u001b[0m\u001b[0;34m,\u001b[0m \u001b[0mdecay_rate\u001b[0m\u001b[0;34m=\u001b[0m\u001b[0mhyperparams_exp\u001b[0m\u001b[0;34m[\u001b[0m\u001b[0;36m0\u001b[0m\u001b[0;34m]\u001b[0m\u001b[0;34m.\u001b[0m\u001b[0mdecay_rate\u001b[0m\u001b[0;34m)\u001b[0m\u001b[0;34m\u001b[0m\u001b[0;34m\u001b[0m\u001b[0m\n\u001b[1;32m     26\u001b[0m \u001b[0;34m\u001b[0m\u001b[0m\n",
            "\u001b[0;31mNameError\u001b[0m: name 'hyperparams_linear' is not defined"
          ]
        }
      ]
    },
    {
      "cell_type": "code",
      "source": [
        "df = pd.DataFrame(results)\n",
        "\n",
        "# Converter listas em strings\n",
        "df['Fixo'] = df['Fixo'].apply(lambda x: str(x))\n",
        "df['Linear'] = df['Linear'].apply(lambda x: str(x))\n",
        "df['Exponencial'] = df['Exponencial'].apply(lambda x: str(x))\n",
        "\n",
        "# Salvar em um arquivo CSV\n",
        "df.to_csv('sample_data/recompensas-sarsa-sem-hiperparametros.csv', index=False)\n",
        "\n",
        "######## usando\n",
        "\n",
        "df = pd.read_csv('sample_data/recompensas-sarsa-sem-hiperparametros.csv')\n",
        "\n",
        "df['Fixo'] = df['Fixo'].apply(ast.literal_eval)\n",
        "df['Linear'] = df['Linear'].apply(ast.literal_eval)\n",
        "df['Exponencial'] = df['Exponencial'].apply(ast.literal_eval)\n",
        "\n",
        "total_fixo = df['Fixo'].apply(sum).sum()\n",
        "total_linear = df['Linear'].apply(sum).sum()\n",
        "total_exponencial = df['Exponencial'].apply(sum).sum()\n",
        "\n",
        "total_rewards = {\n",
        "    'Fixo': total_fixo,\n",
        "    'Linear': total_linear,\n",
        "    'Exponencial': total_exponencial\n",
        "}\n",
        "\n",
        "total_geral = sum(total_rewards.values())\n",
        "percentual = {algoritmo: (recompensa / total_geral) * 100 for algoritmo, recompensa in total_rewards.items()}\n",
        "\n",
        "df_percentual = pd.DataFrame(list(percentual.items()), columns=['Algoritmo', 'Percentual'])\n",
        "\n",
        "sns.set(style=\"whitegrid\")\n",
        "plt.figure(figsize=(8, 6))\n",
        "\n",
        "bar_plot = sns.barplot(x='Algoritmo', y='Percentual', data=df_percentual, palette='viridis')\n",
        "\n",
        "for index, row in df_percentual.iterrows():\n",
        "    bar_plot.text(index, row['Percentual'], f\"{row['Percentual']:.2f}%\", color='black', ha=\"center\")\n",
        "\n",
        "# Adicionar título e labels\n",
        "plt.title('Sarsa FrozenLake', fontsize=16)\n",
        "plt.xlabel('Algoritmo', fontsize=14)\n",
        "plt.ylabel('Percentual de Recompensas (%)', fontsize=14)\n",
        "\n",
        "plt.show()"
      ],
      "metadata": {
        "id": "KxLX1Hz2x_36"
      },
      "execution_count": null,
      "outputs": []
    },
    {
      "cell_type": "code",
      "source": [
        "env_name = 'Taxi-v3'\n",
        "\n",
        "# params fixos#####\n",
        "episodes = 8_000\n",
        "lr = 0.2\n",
        "gamma = 0.95\n",
        "initial_E = 1.0\n",
        "min_E = 0.2\n",
        "n_eps_per_rewards = 200\n",
        "max_E = 0.8\n",
        "# params fixos#####\n",
        "\n",
        "decay_linear = 0.0005\n",
        "decay_exponential = 0.001\n",
        "decay_adaptive = 0.9\n",
        "increase_adaptive = 1.01\n",
        "\n",
        "env = gym.make(env_name, max_episode_steps=n_eps_per_rewards)\n",
        "\n",
        "results = []\n",
        "\n",
        "hyperparams_linear = [{'Y': 0.0001169840360533414, 'decay_rate': 1.403411556141256e-05}]\n",
        "hyperparams_exponential = [{'Y': 0.029191662490266078, 'decay_rate': 0.0006645387115262478}]\n",
        "\n",
        "for i in range(20):\n",
        "    fixo, _, _, _ = run_sarsa_decay_2(env=env, episodes=episodes, lr=lr, gamma=gamma, initial_E=0.2, min_E=min_E, decay_type='none')\n",
        "    linear, _, _, _ = run_sarsa_decay_2(Y=hyperparams_linear[0]['Y'], X=2000, env=env, episodes=episodes, lr=lr, gamma=gamma, initial_E=initial_E, min_E=min_E, decay_type='linear', decay_rate=decay_linear)\n",
        "    exponencial, _, _, _ = run_sarsa_decay_2(Y=hyperparams_exp[0]['Y'],X=2000, env=env, episodes=episodes, lr=lr, gamma=gamma, initial_E=initial_E, min_E=min_E, decay_type='exponential', decay_rate=decay_exponential)\n",
        "\n",
        "    clear_output()\n",
        "    results.append({\n",
        "        'Iteracao': i + 1,\n",
        "        'Fixo': fixo,\n",
        "        'Linear': linear,\n",
        "        'Exponencial': exponencial\n",
        "    })"
      ],
      "metadata": {
        "id": "LDPIvfcry0A7",
        "colab": {
          "base_uri": "https://localhost:8080/",
          "height": 1000
        },
        "outputId": "df647d2b-64ba-4fb6-9f95-e5696b5e21aa"
      },
      "execution_count": null,
      "outputs": [
        {
          "output_type": "stream",
          "name": "stdout",
          "text": [
            "Episode 100: Avg Reward (last 100): -377.300, Epsilon: 0.2000\n",
            "Episode 200: Avg Reward (last 100): -295.175, Epsilon: 0.2000\n",
            "Episode 300: Avg Reward (last 100): -250.753, Epsilon: 0.2000\n",
            "Episode 400: Avg Reward (last 100): -213.555, Epsilon: 0.2000\n",
            "Episode 500: Avg Reward (last 100): -184.214, Epsilon: 0.2000\n",
            "Episode 600: Avg Reward (last 100): -118.476, Epsilon: 0.2000\n",
            "Episode 700: Avg Reward (last 100): -85.292, Epsilon: 0.2000\n",
            "Episode 800: Avg Reward (last 100): -59.724, Epsilon: 0.2000\n",
            "Episode 900: Avg Reward (last 100): -43.688, Epsilon: 0.2000\n",
            "Episode 1000: Avg Reward (last 100): -35.628, Epsilon: 0.2000\n",
            "Episode 1100: Avg Reward (last 100): -29.764, Epsilon: 0.2000\n",
            "Episode 1200: Avg Reward (last 100): -25.770, Epsilon: 0.2000\n",
            "Episode 1300: Avg Reward (last 100): -21.922, Epsilon: 0.2000\n",
            "Episode 1400: Avg Reward (last 100): -20.452, Epsilon: 0.2000\n",
            "Episode 1500: Avg Reward (last 100): -17.602, Epsilon: 0.2000\n",
            "Episode 1600: Avg Reward (last 100): -16.954, Epsilon: 0.2000\n",
            "Episode 1700: Avg Reward (last 100): -14.456, Epsilon: 0.2000\n",
            "Episode 1800: Avg Reward (last 100): -13.896, Epsilon: 0.2000\n",
            "Episode 1900: Avg Reward (last 100): -13.534, Epsilon: 0.2000\n",
            "Episode 2000: Avg Reward (last 100): -14.252, Epsilon: 0.2000\n",
            "Episode 2100: Avg Reward (last 100): -13.250, Epsilon: 0.2000\n",
            "Episode 2200: Avg Reward (last 100): -13.100, Epsilon: 0.2000\n",
            "Episode 2300: Avg Reward (last 100): -12.264, Epsilon: 0.2000\n",
            "Episode 2400: Avg Reward (last 100): -12.006, Epsilon: 0.2000\n",
            "Episode 2500: Avg Reward (last 100): -10.510, Epsilon: 0.2000\n",
            "Episode 2600: Avg Reward (last 100): -10.154, Epsilon: 0.2000\n",
            "Episode 2700: Avg Reward (last 100): -9.812, Epsilon: 0.2000\n",
            "Episode 2800: Avg Reward (last 100): -11.914, Epsilon: 0.2000\n",
            "Episode 2900: Avg Reward (last 100): -13.172, Epsilon: 0.2000\n",
            "Episode 3000: Avg Reward (last 100): -14.158, Epsilon: 0.2000\n",
            "Episode 3100: Avg Reward (last 100): -15.312, Epsilon: 0.2000\n",
            "Episode 3200: Avg Reward (last 100): -15.598, Epsilon: 0.2000\n",
            "Episode 3300: Avg Reward (last 100): -13.742, Epsilon: 0.2000\n",
            "Episode 3400: Avg Reward (last 100): -11.796, Epsilon: 0.2000\n",
            "Episode 3500: Avg Reward (last 100): -11.240, Epsilon: 0.2000\n",
            "Episode 3600: Avg Reward (last 100): -9.542, Epsilon: 0.2000\n",
            "Episode 3700: Avg Reward (last 100): -8.836, Epsilon: 0.2000\n",
            "Episode 3800: Avg Reward (last 100): -9.170, Epsilon: 0.2000\n",
            "Episode 3900: Avg Reward (last 100): -9.910, Epsilon: 0.2000\n",
            "Episode 4000: Avg Reward (last 100): -9.030, Epsilon: 0.2000\n",
            "Episode 4100: Avg Reward (last 100): -9.388, Epsilon: 0.2000\n",
            "Episode 4200: Avg Reward (last 100): -9.096, Epsilon: 0.2000\n",
            "Episode 4300: Avg Reward (last 100): -8.720, Epsilon: 0.2000\n",
            "Episode 4400: Avg Reward (last 100): -7.698, Epsilon: 0.2000\n",
            "Episode 4500: Avg Reward (last 100): -8.514, Epsilon: 0.2000\n",
            "Episode 4600: Avg Reward (last 100): -8.772, Epsilon: 0.2000\n",
            "Episode 4700: Avg Reward (last 100): -8.280, Epsilon: 0.2000\n",
            "Episode 4800: Avg Reward (last 100): -7.694, Epsilon: 0.2000\n",
            "Episode 4900: Avg Reward (last 100): -7.690, Epsilon: 0.2000\n",
            "Episode 5000: Avg Reward (last 100): -6.850, Epsilon: 0.2000\n",
            "Episode 5100: Avg Reward (last 100): -6.764, Epsilon: 0.2000\n",
            "Episode 5200: Avg Reward (last 100): -6.756, Epsilon: 0.2000\n",
            "Episode 5300: Avg Reward (last 100): -6.998, Epsilon: 0.2000\n",
            "Episode 5400: Avg Reward (last 100): -6.868, Epsilon: 0.2000\n",
            "Episode 5500: Avg Reward (last 100): -6.948, Epsilon: 0.2000\n",
            "Episode 5600: Avg Reward (last 100): -7.370, Epsilon: 0.2000\n",
            "Episode 5700: Avg Reward (last 100): -7.678, Epsilon: 0.2000\n",
            "Episode 5800: Avg Reward (last 100): -7.868, Epsilon: 0.2000\n",
            "Episode 5900: Avg Reward (last 100): -8.362, Epsilon: 0.2000\n",
            "Episode 6000: Avg Reward (last 100): -8.142, Epsilon: 0.2000\n",
            "Episode 6100: Avg Reward (last 100): -7.108, Epsilon: 0.2000\n",
            "Episode 6200: Avg Reward (last 100): -7.072, Epsilon: 0.2000\n",
            "Episode 6300: Avg Reward (last 100): -6.578, Epsilon: 0.2000\n",
            "Episode 6400: Avg Reward (last 100): -6.426, Epsilon: 0.2000\n",
            "Episode 6500: Avg Reward (last 100): -6.754, Epsilon: 0.2000\n",
            "Episode 6600: Avg Reward (last 100): -7.028, Epsilon: 0.2000\n",
            "Episode 6700: Avg Reward (last 100): -7.298, Epsilon: 0.2000\n",
            "Episode 6800: Avg Reward (last 100): -7.390, Epsilon: 0.2000\n",
            "Episode 6900: Avg Reward (last 100): -7.860, Epsilon: 0.2000\n",
            "Episode 7000: Avg Reward (last 100): -7.866, Epsilon: 0.2000\n",
            "Episode 7100: Avg Reward (last 100): -7.586, Epsilon: 0.2000\n",
            "Episode 7200: Avg Reward (last 100): -7.182, Epsilon: 0.2000\n",
            "Episode 7300: Avg Reward (last 100): -7.408, Epsilon: 0.2000\n",
            "Episode 7400: Avg Reward (last 100): -6.748, Epsilon: 0.2000\n",
            "Episode 7500: Avg Reward (last 100): -6.698, Epsilon: 0.2000\n",
            "Episode 7600: Avg Reward (last 100): -6.952, Epsilon: 0.2000\n",
            "Episode 7700: Avg Reward (last 100): -7.446, Epsilon: 0.2000\n",
            "Episode 7800: Avg Reward (last 100): -8.960, Epsilon: 0.2000\n",
            "Episode 7900: Avg Reward (last 100): -9.250, Epsilon: 0.2000\n",
            "Episode 8000: Avg Reward (last 100): -9.144, Epsilon: 0.2000\n"
          ]
        },
        {
          "output_type": "error",
          "ename": "ZeroDivisionError",
          "evalue": "float division by zero",
          "traceback": [
            "\u001b[0;31m---------------------------------------------------------------------------\u001b[0m",
            "\u001b[0;31mZeroDivisionError\u001b[0m                         Traceback (most recent call last)",
            "\u001b[0;32m<ipython-input-15-2d80c3a68e0d>\u001b[0m in \u001b[0;36m<cell line: 0>\u001b[0;34m()\u001b[0m\n\u001b[1;32m     25\u001b[0m \u001b[0;32mfor\u001b[0m \u001b[0mi\u001b[0m \u001b[0;32min\u001b[0m \u001b[0mrange\u001b[0m\u001b[0;34m(\u001b[0m\u001b[0;36m20\u001b[0m\u001b[0;34m)\u001b[0m\u001b[0;34m:\u001b[0m\u001b[0;34m\u001b[0m\u001b[0;34m\u001b[0m\u001b[0m\n\u001b[1;32m     26\u001b[0m     \u001b[0mfixo\u001b[0m\u001b[0;34m,\u001b[0m \u001b[0m_\u001b[0m\u001b[0;34m,\u001b[0m \u001b[0m_\u001b[0m\u001b[0;34m,\u001b[0m \u001b[0m_\u001b[0m \u001b[0;34m=\u001b[0m \u001b[0mrun_sarsa_decay_2\u001b[0m\u001b[0;34m(\u001b[0m\u001b[0menv\u001b[0m\u001b[0;34m=\u001b[0m\u001b[0menv\u001b[0m\u001b[0;34m,\u001b[0m \u001b[0mepisodes\u001b[0m\u001b[0;34m=\u001b[0m\u001b[0mepisodes\u001b[0m\u001b[0;34m,\u001b[0m \u001b[0mlr\u001b[0m\u001b[0;34m=\u001b[0m\u001b[0mlr\u001b[0m\u001b[0;34m,\u001b[0m \u001b[0mgamma\u001b[0m\u001b[0;34m=\u001b[0m\u001b[0mgamma\u001b[0m\u001b[0;34m,\u001b[0m \u001b[0minitial_E\u001b[0m\u001b[0;34m=\u001b[0m\u001b[0;36m0.2\u001b[0m\u001b[0;34m,\u001b[0m \u001b[0mmin_E\u001b[0m\u001b[0;34m=\u001b[0m\u001b[0mmin_E\u001b[0m\u001b[0;34m,\u001b[0m \u001b[0mdecay_type\u001b[0m\u001b[0;34m=\u001b[0m\u001b[0;34m'none'\u001b[0m\u001b[0;34m)\u001b[0m\u001b[0;34m\u001b[0m\u001b[0;34m\u001b[0m\u001b[0m\n\u001b[0;32m---> 27\u001b[0;31m     \u001b[0mlinear\u001b[0m\u001b[0;34m,\u001b[0m \u001b[0m_\u001b[0m\u001b[0;34m,\u001b[0m \u001b[0m_\u001b[0m\u001b[0;34m,\u001b[0m \u001b[0m_\u001b[0m \u001b[0;34m=\u001b[0m \u001b[0mrun_sarsa_decay_2\u001b[0m\u001b[0;34m(\u001b[0m\u001b[0mY\u001b[0m\u001b[0;34m=\u001b[0m\u001b[0mhyperparams_linear\u001b[0m\u001b[0;34m[\u001b[0m\u001b[0;36m0\u001b[0m\u001b[0;34m]\u001b[0m\u001b[0;34m[\u001b[0m\u001b[0;34m'Y'\u001b[0m\u001b[0;34m]\u001b[0m\u001b[0;34m,\u001b[0m \u001b[0mX\u001b[0m\u001b[0;34m=\u001b[0m\u001b[0;36m2000\u001b[0m\u001b[0;34m,\u001b[0m \u001b[0menv\u001b[0m\u001b[0;34m=\u001b[0m\u001b[0menv\u001b[0m\u001b[0;34m,\u001b[0m \u001b[0mepisodes\u001b[0m\u001b[0;34m=\u001b[0m\u001b[0mepisodes\u001b[0m\u001b[0;34m,\u001b[0m \u001b[0mlr\u001b[0m\u001b[0;34m=\u001b[0m\u001b[0mlr\u001b[0m\u001b[0;34m,\u001b[0m \u001b[0mgamma\u001b[0m\u001b[0;34m=\u001b[0m\u001b[0mgamma\u001b[0m\u001b[0;34m,\u001b[0m \u001b[0minitial_E\u001b[0m\u001b[0;34m=\u001b[0m\u001b[0minitial_E\u001b[0m\u001b[0;34m,\u001b[0m \u001b[0mmin_E\u001b[0m\u001b[0;34m=\u001b[0m\u001b[0mmin_E\u001b[0m\u001b[0;34m,\u001b[0m \u001b[0mdecay_type\u001b[0m\u001b[0;34m=\u001b[0m\u001b[0;34m'linear'\u001b[0m\u001b[0;34m,\u001b[0m \u001b[0mdecay_rate\u001b[0m\u001b[0;34m=\u001b[0m\u001b[0mdecay_linear\u001b[0m\u001b[0;34m)\u001b[0m\u001b[0;34m\u001b[0m\u001b[0;34m\u001b[0m\u001b[0m\n\u001b[0m\u001b[1;32m     28\u001b[0m     \u001b[0mexponencial\u001b[0m\u001b[0;34m,\u001b[0m \u001b[0m_\u001b[0m\u001b[0;34m,\u001b[0m \u001b[0m_\u001b[0m\u001b[0;34m,\u001b[0m \u001b[0m_\u001b[0m \u001b[0;34m=\u001b[0m \u001b[0mrun_sarsa_decay_2\u001b[0m\u001b[0;34m(\u001b[0m\u001b[0mY\u001b[0m\u001b[0;34m=\u001b[0m\u001b[0mhyperparams_exp\u001b[0m\u001b[0;34m[\u001b[0m\u001b[0;36m0\u001b[0m\u001b[0;34m]\u001b[0m\u001b[0;34m[\u001b[0m\u001b[0;34m'Y'\u001b[0m\u001b[0;34m]\u001b[0m\u001b[0;34m,\u001b[0m\u001b[0mX\u001b[0m\u001b[0;34m=\u001b[0m\u001b[0;36m2000\u001b[0m\u001b[0;34m,\u001b[0m \u001b[0menv\u001b[0m\u001b[0;34m=\u001b[0m\u001b[0menv\u001b[0m\u001b[0;34m,\u001b[0m \u001b[0mepisodes\u001b[0m\u001b[0;34m=\u001b[0m\u001b[0mepisodes\u001b[0m\u001b[0;34m,\u001b[0m \u001b[0mlr\u001b[0m\u001b[0;34m=\u001b[0m\u001b[0mlr\u001b[0m\u001b[0;34m,\u001b[0m \u001b[0mgamma\u001b[0m\u001b[0;34m=\u001b[0m\u001b[0mgamma\u001b[0m\u001b[0;34m,\u001b[0m \u001b[0minitial_E\u001b[0m\u001b[0;34m=\u001b[0m\u001b[0minitial_E\u001b[0m\u001b[0;34m,\u001b[0m \u001b[0mmin_E\u001b[0m\u001b[0;34m=\u001b[0m\u001b[0mmin_E\u001b[0m\u001b[0;34m,\u001b[0m \u001b[0mdecay_type\u001b[0m\u001b[0;34m=\u001b[0m\u001b[0;34m'exponential'\u001b[0m\u001b[0;34m,\u001b[0m \u001b[0mdecay_rate\u001b[0m\u001b[0;34m=\u001b[0m\u001b[0mdecay_exponential\u001b[0m\u001b[0;34m)\u001b[0m\u001b[0;34m\u001b[0m\u001b[0;34m\u001b[0m\u001b[0m\n\u001b[1;32m     29\u001b[0m \u001b[0;34m\u001b[0m\u001b[0m\n",
            "\u001b[0;32m<ipython-input-9-c4aecf4743c2>\u001b[0m in \u001b[0;36mrun_sarsa_decay_2\u001b[0;34m(env, episodes, mode, lr, gamma, initial_E, min_E, X, Y, decay_rate, increase_rate, verbose, n_eps_per_rewards, decay_type, threshold, eps_limit_adaptive_to_consider, max_E)\u001b[0m\n\u001b[1;32m     17\u001b[0m       \u001b[0mepsilon\u001b[0m \u001b[0;34m=\u001b[0m \u001b[0minitial_E\u001b[0m\u001b[0;34m\u001b[0m\u001b[0;34m\u001b[0m\u001b[0m\n\u001b[1;32m     18\u001b[0m     \u001b[0;32melse\u001b[0m\u001b[0;34m:\u001b[0m\u001b[0;34m\u001b[0m\u001b[0;34m\u001b[0m\u001b[0m\n\u001b[0;32m---> 19\u001b[0;31m       \u001b[0mepsilon_decay_fn\u001b[0m \u001b[0;34m=\u001b[0m \u001b[0mepsilon_decay_normal_2\u001b[0m\u001b[0;34m(\u001b[0m\u001b[0mdecay_type\u001b[0m\u001b[0;34m=\u001b[0m\u001b[0mdecay_type\u001b[0m\u001b[0;34m,\u001b[0m \u001b[0minitial_E\u001b[0m\u001b[0;34m=\u001b[0m\u001b[0minitial_E\u001b[0m\u001b[0;34m,\u001b[0m \u001b[0mmin_E\u001b[0m\u001b[0;34m=\u001b[0m\u001b[0mmin_E\u001b[0m\u001b[0;34m,\u001b[0m \u001b[0mX\u001b[0m\u001b[0;34m=\u001b[0m\u001b[0mX\u001b[0m\u001b[0;34m,\u001b[0m \u001b[0mY\u001b[0m\u001b[0;34m=\u001b[0m\u001b[0mY\u001b[0m\u001b[0;34m,\u001b[0m \u001b[0mepisodes\u001b[0m\u001b[0;34m=\u001b[0m\u001b[0mepisodes\u001b[0m\u001b[0;34m,\u001b[0m \u001b[0mdecay_rate\u001b[0m\u001b[0;34m=\u001b[0m\u001b[0mdecay_rate\u001b[0m\u001b[0;34m)\u001b[0m\u001b[0;34m\u001b[0m\u001b[0;34m\u001b[0m\u001b[0m\n\u001b[0m\u001b[1;32m     20\u001b[0m \u001b[0;34m\u001b[0m\u001b[0m\n\u001b[1;32m     21\u001b[0m     \u001b[0;32mfor\u001b[0m \u001b[0mi\u001b[0m \u001b[0;32min\u001b[0m \u001b[0mrange\u001b[0m\u001b[0;34m(\u001b[0m\u001b[0mepisodes\u001b[0m\u001b[0;34m)\u001b[0m\u001b[0;34m:\u001b[0m\u001b[0;34m\u001b[0m\u001b[0;34m\u001b[0m\u001b[0m\n",
            "\u001b[0;32m<ipython-input-6-4ebaaf0c8725>\u001b[0m in \u001b[0;36mepsilon_decay_normal_2\u001b[0;34m(decay_type, initial_E, min_E, X, Y, episodes, decay_rate)\u001b[0m\n\u001b[1;32m     21\u001b[0m \u001b[0;34m\u001b[0m\u001b[0m\n\u001b[1;32m     22\u001b[0m     \u001b[0;32mif\u001b[0m \u001b[0mdecay_type\u001b[0m \u001b[0;34m==\u001b[0m \u001b[0;34m'linear'\u001b[0m\u001b[0;34m:\u001b[0m\u001b[0;34m\u001b[0m\u001b[0;34m\u001b[0m\u001b[0m\n\u001b[0;32m---> 23\u001b[0;31m         \u001b[0mk\u001b[0m \u001b[0;34m=\u001b[0m \u001b[0;34m(\u001b[0m\u001b[0minitial_E\u001b[0m \u001b[0;34m-\u001b[0m \u001b[0mmin_E\u001b[0m\u001b[0;34m)\u001b[0m \u001b[0;34m/\u001b[0m \u001b[0mX\u001b[0m\u001b[0;34m\u001b[0m\u001b[0;34m\u001b[0m\u001b[0m\n\u001b[0m\u001b[1;32m     24\u001b[0m         \u001b[0;32mdef\u001b[0m \u001b[0mnew_E\u001b[0m\u001b[0;34m(\u001b[0m\u001b[0mt\u001b[0m\u001b[0;34m)\u001b[0m\u001b[0;34m:\u001b[0m\u001b[0;34m\u001b[0m\u001b[0;34m\u001b[0m\u001b[0m\n\u001b[1;32m     25\u001b[0m             \u001b[0;32mreturn\u001b[0m \u001b[0mmax\u001b[0m\u001b[0;34m(\u001b[0m\u001b[0mmin_E\u001b[0m\u001b[0;34m,\u001b[0m \u001b[0minitial_E\u001b[0m \u001b[0;34m-\u001b[0m \u001b[0mk\u001b[0m \u001b[0;34m*\u001b[0m \u001b[0mt\u001b[0m\u001b[0;34m)\u001b[0m\u001b[0;34m\u001b[0m\u001b[0;34m\u001b[0m\u001b[0m\n",
            "\u001b[0;31mZeroDivisionError\u001b[0m: float division by zero"
          ]
        }
      ]
    },
    {
      "cell_type": "code",
      "source": [
        "df = pd.DataFrame(results)\n",
        "\n",
        "# Converter listas em strings\n",
        "df['Fixo'] = df['Fixo'].apply(lambda x: str(x))\n",
        "df['Linear'] = df['Linear'].apply(lambda x: str(x))\n",
        "df['Exponencial'] = df['Exponencial'].apply(lambda x: str(x))\n",
        "\n",
        "# Salvar em um arquivo CSV\n",
        "df.to_csv('sample_data/recompensas-sarsa-sem-hiperparametros.csv', index=False)\n",
        "\n",
        "######## usando\n",
        "\n",
        "df = pd.read_csv('sample_data/recompensas-sarsa-sem-hiperparametros.csv')\n",
        "\n",
        "df['Fixo'] = df['Fixo'].apply(ast.literal_eval)\n",
        "df['Linear'] = df['Linear'].apply(ast.literal_eval)\n",
        "df['Exponencial'] = df['Exponencial'].apply(ast.literal_eval)\n",
        "\n",
        "total_fixo = df['Fixo'].apply(sum).sum()\n",
        "total_linear = df['Linear'].apply(sum).sum()\n",
        "total_exponencial = df['Exponencial'].apply(sum).sum()\n",
        "\n",
        "total_rewards = {\n",
        "    'Fixo': total_fixo,\n",
        "    'Linear': total_linear,\n",
        "    'Exponencial': total_exponencial\n",
        "}\n",
        "\n",
        "total_geral = sum(total_rewards.values())\n",
        "percentual = {algoritmo: (recompensa / total_geral) * 100 for algoritmo, recompensa in total_rewards.items()}\n",
        "\n",
        "df_percentual = pd.DataFrame(list(percentual.items()), columns=['Algoritmo', 'Percentual'])\n",
        "\n",
        "sns.set(style=\"whitegrid\")\n",
        "plt.figure(figsize=(8, 6))\n",
        "\n",
        "bar_plot = sns.barplot(x='Algoritmo', y='Percentual', data=df_percentual, palette='viridis')\n",
        "\n",
        "for index, row in df_percentual.iterrows():\n",
        "    bar_plot.text(index, row['Percentual'], f\"{row['Percentual']:.2f}%\", color='black', ha=\"center\")\n",
        "\n",
        "# Adicionar título e labels\n",
        "plt.title('Sarsa FrozenLake', fontsize=16)\n",
        "plt.xlabel('Algoritmo', fontsize=14)\n",
        "plt.ylabel('Percentual de Recompensas (%)', fontsize=14)\n",
        "\n",
        "plt.show()"
      ],
      "metadata": {
        "id": "d7tRcqGbyvbf"
      },
      "execution_count": null,
      "outputs": []
    }
  ],
  "metadata": {
    "colab": {
      "collapsed_sections": [
        "jWmPTx9fQfmO",
        "3aWsTV7Ixw6h",
        "yLQHD9gfxz37",
        "Us3IQDeMx57c",
        "7YBYR3-f9jP3",
        "Ev5B98j6-jxz",
        "Q7-ULM5r0oMa",
        "Ke4_rJ2LDYtF",
        "1sBroZK5IkYj",
        "q40W1P-1L3E7",
        "dFfo3CcmPcTr",
        "UfieBxUT0Qpq",
        "2t7pTkbs07GJ",
        "CibLZCqMbeCZ",
        "i8CBhgLkbrv0",
        "5hD42QfGbWaZ",
        "zqyfviioh1t-",
        "Cux5zoTKiMAu",
        "z_5KyVOTieHm",
        "wvausVvN3q9F",
        "KRpQH1yC1VOL",
        "2z1ntbHw8qTg",
        "FwJjwpPbZZbP",
        "_BW7tZMXX0nj",
        "l5RK_IiSgOqE",
        "RHs3XmwfQ222",
        "YeAUDiBSgMAU",
        "QqayEIcpgGld",
        "Gn8K7_bEiVqc",
        "TAodLFau5wXG",
        "8xp_PBVN5lQd",
        "gCoZ48LCrZhY",
        "X8FC0I5UleK4",
        "UzYmFDt7leK6",
        "NioHnGCJbWeU",
        "lGIJmLKc9Yw2",
        "vg8cULQgleLC",
        "zulaJNPfleLD",
        "RqDbFprAlmcr",
        "b2pLj_8kjxWi",
        "jMPkL2pjpnKK",
        "rJg14z9MbU-a",
        "NX_h8o3b_IbR"
      ],
      "provenance": [],
      "include_colab_link": true
    },
    "kernelspec": {
      "display_name": "Python 3",
      "name": "python3"
    },
    "language_info": {
      "name": "python"
    }
  },
  "nbformat": 4,
  "nbformat_minor": 0
}